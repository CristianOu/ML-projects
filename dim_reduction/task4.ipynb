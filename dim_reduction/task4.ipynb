{
 "cells": [
  {
   "cell_type": "markdown",
   "metadata": {},
   "source": [
    "# Task 4a+b"
   ]
  },
  {
   "cell_type": "markdown",
   "metadata": {},
   "source": [
    "### 1. PCA Estimation\n",
    "#### 1a. Load the Data: Use scipy.io.loadmat to load your data from the .mat file.\n",
    "\n"
   ]
  },
  {
   "cell_type": "code",
   "execution_count": 1,
   "metadata": {},
   "outputs": [
    {
     "name": "stdout",
     "output_type": "stream",
     "text": [
      "(339, 40)\n"
     ]
    }
   ],
   "source": [
    "import scipy.io\n",
    "import numpy as np\n",
    "\n",
    "data = scipy.io.loadmat('faces.mat')\n",
    "matrix_X = data['X']\n",
    "print(matrix_X.shape)"
   ]
  },
  {
   "cell_type": "markdown",
   "metadata": {},
   "source": [
    "#### 1b. Perform PCA:\n",
    "\n"
   ]
  },
  {
   "cell_type": "code",
   "execution_count": 2,
   "metadata": {},
   "outputs": [
    {
     "data": {
      "text/html": [
       "<style>#sk-container-id-1 {\n",
       "  /* Definition of color scheme common for light and dark mode */\n",
       "  --sklearn-color-text: black;\n",
       "  --sklearn-color-line: gray;\n",
       "  /* Definition of color scheme for unfitted estimators */\n",
       "  --sklearn-color-unfitted-level-0: #fff5e6;\n",
       "  --sklearn-color-unfitted-level-1: #f6e4d2;\n",
       "  --sklearn-color-unfitted-level-2: #ffe0b3;\n",
       "  --sklearn-color-unfitted-level-3: chocolate;\n",
       "  /* Definition of color scheme for fitted estimators */\n",
       "  --sklearn-color-fitted-level-0: #f0f8ff;\n",
       "  --sklearn-color-fitted-level-1: #d4ebff;\n",
       "  --sklearn-color-fitted-level-2: #b3dbfd;\n",
       "  --sklearn-color-fitted-level-3: cornflowerblue;\n",
       "\n",
       "  /* Specific color for light theme */\n",
       "  --sklearn-color-text-on-default-background: var(--sg-text-color, var(--theme-code-foreground, var(--jp-content-font-color1, black)));\n",
       "  --sklearn-color-background: var(--sg-background-color, var(--theme-background, var(--jp-layout-color0, white)));\n",
       "  --sklearn-color-border-box: var(--sg-text-color, var(--theme-code-foreground, var(--jp-content-font-color1, black)));\n",
       "  --sklearn-color-icon: #696969;\n",
       "\n",
       "  @media (prefers-color-scheme: dark) {\n",
       "    /* Redefinition of color scheme for dark theme */\n",
       "    --sklearn-color-text-on-default-background: var(--sg-text-color, var(--theme-code-foreground, var(--jp-content-font-color1, white)));\n",
       "    --sklearn-color-background: var(--sg-background-color, var(--theme-background, var(--jp-layout-color0, #111)));\n",
       "    --sklearn-color-border-box: var(--sg-text-color, var(--theme-code-foreground, var(--jp-content-font-color1, white)));\n",
       "    --sklearn-color-icon: #878787;\n",
       "  }\n",
       "}\n",
       "\n",
       "#sk-container-id-1 {\n",
       "  color: var(--sklearn-color-text);\n",
       "}\n",
       "\n",
       "#sk-container-id-1 pre {\n",
       "  padding: 0;\n",
       "}\n",
       "\n",
       "#sk-container-id-1 input.sk-hidden--visually {\n",
       "  border: 0;\n",
       "  clip: rect(1px 1px 1px 1px);\n",
       "  clip: rect(1px, 1px, 1px, 1px);\n",
       "  height: 1px;\n",
       "  margin: -1px;\n",
       "  overflow: hidden;\n",
       "  padding: 0;\n",
       "  position: absolute;\n",
       "  width: 1px;\n",
       "}\n",
       "\n",
       "#sk-container-id-1 div.sk-dashed-wrapped {\n",
       "  border: 1px dashed var(--sklearn-color-line);\n",
       "  margin: 0 0.4em 0.5em 0.4em;\n",
       "  box-sizing: border-box;\n",
       "  padding-bottom: 0.4em;\n",
       "  background-color: var(--sklearn-color-background);\n",
       "}\n",
       "\n",
       "#sk-container-id-1 div.sk-container {\n",
       "  /* jupyter's `normalize.less` sets `[hidden] { display: none; }`\n",
       "     but bootstrap.min.css set `[hidden] { display: none !important; }`\n",
       "     so we also need the `!important` here to be able to override the\n",
       "     default hidden behavior on the sphinx rendered scikit-learn.org.\n",
       "     See: https://github.com/scikit-learn/scikit-learn/issues/21755 */\n",
       "  display: inline-block !important;\n",
       "  position: relative;\n",
       "}\n",
       "\n",
       "#sk-container-id-1 div.sk-text-repr-fallback {\n",
       "  display: none;\n",
       "}\n",
       "\n",
       "div.sk-parallel-item,\n",
       "div.sk-serial,\n",
       "div.sk-item {\n",
       "  /* draw centered vertical line to link estimators */\n",
       "  background-image: linear-gradient(var(--sklearn-color-text-on-default-background), var(--sklearn-color-text-on-default-background));\n",
       "  background-size: 2px 100%;\n",
       "  background-repeat: no-repeat;\n",
       "  background-position: center center;\n",
       "}\n",
       "\n",
       "/* Parallel-specific style estimator block */\n",
       "\n",
       "#sk-container-id-1 div.sk-parallel-item::after {\n",
       "  content: \"\";\n",
       "  width: 100%;\n",
       "  border-bottom: 2px solid var(--sklearn-color-text-on-default-background);\n",
       "  flex-grow: 1;\n",
       "}\n",
       "\n",
       "#sk-container-id-1 div.sk-parallel {\n",
       "  display: flex;\n",
       "  align-items: stretch;\n",
       "  justify-content: center;\n",
       "  background-color: var(--sklearn-color-background);\n",
       "  position: relative;\n",
       "}\n",
       "\n",
       "#sk-container-id-1 div.sk-parallel-item {\n",
       "  display: flex;\n",
       "  flex-direction: column;\n",
       "}\n",
       "\n",
       "#sk-container-id-1 div.sk-parallel-item:first-child::after {\n",
       "  align-self: flex-end;\n",
       "  width: 50%;\n",
       "}\n",
       "\n",
       "#sk-container-id-1 div.sk-parallel-item:last-child::after {\n",
       "  align-self: flex-start;\n",
       "  width: 50%;\n",
       "}\n",
       "\n",
       "#sk-container-id-1 div.sk-parallel-item:only-child::after {\n",
       "  width: 0;\n",
       "}\n",
       "\n",
       "/* Serial-specific style estimator block */\n",
       "\n",
       "#sk-container-id-1 div.sk-serial {\n",
       "  display: flex;\n",
       "  flex-direction: column;\n",
       "  align-items: center;\n",
       "  background-color: var(--sklearn-color-background);\n",
       "  padding-right: 1em;\n",
       "  padding-left: 1em;\n",
       "}\n",
       "\n",
       "\n",
       "/* Toggleable style: style used for estimator/Pipeline/ColumnTransformer box that is\n",
       "clickable and can be expanded/collapsed.\n",
       "- Pipeline and ColumnTransformer use this feature and define the default style\n",
       "- Estimators will overwrite some part of the style using the `sk-estimator` class\n",
       "*/\n",
       "\n",
       "/* Pipeline and ColumnTransformer style (default) */\n",
       "\n",
       "#sk-container-id-1 div.sk-toggleable {\n",
       "  /* Default theme specific background. It is overwritten whether we have a\n",
       "  specific estimator or a Pipeline/ColumnTransformer */\n",
       "  background-color: var(--sklearn-color-background);\n",
       "}\n",
       "\n",
       "/* Toggleable label */\n",
       "#sk-container-id-1 label.sk-toggleable__label {\n",
       "  cursor: pointer;\n",
       "  display: block;\n",
       "  width: 100%;\n",
       "  margin-bottom: 0;\n",
       "  padding: 0.5em;\n",
       "  box-sizing: border-box;\n",
       "  text-align: center;\n",
       "}\n",
       "\n",
       "#sk-container-id-1 label.sk-toggleable__label-arrow:before {\n",
       "  /* Arrow on the left of the label */\n",
       "  content: \"▸\";\n",
       "  float: left;\n",
       "  margin-right: 0.25em;\n",
       "  color: var(--sklearn-color-icon);\n",
       "}\n",
       "\n",
       "#sk-container-id-1 label.sk-toggleable__label-arrow:hover:before {\n",
       "  color: var(--sklearn-color-text);\n",
       "}\n",
       "\n",
       "/* Toggleable content - dropdown */\n",
       "\n",
       "#sk-container-id-1 div.sk-toggleable__content {\n",
       "  max-height: 0;\n",
       "  max-width: 0;\n",
       "  overflow: hidden;\n",
       "  text-align: left;\n",
       "  /* unfitted */\n",
       "  background-color: var(--sklearn-color-unfitted-level-0);\n",
       "}\n",
       "\n",
       "#sk-container-id-1 div.sk-toggleable__content.fitted {\n",
       "  /* fitted */\n",
       "  background-color: var(--sklearn-color-fitted-level-0);\n",
       "}\n",
       "\n",
       "#sk-container-id-1 div.sk-toggleable__content pre {\n",
       "  margin: 0.2em;\n",
       "  border-radius: 0.25em;\n",
       "  color: var(--sklearn-color-text);\n",
       "  /* unfitted */\n",
       "  background-color: var(--sklearn-color-unfitted-level-0);\n",
       "}\n",
       "\n",
       "#sk-container-id-1 div.sk-toggleable__content.fitted pre {\n",
       "  /* unfitted */\n",
       "  background-color: var(--sklearn-color-fitted-level-0);\n",
       "}\n",
       "\n",
       "#sk-container-id-1 input.sk-toggleable__control:checked~div.sk-toggleable__content {\n",
       "  /* Expand drop-down */\n",
       "  max-height: 200px;\n",
       "  max-width: 100%;\n",
       "  overflow: auto;\n",
       "}\n",
       "\n",
       "#sk-container-id-1 input.sk-toggleable__control:checked~label.sk-toggleable__label-arrow:before {\n",
       "  content: \"▾\";\n",
       "}\n",
       "\n",
       "/* Pipeline/ColumnTransformer-specific style */\n",
       "\n",
       "#sk-container-id-1 div.sk-label input.sk-toggleable__control:checked~label.sk-toggleable__label {\n",
       "  color: var(--sklearn-color-text);\n",
       "  background-color: var(--sklearn-color-unfitted-level-2);\n",
       "}\n",
       "\n",
       "#sk-container-id-1 div.sk-label.fitted input.sk-toggleable__control:checked~label.sk-toggleable__label {\n",
       "  background-color: var(--sklearn-color-fitted-level-2);\n",
       "}\n",
       "\n",
       "/* Estimator-specific style */\n",
       "\n",
       "/* Colorize estimator box */\n",
       "#sk-container-id-1 div.sk-estimator input.sk-toggleable__control:checked~label.sk-toggleable__label {\n",
       "  /* unfitted */\n",
       "  background-color: var(--sklearn-color-unfitted-level-2);\n",
       "}\n",
       "\n",
       "#sk-container-id-1 div.sk-estimator.fitted input.sk-toggleable__control:checked~label.sk-toggleable__label {\n",
       "  /* fitted */\n",
       "  background-color: var(--sklearn-color-fitted-level-2);\n",
       "}\n",
       "\n",
       "#sk-container-id-1 div.sk-label label.sk-toggleable__label,\n",
       "#sk-container-id-1 div.sk-label label {\n",
       "  /* The background is the default theme color */\n",
       "  color: var(--sklearn-color-text-on-default-background);\n",
       "}\n",
       "\n",
       "/* On hover, darken the color of the background */\n",
       "#sk-container-id-1 div.sk-label:hover label.sk-toggleable__label {\n",
       "  color: var(--sklearn-color-text);\n",
       "  background-color: var(--sklearn-color-unfitted-level-2);\n",
       "}\n",
       "\n",
       "/* Label box, darken color on hover, fitted */\n",
       "#sk-container-id-1 div.sk-label.fitted:hover label.sk-toggleable__label.fitted {\n",
       "  color: var(--sklearn-color-text);\n",
       "  background-color: var(--sklearn-color-fitted-level-2);\n",
       "}\n",
       "\n",
       "/* Estimator label */\n",
       "\n",
       "#sk-container-id-1 div.sk-label label {\n",
       "  font-family: monospace;\n",
       "  font-weight: bold;\n",
       "  display: inline-block;\n",
       "  line-height: 1.2em;\n",
       "}\n",
       "\n",
       "#sk-container-id-1 div.sk-label-container {\n",
       "  text-align: center;\n",
       "}\n",
       "\n",
       "/* Estimator-specific */\n",
       "#sk-container-id-1 div.sk-estimator {\n",
       "  font-family: monospace;\n",
       "  border: 1px dotted var(--sklearn-color-border-box);\n",
       "  border-radius: 0.25em;\n",
       "  box-sizing: border-box;\n",
       "  margin-bottom: 0.5em;\n",
       "  /* unfitted */\n",
       "  background-color: var(--sklearn-color-unfitted-level-0);\n",
       "}\n",
       "\n",
       "#sk-container-id-1 div.sk-estimator.fitted {\n",
       "  /* fitted */\n",
       "  background-color: var(--sklearn-color-fitted-level-0);\n",
       "}\n",
       "\n",
       "/* on hover */\n",
       "#sk-container-id-1 div.sk-estimator:hover {\n",
       "  /* unfitted */\n",
       "  background-color: var(--sklearn-color-unfitted-level-2);\n",
       "}\n",
       "\n",
       "#sk-container-id-1 div.sk-estimator.fitted:hover {\n",
       "  /* fitted */\n",
       "  background-color: var(--sklearn-color-fitted-level-2);\n",
       "}\n",
       "\n",
       "/* Specification for estimator info (e.g. \"i\" and \"?\") */\n",
       "\n",
       "/* Common style for \"i\" and \"?\" */\n",
       "\n",
       ".sk-estimator-doc-link,\n",
       "a:link.sk-estimator-doc-link,\n",
       "a:visited.sk-estimator-doc-link {\n",
       "  float: right;\n",
       "  font-size: smaller;\n",
       "  line-height: 1em;\n",
       "  font-family: monospace;\n",
       "  background-color: var(--sklearn-color-background);\n",
       "  border-radius: 1em;\n",
       "  height: 1em;\n",
       "  width: 1em;\n",
       "  text-decoration: none !important;\n",
       "  margin-left: 1ex;\n",
       "  /* unfitted */\n",
       "  border: var(--sklearn-color-unfitted-level-1) 1pt solid;\n",
       "  color: var(--sklearn-color-unfitted-level-1);\n",
       "}\n",
       "\n",
       ".sk-estimator-doc-link.fitted,\n",
       "a:link.sk-estimator-doc-link.fitted,\n",
       "a:visited.sk-estimator-doc-link.fitted {\n",
       "  /* fitted */\n",
       "  border: var(--sklearn-color-fitted-level-1) 1pt solid;\n",
       "  color: var(--sklearn-color-fitted-level-1);\n",
       "}\n",
       "\n",
       "/* On hover */\n",
       "div.sk-estimator:hover .sk-estimator-doc-link:hover,\n",
       ".sk-estimator-doc-link:hover,\n",
       "div.sk-label-container:hover .sk-estimator-doc-link:hover,\n",
       ".sk-estimator-doc-link:hover {\n",
       "  /* unfitted */\n",
       "  background-color: var(--sklearn-color-unfitted-level-3);\n",
       "  color: var(--sklearn-color-background);\n",
       "  text-decoration: none;\n",
       "}\n",
       "\n",
       "div.sk-estimator.fitted:hover .sk-estimator-doc-link.fitted:hover,\n",
       ".sk-estimator-doc-link.fitted:hover,\n",
       "div.sk-label-container:hover .sk-estimator-doc-link.fitted:hover,\n",
       ".sk-estimator-doc-link.fitted:hover {\n",
       "  /* fitted */\n",
       "  background-color: var(--sklearn-color-fitted-level-3);\n",
       "  color: var(--sklearn-color-background);\n",
       "  text-decoration: none;\n",
       "}\n",
       "\n",
       "/* Span, style for the box shown on hovering the info icon */\n",
       ".sk-estimator-doc-link span {\n",
       "  display: none;\n",
       "  z-index: 9999;\n",
       "  position: relative;\n",
       "  font-weight: normal;\n",
       "  right: .2ex;\n",
       "  padding: .5ex;\n",
       "  margin: .5ex;\n",
       "  width: min-content;\n",
       "  min-width: 20ex;\n",
       "  max-width: 50ex;\n",
       "  color: var(--sklearn-color-text);\n",
       "  box-shadow: 2pt 2pt 4pt #999;\n",
       "  /* unfitted */\n",
       "  background: var(--sklearn-color-unfitted-level-0);\n",
       "  border: .5pt solid var(--sklearn-color-unfitted-level-3);\n",
       "}\n",
       "\n",
       ".sk-estimator-doc-link.fitted span {\n",
       "  /* fitted */\n",
       "  background: var(--sklearn-color-fitted-level-0);\n",
       "  border: var(--sklearn-color-fitted-level-3);\n",
       "}\n",
       "\n",
       ".sk-estimator-doc-link:hover span {\n",
       "  display: block;\n",
       "}\n",
       "\n",
       "/* \"?\"-specific style due to the `<a>` HTML tag */\n",
       "\n",
       "#sk-container-id-1 a.estimator_doc_link {\n",
       "  float: right;\n",
       "  font-size: 1rem;\n",
       "  line-height: 1em;\n",
       "  font-family: monospace;\n",
       "  background-color: var(--sklearn-color-background);\n",
       "  border-radius: 1rem;\n",
       "  height: 1rem;\n",
       "  width: 1rem;\n",
       "  text-decoration: none;\n",
       "  /* unfitted */\n",
       "  color: var(--sklearn-color-unfitted-level-1);\n",
       "  border: var(--sklearn-color-unfitted-level-1) 1pt solid;\n",
       "}\n",
       "\n",
       "#sk-container-id-1 a.estimator_doc_link.fitted {\n",
       "  /* fitted */\n",
       "  border: var(--sklearn-color-fitted-level-1) 1pt solid;\n",
       "  color: var(--sklearn-color-fitted-level-1);\n",
       "}\n",
       "\n",
       "/* On hover */\n",
       "#sk-container-id-1 a.estimator_doc_link:hover {\n",
       "  /* unfitted */\n",
       "  background-color: var(--sklearn-color-unfitted-level-3);\n",
       "  color: var(--sklearn-color-background);\n",
       "  text-decoration: none;\n",
       "}\n",
       "\n",
       "#sk-container-id-1 a.estimator_doc_link.fitted:hover {\n",
       "  /* fitted */\n",
       "  background-color: var(--sklearn-color-fitted-level-3);\n",
       "}\n",
       "</style><div id=\"sk-container-id-1\" class=\"sk-top-container\"><div class=\"sk-text-repr-fallback\"><pre>PCA(n_components=0.9)</pre><b>In a Jupyter environment, please rerun this cell to show the HTML representation or trust the notebook. <br />On GitHub, the HTML representation is unable to render, please try loading this page with nbviewer.org.</b></div><div class=\"sk-container\" hidden><div class=\"sk-item\"><div class=\"sk-estimator fitted sk-toggleable\"><input class=\"sk-toggleable__control sk-hidden--visually\" id=\"sk-estimator-id-1\" type=\"checkbox\" checked><label for=\"sk-estimator-id-1\" class=\"sk-toggleable__label fitted sk-toggleable__label-arrow fitted\">&nbsp;&nbsp;PCA<a class=\"sk-estimator-doc-link fitted\" rel=\"noreferrer\" target=\"_blank\" href=\"https://scikit-learn.org/1.5/modules/generated/sklearn.decomposition.PCA.html\">?<span>Documentation for PCA</span></a><span class=\"sk-estimator-doc-link fitted\">i<span>Fitted</span></span></label><div class=\"sk-toggleable__content fitted\"><pre>PCA(n_components=0.9)</pre></div> </div></div></div></div>"
      ],
      "text/plain": [
       "PCA(n_components=0.9)"
      ]
     },
     "execution_count": 2,
     "metadata": {},
     "output_type": "execute_result"
    }
   ],
   "source": [
    "from sklearn.decomposition import PCA\n",
    "\n",
    "pca = PCA(n_components=.9, svd_solver='auto')  # Up to 40 components\n",
    "pca.fit(matrix_X.T)"
   ]
  },
  {
   "cell_type": "markdown",
   "metadata": {},
   "source": [
    "### 2. Plot Mean Face and Principal Components\n",
    "\n",
    "#### 2a. Mean Face:"
   ]
  },
  {
   "cell_type": "code",
   "execution_count": 3,
   "metadata": {},
   "outputs": [
    {
     "name": "stdout",
     "output_type": "stream",
     "text": [
      "(339,)\n"
     ]
    }
   ],
   "source": [
    "mean_face = np.mean(matrix_X, axis=1)\n",
    "print(mean_face.shape)"
   ]
  },
  {
   "cell_type": "markdown",
   "metadata": {},
   "source": [
    "#### 2b. Principal Components:\n",
    "The principal components are stored in pca.components_. These represent variations along each eigenface.\n",
    "\n"
   ]
  },
  {
   "cell_type": "code",
   "execution_count": 4,
   "metadata": {},
   "outputs": [
    {
     "name": "stdout",
     "output_type": "stream",
     "text": [
      "(339, 6)\n"
     ]
    }
   ],
   "source": [
    "principal_components = pca.components_.T\n",
    "print(principal_components.shape)"
   ]
  },
  {
   "cell_type": "markdown",
   "metadata": {},
   "source": [
    "### 3. Plot the Mean Face and First 3 Principal Components:\n",
    "Use a plotting library like matplotlib to visualize. If the points represent 3D coordinates, plot them as a 3D scatter plot.\n",
    "\n"
   ]
  },
  {
   "cell_type": "code",
   "execution_count": 5,
   "metadata": {},
   "outputs": [
    {
     "data": {
      "application/vnd.plotly.v1+json": {
       "config": {
        "plotlyServerURL": "https://plot.ly"
       },
       "data": [
        {
         "hovertemplate": "x=%{x}<br>y=%{y}<br>z=%{z}<extra></extra>",
         "legendgroup": "",
         "marker": {
          "color": "#636efa",
          "opacity": 0.3,
          "symbol": "circle"
         },
         "mode": "markers",
         "name": "",
         "scene": "scene",
         "showlegend": false,
         "type": "scatter3d",
         "x": [
          0,
          0.17400000000000013,
          0,
          0,
          0,
          0,
          0,
          0,
          0,
          0,
          0,
          0.21699999999999992,
          0.4570000000000004,
          0.43500000000000005,
          0.6099999999999997,
          0.5219999999999998,
          0.391,
          0.12999999999999992,
          0.391,
          0.3238549132049278,
          0.5128712282966915,
          0.3238549132049278,
          0.3238549132049278,
          0.12683859811316384,
          0.3238549132049278,
          0.10900000000000001,
          0.17400000000000013,
          0.38700000000000034,
          0.5500000000000004,
          0.6090000000000005,
          0.5039301268487744,
          0.2707885376756409,
          0.17400000000000013,
          0.042999999999999976,
          -0.17400000000000013,
          0,
          0,
          0,
          0,
          0,
          0,
          0,
          0,
          0,
          -0.21699999999999992,
          -0.4570000000000004,
          -0.43500000000000005,
          -0.6099999999999997,
          -0.5219999999999998,
          -0.391,
          -0.12999999999999992,
          -0.391,
          -0.3238549132049278,
          -0.5128712282966915,
          -0.3238549132049278,
          -0.3238549132049278,
          -0.12683859811316384,
          -0.3238549132049278,
          -0.10900000000000001,
          -0.17400000000000013,
          -0.38700000000000034,
          -0.5500000000000004,
          -0.6090000000000005,
          -0.5039301268487744,
          -0.2707885376756409,
          -0.17400000000000013,
          -0.042999999999999976,
          0.36785491320492786,
          0.36785491320492786,
          -0.36785491320492786,
          -0.36785491320492786,
          0.28485491320492773,
          0.28485491320492773,
          -0.28485491320492773,
          -0.28485491320492773,
          0.08000000000000004,
          -0.08000000000000004,
          0.022000000000000013,
          -0.022000000000000013,
          0.13539426883782044,
          -0.13539426883782044,
          0.11239426883782042,
          -0.11239426883782042,
          0.11239426883782042,
          -0.11239426883782042,
          0.13539426883782044,
          -0.13539426883782044,
          0,
          0.24254651982430903,
          -0.24254651982430903,
          0.3693942688378202,
          -0.3693942688378202,
          0.06499999999999996,
          -0.06499999999999996,
          0,
          0.41836307075080975,
          -0.41836307075080975,
          0.41836307075080975,
          -0.41836307075080975,
          0.41836307075080975,
          -0.41836307075080975,
          0.41836307075080975,
          -0.41836307075080975,
          0.22534675565904574,
          -0.22534675565904574,
          0.22534675565904574,
          -0.22534675565904574,
          0.22534675565904574,
          -0.22534675565904574,
          0.22534675565904574,
          -0.22534675565904574,
          0.12000000000000008,
          -0.12000000000000008
         ],
         "y": [
          1.1193978683686923,
          0.8583978683686928,
          0.5134588681379824,
          0.29315461464850406,
          0.24092503371881246,
          -0.15394623159592596,
          -0.23707496628118752,
          -0.37796493726680974,
          -0.6079609539364933,
          -0.6729609539364929,
          -0.9985179681588463,
          1.0973978683686927,
          0.9673978683686923,
          0.6843978683686927,
          0.5973978683686926,
          0.36027375090413594,
          0.39856281971931523,
          0.30256281971931526,
          0.346562819719315,
          0.2562805484837864,
          0.1534589134700371,
          0.208688797013885,
          0.12406940935120776,
          0.1534589134700371,
          0.0887453873401309,
          -0.11630454721087913,
          -0.20330454721087907,
          -0.10000000000000005,
          -0.25,
          0.14799999999999994,
          -0.6291989341843464,
          -0.42196493726680995,
          -0.9648253540565144,
          -0.3569649372668101,
          0.8583978683686928,
          0.5390000000000003,
          0.2780000000000003,
          0.213,
          -0.22200000000000014,
          -0.265,
          -0.542960953936493,
          -0.5259999999999999,
          -0.5910000000000001,
          -0.852,
          1.0973978683686927,
          0.9673978683686923,
          0.6843978683686927,
          0.5973978683686926,
          0.37211160623908346,
          0.39856281971931523,
          0.30256281971931526,
          0.346562819719315,
          0.3061777434715138,
          0.2033561084577645,
          0.25858599200161236,
          0.17396660433893515,
          0.2033561084577645,
          0.13864258232785834,
          -0.11630454721087913,
          -0.20330454721087907,
          -0.10000000000000005,
          -0.25,
          0.14799999999999994,
          -0.6291989341843464,
          -0.42196493726680995,
          -0.9648253540565144,
          -0.3569649372668101,
          0.20545891347003714,
          0.12301311477265915,
          0.2553561084577645,
          0.17291030976038657,
          0.20545891347003714,
          0.12301311477265915,
          0.2553561084577645,
          0.17291030976038657,
          -0.17748736345794375,
          -0.17748736345794375,
          0.24092503371881246,
          0.24092503371881246,
          -0.3709649372668099,
          -0.3709649372668099,
          -0.42196493726680995,
          -0.42196493726680995,
          -0.5150387962434892,
          -0.5150387962434892,
          -0.5620387962434893,
          -0.5620387962434893,
          -0.42196493726680995,
          -0.4312723231644779,
          -0.4312723231644779,
          -0.42196493726680995,
          -0.42196493726680995,
          0.05592503371881245,
          0.05592503371881245,
          0.09592503371881247,
          0.2245340579796617,
          0.274431252967389,
          0.19056677559039445,
          0.2404639705781219,
          0.13083935347721962,
          0.180736548464947,
          0.10949187784425576,
          0.15938907283198317,
          0.2245340579796617,
          0.274431252967389,
          0.19056677559039445,
          0.2404639705781219,
          0.13083935347721962,
          0.180736548464947,
          0.10949187784425576,
          0.15938907283198317,
          -0.23707496628118752,
          -0.23707496628118752
         ],
         "z": [
          -0.37100000000000033,
          -0.024000000000000014,
          0.08883100823253212,
          0.1070000000000001,
          0.08499999999999998,
          0.24317827547115534,
          0.124,
          0.14200000000000007,
          0.1267315352558302,
          0.06046307051166032,
          -0.006805394232509547,
          -0.37100000000000033,
          -0.32799999999999985,
          -0.11100000000000007,
          -0.32799999999999985,
          -0.11100000000000007,
          0.03000000000000002,
          0.1070000000000001,
          0.03000000000000002,
          -0.0020000000000000013,
          -0.11100000000000007,
          0.002206602252101089,
          0.002206602252101089,
          0,
          0,
          0.03444579869737793,
          0.031891891116156826,
          -0.011774171375520377,
          -0.32799999999999985,
          -0.32799999999999985,
          -0.32799999999999985,
          0,
          -0.06049800833484161,
          0.15000000000000008,
          -0.024000000000000014,
          0.08499999999999998,
          0.1070000000000001,
          0.08499999999999998,
          0.21000000000000002,
          0.124,
          0.10073153525583016,
          0.15000000000000008,
          0.1070000000000001,
          0.063,
          -0.37100000000000033,
          -0.32799999999999985,
          -0.11100000000000007,
          -0.32799999999999985,
          -0.11100000000000007,
          0.03000000000000002,
          0.1070000000000001,
          0.03000000000000002,
          -0.0020000000000000013,
          -0.11100000000000007,
          0.002206602252101089,
          0.002206602252101089,
          0,
          0,
          0.03444579869737793,
          0.031891891116156826,
          -0.011774171375520377,
          -0.32799999999999985,
          -0.32799999999999985,
          -0.32799999999999985,
          0,
          -0.06049800833484161,
          0.15000000000000008,
          -0.03000000000000002,
          -0.03000000000000002,
          -0.03000000000000002,
          -0.03000000000000002,
          -0.03000000000000002,
          -0.03000000000000002,
          -0.03000000000000002,
          -0.03000000000000002,
          0.17322479282980882,
          0.17322479282980882,
          0.063,
          0.063,
          0.063,
          0.063,
          0.050000000000000024,
          0.050000000000000024,
          0.026731535255830156,
          0.026731535255830156,
          0.03973153525583012,
          0.03973153525583012,
          0.124,
          -0.024000000000000014,
          -0.024000000000000014,
          -0.050000000000000024,
          -0.050000000000000024,
          0.0665891377355777,
          0.0665891377355777,
          0.11658913773557769,
          -0.056000000000000036,
          -0.056000000000000036,
          -0.05445537842352925,
          -0.05445537842352925,
          -0.05445537842352925,
          -0.05445537842352925,
          -0.06700000000000002,
          -0.06700000000000002,
          -0.013000000000000008,
          -0.013000000000000008,
          -0.01145537842352924,
          -0.01145537842352924,
          -0.01145537842352924,
          -0.01145537842352924,
          -0.024000000000000014,
          -0.024000000000000014,
          0.10000000000000005,
          0.10000000000000005
         ]
        }
       ],
       "layout": {
        "legend": {
         "tracegroupgap": 0
        },
        "margin": {
         "t": 60
        },
        "scene": {
         "domain": {
          "x": [
           0,
           1
          ],
          "y": [
           0,
           1
          ]
         },
         "xaxis": {
          "title": {
           "text": "x"
          }
         },
         "yaxis": {
          "title": {
           "text": "y"
          }
         },
         "zaxis": {
          "title": {
           "text": "z"
          }
         }
        },
        "template": {
         "data": {
          "bar": [
           {
            "error_x": {
             "color": "#2a3f5f"
            },
            "error_y": {
             "color": "#2a3f5f"
            },
            "marker": {
             "line": {
              "color": "#E5ECF6",
              "width": 0.5
             },
             "pattern": {
              "fillmode": "overlay",
              "size": 10,
              "solidity": 0.2
             }
            },
            "type": "bar"
           }
          ],
          "barpolar": [
           {
            "marker": {
             "line": {
              "color": "#E5ECF6",
              "width": 0.5
             },
             "pattern": {
              "fillmode": "overlay",
              "size": 10,
              "solidity": 0.2
             }
            },
            "type": "barpolar"
           }
          ],
          "carpet": [
           {
            "aaxis": {
             "endlinecolor": "#2a3f5f",
             "gridcolor": "white",
             "linecolor": "white",
             "minorgridcolor": "white",
             "startlinecolor": "#2a3f5f"
            },
            "baxis": {
             "endlinecolor": "#2a3f5f",
             "gridcolor": "white",
             "linecolor": "white",
             "minorgridcolor": "white",
             "startlinecolor": "#2a3f5f"
            },
            "type": "carpet"
           }
          ],
          "choropleth": [
           {
            "colorbar": {
             "outlinewidth": 0,
             "ticks": ""
            },
            "type": "choropleth"
           }
          ],
          "contour": [
           {
            "colorbar": {
             "outlinewidth": 0,
             "ticks": ""
            },
            "colorscale": [
             [
              0,
              "#0d0887"
             ],
             [
              0.1111111111111111,
              "#46039f"
             ],
             [
              0.2222222222222222,
              "#7201a8"
             ],
             [
              0.3333333333333333,
              "#9c179e"
             ],
             [
              0.4444444444444444,
              "#bd3786"
             ],
             [
              0.5555555555555556,
              "#d8576b"
             ],
             [
              0.6666666666666666,
              "#ed7953"
             ],
             [
              0.7777777777777778,
              "#fb9f3a"
             ],
             [
              0.8888888888888888,
              "#fdca26"
             ],
             [
              1,
              "#f0f921"
             ]
            ],
            "type": "contour"
           }
          ],
          "contourcarpet": [
           {
            "colorbar": {
             "outlinewidth": 0,
             "ticks": ""
            },
            "type": "contourcarpet"
           }
          ],
          "heatmap": [
           {
            "colorbar": {
             "outlinewidth": 0,
             "ticks": ""
            },
            "colorscale": [
             [
              0,
              "#0d0887"
             ],
             [
              0.1111111111111111,
              "#46039f"
             ],
             [
              0.2222222222222222,
              "#7201a8"
             ],
             [
              0.3333333333333333,
              "#9c179e"
             ],
             [
              0.4444444444444444,
              "#bd3786"
             ],
             [
              0.5555555555555556,
              "#d8576b"
             ],
             [
              0.6666666666666666,
              "#ed7953"
             ],
             [
              0.7777777777777778,
              "#fb9f3a"
             ],
             [
              0.8888888888888888,
              "#fdca26"
             ],
             [
              1,
              "#f0f921"
             ]
            ],
            "type": "heatmap"
           }
          ],
          "heatmapgl": [
           {
            "colorbar": {
             "outlinewidth": 0,
             "ticks": ""
            },
            "colorscale": [
             [
              0,
              "#0d0887"
             ],
             [
              0.1111111111111111,
              "#46039f"
             ],
             [
              0.2222222222222222,
              "#7201a8"
             ],
             [
              0.3333333333333333,
              "#9c179e"
             ],
             [
              0.4444444444444444,
              "#bd3786"
             ],
             [
              0.5555555555555556,
              "#d8576b"
             ],
             [
              0.6666666666666666,
              "#ed7953"
             ],
             [
              0.7777777777777778,
              "#fb9f3a"
             ],
             [
              0.8888888888888888,
              "#fdca26"
             ],
             [
              1,
              "#f0f921"
             ]
            ],
            "type": "heatmapgl"
           }
          ],
          "histogram": [
           {
            "marker": {
             "pattern": {
              "fillmode": "overlay",
              "size": 10,
              "solidity": 0.2
             }
            },
            "type": "histogram"
           }
          ],
          "histogram2d": [
           {
            "colorbar": {
             "outlinewidth": 0,
             "ticks": ""
            },
            "colorscale": [
             [
              0,
              "#0d0887"
             ],
             [
              0.1111111111111111,
              "#46039f"
             ],
             [
              0.2222222222222222,
              "#7201a8"
             ],
             [
              0.3333333333333333,
              "#9c179e"
             ],
             [
              0.4444444444444444,
              "#bd3786"
             ],
             [
              0.5555555555555556,
              "#d8576b"
             ],
             [
              0.6666666666666666,
              "#ed7953"
             ],
             [
              0.7777777777777778,
              "#fb9f3a"
             ],
             [
              0.8888888888888888,
              "#fdca26"
             ],
             [
              1,
              "#f0f921"
             ]
            ],
            "type": "histogram2d"
           }
          ],
          "histogram2dcontour": [
           {
            "colorbar": {
             "outlinewidth": 0,
             "ticks": ""
            },
            "colorscale": [
             [
              0,
              "#0d0887"
             ],
             [
              0.1111111111111111,
              "#46039f"
             ],
             [
              0.2222222222222222,
              "#7201a8"
             ],
             [
              0.3333333333333333,
              "#9c179e"
             ],
             [
              0.4444444444444444,
              "#bd3786"
             ],
             [
              0.5555555555555556,
              "#d8576b"
             ],
             [
              0.6666666666666666,
              "#ed7953"
             ],
             [
              0.7777777777777778,
              "#fb9f3a"
             ],
             [
              0.8888888888888888,
              "#fdca26"
             ],
             [
              1,
              "#f0f921"
             ]
            ],
            "type": "histogram2dcontour"
           }
          ],
          "mesh3d": [
           {
            "colorbar": {
             "outlinewidth": 0,
             "ticks": ""
            },
            "type": "mesh3d"
           }
          ],
          "parcoords": [
           {
            "line": {
             "colorbar": {
              "outlinewidth": 0,
              "ticks": ""
             }
            },
            "type": "parcoords"
           }
          ],
          "pie": [
           {
            "automargin": true,
            "type": "pie"
           }
          ],
          "scatter": [
           {
            "fillpattern": {
             "fillmode": "overlay",
             "size": 10,
             "solidity": 0.2
            },
            "type": "scatter"
           }
          ],
          "scatter3d": [
           {
            "line": {
             "colorbar": {
              "outlinewidth": 0,
              "ticks": ""
             }
            },
            "marker": {
             "colorbar": {
              "outlinewidth": 0,
              "ticks": ""
             }
            },
            "type": "scatter3d"
           }
          ],
          "scattercarpet": [
           {
            "marker": {
             "colorbar": {
              "outlinewidth": 0,
              "ticks": ""
             }
            },
            "type": "scattercarpet"
           }
          ],
          "scattergeo": [
           {
            "marker": {
             "colorbar": {
              "outlinewidth": 0,
              "ticks": ""
             }
            },
            "type": "scattergeo"
           }
          ],
          "scattergl": [
           {
            "marker": {
             "colorbar": {
              "outlinewidth": 0,
              "ticks": ""
             }
            },
            "type": "scattergl"
           }
          ],
          "scattermapbox": [
           {
            "marker": {
             "colorbar": {
              "outlinewidth": 0,
              "ticks": ""
             }
            },
            "type": "scattermapbox"
           }
          ],
          "scatterpolar": [
           {
            "marker": {
             "colorbar": {
              "outlinewidth": 0,
              "ticks": ""
             }
            },
            "type": "scatterpolar"
           }
          ],
          "scatterpolargl": [
           {
            "marker": {
             "colorbar": {
              "outlinewidth": 0,
              "ticks": ""
             }
            },
            "type": "scatterpolargl"
           }
          ],
          "scatterternary": [
           {
            "marker": {
             "colorbar": {
              "outlinewidth": 0,
              "ticks": ""
             }
            },
            "type": "scatterternary"
           }
          ],
          "surface": [
           {
            "colorbar": {
             "outlinewidth": 0,
             "ticks": ""
            },
            "colorscale": [
             [
              0,
              "#0d0887"
             ],
             [
              0.1111111111111111,
              "#46039f"
             ],
             [
              0.2222222222222222,
              "#7201a8"
             ],
             [
              0.3333333333333333,
              "#9c179e"
             ],
             [
              0.4444444444444444,
              "#bd3786"
             ],
             [
              0.5555555555555556,
              "#d8576b"
             ],
             [
              0.6666666666666666,
              "#ed7953"
             ],
             [
              0.7777777777777778,
              "#fb9f3a"
             ],
             [
              0.8888888888888888,
              "#fdca26"
             ],
             [
              1,
              "#f0f921"
             ]
            ],
            "type": "surface"
           }
          ],
          "table": [
           {
            "cells": {
             "fill": {
              "color": "#EBF0F8"
             },
             "line": {
              "color": "white"
             }
            },
            "header": {
             "fill": {
              "color": "#C8D4E3"
             },
             "line": {
              "color": "white"
             }
            },
            "type": "table"
           }
          ]
         },
         "layout": {
          "annotationdefaults": {
           "arrowcolor": "#2a3f5f",
           "arrowhead": 0,
           "arrowwidth": 1
          },
          "autotypenumbers": "strict",
          "coloraxis": {
           "colorbar": {
            "outlinewidth": 0,
            "ticks": ""
           }
          },
          "colorscale": {
           "diverging": [
            [
             0,
             "#8e0152"
            ],
            [
             0.1,
             "#c51b7d"
            ],
            [
             0.2,
             "#de77ae"
            ],
            [
             0.3,
             "#f1b6da"
            ],
            [
             0.4,
             "#fde0ef"
            ],
            [
             0.5,
             "#f7f7f7"
            ],
            [
             0.6,
             "#e6f5d0"
            ],
            [
             0.7,
             "#b8e186"
            ],
            [
             0.8,
             "#7fbc41"
            ],
            [
             0.9,
             "#4d9221"
            ],
            [
             1,
             "#276419"
            ]
           ],
           "sequential": [
            [
             0,
             "#0d0887"
            ],
            [
             0.1111111111111111,
             "#46039f"
            ],
            [
             0.2222222222222222,
             "#7201a8"
            ],
            [
             0.3333333333333333,
             "#9c179e"
            ],
            [
             0.4444444444444444,
             "#bd3786"
            ],
            [
             0.5555555555555556,
             "#d8576b"
            ],
            [
             0.6666666666666666,
             "#ed7953"
            ],
            [
             0.7777777777777778,
             "#fb9f3a"
            ],
            [
             0.8888888888888888,
             "#fdca26"
            ],
            [
             1,
             "#f0f921"
            ]
           ],
           "sequentialminus": [
            [
             0,
             "#0d0887"
            ],
            [
             0.1111111111111111,
             "#46039f"
            ],
            [
             0.2222222222222222,
             "#7201a8"
            ],
            [
             0.3333333333333333,
             "#9c179e"
            ],
            [
             0.4444444444444444,
             "#bd3786"
            ],
            [
             0.5555555555555556,
             "#d8576b"
            ],
            [
             0.6666666666666666,
             "#ed7953"
            ],
            [
             0.7777777777777778,
             "#fb9f3a"
            ],
            [
             0.8888888888888888,
             "#fdca26"
            ],
            [
             1,
             "#f0f921"
            ]
           ]
          },
          "colorway": [
           "#636efa",
           "#EF553B",
           "#00cc96",
           "#ab63fa",
           "#FFA15A",
           "#19d3f3",
           "#FF6692",
           "#B6E880",
           "#FF97FF",
           "#FECB52"
          ],
          "font": {
           "color": "#2a3f5f"
          },
          "geo": {
           "bgcolor": "white",
           "lakecolor": "white",
           "landcolor": "#E5ECF6",
           "showlakes": true,
           "showland": true,
           "subunitcolor": "white"
          },
          "hoverlabel": {
           "align": "left"
          },
          "hovermode": "closest",
          "mapbox": {
           "style": "light"
          },
          "paper_bgcolor": "white",
          "plot_bgcolor": "#E5ECF6",
          "polar": {
           "angularaxis": {
            "gridcolor": "white",
            "linecolor": "white",
            "ticks": ""
           },
           "bgcolor": "#E5ECF6",
           "radialaxis": {
            "gridcolor": "white",
            "linecolor": "white",
            "ticks": ""
           }
          },
          "scene": {
           "xaxis": {
            "backgroundcolor": "#E5ECF6",
            "gridcolor": "white",
            "gridwidth": 2,
            "linecolor": "white",
            "showbackground": true,
            "ticks": "",
            "zerolinecolor": "white"
           },
           "yaxis": {
            "backgroundcolor": "#E5ECF6",
            "gridcolor": "white",
            "gridwidth": 2,
            "linecolor": "white",
            "showbackground": true,
            "ticks": "",
            "zerolinecolor": "white"
           },
           "zaxis": {
            "backgroundcolor": "#E5ECF6",
            "gridcolor": "white",
            "gridwidth": 2,
            "linecolor": "white",
            "showbackground": true,
            "ticks": "",
            "zerolinecolor": "white"
           }
          },
          "shapedefaults": {
           "line": {
            "color": "#2a3f5f"
           }
          },
          "ternary": {
           "aaxis": {
            "gridcolor": "white",
            "linecolor": "white",
            "ticks": ""
           },
           "baxis": {
            "gridcolor": "white",
            "linecolor": "white",
            "ticks": ""
           },
           "bgcolor": "#E5ECF6",
           "caxis": {
            "gridcolor": "white",
            "linecolor": "white",
            "ticks": ""
           }
          },
          "title": {
           "x": 0.05
          },
          "xaxis": {
           "automargin": true,
           "gridcolor": "white",
           "linecolor": "white",
           "ticks": "",
           "title": {
            "standoff": 15
           },
           "zerolinecolor": "white",
           "zerolinewidth": 2
          },
          "yaxis": {
           "automargin": true,
           "gridcolor": "white",
           "linecolor": "white",
           "ticks": "",
           "title": {
            "standoff": 15
           },
           "zerolinecolor": "white",
           "zerolinewidth": 2
          }
         }
        }
       }
      }
     },
     "metadata": {},
     "output_type": "display_data"
    },
    {
     "data": {
      "application/vnd.plotly.v1+json": {
       "config": {
        "plotlyServerURL": "https://plot.ly"
       },
       "data": [
        {
         "hovertemplate": "x=%{x}<br>y=%{y}<br>z=%{z}<extra></extra>",
         "legendgroup": "",
         "marker": {
          "color": "#636efa",
          "opacity": 0.3,
          "symbol": "circle"
         },
         "mode": "markers",
         "name": "",
         "scene": "scene",
         "showlegend": false,
         "type": "scatter3d",
         "x": [
          -1.588098577563071e-17,
          0.174,
          1.9334122435741674e-16,
          -1.5690737960458143e-17,
          5.914034750295145e-17,
          -3.995046209047719e-17,
          2.551479525319734e-17,
          1.6348236490737034e-17,
          -4.815381384426214e-17,
          -3.2606259116988826e-17,
          -5.629646175754409e-18,
          0.21699999999999992,
          0.4570000000000004,
          0.43500000000000005,
          0.6099999999999997,
          0.5219999999999998,
          0.391,
          0.12999999999999992,
          0.391,
          0.32355599804282803,
          0.4868142742102275,
          0.32355599804282803,
          0.32355599804282803,
          0.15229772187542834,
          0.32355599804282803,
          0.10900000000000001,
          0.17400000000000013,
          0.38700000000000034,
          0.5500000000000004,
          0.6090000000000005,
          0.5019539307835863,
          0.2790099752577058,
          0.17400000000000013,
          0.042999999999999976,
          -0.17400000000000013,
          -5.4509882339557346e-33,
          1.2256233256344571e-33,
          3.3508519460485006e-33,
          -9.67120159064662e-34,
          0,
          0,
          0,
          0,
          0,
          -0.21699999999999992,
          -0.4570000000000004,
          -0.43500000000000005,
          -0.6099999999999997,
          -0.5219999999999998,
          -0.391,
          -0.12999999999999992,
          -0.391,
          -0.32355599804282803,
          -0.4868142742102275,
          -0.32355599804282803,
          -0.32355599804282803,
          -0.15229772187542834,
          -0.32355599804282803,
          -0.10900000000000001,
          -0.17400000000000013,
          -0.38700000000000034,
          -0.5500000000000004,
          -0.6090000000000005,
          -0.5019539307835863,
          -0.2790099752577058,
          -0.17400000000000013,
          -0.042999999999999976,
          0.36755599804282807,
          0.36755599804282807,
          -0.36755599804282807,
          -0.36755599804282807,
          0.28455599804282794,
          0.28455599804282794,
          -0.28455599804282794,
          -0.28455599804282794,
          0.08000000000000004,
          -0.08000000000000004,
          0.022000000000000013,
          -0.022000000000000013,
          0.1395049876288529,
          -0.1395049876288529,
          0.11650498762885288,
          -0.11650498762885288,
          0.11650498762885288,
          -0.11650498762885288,
          0.1395049876288529,
          -0.1395049876288529,
          0,
          0.25627056757648176,
          -0.25627056757648176,
          0.3735049876288527,
          -0.3735049876288527,
          0.06499999999999996,
          -0.06499999999999996,
          0,
          0.40518513612652785,
          -0.40518513612652785,
          0.40518513612652785,
          -0.40518513612652785,
          0.40518513612652785,
          -0.40518513612652785,
          0.40518513612652785,
          -0.40518513612652785,
          0.23792685995912813,
          -0.23792685995912813,
          0.23792685995912813,
          -0.23792685995912813,
          0.23792685995912813,
          -0.23792685995912813,
          0.23792685995912813,
          -0.23792685995912813,
          0.12000000000000008,
          -0.12000000000000008
         ],
         "y": [
          1.104823910278887,
          0.8438239102788875,
          0.5171416975469533,
          0.3022916032610822,
          0.24822062880305773,
          -0.14044986725195518,
          -0.22977937119694225,
          -0.36642141757758295,
          -0.2471075760951707,
          -0.31210757609517026,
          -0.8120107131325823,
          1.0828239102788875,
          0.952823910278887,
          0.6698239102788874,
          0.5828239102788872,
          0.3895383934345601,
          0.4053677807467054,
          0.3093677807467054,
          0.35336778074670516,
          0.2281578756892895,
          0.14945134166468618,
          0.1887510777350129,
          0.1326320639314765,
          0.14945134166468618,
          0.10811636758305387,
          -0.11085034565496671,
          -0.19785034565496665,
          -0.10000000000000005,
          -0.25,
          0.14799999999999994,
          -0.6219119551394438,
          -0.41042141757758316,
          -0.7514481099416277,
          -0.3454214175775833,
          0.8438239102788875,
          0.5390000000000003,
          0.2780000000000003,
          0.213,
          -0.22200000000000014,
          -0.265,
          -0.1821075760951703,
          -0.5259999999999999,
          -0.5910000000000001,
          -0.852,
          1.0828239102788875,
          0.952823910278887,
          0.6698239102788874,
          0.5828239102788872,
          0.3771085160794675,
          0.4053677807467054,
          0.3093677807467054,
          0.35336778074670516,
          0.2876187199642922,
          0.2089121859396889,
          0.24821192201001557,
          0.19209290820647923,
          0.2089121859396889,
          0.16757721185805663,
          -0.11085034565496671,
          -0.19785034565496665,
          -0.10000000000000005,
          -0.25,
          0.14799999999999994,
          -0.6219119551394438,
          -0.41042141757758316,
          -0.7514481099416277,
          -0.3454214175775833,
          0.2014513416646862,
          0.11863724732071955,
          0.2609121859396889,
          0.17809809159572232,
          0.2014513416646862,
          0.11863724732071955,
          0.2609121859396889,
          0.17809809159572232,
          -0.16030816970500203,
          -0.16030816970500203,
          0.24822062880305773,
          0.24822062880305773,
          -0.3594214175775831,
          -0.3594214175775831,
          -0.41042141757758316,
          -0.41042141757758316,
          -0.2347953856680347,
          -0.2347953856680347,
          -0.28179538566803497,
          -0.28179538566803497,
          -0.41042141757758316,
          -0.39285881438662834,
          -0.39285881438662834,
          -0.41042141757758316,
          -0.41042141757758316,
          0.0632206288030577,
          0.0632206288030577,
          0.10322062880305773,
          0.2036459154819086,
          0.2631067597569112,
          0.1753081625670252,
          0.23476900684202798,
          0.1354724367011368,
          0.19493328097613952,
          0.12162832779043493,
          0.18108917206543768,
          0.2036459154819086,
          0.2631067597569112,
          0.1753081625670252,
          0.23476900684202798,
          0.1354724367011368,
          0.19493328097613952,
          0.12162832779043493,
          0.18108917206543768,
          -0.22977937119694225,
          -0.22977937119694225
         ],
         "z": [
          -0.37100000000000033,
          -0.024000000000000014,
          0.08827860711495437,
          0.1070000000000001,
          0.08499999999999998,
          0.2380238517131759,
          0.124,
          0.14200000000000007,
          0.19390650797738712,
          0.19481301595477418,
          0.19471952393216116,
          -0.37100000000000033,
          -0.32799999999999985,
          -0.11100000000000007,
          -0.32799999999999985,
          -0.11100000000000007,
          0.03000000000000002,
          0.1070000000000001,
          0.03000000000000002,
          -0.0020000000000000013,
          -0.11100000000000007,
          0.0028312146680604757,
          0.0028312146680604757,
          0,
          0,
          0.03481409434396661,
          0.032628440057028904,
          -0.016541224624836356,
          -0.32799999999999985,
          -0.32799999999999985,
          -0.32799999999999985,
          0,
          0.1141569207412064,
          0.15000000000000008,
          -0.024000000000000014,
          0.08499999999999998,
          0.1070000000000001,
          0.08499999999999998,
          0.21000000000000002,
          0.124,
          0.1679065079773871,
          0.15000000000000008,
          0.1070000000000001,
          0.063,
          -0.37100000000000033,
          -0.32799999999999985,
          -0.11100000000000007,
          -0.32799999999999985,
          -0.11100000000000007,
          0.03000000000000002,
          0.1070000000000001,
          0.03000000000000002,
          -0.0020000000000000013,
          -0.11100000000000007,
          0.0028312146680604757,
          0.0028312146680604757,
          0,
          0,
          0.03481409434396661,
          0.032628440057028904,
          -0.016541224624836356,
          -0.32799999999999985,
          -0.32799999999999985,
          -0.32799999999999985,
          0,
          0.1141569207412064,
          0.15000000000000008,
          -0.03000000000000002,
          -0.03000000000000002,
          -0.03000000000000002,
          -0.03000000000000002,
          -0.03000000000000002,
          -0.03000000000000002,
          -0.03000000000000002,
          -0.03000000000000002,
          0.1696166961992232,
          0.1696166961992232,
          0.063,
          0.063,
          0.063,
          0.063,
          0.050000000000000024,
          0.050000000000000024,
          0.09390650797738706,
          0.09390650797738706,
          0.10690650797738702,
          0.10690650797738702,
          0.124,
          -0.024000000000000014,
          -0.024000000000000014,
          -0.050000000000000024,
          -0.050000000000000024,
          0.06401192585658798,
          0.06401192585658798,
          0.11401192585658797,
          -0.056000000000000036,
          -0.056000000000000036,
          -0.05401814973235768,
          -0.05401814973235768,
          -0.05401814973235768,
          -0.05401814973235768,
          -0.06700000000000002,
          -0.06700000000000002,
          -0.013000000000000008,
          -0.013000000000000008,
          -0.011018149732357669,
          -0.011018149732357669,
          -0.011018149732357669,
          -0.011018149732357669,
          -0.024000000000000014,
          -0.024000000000000014,
          0.10000000000000005,
          0.10000000000000005
         ]
        }
       ],
       "layout": {
        "legend": {
         "tracegroupgap": 0
        },
        "margin": {
         "t": 60
        },
        "scene": {
         "domain": {
          "x": [
           0,
           1
          ],
          "y": [
           0,
           1
          ]
         },
         "xaxis": {
          "title": {
           "text": "x"
          }
         },
         "yaxis": {
          "title": {
           "text": "y"
          }
         },
         "zaxis": {
          "title": {
           "text": "z"
          }
         }
        },
        "template": {
         "data": {
          "bar": [
           {
            "error_x": {
             "color": "#2a3f5f"
            },
            "error_y": {
             "color": "#2a3f5f"
            },
            "marker": {
             "line": {
              "color": "#E5ECF6",
              "width": 0.5
             },
             "pattern": {
              "fillmode": "overlay",
              "size": 10,
              "solidity": 0.2
             }
            },
            "type": "bar"
           }
          ],
          "barpolar": [
           {
            "marker": {
             "line": {
              "color": "#E5ECF6",
              "width": 0.5
             },
             "pattern": {
              "fillmode": "overlay",
              "size": 10,
              "solidity": 0.2
             }
            },
            "type": "barpolar"
           }
          ],
          "carpet": [
           {
            "aaxis": {
             "endlinecolor": "#2a3f5f",
             "gridcolor": "white",
             "linecolor": "white",
             "minorgridcolor": "white",
             "startlinecolor": "#2a3f5f"
            },
            "baxis": {
             "endlinecolor": "#2a3f5f",
             "gridcolor": "white",
             "linecolor": "white",
             "minorgridcolor": "white",
             "startlinecolor": "#2a3f5f"
            },
            "type": "carpet"
           }
          ],
          "choropleth": [
           {
            "colorbar": {
             "outlinewidth": 0,
             "ticks": ""
            },
            "type": "choropleth"
           }
          ],
          "contour": [
           {
            "colorbar": {
             "outlinewidth": 0,
             "ticks": ""
            },
            "colorscale": [
             [
              0,
              "#0d0887"
             ],
             [
              0.1111111111111111,
              "#46039f"
             ],
             [
              0.2222222222222222,
              "#7201a8"
             ],
             [
              0.3333333333333333,
              "#9c179e"
             ],
             [
              0.4444444444444444,
              "#bd3786"
             ],
             [
              0.5555555555555556,
              "#d8576b"
             ],
             [
              0.6666666666666666,
              "#ed7953"
             ],
             [
              0.7777777777777778,
              "#fb9f3a"
             ],
             [
              0.8888888888888888,
              "#fdca26"
             ],
             [
              1,
              "#f0f921"
             ]
            ],
            "type": "contour"
           }
          ],
          "contourcarpet": [
           {
            "colorbar": {
             "outlinewidth": 0,
             "ticks": ""
            },
            "type": "contourcarpet"
           }
          ],
          "heatmap": [
           {
            "colorbar": {
             "outlinewidth": 0,
             "ticks": ""
            },
            "colorscale": [
             [
              0,
              "#0d0887"
             ],
             [
              0.1111111111111111,
              "#46039f"
             ],
             [
              0.2222222222222222,
              "#7201a8"
             ],
             [
              0.3333333333333333,
              "#9c179e"
             ],
             [
              0.4444444444444444,
              "#bd3786"
             ],
             [
              0.5555555555555556,
              "#d8576b"
             ],
             [
              0.6666666666666666,
              "#ed7953"
             ],
             [
              0.7777777777777778,
              "#fb9f3a"
             ],
             [
              0.8888888888888888,
              "#fdca26"
             ],
             [
              1,
              "#f0f921"
             ]
            ],
            "type": "heatmap"
           }
          ],
          "heatmapgl": [
           {
            "colorbar": {
             "outlinewidth": 0,
             "ticks": ""
            },
            "colorscale": [
             [
              0,
              "#0d0887"
             ],
             [
              0.1111111111111111,
              "#46039f"
             ],
             [
              0.2222222222222222,
              "#7201a8"
             ],
             [
              0.3333333333333333,
              "#9c179e"
             ],
             [
              0.4444444444444444,
              "#bd3786"
             ],
             [
              0.5555555555555556,
              "#d8576b"
             ],
             [
              0.6666666666666666,
              "#ed7953"
             ],
             [
              0.7777777777777778,
              "#fb9f3a"
             ],
             [
              0.8888888888888888,
              "#fdca26"
             ],
             [
              1,
              "#f0f921"
             ]
            ],
            "type": "heatmapgl"
           }
          ],
          "histogram": [
           {
            "marker": {
             "pattern": {
              "fillmode": "overlay",
              "size": 10,
              "solidity": 0.2
             }
            },
            "type": "histogram"
           }
          ],
          "histogram2d": [
           {
            "colorbar": {
             "outlinewidth": 0,
             "ticks": ""
            },
            "colorscale": [
             [
              0,
              "#0d0887"
             ],
             [
              0.1111111111111111,
              "#46039f"
             ],
             [
              0.2222222222222222,
              "#7201a8"
             ],
             [
              0.3333333333333333,
              "#9c179e"
             ],
             [
              0.4444444444444444,
              "#bd3786"
             ],
             [
              0.5555555555555556,
              "#d8576b"
             ],
             [
              0.6666666666666666,
              "#ed7953"
             ],
             [
              0.7777777777777778,
              "#fb9f3a"
             ],
             [
              0.8888888888888888,
              "#fdca26"
             ],
             [
              1,
              "#f0f921"
             ]
            ],
            "type": "histogram2d"
           }
          ],
          "histogram2dcontour": [
           {
            "colorbar": {
             "outlinewidth": 0,
             "ticks": ""
            },
            "colorscale": [
             [
              0,
              "#0d0887"
             ],
             [
              0.1111111111111111,
              "#46039f"
             ],
             [
              0.2222222222222222,
              "#7201a8"
             ],
             [
              0.3333333333333333,
              "#9c179e"
             ],
             [
              0.4444444444444444,
              "#bd3786"
             ],
             [
              0.5555555555555556,
              "#d8576b"
             ],
             [
              0.6666666666666666,
              "#ed7953"
             ],
             [
              0.7777777777777778,
              "#fb9f3a"
             ],
             [
              0.8888888888888888,
              "#fdca26"
             ],
             [
              1,
              "#f0f921"
             ]
            ],
            "type": "histogram2dcontour"
           }
          ],
          "mesh3d": [
           {
            "colorbar": {
             "outlinewidth": 0,
             "ticks": ""
            },
            "type": "mesh3d"
           }
          ],
          "parcoords": [
           {
            "line": {
             "colorbar": {
              "outlinewidth": 0,
              "ticks": ""
             }
            },
            "type": "parcoords"
           }
          ],
          "pie": [
           {
            "automargin": true,
            "type": "pie"
           }
          ],
          "scatter": [
           {
            "fillpattern": {
             "fillmode": "overlay",
             "size": 10,
             "solidity": 0.2
            },
            "type": "scatter"
           }
          ],
          "scatter3d": [
           {
            "line": {
             "colorbar": {
              "outlinewidth": 0,
              "ticks": ""
             }
            },
            "marker": {
             "colorbar": {
              "outlinewidth": 0,
              "ticks": ""
             }
            },
            "type": "scatter3d"
           }
          ],
          "scattercarpet": [
           {
            "marker": {
             "colorbar": {
              "outlinewidth": 0,
              "ticks": ""
             }
            },
            "type": "scattercarpet"
           }
          ],
          "scattergeo": [
           {
            "marker": {
             "colorbar": {
              "outlinewidth": 0,
              "ticks": ""
             }
            },
            "type": "scattergeo"
           }
          ],
          "scattergl": [
           {
            "marker": {
             "colorbar": {
              "outlinewidth": 0,
              "ticks": ""
             }
            },
            "type": "scattergl"
           }
          ],
          "scattermapbox": [
           {
            "marker": {
             "colorbar": {
              "outlinewidth": 0,
              "ticks": ""
             }
            },
            "type": "scattermapbox"
           }
          ],
          "scatterpolar": [
           {
            "marker": {
             "colorbar": {
              "outlinewidth": 0,
              "ticks": ""
             }
            },
            "type": "scatterpolar"
           }
          ],
          "scatterpolargl": [
           {
            "marker": {
             "colorbar": {
              "outlinewidth": 0,
              "ticks": ""
             }
            },
            "type": "scatterpolargl"
           }
          ],
          "scatterternary": [
           {
            "marker": {
             "colorbar": {
              "outlinewidth": 0,
              "ticks": ""
             }
            },
            "type": "scatterternary"
           }
          ],
          "surface": [
           {
            "colorbar": {
             "outlinewidth": 0,
             "ticks": ""
            },
            "colorscale": [
             [
              0,
              "#0d0887"
             ],
             [
              0.1111111111111111,
              "#46039f"
             ],
             [
              0.2222222222222222,
              "#7201a8"
             ],
             [
              0.3333333333333333,
              "#9c179e"
             ],
             [
              0.4444444444444444,
              "#bd3786"
             ],
             [
              0.5555555555555556,
              "#d8576b"
             ],
             [
              0.6666666666666666,
              "#ed7953"
             ],
             [
              0.7777777777777778,
              "#fb9f3a"
             ],
             [
              0.8888888888888888,
              "#fdca26"
             ],
             [
              1,
              "#f0f921"
             ]
            ],
            "type": "surface"
           }
          ],
          "table": [
           {
            "cells": {
             "fill": {
              "color": "#EBF0F8"
             },
             "line": {
              "color": "white"
             }
            },
            "header": {
             "fill": {
              "color": "#C8D4E3"
             },
             "line": {
              "color": "white"
             }
            },
            "type": "table"
           }
          ]
         },
         "layout": {
          "annotationdefaults": {
           "arrowcolor": "#2a3f5f",
           "arrowhead": 0,
           "arrowwidth": 1
          },
          "autotypenumbers": "strict",
          "coloraxis": {
           "colorbar": {
            "outlinewidth": 0,
            "ticks": ""
           }
          },
          "colorscale": {
           "diverging": [
            [
             0,
             "#8e0152"
            ],
            [
             0.1,
             "#c51b7d"
            ],
            [
             0.2,
             "#de77ae"
            ],
            [
             0.3,
             "#f1b6da"
            ],
            [
             0.4,
             "#fde0ef"
            ],
            [
             0.5,
             "#f7f7f7"
            ],
            [
             0.6,
             "#e6f5d0"
            ],
            [
             0.7,
             "#b8e186"
            ],
            [
             0.8,
             "#7fbc41"
            ],
            [
             0.9,
             "#4d9221"
            ],
            [
             1,
             "#276419"
            ]
           ],
           "sequential": [
            [
             0,
             "#0d0887"
            ],
            [
             0.1111111111111111,
             "#46039f"
            ],
            [
             0.2222222222222222,
             "#7201a8"
            ],
            [
             0.3333333333333333,
             "#9c179e"
            ],
            [
             0.4444444444444444,
             "#bd3786"
            ],
            [
             0.5555555555555556,
             "#d8576b"
            ],
            [
             0.6666666666666666,
             "#ed7953"
            ],
            [
             0.7777777777777778,
             "#fb9f3a"
            ],
            [
             0.8888888888888888,
             "#fdca26"
            ],
            [
             1,
             "#f0f921"
            ]
           ],
           "sequentialminus": [
            [
             0,
             "#0d0887"
            ],
            [
             0.1111111111111111,
             "#46039f"
            ],
            [
             0.2222222222222222,
             "#7201a8"
            ],
            [
             0.3333333333333333,
             "#9c179e"
            ],
            [
             0.4444444444444444,
             "#bd3786"
            ],
            [
             0.5555555555555556,
             "#d8576b"
            ],
            [
             0.6666666666666666,
             "#ed7953"
            ],
            [
             0.7777777777777778,
             "#fb9f3a"
            ],
            [
             0.8888888888888888,
             "#fdca26"
            ],
            [
             1,
             "#f0f921"
            ]
           ]
          },
          "colorway": [
           "#636efa",
           "#EF553B",
           "#00cc96",
           "#ab63fa",
           "#FFA15A",
           "#19d3f3",
           "#FF6692",
           "#B6E880",
           "#FF97FF",
           "#FECB52"
          ],
          "font": {
           "color": "#2a3f5f"
          },
          "geo": {
           "bgcolor": "white",
           "lakecolor": "white",
           "landcolor": "#E5ECF6",
           "showlakes": true,
           "showland": true,
           "subunitcolor": "white"
          },
          "hoverlabel": {
           "align": "left"
          },
          "hovermode": "closest",
          "mapbox": {
           "style": "light"
          },
          "paper_bgcolor": "white",
          "plot_bgcolor": "#E5ECF6",
          "polar": {
           "angularaxis": {
            "gridcolor": "white",
            "linecolor": "white",
            "ticks": ""
           },
           "bgcolor": "#E5ECF6",
           "radialaxis": {
            "gridcolor": "white",
            "linecolor": "white",
            "ticks": ""
           }
          },
          "scene": {
           "xaxis": {
            "backgroundcolor": "#E5ECF6",
            "gridcolor": "white",
            "gridwidth": 2,
            "linecolor": "white",
            "showbackground": true,
            "ticks": "",
            "zerolinecolor": "white"
           },
           "yaxis": {
            "backgroundcolor": "#E5ECF6",
            "gridcolor": "white",
            "gridwidth": 2,
            "linecolor": "white",
            "showbackground": true,
            "ticks": "",
            "zerolinecolor": "white"
           },
           "zaxis": {
            "backgroundcolor": "#E5ECF6",
            "gridcolor": "white",
            "gridwidth": 2,
            "linecolor": "white",
            "showbackground": true,
            "ticks": "",
            "zerolinecolor": "white"
           }
          },
          "shapedefaults": {
           "line": {
            "color": "#2a3f5f"
           }
          },
          "ternary": {
           "aaxis": {
            "gridcolor": "white",
            "linecolor": "white",
            "ticks": ""
           },
           "baxis": {
            "gridcolor": "white",
            "linecolor": "white",
            "ticks": ""
           },
           "bgcolor": "#E5ECF6",
           "caxis": {
            "gridcolor": "white",
            "linecolor": "white",
            "ticks": ""
           }
          },
          "title": {
           "x": 0.05
          },
          "xaxis": {
           "automargin": true,
           "gridcolor": "white",
           "linecolor": "white",
           "ticks": "",
           "title": {
            "standoff": 15
           },
           "zerolinecolor": "white",
           "zerolinewidth": 2
          },
          "yaxis": {
           "automargin": true,
           "gridcolor": "white",
           "linecolor": "white",
           "ticks": "",
           "title": {
            "standoff": 15
           },
           "zerolinecolor": "white",
           "zerolinewidth": 2
          }
         }
        }
       }
      }
     },
     "metadata": {},
     "output_type": "display_data"
    },
    {
     "data": {
      "application/vnd.plotly.v1+json": {
       "config": {
        "plotlyServerURL": "https://plot.ly"
       },
       "data": [
        {
         "hovertemplate": "x=%{x}<br>y=%{y}<br>z=%{z}<extra></extra>",
         "legendgroup": "",
         "marker": {
          "color": "#636efa",
          "opacity": 0.3,
          "symbol": "circle"
         },
         "mode": "markers",
         "name": "",
         "scene": "scene",
         "showlegend": false,
         "type": "scatter3d",
         "x": [
          4.5189755444285984e-18,
          0.17400000000000013,
          1.908201298325742e-17,
          8.414971077763275e-17,
          -7.347947791715687e-17,
          -2.1932801558032657e-17,
          -2.3080847856112895e-17,
          -4.495592775016248e-17,
          7.10155743650399e-17,
          4.461084400181141e-17,
          2.2828768525126585e-18,
          0.21699999999999994,
          0.4570000000000004,
          0.43500000000000005,
          0.6099999999999997,
          0.5219999999999998,
          0.391,
          0.12999999999999998,
          0.39100000000000007,
          0.2838508596039507,
          0.49150533718523387,
          0.28385085960395073,
          0.28385085960395073,
          0.06819638202266727,
          0.28385085960395073,
          0.10900000000000001,
          0.17400000000000013,
          0.38700000000000034,
          0.5500000000000004,
          0.6090000000000005,
          0.4943456360940495,
          0.2977128893004046,
          0.17400000000000013,
          0.042999999999999976,
          -0.17400000000000013,
          1.331309855234603e-32,
          -1.964419111428699e-33,
          -7.434313523433366e-33,
          2.232350577966103e-33,
          0,
          0,
          0,
          0,
          0,
          -0.21699999999999992,
          -0.4570000000000004,
          -0.43500000000000005,
          -0.6099999999999997,
          -0.5219999999999998,
          -0.391,
          -0.12999999999999992,
          -0.391,
          -0.28385085960395073,
          -0.4915053371852339,
          -0.28385085960395073,
          -0.28385085960395073,
          -0.06819638202266727,
          -0.28385085960395073,
          -0.10900000000000001,
          -0.17400000000000013,
          -0.38700000000000034,
          -0.5500000000000004,
          -0.6090000000000005,
          -0.4943456360940495,
          -0.2977128893004046,
          -0.17400000000000013,
          -0.042999999999999976,
          0.3278508596039507,
          0.3278508596039507,
          -0.3278508596039507,
          -0.3278508596039507,
          0.24485085960395062,
          0.24485085960395062,
          -0.24485085960395062,
          -0.24485085960395062,
          0.08000000000000004,
          -0.08000000000000004,
          0.022000000000000013,
          -0.022000000000000013,
          0.1488564446502023,
          -0.1488564446502023,
          0.1258564446502023,
          -0.1258564446502023,
          0.1258564446502023,
          -0.1258564446502023,
          0.1488564446502023,
          -0.1488564446502023,
          0,
          0.2783456258607701,
          -0.2783456258607701,
          0.38285644465020213,
          -0.38285644465020213,
          0.06499999999999996,
          -0.06499999999999996,
          0,
          0.3876780983945924,
          -0.3876780983945924,
          0.3876780983945924,
          -0.3876780983945924,
          0.3876780983945924,
          -0.3876780983945924,
          0.3876780983945924,
          -0.3876780983945924,
          0.17602362081330888,
          -0.17602362081330888,
          0.17602362081330888,
          -0.17602362081330888,
          0.17602362081330888,
          -0.17602362081330888,
          0.17602362081330888,
          -0.17602362081330888,
          0.12000000000000008,
          -0.12000000000000008
         ],
         "y": [
          1.3608840383615397,
          1.0998840383615403,
          0.5163926197199067,
          0.31750108663786225,
          0.2638046467861873,
          -0.1400460360711361,
          -0.21419535321381264,
          -0.3610550221499856,
          -0.5325702667350902,
          -0.5975702667350898,
          -1.2226320761374463,
          1.3388840383615401,
          1.2088840383615398,
          0.9258840383615401,
          0.83888403836154,
          0.3905545956306898,
          0.40266910581109205,
          0.3066691058110921,
          0.35066910581109184,
          0.31259893289246,
          0.2088095734801456,
          0.25605416508591006,
          0.18108145554643387,
          0.2088095734801456,
          0.14254158613047246,
          -0.09489179306548763,
          -0.18189179306548758,
          -0.10000000000000005,
          -0.25,
          0.14799999999999994,
          -0.7499420191807701,
          -0.4050550221499858,
          -1.1844409411055312,
          -0.34005502214998595,
          1.0998840383615403,
          0.5390000000000003,
          0.2780000000000003,
          0.213,
          -0.22200000000000014,
          -0.265,
          -0.46757026673508995,
          -0.5259999999999999,
          -0.5910000000000001,
          -0.852,
          1.3388840383615401,
          1.2088840383615398,
          0.9258840383615401,
          0.83888403836154,
          0.34694778219317624,
          0.40266910581109205,
          0.3066691058110921,
          0.35066910581109184,
          0.28684590964652223,
          0.18305655023420783,
          0.23030114183997222,
          0.15532843230049606,
          0.18305655023420783,
          0.11678856288453474,
          -0.09489179306548763,
          -0.18189179306548758,
          -0.10000000000000005,
          -0.25,
          0.14799999999999994,
          -0.7499420191807701,
          -0.4050550221499858,
          -1.1844409411055312,
          -0.34005502214998595,
          0.26080957348014566,
          0.17807038950318796,
          0.23505655023420785,
          0.15231736625725018,
          0.26080957348014566,
          0.17807038950318796,
          0.23505655023420785,
          0.15231736625725018,
          -0.16065341635122954,
          -0.16065341635122954,
          0.2638046467861873,
          0.2638046467861873,
          -0.35405502214998574,
          -0.35405502214998574,
          -0.4050550221499858,
          -0.4050550221499858,
          -0.45314367183083515,
          -0.45314367183083515,
          -0.5001436718308352,
          -0.5001436718308352,
          -0.4050550221499858,
          -0.40986388711807076,
          -0.40986388711807076,
          -0.4050550221499858,
          -0.4050550221499858,
          0.07880464678618732,
          0.07880464678618732,
          0.11880464678618734,
          0.28056212506876577,
          0.2548091018228279,
          0.24010917242739635,
          0.21435614918145865,
          0.18731356203083002,
          0.16156053878489218,
          0.1635783939541669,
          0.13782537070822912,
          0.28056212506876577,
          0.2548091018228279,
          0.24010917242739635,
          0.21435614918145865,
          0.18731356203083002,
          0.16156053878489218,
          0.1635783939541669,
          0.13782537070822912,
          -0.21419535321381264,
          -0.21419535321381264
         ],
         "z": [
          -0.37100000000000033,
          -0.024000000000000014,
          0.08839096405112017,
          0.1070000000000001,
          0.08499999999999998,
          0.26621713169180444,
          0.124,
          0.14200000000000007,
          0.13797783757978768,
          0.08295567515957529,
          0.026933512739362918,
          -0.37100000000000033,
          -0.32799999999999985,
          -0.11100000000000007,
          -0.32799999999999985,
          -0.11100000000000007,
          0.03000000000000002,
          0.1070000000000001,
          0.03000000000000002,
          -0.0020000000000000013,
          -0.11100000000000007,
          0.003572594854902065,
          0.003572594854902065,
          0,
          0,
          0.03473918397695766,
          0.03247862793735865,
          -0.04942613130022591,
          -0.32799999999999985,
          -0.32799999999999985,
          -0.32799999999999985,
          0,
          -0.031257622292552155,
          0.15000000000000008,
          -0.024000000000000014,
          0.08499999999999998,
          0.1070000000000001,
          0.08499999999999998,
          0.21000000000000002,
          0.124,
          0.11197783757978765,
          0.15000000000000008,
          0.1070000000000001,
          0.063,
          -0.37100000000000033,
          -0.32799999999999985,
          -0.11100000000000007,
          -0.32799999999999985,
          -0.11100000000000007,
          0.03000000000000002,
          0.1070000000000001,
          0.03000000000000002,
          -0.0020000000000000013,
          -0.11100000000000007,
          0.003572594854902065,
          0.003572594854902065,
          0,
          0,
          0.03473918397695766,
          0.03247862793735865,
          -0.04942613130022591,
          -0.32799999999999985,
          -0.32799999999999985,
          -0.32799999999999985,
          0,
          -0.031257622292552155,
          0.15000000000000008,
          -0.03000000000000002,
          -0.03000000000000002,
          -0.03000000000000002,
          -0.03000000000000002,
          -0.03000000000000002,
          -0.03000000000000002,
          -0.03000000000000002,
          -0.03000000000000002,
          0.1893519921842632,
          0.1893519921842632,
          0.063,
          0.063,
          0.063,
          0.063,
          0.050000000000000024,
          0.050000000000000024,
          0.037977837579787635,
          0.037977837579787635,
          0.050977837579787605,
          0.050977837579787605,
          0.124,
          -0.024000000000000014,
          -0.024000000000000014,
          -0.050000000000000024,
          -0.050000000000000024,
          0.07810856584590224,
          0.07810856584590224,
          0.12810856584590224,
          -0.056000000000000036,
          -0.056000000000000036,
          -0.05349918360156857,
          -0.05349918360156857,
          -0.05349918360156857,
          -0.05349918360156857,
          -0.06700000000000002,
          -0.06700000000000002,
          -0.013000000000000008,
          -0.013000000000000008,
          -0.010499183601568558,
          -0.010499183601568558,
          -0.010499183601568558,
          -0.010499183601568558,
          -0.024000000000000014,
          -0.024000000000000014,
          0.10000000000000005,
          0.10000000000000005
         ]
        }
       ],
       "layout": {
        "legend": {
         "tracegroupgap": 0
        },
        "margin": {
         "t": 60
        },
        "scene": {
         "domain": {
          "x": [
           0,
           1
          ],
          "y": [
           0,
           1
          ]
         },
         "xaxis": {
          "title": {
           "text": "x"
          }
         },
         "yaxis": {
          "title": {
           "text": "y"
          }
         },
         "zaxis": {
          "title": {
           "text": "z"
          }
         }
        },
        "template": {
         "data": {
          "bar": [
           {
            "error_x": {
             "color": "#2a3f5f"
            },
            "error_y": {
             "color": "#2a3f5f"
            },
            "marker": {
             "line": {
              "color": "#E5ECF6",
              "width": 0.5
             },
             "pattern": {
              "fillmode": "overlay",
              "size": 10,
              "solidity": 0.2
             }
            },
            "type": "bar"
           }
          ],
          "barpolar": [
           {
            "marker": {
             "line": {
              "color": "#E5ECF6",
              "width": 0.5
             },
             "pattern": {
              "fillmode": "overlay",
              "size": 10,
              "solidity": 0.2
             }
            },
            "type": "barpolar"
           }
          ],
          "carpet": [
           {
            "aaxis": {
             "endlinecolor": "#2a3f5f",
             "gridcolor": "white",
             "linecolor": "white",
             "minorgridcolor": "white",
             "startlinecolor": "#2a3f5f"
            },
            "baxis": {
             "endlinecolor": "#2a3f5f",
             "gridcolor": "white",
             "linecolor": "white",
             "minorgridcolor": "white",
             "startlinecolor": "#2a3f5f"
            },
            "type": "carpet"
           }
          ],
          "choropleth": [
           {
            "colorbar": {
             "outlinewidth": 0,
             "ticks": ""
            },
            "type": "choropleth"
           }
          ],
          "contour": [
           {
            "colorbar": {
             "outlinewidth": 0,
             "ticks": ""
            },
            "colorscale": [
             [
              0,
              "#0d0887"
             ],
             [
              0.1111111111111111,
              "#46039f"
             ],
             [
              0.2222222222222222,
              "#7201a8"
             ],
             [
              0.3333333333333333,
              "#9c179e"
             ],
             [
              0.4444444444444444,
              "#bd3786"
             ],
             [
              0.5555555555555556,
              "#d8576b"
             ],
             [
              0.6666666666666666,
              "#ed7953"
             ],
             [
              0.7777777777777778,
              "#fb9f3a"
             ],
             [
              0.8888888888888888,
              "#fdca26"
             ],
             [
              1,
              "#f0f921"
             ]
            ],
            "type": "contour"
           }
          ],
          "contourcarpet": [
           {
            "colorbar": {
             "outlinewidth": 0,
             "ticks": ""
            },
            "type": "contourcarpet"
           }
          ],
          "heatmap": [
           {
            "colorbar": {
             "outlinewidth": 0,
             "ticks": ""
            },
            "colorscale": [
             [
              0,
              "#0d0887"
             ],
             [
              0.1111111111111111,
              "#46039f"
             ],
             [
              0.2222222222222222,
              "#7201a8"
             ],
             [
              0.3333333333333333,
              "#9c179e"
             ],
             [
              0.4444444444444444,
              "#bd3786"
             ],
             [
              0.5555555555555556,
              "#d8576b"
             ],
             [
              0.6666666666666666,
              "#ed7953"
             ],
             [
              0.7777777777777778,
              "#fb9f3a"
             ],
             [
              0.8888888888888888,
              "#fdca26"
             ],
             [
              1,
              "#f0f921"
             ]
            ],
            "type": "heatmap"
           }
          ],
          "heatmapgl": [
           {
            "colorbar": {
             "outlinewidth": 0,
             "ticks": ""
            },
            "colorscale": [
             [
              0,
              "#0d0887"
             ],
             [
              0.1111111111111111,
              "#46039f"
             ],
             [
              0.2222222222222222,
              "#7201a8"
             ],
             [
              0.3333333333333333,
              "#9c179e"
             ],
             [
              0.4444444444444444,
              "#bd3786"
             ],
             [
              0.5555555555555556,
              "#d8576b"
             ],
             [
              0.6666666666666666,
              "#ed7953"
             ],
             [
              0.7777777777777778,
              "#fb9f3a"
             ],
             [
              0.8888888888888888,
              "#fdca26"
             ],
             [
              1,
              "#f0f921"
             ]
            ],
            "type": "heatmapgl"
           }
          ],
          "histogram": [
           {
            "marker": {
             "pattern": {
              "fillmode": "overlay",
              "size": 10,
              "solidity": 0.2
             }
            },
            "type": "histogram"
           }
          ],
          "histogram2d": [
           {
            "colorbar": {
             "outlinewidth": 0,
             "ticks": ""
            },
            "colorscale": [
             [
              0,
              "#0d0887"
             ],
             [
              0.1111111111111111,
              "#46039f"
             ],
             [
              0.2222222222222222,
              "#7201a8"
             ],
             [
              0.3333333333333333,
              "#9c179e"
             ],
             [
              0.4444444444444444,
              "#bd3786"
             ],
             [
              0.5555555555555556,
              "#d8576b"
             ],
             [
              0.6666666666666666,
              "#ed7953"
             ],
             [
              0.7777777777777778,
              "#fb9f3a"
             ],
             [
              0.8888888888888888,
              "#fdca26"
             ],
             [
              1,
              "#f0f921"
             ]
            ],
            "type": "histogram2d"
           }
          ],
          "histogram2dcontour": [
           {
            "colorbar": {
             "outlinewidth": 0,
             "ticks": ""
            },
            "colorscale": [
             [
              0,
              "#0d0887"
             ],
             [
              0.1111111111111111,
              "#46039f"
             ],
             [
              0.2222222222222222,
              "#7201a8"
             ],
             [
              0.3333333333333333,
              "#9c179e"
             ],
             [
              0.4444444444444444,
              "#bd3786"
             ],
             [
              0.5555555555555556,
              "#d8576b"
             ],
             [
              0.6666666666666666,
              "#ed7953"
             ],
             [
              0.7777777777777778,
              "#fb9f3a"
             ],
             [
              0.8888888888888888,
              "#fdca26"
             ],
             [
              1,
              "#f0f921"
             ]
            ],
            "type": "histogram2dcontour"
           }
          ],
          "mesh3d": [
           {
            "colorbar": {
             "outlinewidth": 0,
             "ticks": ""
            },
            "type": "mesh3d"
           }
          ],
          "parcoords": [
           {
            "line": {
             "colorbar": {
              "outlinewidth": 0,
              "ticks": ""
             }
            },
            "type": "parcoords"
           }
          ],
          "pie": [
           {
            "automargin": true,
            "type": "pie"
           }
          ],
          "scatter": [
           {
            "fillpattern": {
             "fillmode": "overlay",
             "size": 10,
             "solidity": 0.2
            },
            "type": "scatter"
           }
          ],
          "scatter3d": [
           {
            "line": {
             "colorbar": {
              "outlinewidth": 0,
              "ticks": ""
             }
            },
            "marker": {
             "colorbar": {
              "outlinewidth": 0,
              "ticks": ""
             }
            },
            "type": "scatter3d"
           }
          ],
          "scattercarpet": [
           {
            "marker": {
             "colorbar": {
              "outlinewidth": 0,
              "ticks": ""
             }
            },
            "type": "scattercarpet"
           }
          ],
          "scattergeo": [
           {
            "marker": {
             "colorbar": {
              "outlinewidth": 0,
              "ticks": ""
             }
            },
            "type": "scattergeo"
           }
          ],
          "scattergl": [
           {
            "marker": {
             "colorbar": {
              "outlinewidth": 0,
              "ticks": ""
             }
            },
            "type": "scattergl"
           }
          ],
          "scattermapbox": [
           {
            "marker": {
             "colorbar": {
              "outlinewidth": 0,
              "ticks": ""
             }
            },
            "type": "scattermapbox"
           }
          ],
          "scatterpolar": [
           {
            "marker": {
             "colorbar": {
              "outlinewidth": 0,
              "ticks": ""
             }
            },
            "type": "scatterpolar"
           }
          ],
          "scatterpolargl": [
           {
            "marker": {
             "colorbar": {
              "outlinewidth": 0,
              "ticks": ""
             }
            },
            "type": "scatterpolargl"
           }
          ],
          "scatterternary": [
           {
            "marker": {
             "colorbar": {
              "outlinewidth": 0,
              "ticks": ""
             }
            },
            "type": "scatterternary"
           }
          ],
          "surface": [
           {
            "colorbar": {
             "outlinewidth": 0,
             "ticks": ""
            },
            "colorscale": [
             [
              0,
              "#0d0887"
             ],
             [
              0.1111111111111111,
              "#46039f"
             ],
             [
              0.2222222222222222,
              "#7201a8"
             ],
             [
              0.3333333333333333,
              "#9c179e"
             ],
             [
              0.4444444444444444,
              "#bd3786"
             ],
             [
              0.5555555555555556,
              "#d8576b"
             ],
             [
              0.6666666666666666,
              "#ed7953"
             ],
             [
              0.7777777777777778,
              "#fb9f3a"
             ],
             [
              0.8888888888888888,
              "#fdca26"
             ],
             [
              1,
              "#f0f921"
             ]
            ],
            "type": "surface"
           }
          ],
          "table": [
           {
            "cells": {
             "fill": {
              "color": "#EBF0F8"
             },
             "line": {
              "color": "white"
             }
            },
            "header": {
             "fill": {
              "color": "#C8D4E3"
             },
             "line": {
              "color": "white"
             }
            },
            "type": "table"
           }
          ]
         },
         "layout": {
          "annotationdefaults": {
           "arrowcolor": "#2a3f5f",
           "arrowhead": 0,
           "arrowwidth": 1
          },
          "autotypenumbers": "strict",
          "coloraxis": {
           "colorbar": {
            "outlinewidth": 0,
            "ticks": ""
           }
          },
          "colorscale": {
           "diverging": [
            [
             0,
             "#8e0152"
            ],
            [
             0.1,
             "#c51b7d"
            ],
            [
             0.2,
             "#de77ae"
            ],
            [
             0.3,
             "#f1b6da"
            ],
            [
             0.4,
             "#fde0ef"
            ],
            [
             0.5,
             "#f7f7f7"
            ],
            [
             0.6,
             "#e6f5d0"
            ],
            [
             0.7,
             "#b8e186"
            ],
            [
             0.8,
             "#7fbc41"
            ],
            [
             0.9,
             "#4d9221"
            ],
            [
             1,
             "#276419"
            ]
           ],
           "sequential": [
            [
             0,
             "#0d0887"
            ],
            [
             0.1111111111111111,
             "#46039f"
            ],
            [
             0.2222222222222222,
             "#7201a8"
            ],
            [
             0.3333333333333333,
             "#9c179e"
            ],
            [
             0.4444444444444444,
             "#bd3786"
            ],
            [
             0.5555555555555556,
             "#d8576b"
            ],
            [
             0.6666666666666666,
             "#ed7953"
            ],
            [
             0.7777777777777778,
             "#fb9f3a"
            ],
            [
             0.8888888888888888,
             "#fdca26"
            ],
            [
             1,
             "#f0f921"
            ]
           ],
           "sequentialminus": [
            [
             0,
             "#0d0887"
            ],
            [
             0.1111111111111111,
             "#46039f"
            ],
            [
             0.2222222222222222,
             "#7201a8"
            ],
            [
             0.3333333333333333,
             "#9c179e"
            ],
            [
             0.4444444444444444,
             "#bd3786"
            ],
            [
             0.5555555555555556,
             "#d8576b"
            ],
            [
             0.6666666666666666,
             "#ed7953"
            ],
            [
             0.7777777777777778,
             "#fb9f3a"
            ],
            [
             0.8888888888888888,
             "#fdca26"
            ],
            [
             1,
             "#f0f921"
            ]
           ]
          },
          "colorway": [
           "#636efa",
           "#EF553B",
           "#00cc96",
           "#ab63fa",
           "#FFA15A",
           "#19d3f3",
           "#FF6692",
           "#B6E880",
           "#FF97FF",
           "#FECB52"
          ],
          "font": {
           "color": "#2a3f5f"
          },
          "geo": {
           "bgcolor": "white",
           "lakecolor": "white",
           "landcolor": "#E5ECF6",
           "showlakes": true,
           "showland": true,
           "subunitcolor": "white"
          },
          "hoverlabel": {
           "align": "left"
          },
          "hovermode": "closest",
          "mapbox": {
           "style": "light"
          },
          "paper_bgcolor": "white",
          "plot_bgcolor": "#E5ECF6",
          "polar": {
           "angularaxis": {
            "gridcolor": "white",
            "linecolor": "white",
            "ticks": ""
           },
           "bgcolor": "#E5ECF6",
           "radialaxis": {
            "gridcolor": "white",
            "linecolor": "white",
            "ticks": ""
           }
          },
          "scene": {
           "xaxis": {
            "backgroundcolor": "#E5ECF6",
            "gridcolor": "white",
            "gridwidth": 2,
            "linecolor": "white",
            "showbackground": true,
            "ticks": "",
            "zerolinecolor": "white"
           },
           "yaxis": {
            "backgroundcolor": "#E5ECF6",
            "gridcolor": "white",
            "gridwidth": 2,
            "linecolor": "white",
            "showbackground": true,
            "ticks": "",
            "zerolinecolor": "white"
           },
           "zaxis": {
            "backgroundcolor": "#E5ECF6",
            "gridcolor": "white",
            "gridwidth": 2,
            "linecolor": "white",
            "showbackground": true,
            "ticks": "",
            "zerolinecolor": "white"
           }
          },
          "shapedefaults": {
           "line": {
            "color": "#2a3f5f"
           }
          },
          "ternary": {
           "aaxis": {
            "gridcolor": "white",
            "linecolor": "white",
            "ticks": ""
           },
           "baxis": {
            "gridcolor": "white",
            "linecolor": "white",
            "ticks": ""
           },
           "bgcolor": "#E5ECF6",
           "caxis": {
            "gridcolor": "white",
            "linecolor": "white",
            "ticks": ""
           }
          },
          "title": {
           "x": 0.05
          },
          "xaxis": {
           "automargin": true,
           "gridcolor": "white",
           "linecolor": "white",
           "ticks": "",
           "title": {
            "standoff": 15
           },
           "zerolinecolor": "white",
           "zerolinewidth": 2
          },
          "yaxis": {
           "automargin": true,
           "gridcolor": "white",
           "linecolor": "white",
           "ticks": "",
           "title": {
            "standoff": 15
           },
           "zerolinecolor": "white",
           "zerolinewidth": 2
          }
         }
        }
       }
      }
     },
     "metadata": {},
     "output_type": "display_data"
    },
    {
     "data": {
      "application/vnd.plotly.v1+json": {
       "config": {
        "plotlyServerURL": "https://plot.ly"
       },
       "data": [
        {
         "hovertemplate": "x=%{x}<br>y=%{y}<br>z=%{z}<extra></extra>",
         "legendgroup": "",
         "marker": {
          "color": "#636efa",
          "opacity": 0.3,
          "symbol": "circle"
         },
         "mode": "markers",
         "name": "",
         "scene": "scene",
         "showlegend": false,
         "type": "scatter3d",
         "x": [
          -2.5768205418338864e-17,
          0.174,
          -1.4593592236613196e-17,
          2.4536348112521664e-17,
          -6.040169325998959e-17,
          -4.9990934943701e-17,
          -8.230278694818707e-17,
          -3.354914405714589e-17,
          -4.762709445414851e-18,
          6.550874641767047e-17,
          3.904276350522308e-17,
          0.2169999999999999,
          0.4570000000000004,
          0.43500000000000005,
          0.6099999999999997,
          0.5219999999999998,
          0.391,
          0.1299999999999999,
          0.39099999999999996,
          0.2820212590783846,
          0.4611685890785451,
          0.2820212590783846,
          0.2820212590783846,
          0.09487392907822376,
          0.2820212590783846,
          0.10900000000000001,
          0.17400000000000013,
          0.38700000000000034,
          0.5500000000000004,
          0.6090000000000005,
          0.5420060886572967,
          0.25668379761744375,
          0.17400000000000013,
          0.042999999999999976,
          -0.17400000000000013,
          -1.296240124339391e-32,
          -1.0656146872516743e-32,
          5.506581378725412e-33,
          -2.0448695225196585e-33,
          0,
          0,
          0,
          0,
          0,
          -0.21699999999999992,
          -0.4570000000000004,
          -0.43500000000000005,
          -0.6099999999999997,
          -0.5219999999999998,
          -0.391,
          -0.12999999999999992,
          -0.391,
          -0.2820212590783846,
          -0.4611685890785451,
          -0.2820212590783846,
          -0.2820212590783846,
          -0.09487392907822376,
          -0.2820212590783846,
          -0.10900000000000001,
          -0.17400000000000013,
          -0.38700000000000034,
          -0.5500000000000004,
          -0.6090000000000005,
          -0.5420060886572967,
          -0.25668379761744375,
          -0.17400000000000013,
          -0.042999999999999976,
          0.32602125907838464,
          0.32602125907838464,
          -0.32602125907838464,
          -0.32602125907838464,
          0.2430212590783845,
          0.2430212590783845,
          -0.2430212590783845,
          -0.2430212590783845,
          0.08000000000000004,
          -0.08000000000000004,
          0.022000000000000013,
          -0.022000000000000013,
          0.12834189880872188,
          -0.12834189880872188,
          0.10534189880872187,
          -0.10534189880872187,
          0.10534189880872187,
          -0.10534189880872187,
          0.12834189880872188,
          -0.12834189880872188,
          0,
          0.24768858001803729,
          -0.24768858001803729,
          0.3623418988087217,
          -0.3623418988087217,
          0.06499999999999996,
          -0.06499999999999996,
          0,
          0.37159492407846495,
          -0.37159492407846495,
          0.37159492407846495,
          -0.37159492407846495,
          0.37159492407846495,
          -0.37159492407846495,
          0.37159492407846495,
          -0.37159492407846495,
          0.18844759407830414,
          -0.18844759407830414,
          0.18844759407830414,
          -0.18844759407830414,
          0.18844759407830414,
          -0.18844759407830414,
          0.18844759407830414,
          -0.18844759407830414,
          0.12000000000000008,
          -0.12000000000000008
         ],
         "y": [
          1.1536624004347034,
          0.892662400434704,
          0.4882562382959478,
          0.33661822107613304,
          0.29698981015313414,
          -0.06119055545337514,
          -0.18101018984686584,
          -0.4591467323431853,
          -0.6201998581110799,
          -0.6851998581110795,
          -0.9568732795412915,
          1.1316624004347038,
          1.0016624004347034,
          0.7186624004347039,
          0.6316624004347038,
          0.39913402387287145,
          0.38823242140602743,
          0.29223242140602745,
          0.33623242140602716,
          0.10646211246734719,
          -0.011225724070443033,
          0.07479767709115803,
          -0.0505435372549045,
          -0.011225724070443033,
          -0.08576504168744284,
          -0.04763860076986473,
          -0.13463860076986467,
          -0.10000000000000005,
          -0.25,
          0.14799999999999994,
          -0.6463312002173519,
          -0.5031467323431855,
          -0.9178773661388221,
          -0.4381467323431857,
          0.892662400434704,
          0.5390000000000003,
          0.2780000000000003,
          0.213,
          -0.22200000000000014,
          -0.265,
          -0.5551998581110796,
          -0.5259999999999999,
          -0.5910000000000001,
          -0.852,
          1.1316624004347038,
          1.0016624004347034,
          0.7186624004347039,
          0.6316624004347038,
          0.5608376213922107,
          0.38823242140602743,
          0.29223242140602745,
          0.33623242140602716,
          0.2025112482866115,
          0.08482341174882137,
          0.17084681291042236,
          0.04550559856435987,
          0.08482341174882134,
          0.010284094131821547,
          -0.04763860076986473,
          -0.13463860076986467,
          -0.10000000000000005,
          -0.25,
          0.14799999999999994,
          -0.6463312002173519,
          -0.5031467323431855,
          -0.9178773661388221,
          -0.4381467323431857,
          0.04077427592955701,
          -0.03915117283502277,
          0.13682341174882134,
          0.0568979629842416,
          0.04077427592955701,
          -0.03915117283502277,
          0.13682341174882134,
          0.0568979629842416,
          -0.10993431715742752,
          -0.10993431715742752,
          0.29698981015313414,
          0.29698981015313414,
          -0.4521467323431855,
          -0.4521467323431855,
          -0.5031467323431855,
          -0.5031467323431855,
          -0.5431875983184887,
          -0.5431875983184887,
          -0.5901875983184888,
          -0.5901875983184888,
          -0.5031467323431855,
          -0.5071508189407159,
          -0.5071508189407159,
          -0.5031467323431855,
          -0.5031467323431855,
          0.11198981015313411,
          0.11198981015313411,
          0.15198981015313412,
          0.0702557615060102,
          0.16630489732527448,
          0.04804044984958625,
          0.14408958566885066,
          -0.039659758315146815,
          0.05638937750411757,
          -0.06055869072610576,
          0.035490445093158615,
          0.0702557615060102,
          0.16630489732527448,
          0.04804044984958625,
          0.14408958566885066,
          -0.039659758315146815,
          0.05638937750411757,
          -0.06055869072610576,
          0.035490445093158615,
          -0.18101018984686584,
          -0.18101018984686584
         ],
         "z": [
          -0.37100000000000033,
          -0.024000000000000014,
          0.09261124330308028,
          0.1070000000000001,
          0.08499999999999998,
          0.2592827513645581,
          0.124,
          0.14200000000000007,
          0.13998978350617422,
          0.08697956701234838,
          0.03296935051852254,
          -0.37100000000000033,
          -0.32799999999999985,
          -0.11100000000000007,
          -0.32799999999999985,
          -0.11100000000000007,
          0.03000000000000002,
          0.1070000000000001,
          0.03000000000000002,
          -0.0020000000000000013,
          -0.11100000000000007,
          -0.001561206918178383,
          -0.001561206918178383,
          0,
          0,
          0.03192544876457974,
          0.026851481079209566,
          0.019809259948074746,
          -0.32799999999999985,
          -0.32799999999999985,
          -0.32799999999999985,
          0,
          -0.02602656288394716,
          0.15000000000000008,
          -0.024000000000000014,
          0.08499999999999998,
          0.1070000000000001,
          0.08499999999999998,
          0.21000000000000002,
          0.124,
          0.1139897835061742,
          0.15000000000000008,
          0.1070000000000001,
          0.063,
          -0.37100000000000033,
          -0.32799999999999985,
          -0.11100000000000007,
          -0.32799999999999985,
          -0.11100000000000007,
          0.03000000000000002,
          0.1070000000000001,
          0.03000000000000002,
          -0.0020000000000000013,
          -0.11100000000000007,
          -0.001561206918178383,
          -0.001561206918178383,
          0,
          0,
          0.03192544876457974,
          0.026851481079209566,
          0.019809259948074746,
          -0.32799999999999985,
          -0.32799999999999985,
          -0.32799999999999985,
          0,
          -0.02602656288394716,
          0.15000000000000008,
          -0.03000000000000002,
          -0.03000000000000002,
          -0.03000000000000002,
          -0.03000000000000002,
          -0.03000000000000002,
          -0.03000000000000002,
          -0.03000000000000002,
          -0.03000000000000002,
          0.18449792595519074,
          0.18449792595519074,
          0.063,
          0.063,
          0.063,
          0.063,
          0.050000000000000024,
          0.050000000000000024,
          0.03998978350617419,
          0.03998978350617419,
          0.05298978350617414,
          0.05298978350617414,
          0.124,
          -0.024000000000000014,
          -0.024000000000000014,
          -0.050000000000000024,
          -0.050000000000000024,
          0.07464137568227908,
          0.07464137568227908,
          0.12464137568227905,
          -0.056000000000000036,
          -0.056000000000000036,
          -0.05709284484272488,
          -0.05709284484272488,
          -0.05709284484272488,
          -0.05709284484272488,
          -0.06700000000000002,
          -0.06700000000000002,
          -0.013000000000000008,
          -0.013000000000000008,
          -0.01409284484272487,
          -0.01409284484272487,
          -0.01409284484272487,
          -0.01409284484272487,
          -0.024000000000000014,
          -0.024000000000000014,
          0.10000000000000005,
          0.10000000000000005
         ]
        }
       ],
       "layout": {
        "legend": {
         "tracegroupgap": 0
        },
        "margin": {
         "t": 60
        },
        "scene": {
         "domain": {
          "x": [
           0,
           1
          ],
          "y": [
           0,
           1
          ]
         },
         "xaxis": {
          "title": {
           "text": "x"
          }
         },
         "yaxis": {
          "title": {
           "text": "y"
          }
         },
         "zaxis": {
          "title": {
           "text": "z"
          }
         }
        },
        "template": {
         "data": {
          "bar": [
           {
            "error_x": {
             "color": "#2a3f5f"
            },
            "error_y": {
             "color": "#2a3f5f"
            },
            "marker": {
             "line": {
              "color": "#E5ECF6",
              "width": 0.5
             },
             "pattern": {
              "fillmode": "overlay",
              "size": 10,
              "solidity": 0.2
             }
            },
            "type": "bar"
           }
          ],
          "barpolar": [
           {
            "marker": {
             "line": {
              "color": "#E5ECF6",
              "width": 0.5
             },
             "pattern": {
              "fillmode": "overlay",
              "size": 10,
              "solidity": 0.2
             }
            },
            "type": "barpolar"
           }
          ],
          "carpet": [
           {
            "aaxis": {
             "endlinecolor": "#2a3f5f",
             "gridcolor": "white",
             "linecolor": "white",
             "minorgridcolor": "white",
             "startlinecolor": "#2a3f5f"
            },
            "baxis": {
             "endlinecolor": "#2a3f5f",
             "gridcolor": "white",
             "linecolor": "white",
             "minorgridcolor": "white",
             "startlinecolor": "#2a3f5f"
            },
            "type": "carpet"
           }
          ],
          "choropleth": [
           {
            "colorbar": {
             "outlinewidth": 0,
             "ticks": ""
            },
            "type": "choropleth"
           }
          ],
          "contour": [
           {
            "colorbar": {
             "outlinewidth": 0,
             "ticks": ""
            },
            "colorscale": [
             [
              0,
              "#0d0887"
             ],
             [
              0.1111111111111111,
              "#46039f"
             ],
             [
              0.2222222222222222,
              "#7201a8"
             ],
             [
              0.3333333333333333,
              "#9c179e"
             ],
             [
              0.4444444444444444,
              "#bd3786"
             ],
             [
              0.5555555555555556,
              "#d8576b"
             ],
             [
              0.6666666666666666,
              "#ed7953"
             ],
             [
              0.7777777777777778,
              "#fb9f3a"
             ],
             [
              0.8888888888888888,
              "#fdca26"
             ],
             [
              1,
              "#f0f921"
             ]
            ],
            "type": "contour"
           }
          ],
          "contourcarpet": [
           {
            "colorbar": {
             "outlinewidth": 0,
             "ticks": ""
            },
            "type": "contourcarpet"
           }
          ],
          "heatmap": [
           {
            "colorbar": {
             "outlinewidth": 0,
             "ticks": ""
            },
            "colorscale": [
             [
              0,
              "#0d0887"
             ],
             [
              0.1111111111111111,
              "#46039f"
             ],
             [
              0.2222222222222222,
              "#7201a8"
             ],
             [
              0.3333333333333333,
              "#9c179e"
             ],
             [
              0.4444444444444444,
              "#bd3786"
             ],
             [
              0.5555555555555556,
              "#d8576b"
             ],
             [
              0.6666666666666666,
              "#ed7953"
             ],
             [
              0.7777777777777778,
              "#fb9f3a"
             ],
             [
              0.8888888888888888,
              "#fdca26"
             ],
             [
              1,
              "#f0f921"
             ]
            ],
            "type": "heatmap"
           }
          ],
          "heatmapgl": [
           {
            "colorbar": {
             "outlinewidth": 0,
             "ticks": ""
            },
            "colorscale": [
             [
              0,
              "#0d0887"
             ],
             [
              0.1111111111111111,
              "#46039f"
             ],
             [
              0.2222222222222222,
              "#7201a8"
             ],
             [
              0.3333333333333333,
              "#9c179e"
             ],
             [
              0.4444444444444444,
              "#bd3786"
             ],
             [
              0.5555555555555556,
              "#d8576b"
             ],
             [
              0.6666666666666666,
              "#ed7953"
             ],
             [
              0.7777777777777778,
              "#fb9f3a"
             ],
             [
              0.8888888888888888,
              "#fdca26"
             ],
             [
              1,
              "#f0f921"
             ]
            ],
            "type": "heatmapgl"
           }
          ],
          "histogram": [
           {
            "marker": {
             "pattern": {
              "fillmode": "overlay",
              "size": 10,
              "solidity": 0.2
             }
            },
            "type": "histogram"
           }
          ],
          "histogram2d": [
           {
            "colorbar": {
             "outlinewidth": 0,
             "ticks": ""
            },
            "colorscale": [
             [
              0,
              "#0d0887"
             ],
             [
              0.1111111111111111,
              "#46039f"
             ],
             [
              0.2222222222222222,
              "#7201a8"
             ],
             [
              0.3333333333333333,
              "#9c179e"
             ],
             [
              0.4444444444444444,
              "#bd3786"
             ],
             [
              0.5555555555555556,
              "#d8576b"
             ],
             [
              0.6666666666666666,
              "#ed7953"
             ],
             [
              0.7777777777777778,
              "#fb9f3a"
             ],
             [
              0.8888888888888888,
              "#fdca26"
             ],
             [
              1,
              "#f0f921"
             ]
            ],
            "type": "histogram2d"
           }
          ],
          "histogram2dcontour": [
           {
            "colorbar": {
             "outlinewidth": 0,
             "ticks": ""
            },
            "colorscale": [
             [
              0,
              "#0d0887"
             ],
             [
              0.1111111111111111,
              "#46039f"
             ],
             [
              0.2222222222222222,
              "#7201a8"
             ],
             [
              0.3333333333333333,
              "#9c179e"
             ],
             [
              0.4444444444444444,
              "#bd3786"
             ],
             [
              0.5555555555555556,
              "#d8576b"
             ],
             [
              0.6666666666666666,
              "#ed7953"
             ],
             [
              0.7777777777777778,
              "#fb9f3a"
             ],
             [
              0.8888888888888888,
              "#fdca26"
             ],
             [
              1,
              "#f0f921"
             ]
            ],
            "type": "histogram2dcontour"
           }
          ],
          "mesh3d": [
           {
            "colorbar": {
             "outlinewidth": 0,
             "ticks": ""
            },
            "type": "mesh3d"
           }
          ],
          "parcoords": [
           {
            "line": {
             "colorbar": {
              "outlinewidth": 0,
              "ticks": ""
             }
            },
            "type": "parcoords"
           }
          ],
          "pie": [
           {
            "automargin": true,
            "type": "pie"
           }
          ],
          "scatter": [
           {
            "fillpattern": {
             "fillmode": "overlay",
             "size": 10,
             "solidity": 0.2
            },
            "type": "scatter"
           }
          ],
          "scatter3d": [
           {
            "line": {
             "colorbar": {
              "outlinewidth": 0,
              "ticks": ""
             }
            },
            "marker": {
             "colorbar": {
              "outlinewidth": 0,
              "ticks": ""
             }
            },
            "type": "scatter3d"
           }
          ],
          "scattercarpet": [
           {
            "marker": {
             "colorbar": {
              "outlinewidth": 0,
              "ticks": ""
             }
            },
            "type": "scattercarpet"
           }
          ],
          "scattergeo": [
           {
            "marker": {
             "colorbar": {
              "outlinewidth": 0,
              "ticks": ""
             }
            },
            "type": "scattergeo"
           }
          ],
          "scattergl": [
           {
            "marker": {
             "colorbar": {
              "outlinewidth": 0,
              "ticks": ""
             }
            },
            "type": "scattergl"
           }
          ],
          "scattermapbox": [
           {
            "marker": {
             "colorbar": {
              "outlinewidth": 0,
              "ticks": ""
             }
            },
            "type": "scattermapbox"
           }
          ],
          "scatterpolar": [
           {
            "marker": {
             "colorbar": {
              "outlinewidth": 0,
              "ticks": ""
             }
            },
            "type": "scatterpolar"
           }
          ],
          "scatterpolargl": [
           {
            "marker": {
             "colorbar": {
              "outlinewidth": 0,
              "ticks": ""
             }
            },
            "type": "scatterpolargl"
           }
          ],
          "scatterternary": [
           {
            "marker": {
             "colorbar": {
              "outlinewidth": 0,
              "ticks": ""
             }
            },
            "type": "scatterternary"
           }
          ],
          "surface": [
           {
            "colorbar": {
             "outlinewidth": 0,
             "ticks": ""
            },
            "colorscale": [
             [
              0,
              "#0d0887"
             ],
             [
              0.1111111111111111,
              "#46039f"
             ],
             [
              0.2222222222222222,
              "#7201a8"
             ],
             [
              0.3333333333333333,
              "#9c179e"
             ],
             [
              0.4444444444444444,
              "#bd3786"
             ],
             [
              0.5555555555555556,
              "#d8576b"
             ],
             [
              0.6666666666666666,
              "#ed7953"
             ],
             [
              0.7777777777777778,
              "#fb9f3a"
             ],
             [
              0.8888888888888888,
              "#fdca26"
             ],
             [
              1,
              "#f0f921"
             ]
            ],
            "type": "surface"
           }
          ],
          "table": [
           {
            "cells": {
             "fill": {
              "color": "#EBF0F8"
             },
             "line": {
              "color": "white"
             }
            },
            "header": {
             "fill": {
              "color": "#C8D4E3"
             },
             "line": {
              "color": "white"
             }
            },
            "type": "table"
           }
          ]
         },
         "layout": {
          "annotationdefaults": {
           "arrowcolor": "#2a3f5f",
           "arrowhead": 0,
           "arrowwidth": 1
          },
          "autotypenumbers": "strict",
          "coloraxis": {
           "colorbar": {
            "outlinewidth": 0,
            "ticks": ""
           }
          },
          "colorscale": {
           "diverging": [
            [
             0,
             "#8e0152"
            ],
            [
             0.1,
             "#c51b7d"
            ],
            [
             0.2,
             "#de77ae"
            ],
            [
             0.3,
             "#f1b6da"
            ],
            [
             0.4,
             "#fde0ef"
            ],
            [
             0.5,
             "#f7f7f7"
            ],
            [
             0.6,
             "#e6f5d0"
            ],
            [
             0.7,
             "#b8e186"
            ],
            [
             0.8,
             "#7fbc41"
            ],
            [
             0.9,
             "#4d9221"
            ],
            [
             1,
             "#276419"
            ]
           ],
           "sequential": [
            [
             0,
             "#0d0887"
            ],
            [
             0.1111111111111111,
             "#46039f"
            ],
            [
             0.2222222222222222,
             "#7201a8"
            ],
            [
             0.3333333333333333,
             "#9c179e"
            ],
            [
             0.4444444444444444,
             "#bd3786"
            ],
            [
             0.5555555555555556,
             "#d8576b"
            ],
            [
             0.6666666666666666,
             "#ed7953"
            ],
            [
             0.7777777777777778,
             "#fb9f3a"
            ],
            [
             0.8888888888888888,
             "#fdca26"
            ],
            [
             1,
             "#f0f921"
            ]
           ],
           "sequentialminus": [
            [
             0,
             "#0d0887"
            ],
            [
             0.1111111111111111,
             "#46039f"
            ],
            [
             0.2222222222222222,
             "#7201a8"
            ],
            [
             0.3333333333333333,
             "#9c179e"
            ],
            [
             0.4444444444444444,
             "#bd3786"
            ],
            [
             0.5555555555555556,
             "#d8576b"
            ],
            [
             0.6666666666666666,
             "#ed7953"
            ],
            [
             0.7777777777777778,
             "#fb9f3a"
            ],
            [
             0.8888888888888888,
             "#fdca26"
            ],
            [
             1,
             "#f0f921"
            ]
           ]
          },
          "colorway": [
           "#636efa",
           "#EF553B",
           "#00cc96",
           "#ab63fa",
           "#FFA15A",
           "#19d3f3",
           "#FF6692",
           "#B6E880",
           "#FF97FF",
           "#FECB52"
          ],
          "font": {
           "color": "#2a3f5f"
          },
          "geo": {
           "bgcolor": "white",
           "lakecolor": "white",
           "landcolor": "#E5ECF6",
           "showlakes": true,
           "showland": true,
           "subunitcolor": "white"
          },
          "hoverlabel": {
           "align": "left"
          },
          "hovermode": "closest",
          "mapbox": {
           "style": "light"
          },
          "paper_bgcolor": "white",
          "plot_bgcolor": "#E5ECF6",
          "polar": {
           "angularaxis": {
            "gridcolor": "white",
            "linecolor": "white",
            "ticks": ""
           },
           "bgcolor": "#E5ECF6",
           "radialaxis": {
            "gridcolor": "white",
            "linecolor": "white",
            "ticks": ""
           }
          },
          "scene": {
           "xaxis": {
            "backgroundcolor": "#E5ECF6",
            "gridcolor": "white",
            "gridwidth": 2,
            "linecolor": "white",
            "showbackground": true,
            "ticks": "",
            "zerolinecolor": "white"
           },
           "yaxis": {
            "backgroundcolor": "#E5ECF6",
            "gridcolor": "white",
            "gridwidth": 2,
            "linecolor": "white",
            "showbackground": true,
            "ticks": "",
            "zerolinecolor": "white"
           },
           "zaxis": {
            "backgroundcolor": "#E5ECF6",
            "gridcolor": "white",
            "gridwidth": 2,
            "linecolor": "white",
            "showbackground": true,
            "ticks": "",
            "zerolinecolor": "white"
           }
          },
          "shapedefaults": {
           "line": {
            "color": "#2a3f5f"
           }
          },
          "ternary": {
           "aaxis": {
            "gridcolor": "white",
            "linecolor": "white",
            "ticks": ""
           },
           "baxis": {
            "gridcolor": "white",
            "linecolor": "white",
            "ticks": ""
           },
           "bgcolor": "#E5ECF6",
           "caxis": {
            "gridcolor": "white",
            "linecolor": "white",
            "ticks": ""
           }
          },
          "title": {
           "x": 0.05
          },
          "xaxis": {
           "automargin": true,
           "gridcolor": "white",
           "linecolor": "white",
           "ticks": "",
           "title": {
            "standoff": 15
           },
           "zerolinecolor": "white",
           "zerolinewidth": 2
          },
          "yaxis": {
           "automargin": true,
           "gridcolor": "white",
           "linecolor": "white",
           "ticks": "",
           "title": {
            "standoff": 15
           },
           "zerolinecolor": "white",
           "zerolinewidth": 2
          }
         }
        }
       }
      }
     },
     "metadata": {},
     "output_type": "display_data"
    }
   ],
   "source": [
    "import matplotlib.pyplot as plt\n",
    "from mpl_toolkits.mplot3d import Axes3D\n",
    "import plotly.express as px\n",
    "\n",
    "def plot_face(face_points, title=\"Face\"):\n",
    "  # fig = plt.figure()\n",
    "  # ax = fig.add_subplot(111, projection='3d')\n",
    "  # ax.scatter(face_points[:113], face_points[113:226], face_points[226:])\n",
    "  # plt.title(title)\n",
    "  # plt.show()\n",
    "\n",
    "  x = face_points[:113]\n",
    "  y = face_points[113:226]\n",
    "  z = face_points[226:]\n",
    "  fig = px.scatter_3d(x=x, y=y, z=z, opacity=0.3)\n",
    "  fig.show()\n",
    "\n",
    "plot_face(mean_face, title=\"Mean Face\")\n",
    "for i in range(3):\n",
    "  plot_face(mean_face + principal_components[:, i], title=f\"PC {i+1}\")\n"
   ]
  },
  {
   "cell_type": "markdown",
   "metadata": {},
   "source": [
    "# Task 4c"
   ]
  },
  {
   "cell_type": "markdown",
   "metadata": {},
   "source": [
    "### Create New Faces\n"
   ]
  },
  {
   "cell_type": "code",
   "execution_count": 6,
   "metadata": {},
   "outputs": [
    {
     "name": "stdout",
     "output_type": "stream",
     "text": [
      "(339,)\n",
      "(339,)\n",
      "(339,)\n",
      "3\n"
     ]
    }
   ],
   "source": [
    "def generate_faces(generated_faces, M):\n",
    "  alphas = np.random.randn(M)\n",
    "  new_face = mean_face + sum(alpha_k * principal_components[:, k] for k, alpha_k in enumerate(alphas[:M]))\n",
    "  print(new_face.shape)\n",
    "  generated_faces.append(new_face)\n",
    "\n",
    "generated_faces = []\n",
    "nr_of_faces = 3\n",
    "nr_of_components = 5\n",
    "\n",
    "for i in range(nr_of_faces):\n",
    "  generate_faces(generated_faces, nr_of_components)\n",
    "\n",
    "print(len(generated_faces))\n"
   ]
  },
  {
   "cell_type": "markdown",
   "metadata": {},
   "source": [
    "# Task 4d\n"
   ]
  },
  {
   "cell_type": "code",
   "execution_count": 7,
   "metadata": {},
   "outputs": [
    {
     "name": "stdout",
     "output_type": "stream",
     "text": [
      "(339,)\n",
      "Error: 0.7081445818786999\n"
     ]
    },
    {
     "data": {
      "application/vnd.plotly.v1+json": {
       "config": {
        "plotlyServerURL": "https://plot.ly"
       },
       "data": [
        {
         "hovertemplate": "x=%{x}<br>y=%{y}<br>z=%{z}<extra></extra>",
         "legendgroup": "",
         "marker": {
          "color": "#636efa",
          "opacity": 0.3,
          "symbol": "circle"
         },
         "mode": "markers",
         "name": "",
         "scene": "scene",
         "showlegend": false,
         "type": "scatter3d",
         "x": [
          -3.9384449945263165e-17,
          0.17400000000000015,
          -1.4302659297068207e-16,
          -1.4323372574715056e-16,
          7.569754634736102e-18,
          2.592647997708715e-17,
          6.568213083074481e-17,
          9.363500882082089e-17,
          -1.4784122754780298e-16,
          -7.426616980508368e-18,
          -3.086947929796202e-17,
          0.21699999999999992,
          0.45700000000000046,
          0.43500000000000005,
          0.6099999999999997,
          0.5219999999999998,
          0.391,
          0.1299999999999998,
          0.39099999999999996,
          0.40711448726260013,
          0.5477946910842892,
          0.40711448726260013,
          0.40711448726260013,
          0.2584342834409107,
          0.40711448726260013,
          0.10900000000000001,
          0.17400000000000013,
          0.38700000000000034,
          0.5500000000000004,
          0.6090000000000005,
          0.5354102879691032,
          0.19541378272152518,
          0.17400000000000013,
          0.042999999999999976,
          -0.17400000000000013,
          -1.7105728842029823e-32,
          6.0589053215530415e-33,
          1.0374499619136866e-32,
          -3.1882169920454134e-33,
          0,
          0,
          0,
          0,
          0,
          -0.21699999999999992,
          -0.4570000000000004,
          -0.43500000000000005,
          -0.6099999999999997,
          -0.5219999999999998,
          -0.391,
          -0.12999999999999992,
          -0.391,
          -0.40711448726260013,
          -0.5477946910842892,
          -0.40711448726260013,
          -0.40711448726260013,
          -0.2584342834409107,
          -0.40711448726260013,
          -0.10900000000000001,
          -0.17400000000000013,
          -0.38700000000000034,
          -0.5500000000000004,
          -0.6090000000000005,
          -0.5354102879691032,
          -0.19541378272152518,
          -0.17400000000000013,
          -0.042999999999999976,
          0.4511144872626002,
          0.4511144872626002,
          -0.4511144872626002,
          -0.4511144872626002,
          0.36811448726260004,
          0.36811448726260004,
          -0.36811448726260004,
          -0.36811448726260004,
          0.08000000000000004,
          -0.08000000000000004,
          0.022000000000000013,
          -0.022000000000000013,
          0.09770689136076259,
          -0.09770689136076259,
          0.07470689136076257,
          -0.07470689136076257,
          0.07470689136076257,
          -0.07470689136076257,
          0.09770689136076259,
          -0.09770689136076259,
          0,
          0.12025640569378118,
          -0.12025640569378118,
          0.33170689136076237,
          -0.33170689136076237,
          0.06499999999999996,
          -0.06499999999999996,
          0,
          0.47745458917344474,
          -0.47745458917344474,
          0.47745458917344474,
          -0.47745458917344474,
          0.47745458917344474,
          -0.47745458917344474,
          0.47745458917344474,
          -0.47745458917344474,
          0.33277438535175535,
          -0.33277438535175535,
          0.33277438535175535,
          -0.33277438535175535,
          0.33277438535175535,
          -0.33277438535175535,
          0.33277438535175535,
          -0.33277438535175535,
          0.12000000000000008,
          -0.12000000000000008
         ],
         "y": [
          0.8447066489141083,
          0.5837066489141088,
          0.5129796389182603,
          0.2852381595288661,
          0.23324819045348266,
          -0.17653472331360828,
          -0.24475180954651726,
          -0.4879001230459814,
          -0.8079712647624542,
          -0.8729712647624539,
          -0.7373669859715926,
          0.8227066489141086,
          0.6927066489141083,
          0.4097066489141085,
          0.3227066489141085,
          0.4736678687058935,
          0.3738501811815362,
          0.2778501811815362,
          0.32185018118153597,
          0.11839418388497694,
          0.003436218001140162,
          0.07226426572546116,
          -0.03435463976659507,
          0.003436218001140162,
          -0.07331779535935135,
          -0.12374177862190068,
          -0.21074177862190063,
          -0.10000000000000005,
          -0.25,
          0.14799999999999994,
          -0.4918533244570543,
          -0.5319001230459816,
          -0.7106032276420906,
          -0.4669001230459817,
          0.5837066489141088,
          0.5390000000000003,
          0.2780000000000003,
          0.213,
          -0.22200000000000014,
          -0.265,
          -0.742971264762454,
          -0.5259999999999999,
          -0.5910000000000001,
          -0.852,
          0.8227066489141086,
          0.6927066489141083,
          0.4097066489141085,
          0.3227066489141085,
          0.49286778268120107,
          0.3738501811815362,
          0.2778501811815362,
          0.32185018118153597,
          0.48794174391384787,
          0.37298377803001115,
          0.4418118257543321,
          0.3351929202622759,
          0.37298377803001115,
          0.2962297646695197,
          -0.12374177862190068,
          -0.21074177862190063,
          -0.10000000000000005,
          -0.25,
          0.14799999999999994,
          -0.4918533244570543,
          -0.5319001230459816,
          -0.7106032276420906,
          -0.4669001230459817,
          0.055436218001140236,
          -0.02696165612093386,
          0.4249837780300112,
          0.3425859039079372,
          0.055436218001140236,
          -0.02696165612093386,
          0.4249837780300112,
          0.3425859039079372,
          -0.20055508439534817,
          -0.20055508439534817,
          0.23324819045348266,
          0.23324819045348266,
          -0.48090012304598156,
          -0.48090012304598156,
          -0.5319001230459816,
          -0.5319001230459816,
          -0.6942625397509604,
          -0.6942625397509604,
          -0.7412625397509605,
          -0.7412625397509605,
          -0.5319001230459816,
          -0.5481363647164795,
          -0.5481363647164795,
          -0.5319001230459816,
          -0.5319001230459816,
          0.04824819045348267,
          0.04824819045348267,
          0.0882481904534827,
          0.083006794119826,
          0.45255435414869694,
          0.05025711759609783,
          0.41980467762496887,
          -0.025156988046729084,
          0.34439057198214196,
          -0.048930405594200255,
          0.32061715443467076,
          0.083006794119826,
          0.45255435414869694,
          0.05025711759609783,
          0.41980467762496887,
          -0.025156988046729084,
          0.34439057198214196,
          -0.048930405594200255,
          0.32061715443467076,
          -0.24475180954651726,
          -0.24475180954651726
         ],
         "z": [
          -0.37100000000000033,
          -0.024000000000000014,
          0.08890288958438229,
          0.1070000000000001,
          0.08499999999999998,
          0.15357975388222356,
          0.124,
          0.14200000000000007,
          0.10940939582375532,
          0.025818791647510553,
          -0.05877181252873417,
          -0.37100000000000033,
          -0.32799999999999985,
          -0.11100000000000007,
          -0.32799999999999985,
          -0.11100000000000007,
          0.03000000000000002,
          0.1070000000000001,
          0.03000000000000002,
          -0.0020000000000000013,
          -0.11100000000000007,
          0.0009920863254189308,
          0.0009920863254189308,
          0,
          0,
          0.034397874122074006,
          0.031796047476654675,
          0.027898936795798246,
          -0.32799999999999985,
          -0.32799999999999985,
          -0.32799999999999985,
          0,
          -0.10553557085823628,
          0.15000000000000008,
          -0.024000000000000014,
          0.08499999999999998,
          0.1070000000000001,
          0.08499999999999998,
          0.21000000000000002,
          0.124,
          0.08340939582375528,
          0.15000000000000008,
          0.1070000000000001,
          0.063,
          -0.37100000000000033,
          -0.32799999999999985,
          -0.11100000000000007,
          -0.32799999999999985,
          -0.11100000000000007,
          0.03000000000000002,
          0.1070000000000001,
          0.03000000000000002,
          -0.0020000000000000013,
          -0.11100000000000007,
          0.0009920863254189308,
          0.0009920863254189308,
          0,
          0,
          0.034397874122074006,
          0.031796047476654675,
          0.027898936795798246,
          -0.32799999999999985,
          -0.32799999999999985,
          -0.32799999999999985,
          0,
          -0.10553557085823628,
          0.15000000000000008,
          -0.03000000000000002,
          -0.03000000000000002,
          -0.03000000000000002,
          -0.03000000000000002,
          -0.03000000000000002,
          -0.03000000000000002,
          -0.03000000000000002,
          -0.03000000000000002,
          0.11050582771755653,
          0.11050582771755653,
          0.063,
          0.063,
          0.063,
          0.063,
          0.050000000000000024,
          0.050000000000000024,
          0.00940939582375529,
          0.00940939582375529,
          0.02240939582375525,
          0.02240939582375525,
          0.124,
          -0.024000000000000014,
          -0.024000000000000014,
          -0.050000000000000024,
          -0.050000000000000024,
          0.02178987694111182,
          0.02178987694111182,
          0.07178987694111183,
          -0.056000000000000036,
          -0.056000000000000036,
          -0.055305539572206755,
          -0.055305539572206755,
          -0.055305539572206755,
          -0.055305539572206755,
          -0.06700000000000002,
          -0.06700000000000002,
          -0.013000000000000008,
          -0.013000000000000008,
          -0.012305539572206748,
          -0.012305539572206748,
          -0.012305539572206748,
          -0.012305539572206748,
          -0.024000000000000014,
          -0.024000000000000014,
          0.10000000000000005,
          0.10000000000000005
         ]
        }
       ],
       "layout": {
        "legend": {
         "tracegroupgap": 0
        },
        "margin": {
         "t": 60
        },
        "scene": {
         "domain": {
          "x": [
           0,
           1
          ],
          "y": [
           0,
           1
          ]
         },
         "xaxis": {
          "title": {
           "text": "x"
          }
         },
         "yaxis": {
          "title": {
           "text": "y"
          }
         },
         "zaxis": {
          "title": {
           "text": "z"
          }
         }
        },
        "template": {
         "data": {
          "bar": [
           {
            "error_x": {
             "color": "#2a3f5f"
            },
            "error_y": {
             "color": "#2a3f5f"
            },
            "marker": {
             "line": {
              "color": "#E5ECF6",
              "width": 0.5
             },
             "pattern": {
              "fillmode": "overlay",
              "size": 10,
              "solidity": 0.2
             }
            },
            "type": "bar"
           }
          ],
          "barpolar": [
           {
            "marker": {
             "line": {
              "color": "#E5ECF6",
              "width": 0.5
             },
             "pattern": {
              "fillmode": "overlay",
              "size": 10,
              "solidity": 0.2
             }
            },
            "type": "barpolar"
           }
          ],
          "carpet": [
           {
            "aaxis": {
             "endlinecolor": "#2a3f5f",
             "gridcolor": "white",
             "linecolor": "white",
             "minorgridcolor": "white",
             "startlinecolor": "#2a3f5f"
            },
            "baxis": {
             "endlinecolor": "#2a3f5f",
             "gridcolor": "white",
             "linecolor": "white",
             "minorgridcolor": "white",
             "startlinecolor": "#2a3f5f"
            },
            "type": "carpet"
           }
          ],
          "choropleth": [
           {
            "colorbar": {
             "outlinewidth": 0,
             "ticks": ""
            },
            "type": "choropleth"
           }
          ],
          "contour": [
           {
            "colorbar": {
             "outlinewidth": 0,
             "ticks": ""
            },
            "colorscale": [
             [
              0,
              "#0d0887"
             ],
             [
              0.1111111111111111,
              "#46039f"
             ],
             [
              0.2222222222222222,
              "#7201a8"
             ],
             [
              0.3333333333333333,
              "#9c179e"
             ],
             [
              0.4444444444444444,
              "#bd3786"
             ],
             [
              0.5555555555555556,
              "#d8576b"
             ],
             [
              0.6666666666666666,
              "#ed7953"
             ],
             [
              0.7777777777777778,
              "#fb9f3a"
             ],
             [
              0.8888888888888888,
              "#fdca26"
             ],
             [
              1,
              "#f0f921"
             ]
            ],
            "type": "contour"
           }
          ],
          "contourcarpet": [
           {
            "colorbar": {
             "outlinewidth": 0,
             "ticks": ""
            },
            "type": "contourcarpet"
           }
          ],
          "heatmap": [
           {
            "colorbar": {
             "outlinewidth": 0,
             "ticks": ""
            },
            "colorscale": [
             [
              0,
              "#0d0887"
             ],
             [
              0.1111111111111111,
              "#46039f"
             ],
             [
              0.2222222222222222,
              "#7201a8"
             ],
             [
              0.3333333333333333,
              "#9c179e"
             ],
             [
              0.4444444444444444,
              "#bd3786"
             ],
             [
              0.5555555555555556,
              "#d8576b"
             ],
             [
              0.6666666666666666,
              "#ed7953"
             ],
             [
              0.7777777777777778,
              "#fb9f3a"
             ],
             [
              0.8888888888888888,
              "#fdca26"
             ],
             [
              1,
              "#f0f921"
             ]
            ],
            "type": "heatmap"
           }
          ],
          "heatmapgl": [
           {
            "colorbar": {
             "outlinewidth": 0,
             "ticks": ""
            },
            "colorscale": [
             [
              0,
              "#0d0887"
             ],
             [
              0.1111111111111111,
              "#46039f"
             ],
             [
              0.2222222222222222,
              "#7201a8"
             ],
             [
              0.3333333333333333,
              "#9c179e"
             ],
             [
              0.4444444444444444,
              "#bd3786"
             ],
             [
              0.5555555555555556,
              "#d8576b"
             ],
             [
              0.6666666666666666,
              "#ed7953"
             ],
             [
              0.7777777777777778,
              "#fb9f3a"
             ],
             [
              0.8888888888888888,
              "#fdca26"
             ],
             [
              1,
              "#f0f921"
             ]
            ],
            "type": "heatmapgl"
           }
          ],
          "histogram": [
           {
            "marker": {
             "pattern": {
              "fillmode": "overlay",
              "size": 10,
              "solidity": 0.2
             }
            },
            "type": "histogram"
           }
          ],
          "histogram2d": [
           {
            "colorbar": {
             "outlinewidth": 0,
             "ticks": ""
            },
            "colorscale": [
             [
              0,
              "#0d0887"
             ],
             [
              0.1111111111111111,
              "#46039f"
             ],
             [
              0.2222222222222222,
              "#7201a8"
             ],
             [
              0.3333333333333333,
              "#9c179e"
             ],
             [
              0.4444444444444444,
              "#bd3786"
             ],
             [
              0.5555555555555556,
              "#d8576b"
             ],
             [
              0.6666666666666666,
              "#ed7953"
             ],
             [
              0.7777777777777778,
              "#fb9f3a"
             ],
             [
              0.8888888888888888,
              "#fdca26"
             ],
             [
              1,
              "#f0f921"
             ]
            ],
            "type": "histogram2d"
           }
          ],
          "histogram2dcontour": [
           {
            "colorbar": {
             "outlinewidth": 0,
             "ticks": ""
            },
            "colorscale": [
             [
              0,
              "#0d0887"
             ],
             [
              0.1111111111111111,
              "#46039f"
             ],
             [
              0.2222222222222222,
              "#7201a8"
             ],
             [
              0.3333333333333333,
              "#9c179e"
             ],
             [
              0.4444444444444444,
              "#bd3786"
             ],
             [
              0.5555555555555556,
              "#d8576b"
             ],
             [
              0.6666666666666666,
              "#ed7953"
             ],
             [
              0.7777777777777778,
              "#fb9f3a"
             ],
             [
              0.8888888888888888,
              "#fdca26"
             ],
             [
              1,
              "#f0f921"
             ]
            ],
            "type": "histogram2dcontour"
           }
          ],
          "mesh3d": [
           {
            "colorbar": {
             "outlinewidth": 0,
             "ticks": ""
            },
            "type": "mesh3d"
           }
          ],
          "parcoords": [
           {
            "line": {
             "colorbar": {
              "outlinewidth": 0,
              "ticks": ""
             }
            },
            "type": "parcoords"
           }
          ],
          "pie": [
           {
            "automargin": true,
            "type": "pie"
           }
          ],
          "scatter": [
           {
            "fillpattern": {
             "fillmode": "overlay",
             "size": 10,
             "solidity": 0.2
            },
            "type": "scatter"
           }
          ],
          "scatter3d": [
           {
            "line": {
             "colorbar": {
              "outlinewidth": 0,
              "ticks": ""
             }
            },
            "marker": {
             "colorbar": {
              "outlinewidth": 0,
              "ticks": ""
             }
            },
            "type": "scatter3d"
           }
          ],
          "scattercarpet": [
           {
            "marker": {
             "colorbar": {
              "outlinewidth": 0,
              "ticks": ""
             }
            },
            "type": "scattercarpet"
           }
          ],
          "scattergeo": [
           {
            "marker": {
             "colorbar": {
              "outlinewidth": 0,
              "ticks": ""
             }
            },
            "type": "scattergeo"
           }
          ],
          "scattergl": [
           {
            "marker": {
             "colorbar": {
              "outlinewidth": 0,
              "ticks": ""
             }
            },
            "type": "scattergl"
           }
          ],
          "scattermapbox": [
           {
            "marker": {
             "colorbar": {
              "outlinewidth": 0,
              "ticks": ""
             }
            },
            "type": "scattermapbox"
           }
          ],
          "scatterpolar": [
           {
            "marker": {
             "colorbar": {
              "outlinewidth": 0,
              "ticks": ""
             }
            },
            "type": "scatterpolar"
           }
          ],
          "scatterpolargl": [
           {
            "marker": {
             "colorbar": {
              "outlinewidth": 0,
              "ticks": ""
             }
            },
            "type": "scatterpolargl"
           }
          ],
          "scatterternary": [
           {
            "marker": {
             "colorbar": {
              "outlinewidth": 0,
              "ticks": ""
             }
            },
            "type": "scatterternary"
           }
          ],
          "surface": [
           {
            "colorbar": {
             "outlinewidth": 0,
             "ticks": ""
            },
            "colorscale": [
             [
              0,
              "#0d0887"
             ],
             [
              0.1111111111111111,
              "#46039f"
             ],
             [
              0.2222222222222222,
              "#7201a8"
             ],
             [
              0.3333333333333333,
              "#9c179e"
             ],
             [
              0.4444444444444444,
              "#bd3786"
             ],
             [
              0.5555555555555556,
              "#d8576b"
             ],
             [
              0.6666666666666666,
              "#ed7953"
             ],
             [
              0.7777777777777778,
              "#fb9f3a"
             ],
             [
              0.8888888888888888,
              "#fdca26"
             ],
             [
              1,
              "#f0f921"
             ]
            ],
            "type": "surface"
           }
          ],
          "table": [
           {
            "cells": {
             "fill": {
              "color": "#EBF0F8"
             },
             "line": {
              "color": "white"
             }
            },
            "header": {
             "fill": {
              "color": "#C8D4E3"
             },
             "line": {
              "color": "white"
             }
            },
            "type": "table"
           }
          ]
         },
         "layout": {
          "annotationdefaults": {
           "arrowcolor": "#2a3f5f",
           "arrowhead": 0,
           "arrowwidth": 1
          },
          "autotypenumbers": "strict",
          "coloraxis": {
           "colorbar": {
            "outlinewidth": 0,
            "ticks": ""
           }
          },
          "colorscale": {
           "diverging": [
            [
             0,
             "#8e0152"
            ],
            [
             0.1,
             "#c51b7d"
            ],
            [
             0.2,
             "#de77ae"
            ],
            [
             0.3,
             "#f1b6da"
            ],
            [
             0.4,
             "#fde0ef"
            ],
            [
             0.5,
             "#f7f7f7"
            ],
            [
             0.6,
             "#e6f5d0"
            ],
            [
             0.7,
             "#b8e186"
            ],
            [
             0.8,
             "#7fbc41"
            ],
            [
             0.9,
             "#4d9221"
            ],
            [
             1,
             "#276419"
            ]
           ],
           "sequential": [
            [
             0,
             "#0d0887"
            ],
            [
             0.1111111111111111,
             "#46039f"
            ],
            [
             0.2222222222222222,
             "#7201a8"
            ],
            [
             0.3333333333333333,
             "#9c179e"
            ],
            [
             0.4444444444444444,
             "#bd3786"
            ],
            [
             0.5555555555555556,
             "#d8576b"
            ],
            [
             0.6666666666666666,
             "#ed7953"
            ],
            [
             0.7777777777777778,
             "#fb9f3a"
            ],
            [
             0.8888888888888888,
             "#fdca26"
            ],
            [
             1,
             "#f0f921"
            ]
           ],
           "sequentialminus": [
            [
             0,
             "#0d0887"
            ],
            [
             0.1111111111111111,
             "#46039f"
            ],
            [
             0.2222222222222222,
             "#7201a8"
            ],
            [
             0.3333333333333333,
             "#9c179e"
            ],
            [
             0.4444444444444444,
             "#bd3786"
            ],
            [
             0.5555555555555556,
             "#d8576b"
            ],
            [
             0.6666666666666666,
             "#ed7953"
            ],
            [
             0.7777777777777778,
             "#fb9f3a"
            ],
            [
             0.8888888888888888,
             "#fdca26"
            ],
            [
             1,
             "#f0f921"
            ]
           ]
          },
          "colorway": [
           "#636efa",
           "#EF553B",
           "#00cc96",
           "#ab63fa",
           "#FFA15A",
           "#19d3f3",
           "#FF6692",
           "#B6E880",
           "#FF97FF",
           "#FECB52"
          ],
          "font": {
           "color": "#2a3f5f"
          },
          "geo": {
           "bgcolor": "white",
           "lakecolor": "white",
           "landcolor": "#E5ECF6",
           "showlakes": true,
           "showland": true,
           "subunitcolor": "white"
          },
          "hoverlabel": {
           "align": "left"
          },
          "hovermode": "closest",
          "mapbox": {
           "style": "light"
          },
          "paper_bgcolor": "white",
          "plot_bgcolor": "#E5ECF6",
          "polar": {
           "angularaxis": {
            "gridcolor": "white",
            "linecolor": "white",
            "ticks": ""
           },
           "bgcolor": "#E5ECF6",
           "radialaxis": {
            "gridcolor": "white",
            "linecolor": "white",
            "ticks": ""
           }
          },
          "scene": {
           "xaxis": {
            "backgroundcolor": "#E5ECF6",
            "gridcolor": "white",
            "gridwidth": 2,
            "linecolor": "white",
            "showbackground": true,
            "ticks": "",
            "zerolinecolor": "white"
           },
           "yaxis": {
            "backgroundcolor": "#E5ECF6",
            "gridcolor": "white",
            "gridwidth": 2,
            "linecolor": "white",
            "showbackground": true,
            "ticks": "",
            "zerolinecolor": "white"
           },
           "zaxis": {
            "backgroundcolor": "#E5ECF6",
            "gridcolor": "white",
            "gridwidth": 2,
            "linecolor": "white",
            "showbackground": true,
            "ticks": "",
            "zerolinecolor": "white"
           }
          },
          "shapedefaults": {
           "line": {
            "color": "#2a3f5f"
           }
          },
          "ternary": {
           "aaxis": {
            "gridcolor": "white",
            "linecolor": "white",
            "ticks": ""
           },
           "baxis": {
            "gridcolor": "white",
            "linecolor": "white",
            "ticks": ""
           },
           "bgcolor": "#E5ECF6",
           "caxis": {
            "gridcolor": "white",
            "linecolor": "white",
            "ticks": ""
           }
          },
          "title": {
           "x": 0.05
          },
          "xaxis": {
           "automargin": true,
           "gridcolor": "white",
           "linecolor": "white",
           "ticks": "",
           "title": {
            "standoff": 15
           },
           "zerolinecolor": "white",
           "zerolinewidth": 2
          },
          "yaxis": {
           "automargin": true,
           "gridcolor": "white",
           "linecolor": "white",
           "ticks": "",
           "title": {
            "standoff": 15
           },
           "zerolinecolor": "white",
           "zerolinewidth": 2
          }
         }
        }
       }
      }
     },
     "metadata": {},
     "output_type": "display_data"
    },
    {
     "data": {
      "application/vnd.plotly.v1+json": {
       "config": {
        "plotlyServerURL": "https://plot.ly"
       },
       "data": [
        {
         "hovertemplate": "x=%{x}<br>y=%{y}<br>z=%{z}<extra></extra>",
         "legendgroup": "",
         "marker": {
          "color": "#636efa",
          "opacity": 0.3,
          "symbol": "circle"
         },
         "mode": "markers",
         "name": "",
         "scene": "scene",
         "showlegend": false,
         "type": "scatter3d",
         "x": [
          -3.9388172809022545e-18,
          0.17400000000000015,
          -7.586265373473288e-17,
          -1.1475462671850333e-16,
          8.680367664958606e-17,
          3.839734642403279e-17,
          2.204719739060436e-17,
          5.820464661468409e-17,
          -8.961250400976701e-17,
          -5.192195436365876e-17,
          2.968395171753189e-19,
          0.2169999999999999,
          0.45700000000000046,
          0.43500000000000005,
          0.6099999999999997,
          0.5219999999999998,
          0.391,
          0.12999999999999984,
          0.39099999999999996,
          0.3786598602777061,
          0.5469273541985942,
          0.3786598602777061,
          0.3786598602777061,
          0.20239236635681762,
          0.3786598602777061,
          0.10900000000000001,
          0.17400000000000013,
          0.38700000000000034,
          0.5500000000000004,
          0.6090000000000005,
          0.5201918248522504,
          0.22958091788568558,
          0.17400000000000013,
          0.042999999999999976,
          -0.17400000000000013,
          -1.8351845631007435e-32,
          1.9086239177485566e-33,
          1.0076336295975694e-32,
          -3.0569969880827908e-33,
          0,
          0,
          0,
          0,
          0,
          -0.21699999999999992,
          -0.4570000000000004,
          -0.43500000000000005,
          -0.6099999999999997,
          -0.5219999999999998,
          -0.391,
          -0.12999999999999992,
          -0.391,
          -0.3786598602777061,
          -0.5469273541985942,
          -0.3786598602777061,
          -0.3786598602777061,
          -0.20239236635681762,
          -0.3786598602777061,
          -0.10900000000000001,
          -0.17400000000000013,
          -0.38700000000000034,
          -0.5500000000000004,
          -0.6090000000000005,
          -0.5201918248522504,
          -0.22958091788568558,
          -0.17400000000000013,
          -0.042999999999999976,
          0.42265986027770613,
          0.42265986027770613,
          -0.42265986027770613,
          -0.42265986027770613,
          0.339659860277706,
          0.339659860277706,
          -0.339659860277706,
          -0.339659860277706,
          0.08000000000000004,
          -0.08000000000000004,
          0.022000000000000013,
          -0.022000000000000013,
          0.11479045894284279,
          -0.11479045894284279,
          0.09179045894284277,
          -0.09179045894284277,
          0.09179045894284277,
          -0.09179045894284277,
          0.11479045894284279,
          -0.11479045894284279,
          0,
          0.1883864307745753,
          -0.1883864307745753,
          0.3487904589428426,
          -0.3487904589428426,
          0.06499999999999996,
          -0.06499999999999996,
          0,
          0.4627936072381502,
          -0.4627936072381502,
          0.4627936072381502,
          -0.4627936072381502,
          0.4627936072381502,
          -0.4627936072381502,
          0.4627936072381502,
          -0.4627936072381502,
          0.2905261133172618,
          -0.2905261133172618,
          0.2905261133172618,
          -0.2905261133172618,
          0.2905261133172618,
          -0.2905261133172618,
          0.2905261133172618,
          -0.2905261133172618,
          0.12000000000000008,
          -0.12000000000000008
         ],
         "y": [
          0.7805488705318917,
          0.5195488705318922,
          0.50697041418921,
          0.25857980730147323,
          0.2095944160377628,
          -0.17197807684887048,
          -0.2684055839622372,
          -0.40942367795685053,
          -0.805441070859372,
          -0.8704410708593716,
          -0.7227909268110924,
          0.7585488705318919,
          0.6285488705318917,
          0.34554887053189187,
          0.25854887053189185,
          0.3120012790564469,
          0.3904521590723271,
          0.29445215907232714,
          0.33845215907232684,
          0.17464735784835245,
          0.06641591760631811,
          0.13867752666669161,
          0.03099761604141439,
          0.06641591760631811,
          -0.0024097528088426468,
          -0.14439097522594757,
          -0.2313909752259475,
          -0.10000000000000005,
          -0.25,
          0.14799999999999994,
          -0.45977443526594597,
          -0.45342367795685073,
          -0.7018691878035942,
          -0.38842367795685084,
          0.5195488705318922,
          0.5390000000000003,
          0.2780000000000003,
          0.213,
          -0.22200000000000014,
          -0.265,
          -0.7404410708593717,
          -0.5259999999999999,
          -0.5910000000000001,
          -0.852,
          0.7585488705318919,
          0.6285488705318917,
          0.34554887053189187,
          0.25854887053189185,
          0.41719390808667484,
          0.3904521590723271,
          0.29445215907232714,
          0.33845215907232684,
          0.3326043929459597,
          0.2243729527039254,
          0.29663456176429887,
          0.1889546511390217,
          0.22437295270392538,
          0.15554728228876466,
          -0.14439097522594757,
          -0.2313909752259475,
          -0.10000000000000005,
          -0.25,
          0.14799999999999994,
          -0.45977443526594597,
          -0.45342367795685073,
          -0.7018691878035942,
          -0.38842367795685084,
          0.11841591760631814,
          0.036618986688860364,
          0.2763729527039254,
          0.1945760217864677,
          0.11841591760631814,
          0.036618986688860364,
          0.2763729527039254,
          0.1945760217864677,
          -0.20200766265966066,
          -0.20200766265966066,
          0.2095944160377628,
          0.2095944160377628,
          -0.4024236779568507,
          -0.4024236779568507,
          -0.45342367795685073,
          -0.45342367795685073,
          -0.674206287881867,
          -0.674206287881867,
          -0.7212062878818669,
          -0.7212062878818669,
          -0.45342367795685073,
          -0.47550193894935233,
          -0.47550193894935233,
          -0.45342367795685073,
          -0.45342367795685073,
          0.0245944160377628,
          0.0245944160377628,
          0.06459441603776282,
          0.14127792577574222,
          0.29923496087334944,
          0.11581571205024038,
          0.2737727471478477,
          0.03973441989540952,
          0.19769145499301688,
          0.019959679263767655,
          0.17791671436137502,
          0.14127792577574222,
          0.29923496087334944,
          0.11581571205024038,
          0.2737727471478477,
          0.03973441989540952,
          0.19769145499301688,
          0.019959679263767655,
          0.17791671436137502,
          -0.2684055839622372,
          -0.2684055839622372
         ],
         "z": [
          -0.37100000000000033,
          -0.024000000000000014,
          0.08980423528560247,
          0.1070000000000001,
          0.08499999999999998,
          0.21249181320171004,
          0.124,
          0.14200000000000007,
          0.09480434751874597,
          -0.0033913049625081543,
          -0.10258695744376223,
          -0.37100000000000033,
          -0.32799999999999985,
          -0.11100000000000007,
          -0.32799999999999985,
          -0.11100000000000007,
          0.03000000000000002,
          0.1070000000000001,
          0.03000000000000002,
          -0.0020000000000000013,
          -0.11100000000000007,
          -0.00010417563538006082,
          -0.00010417563538006082,
          0,
          0,
          0.03379693091745768,
          0.030594230173126343,
          0.04484231497133374,
          -0.32799999999999985,
          -0.32799999999999985,
          -0.32799999999999985,
          0,
          -0.1435086964512606,
          0.15000000000000008,
          -0.024000000000000014,
          0.08499999999999998,
          0.1070000000000001,
          0.08499999999999998,
          0.21000000000000002,
          0.124,
          0.06880434751874592,
          0.15000000000000008,
          0.1070000000000001,
          0.063,
          -0.37100000000000033,
          -0.32799999999999985,
          -0.11100000000000007,
          -0.32799999999999985,
          -0.11100000000000007,
          0.03000000000000002,
          0.1070000000000001,
          0.03000000000000002,
          -0.0020000000000000013,
          -0.11100000000000007,
          -0.00010417563538006082,
          -0.00010417563538006082,
          0,
          0,
          0.03379693091745768,
          0.030594230173126343,
          0.04484231497133374,
          -0.32799999999999985,
          -0.32799999999999985,
          -0.32799999999999985,
          0,
          -0.1435086964512606,
          0.15000000000000008,
          -0.03000000000000002,
          -0.03000000000000002,
          -0.03000000000000002,
          -0.03000000000000002,
          -0.03000000000000002,
          -0.03000000000000002,
          -0.03000000000000002,
          -0.03000000000000002,
          0.15174426924119708,
          0.15174426924119708,
          0.063,
          0.063,
          0.063,
          0.063,
          0.050000000000000024,
          0.050000000000000024,
          -0.005195652481254066,
          -0.005195652481254066,
          0.007804347518745897,
          0.007804347518745897,
          0.124,
          -0.024000000000000014,
          -0.024000000000000014,
          -0.050000000000000024,
          -0.050000000000000024,
          0.05124590660085506,
          0.05124590660085506,
          0.10124590660085506,
          -0.056000000000000036,
          -0.056000000000000036,
          -0.056072922944766054,
          -0.056072922944766054,
          -0.056072922944766054,
          -0.056072922944766054,
          -0.06700000000000002,
          -0.06700000000000002,
          -0.013000000000000008,
          -0.013000000000000008,
          -0.013072922944766044,
          -0.013072922944766044,
          -0.013072922944766044,
          -0.013072922944766044,
          -0.024000000000000014,
          -0.024000000000000014,
          0.10000000000000005,
          0.10000000000000005
         ]
        }
       ],
       "layout": {
        "legend": {
         "tracegroupgap": 0
        },
        "margin": {
         "t": 60
        },
        "scene": {
         "domain": {
          "x": [
           0,
           1
          ],
          "y": [
           0,
           1
          ]
         },
         "xaxis": {
          "title": {
           "text": "x"
          }
         },
         "yaxis": {
          "title": {
           "text": "y"
          }
         },
         "zaxis": {
          "title": {
           "text": "z"
          }
         }
        },
        "template": {
         "data": {
          "bar": [
           {
            "error_x": {
             "color": "#2a3f5f"
            },
            "error_y": {
             "color": "#2a3f5f"
            },
            "marker": {
             "line": {
              "color": "#E5ECF6",
              "width": 0.5
             },
             "pattern": {
              "fillmode": "overlay",
              "size": 10,
              "solidity": 0.2
             }
            },
            "type": "bar"
           }
          ],
          "barpolar": [
           {
            "marker": {
             "line": {
              "color": "#E5ECF6",
              "width": 0.5
             },
             "pattern": {
              "fillmode": "overlay",
              "size": 10,
              "solidity": 0.2
             }
            },
            "type": "barpolar"
           }
          ],
          "carpet": [
           {
            "aaxis": {
             "endlinecolor": "#2a3f5f",
             "gridcolor": "white",
             "linecolor": "white",
             "minorgridcolor": "white",
             "startlinecolor": "#2a3f5f"
            },
            "baxis": {
             "endlinecolor": "#2a3f5f",
             "gridcolor": "white",
             "linecolor": "white",
             "minorgridcolor": "white",
             "startlinecolor": "#2a3f5f"
            },
            "type": "carpet"
           }
          ],
          "choropleth": [
           {
            "colorbar": {
             "outlinewidth": 0,
             "ticks": ""
            },
            "type": "choropleth"
           }
          ],
          "contour": [
           {
            "colorbar": {
             "outlinewidth": 0,
             "ticks": ""
            },
            "colorscale": [
             [
              0,
              "#0d0887"
             ],
             [
              0.1111111111111111,
              "#46039f"
             ],
             [
              0.2222222222222222,
              "#7201a8"
             ],
             [
              0.3333333333333333,
              "#9c179e"
             ],
             [
              0.4444444444444444,
              "#bd3786"
             ],
             [
              0.5555555555555556,
              "#d8576b"
             ],
             [
              0.6666666666666666,
              "#ed7953"
             ],
             [
              0.7777777777777778,
              "#fb9f3a"
             ],
             [
              0.8888888888888888,
              "#fdca26"
             ],
             [
              1,
              "#f0f921"
             ]
            ],
            "type": "contour"
           }
          ],
          "contourcarpet": [
           {
            "colorbar": {
             "outlinewidth": 0,
             "ticks": ""
            },
            "type": "contourcarpet"
           }
          ],
          "heatmap": [
           {
            "colorbar": {
             "outlinewidth": 0,
             "ticks": ""
            },
            "colorscale": [
             [
              0,
              "#0d0887"
             ],
             [
              0.1111111111111111,
              "#46039f"
             ],
             [
              0.2222222222222222,
              "#7201a8"
             ],
             [
              0.3333333333333333,
              "#9c179e"
             ],
             [
              0.4444444444444444,
              "#bd3786"
             ],
             [
              0.5555555555555556,
              "#d8576b"
             ],
             [
              0.6666666666666666,
              "#ed7953"
             ],
             [
              0.7777777777777778,
              "#fb9f3a"
             ],
             [
              0.8888888888888888,
              "#fdca26"
             ],
             [
              1,
              "#f0f921"
             ]
            ],
            "type": "heatmap"
           }
          ],
          "heatmapgl": [
           {
            "colorbar": {
             "outlinewidth": 0,
             "ticks": ""
            },
            "colorscale": [
             [
              0,
              "#0d0887"
             ],
             [
              0.1111111111111111,
              "#46039f"
             ],
             [
              0.2222222222222222,
              "#7201a8"
             ],
             [
              0.3333333333333333,
              "#9c179e"
             ],
             [
              0.4444444444444444,
              "#bd3786"
             ],
             [
              0.5555555555555556,
              "#d8576b"
             ],
             [
              0.6666666666666666,
              "#ed7953"
             ],
             [
              0.7777777777777778,
              "#fb9f3a"
             ],
             [
              0.8888888888888888,
              "#fdca26"
             ],
             [
              1,
              "#f0f921"
             ]
            ],
            "type": "heatmapgl"
           }
          ],
          "histogram": [
           {
            "marker": {
             "pattern": {
              "fillmode": "overlay",
              "size": 10,
              "solidity": 0.2
             }
            },
            "type": "histogram"
           }
          ],
          "histogram2d": [
           {
            "colorbar": {
             "outlinewidth": 0,
             "ticks": ""
            },
            "colorscale": [
             [
              0,
              "#0d0887"
             ],
             [
              0.1111111111111111,
              "#46039f"
             ],
             [
              0.2222222222222222,
              "#7201a8"
             ],
             [
              0.3333333333333333,
              "#9c179e"
             ],
             [
              0.4444444444444444,
              "#bd3786"
             ],
             [
              0.5555555555555556,
              "#d8576b"
             ],
             [
              0.6666666666666666,
              "#ed7953"
             ],
             [
              0.7777777777777778,
              "#fb9f3a"
             ],
             [
              0.8888888888888888,
              "#fdca26"
             ],
             [
              1,
              "#f0f921"
             ]
            ],
            "type": "histogram2d"
           }
          ],
          "histogram2dcontour": [
           {
            "colorbar": {
             "outlinewidth": 0,
             "ticks": ""
            },
            "colorscale": [
             [
              0,
              "#0d0887"
             ],
             [
              0.1111111111111111,
              "#46039f"
             ],
             [
              0.2222222222222222,
              "#7201a8"
             ],
             [
              0.3333333333333333,
              "#9c179e"
             ],
             [
              0.4444444444444444,
              "#bd3786"
             ],
             [
              0.5555555555555556,
              "#d8576b"
             ],
             [
              0.6666666666666666,
              "#ed7953"
             ],
             [
              0.7777777777777778,
              "#fb9f3a"
             ],
             [
              0.8888888888888888,
              "#fdca26"
             ],
             [
              1,
              "#f0f921"
             ]
            ],
            "type": "histogram2dcontour"
           }
          ],
          "mesh3d": [
           {
            "colorbar": {
             "outlinewidth": 0,
             "ticks": ""
            },
            "type": "mesh3d"
           }
          ],
          "parcoords": [
           {
            "line": {
             "colorbar": {
              "outlinewidth": 0,
              "ticks": ""
             }
            },
            "type": "parcoords"
           }
          ],
          "pie": [
           {
            "automargin": true,
            "type": "pie"
           }
          ],
          "scatter": [
           {
            "fillpattern": {
             "fillmode": "overlay",
             "size": 10,
             "solidity": 0.2
            },
            "type": "scatter"
           }
          ],
          "scatter3d": [
           {
            "line": {
             "colorbar": {
              "outlinewidth": 0,
              "ticks": ""
             }
            },
            "marker": {
             "colorbar": {
              "outlinewidth": 0,
              "ticks": ""
             }
            },
            "type": "scatter3d"
           }
          ],
          "scattercarpet": [
           {
            "marker": {
             "colorbar": {
              "outlinewidth": 0,
              "ticks": ""
             }
            },
            "type": "scattercarpet"
           }
          ],
          "scattergeo": [
           {
            "marker": {
             "colorbar": {
              "outlinewidth": 0,
              "ticks": ""
             }
            },
            "type": "scattergeo"
           }
          ],
          "scattergl": [
           {
            "marker": {
             "colorbar": {
              "outlinewidth": 0,
              "ticks": ""
             }
            },
            "type": "scattergl"
           }
          ],
          "scattermapbox": [
           {
            "marker": {
             "colorbar": {
              "outlinewidth": 0,
              "ticks": ""
             }
            },
            "type": "scattermapbox"
           }
          ],
          "scatterpolar": [
           {
            "marker": {
             "colorbar": {
              "outlinewidth": 0,
              "ticks": ""
             }
            },
            "type": "scatterpolar"
           }
          ],
          "scatterpolargl": [
           {
            "marker": {
             "colorbar": {
              "outlinewidth": 0,
              "ticks": ""
             }
            },
            "type": "scatterpolargl"
           }
          ],
          "scatterternary": [
           {
            "marker": {
             "colorbar": {
              "outlinewidth": 0,
              "ticks": ""
             }
            },
            "type": "scatterternary"
           }
          ],
          "surface": [
           {
            "colorbar": {
             "outlinewidth": 0,
             "ticks": ""
            },
            "colorscale": [
             [
              0,
              "#0d0887"
             ],
             [
              0.1111111111111111,
              "#46039f"
             ],
             [
              0.2222222222222222,
              "#7201a8"
             ],
             [
              0.3333333333333333,
              "#9c179e"
             ],
             [
              0.4444444444444444,
              "#bd3786"
             ],
             [
              0.5555555555555556,
              "#d8576b"
             ],
             [
              0.6666666666666666,
              "#ed7953"
             ],
             [
              0.7777777777777778,
              "#fb9f3a"
             ],
             [
              0.8888888888888888,
              "#fdca26"
             ],
             [
              1,
              "#f0f921"
             ]
            ],
            "type": "surface"
           }
          ],
          "table": [
           {
            "cells": {
             "fill": {
              "color": "#EBF0F8"
             },
             "line": {
              "color": "white"
             }
            },
            "header": {
             "fill": {
              "color": "#C8D4E3"
             },
             "line": {
              "color": "white"
             }
            },
            "type": "table"
           }
          ]
         },
         "layout": {
          "annotationdefaults": {
           "arrowcolor": "#2a3f5f",
           "arrowhead": 0,
           "arrowwidth": 1
          },
          "autotypenumbers": "strict",
          "coloraxis": {
           "colorbar": {
            "outlinewidth": 0,
            "ticks": ""
           }
          },
          "colorscale": {
           "diverging": [
            [
             0,
             "#8e0152"
            ],
            [
             0.1,
             "#c51b7d"
            ],
            [
             0.2,
             "#de77ae"
            ],
            [
             0.3,
             "#f1b6da"
            ],
            [
             0.4,
             "#fde0ef"
            ],
            [
             0.5,
             "#f7f7f7"
            ],
            [
             0.6,
             "#e6f5d0"
            ],
            [
             0.7,
             "#b8e186"
            ],
            [
             0.8,
             "#7fbc41"
            ],
            [
             0.9,
             "#4d9221"
            ],
            [
             1,
             "#276419"
            ]
           ],
           "sequential": [
            [
             0,
             "#0d0887"
            ],
            [
             0.1111111111111111,
             "#46039f"
            ],
            [
             0.2222222222222222,
             "#7201a8"
            ],
            [
             0.3333333333333333,
             "#9c179e"
            ],
            [
             0.4444444444444444,
             "#bd3786"
            ],
            [
             0.5555555555555556,
             "#d8576b"
            ],
            [
             0.6666666666666666,
             "#ed7953"
            ],
            [
             0.7777777777777778,
             "#fb9f3a"
            ],
            [
             0.8888888888888888,
             "#fdca26"
            ],
            [
             1,
             "#f0f921"
            ]
           ],
           "sequentialminus": [
            [
             0,
             "#0d0887"
            ],
            [
             0.1111111111111111,
             "#46039f"
            ],
            [
             0.2222222222222222,
             "#7201a8"
            ],
            [
             0.3333333333333333,
             "#9c179e"
            ],
            [
             0.4444444444444444,
             "#bd3786"
            ],
            [
             0.5555555555555556,
             "#d8576b"
            ],
            [
             0.6666666666666666,
             "#ed7953"
            ],
            [
             0.7777777777777778,
             "#fb9f3a"
            ],
            [
             0.8888888888888888,
             "#fdca26"
            ],
            [
             1,
             "#f0f921"
            ]
           ]
          },
          "colorway": [
           "#636efa",
           "#EF553B",
           "#00cc96",
           "#ab63fa",
           "#FFA15A",
           "#19d3f3",
           "#FF6692",
           "#B6E880",
           "#FF97FF",
           "#FECB52"
          ],
          "font": {
           "color": "#2a3f5f"
          },
          "geo": {
           "bgcolor": "white",
           "lakecolor": "white",
           "landcolor": "#E5ECF6",
           "showlakes": true,
           "showland": true,
           "subunitcolor": "white"
          },
          "hoverlabel": {
           "align": "left"
          },
          "hovermode": "closest",
          "mapbox": {
           "style": "light"
          },
          "paper_bgcolor": "white",
          "plot_bgcolor": "#E5ECF6",
          "polar": {
           "angularaxis": {
            "gridcolor": "white",
            "linecolor": "white",
            "ticks": ""
           },
           "bgcolor": "#E5ECF6",
           "radialaxis": {
            "gridcolor": "white",
            "linecolor": "white",
            "ticks": ""
           }
          },
          "scene": {
           "xaxis": {
            "backgroundcolor": "#E5ECF6",
            "gridcolor": "white",
            "gridwidth": 2,
            "linecolor": "white",
            "showbackground": true,
            "ticks": "",
            "zerolinecolor": "white"
           },
           "yaxis": {
            "backgroundcolor": "#E5ECF6",
            "gridcolor": "white",
            "gridwidth": 2,
            "linecolor": "white",
            "showbackground": true,
            "ticks": "",
            "zerolinecolor": "white"
           },
           "zaxis": {
            "backgroundcolor": "#E5ECF6",
            "gridcolor": "white",
            "gridwidth": 2,
            "linecolor": "white",
            "showbackground": true,
            "ticks": "",
            "zerolinecolor": "white"
           }
          },
          "shapedefaults": {
           "line": {
            "color": "#2a3f5f"
           }
          },
          "ternary": {
           "aaxis": {
            "gridcolor": "white",
            "linecolor": "white",
            "ticks": ""
           },
           "baxis": {
            "gridcolor": "white",
            "linecolor": "white",
            "ticks": ""
           },
           "bgcolor": "#E5ECF6",
           "caxis": {
            "gridcolor": "white",
            "linecolor": "white",
            "ticks": ""
           }
          },
          "title": {
           "x": 0.05
          },
          "xaxis": {
           "automargin": true,
           "gridcolor": "white",
           "linecolor": "white",
           "ticks": "",
           "title": {
            "standoff": 15
           },
           "zerolinecolor": "white",
           "zerolinewidth": 2
          },
          "yaxis": {
           "automargin": true,
           "gridcolor": "white",
           "linecolor": "white",
           "ticks": "",
           "title": {
            "standoff": 15
           },
           "zerolinecolor": "white",
           "zerolinewidth": 2
          }
         }
        }
       }
      }
     },
     "metadata": {},
     "output_type": "display_data"
    }
   ],
   "source": [
    "from numpy.linalg import inv\n",
    "\n",
    "K = 3  # Choose K less than M\n",
    "D = 339\n",
    "face_index = 0\n",
    "U = principal_components[:, :K]\n",
    "# print(U.shape)\n",
    "\n",
    "f_new = generated_faces[face_index][:D]\n",
    "# print(f_new.shape)\n",
    "A = inv(np.dot(U.T, U))\n",
    "B = np.dot(U.T, f_new - mean_face)\n",
    "alpha = np.dot(A, B)\n",
    "\n",
    "# Compute Approximation:\n",
    "f_approx = mean_face + np.dot(U, alpha)\n",
    "print(f_approx.shape)\n",
    "\n",
    "# Compute the Error:\n",
    "error = np.linalg.norm(f_approx - f_new)**2\n",
    "print(f\"Error: {error}\")\n",
    "\n",
    "# Plot the original face and the approximated face\n",
    "plot_face(f_new, title=\"New Face\")\n",
    "plot_face(f_approx, title=\"Original Face\")\n",
    "\n",
    "\n"
   ]
  },
  {
   "cell_type": "code",
   "execution_count": 8,
   "metadata": {},
   "outputs": [
    {
     "name": "stdout",
     "output_type": "stream",
     "text": [
      "Components needed to preserve 90% variance: 6\n"
     ]
    }
   ],
   "source": [
    "explained_variance = np.cumsum(pca.explained_variance_ratio_)\n",
    "# print(explained_variance)\n",
    "components_needed = np.where(explained_variance >= 0.9)[0][0] + 1\n",
    "print(f\"Components needed to preserve 90% variance: {components_needed}\")\n"
   ]
  },
  {
   "cell_type": "code",
   "execution_count": 9,
   "metadata": {},
   "outputs": [
    {
     "data": {
      "image/png": "[encoded data removed]",
      "text/plain": [
       "<Figure size 640x480 with 1 Axes>"
      ]
     },
     "metadata": {},
     "output_type": "display_data"
    }
   ],
   "source": [
    "triangles = scipy.io.loadmat('triangles.mat')['tri']\n",
    "# print(triangles)\n",
    "\n",
    "def plot_face_mesh(face_points, triangles, title, elev=0, azim=0):\n",
    "  # Extract x, y, z coordinates from the face points\n",
    "  x = face_points[:113]  # Extract x-coordinates\n",
    "  y = face_points[113:226]  # Extract y-coordinates\n",
    "  z = face_points[226:]  # Extract z-coordinates\n",
    "\n",
    "  # Adjust triangles to 0-indexed (Python standard)\n",
    "  triangles_0_indexed = triangles - 1  # Convert from 1-indexed to 0-indexed\n",
    "\n",
    "  # Create a 3D plot\n",
    "  fig = plt.figure()\n",
    "  ax = fig.add_subplot(111, projection='3d')\n",
    "\n",
    "  # Plot the surface using the triangular mesh\n",
    "  ax.plot_trisurf(x, y, z, triangles=triangles_0_indexed, edgecolor='r', linewidth=0.5, cmap='viridis')\n",
    "\n",
    "  # Set plot labels and title\n",
    "  ax.set_xlabel('X')\n",
    "  ax.set_ylabel('Y')\n",
    "  ax.set_zlabel('Z')\n",
    "  ax.set_title(title)\n",
    "\n",
    "  # Set the view angle (elev and azim)\n",
    "  ax.view_init(elev=elev, azim=azim)\n",
    "\n",
    "  # Show plot\n",
    "  plt.show()\n",
    "\n",
    "plot_face_mesh(f_new, triangles, title=\"3D Face\", elev=90, azim=-90)\n",
    "\n"
   ]
  },
  {
   "cell_type": "code",
   "execution_count": null,
   "metadata": {},
   "outputs": [],
   "source": []
  }
 ],
 "metadata": {
  "kernelspec": {
   "display_name": "AML-CV",
   "language": "python",
   "name": "python3"
  },
  "language_info": {
   "codemirror_mode": {
    "name": "ipython",
    "version": 3
   },
   "file_extension": ".py",
   "mimetype": "text/x-python",
   "name": "python",
   "nbconvert_exporter": "python",
   "pygments_lexer": "ipython3",
   "version": "3.12.5"
  }
 },
 "nbformat": 4,
 "nbformat_minor": 2
}
