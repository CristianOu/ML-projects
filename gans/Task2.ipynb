{
 "cells": [
  {
   "cell_type": "markdown",
   "id": "dbb0a775a3a822a5",
   "metadata": {},
   "source": [
    "#  Task 2 - Implementation and fine-tuning of vision transformer\n",
    "\n",
    "Implementation and fine-tuning of a vision transformer for img classification\n",
    "\n",
    "This implementation took inspiration from the following [resource](https://huggingface.co/blog/fine-tune-vit)"
   ]
  },
  {
   "cell_type": "code",
   "execution_count": 2,
   "id": "46268ab4ec843d5e",
   "metadata": {
    "ExecuteTime": {
     "end_time": "2024-10-09T21:48:05.753267Z",
     "start_time": "2024-10-09T21:47:59.428204Z"
    }
   },
   "outputs": [],
   "source": [
    "# Import of all used libs\n",
    "import torch\n",
    "import torchvision\n",
    "import torchvision.transforms as transforms\n",
    "import matplotlib.pyplot as plt \n",
    "from transformers import ViTForImageClassification, ViTImageProcessor, TrainingArguments, Trainer\n",
    "from datasets import load_dataset\n",
    "from transformers import ViTFeatureExtractor\n",
    "import random\n",
    "from PIL import Image, ImageDraw\n",
    "import evaluate\n",
    "import numpy as np"
   ]
  },
  {
   "cell_type": "code",
   "execution_count": 3,
   "id": "b8ecce94c0fae88b",
   "metadata": {
    "ExecuteTime": {
     "end_time": "2024-10-09T21:48:07.606316Z",
     "start_time": "2024-10-09T21:48:05.765925Z"
    }
   },
   "outputs": [
    {
     "name": "stdout",
     "output_type": "stream",
     "text": [
      "Using device: cuda\n",
      "\n",
      "NVIDIA GeForce GTX 1650\n",
      "Memory Usage:\n",
      "Allocated: 0.0 GB\n",
      "Cached:    0.0 GB\n"
     ]
    }
   ],
   "source": [
    "# Cuda avail check\n",
    "device = torch.device('cuda' if torch.cuda.is_available() else 'cpu')\n",
    "print('Using device:', device)\n",
    "print()\n",
    "\n",
    "#Additional Info when using cuda\n",
    "if device.type == 'cuda':\n",
    "    print(torch.cuda.get_device_name(0))\n",
    "    print('Memory Usage:')\n",
    "    print('Allocated:', round(torch.cuda.memory_allocated(0)/1024**3,1), 'GB')\n",
    "    print('Cached:   ', round(torch.cuda.memory_reserved(0)/1024**3,1), 'GB')"
   ]
  },
  {
   "cell_type": "markdown",
   "id": "27aa5be326d48bbd",
   "metadata": {},
   "source": [
    "## Part a. CIFAR-10 Loading and pre-processing\n",
    "\n",
    "..."
   ]
  },
  {
   "cell_type": "code",
   "execution_count": 4,
   "id": "4bcc38e186f97ac2",
   "metadata": {
    "ExecuteTime": {
     "end_time": "2024-10-09T21:48:13.961858Z",
     "start_time": "2024-10-09T21:48:07.826773Z"
    }
   },
   "outputs": [
    {
     "name": "stderr",
     "output_type": "stream",
     "text": [
      "c:\\Users\\LEGION\\anaconda3\\envs\\AML-CV\\Lib\\site-packages\\huggingface_hub\\file_download.py:159: UserWarning: `huggingface_hub` cache-system uses symlinks by default to efficiently store duplicated files but your machine does not support them in C:\\Users\\LEGION\\.cache\\huggingface\\hub\\datasets--cifar10. Caching files will still work but in a degraded version that might require more space on your disk. This warning can be disabled by setting the `HF_HUB_DISABLE_SYMLINKS_WARNING` environment variable. For more details, see https://huggingface.co/docs/huggingface_hub/how-to-cache#limitations.\n",
      "To support symlinks on Windows, you either need to activate Developer Mode or to run Python as an administrator. In order to see activate developer mode, see this article: https://docs.microsoft.com/en-us/windows/apps/get-started/enable-your-device-for-development\n",
      "  warnings.warn(message)\n",
      "Generating train split: 100%|██████████| 50000/50000 [00:00<00:00, 80115.43 examples/s]\n",
      "Generating test split: 100%|██████████| 10000/10000 [00:00<00:00, 101200.71 examples/s]\n"
     ]
    },
    {
     "data": {
      "text/plain": [
       "DatasetDict({\n",
       "    train: Dataset({\n",
       "        features: ['img', 'label'],\n",
       "        num_rows: 50000\n",
       "    })\n",
       "    test: Dataset({\n",
       "        features: ['img', 'label'],\n",
       "        num_rows: 10000\n",
       "    })\n",
       "})"
      ]
     },
     "execution_count": 4,
     "metadata": {},
     "output_type": "execute_result"
    }
   ],
   "source": [
    "cifar10 = load_dataset('cifar10')\n",
    "cifar10"
   ]
  },
  {
   "cell_type": "code",
   "execution_count": 5,
   "id": "994bacf8fc6f9eca",
   "metadata": {
    "ExecuteTime": {
     "end_time": "2024-10-09T21:48:13.993515Z",
     "start_time": "2024-10-09T21:48:13.986927Z"
    }
   },
   "outputs": [],
   "source": [
    "from PIL import ImageFont\n",
    "\n",
    "def show_examples(ds, seed: int = 1234, examples_per_class: int = 3, size=(350, 350)):\n",
    "\n",
    "    w, h = size\n",
    "    labels = ds['train'].features['label'].names\n",
    "    grid = Image.new('RGB', size=(examples_per_class * w, len(labels) * h))\n",
    "    draw = ImageDraw.Draw(grid)\n",
    "    font = ImageFont.truetype('./LiberationMono-Bold.ttf', size=24)\n",
    "\n",
    "    for label_id, label in enumerate(labels):\n",
    "\n",
    "        # Filter the dataset by a single label, shuffle it, and grab a few samples\n",
    "        ds_slice = ds['train'].filter(lambda ex: ex['label'] == label_id).shuffle(seed).select(range(examples_per_class))\n",
    "\n",
    "        # Plot this label's examples along a row\n",
    "        for i, example in enumerate(ds_slice):\n",
    "            image = example['img']\n",
    "            idx = examples_per_class * label_id + i\n",
    "            box = (idx % examples_per_class * w, idx // examples_per_class * h)\n",
    "            grid.paste(image.resize(size), box=box)\n",
    "            draw.text(box, label, (255, 255, 255), font=font)\n",
    "\n",
    "    return grid"
   ]
  },
  {
   "cell_type": "code",
   "execution_count": 8,
   "id": "7e2229dbae23ac3d",
   "metadata": {
    "ExecuteTime": {
     "end_time": "2024-10-09T21:48:14.465578Z",
     "start_time": "2024-10-09T21:48:14.013959Z"
    }
   },
   "outputs": [
    {
     "ename": "OSError",
     "evalue": "cannot open resource",
     "output_type": "error",
     "traceback": [
      "\u001b[1;31m---------------------------------------------------------------------------\u001b[0m",
      "\u001b[1;31mOSError\u001b[0m                                   Traceback (most recent call last)",
      "Cell \u001b[1;32mIn[8], line 1\u001b[0m\n\u001b[1;32m----> 1\u001b[0m \u001b[43mshow_examples\u001b[49m\u001b[43m(\u001b[49m\u001b[43mcifar10\u001b[49m\u001b[43m,\u001b[49m\u001b[43m \u001b[49m\u001b[43mseed\u001b[49m\u001b[38;5;241;43m=\u001b[39;49m\u001b[43mrandom\u001b[49m\u001b[38;5;241;43m.\u001b[39;49m\u001b[43mrandint\u001b[49m\u001b[43m(\u001b[49m\u001b[38;5;241;43m0\u001b[39;49m\u001b[43m,\u001b[49m\u001b[43m \u001b[49m\u001b[38;5;241;43m1337\u001b[39;49m\u001b[43m)\u001b[49m\u001b[43m,\u001b[49m\u001b[43m \u001b[49m\u001b[43mexamples_per_class\u001b[49m\u001b[38;5;241;43m=\u001b[39;49m\u001b[38;5;241;43m3\u001b[39;49m\u001b[43m)\u001b[49m\n",
      "Cell \u001b[1;32mIn[5], line 9\u001b[0m, in \u001b[0;36mshow_examples\u001b[1;34m(ds, seed, examples_per_class, size)\u001b[0m\n\u001b[0;32m      7\u001b[0m grid \u001b[38;5;241m=\u001b[39m Image\u001b[38;5;241m.\u001b[39mnew(\u001b[38;5;124m'\u001b[39m\u001b[38;5;124mRGB\u001b[39m\u001b[38;5;124m'\u001b[39m, size\u001b[38;5;241m=\u001b[39m(examples_per_class \u001b[38;5;241m*\u001b[39m w, \u001b[38;5;28mlen\u001b[39m(labels) \u001b[38;5;241m*\u001b[39m h))\n\u001b[0;32m      8\u001b[0m draw \u001b[38;5;241m=\u001b[39m ImageDraw\u001b[38;5;241m.\u001b[39mDraw(grid)\n\u001b[1;32m----> 9\u001b[0m font \u001b[38;5;241m=\u001b[39m \u001b[43mImageFont\u001b[49m\u001b[38;5;241;43m.\u001b[39;49m\u001b[43mtruetype\u001b[49m\u001b[43m(\u001b[49m\u001b[38;5;124;43m'\u001b[39;49m\u001b[38;5;124;43m./LiberationMono-Bold.ttf\u001b[39;49m\u001b[38;5;124;43m'\u001b[39;49m\u001b[43m,\u001b[49m\u001b[43m \u001b[49m\u001b[43msize\u001b[49m\u001b[38;5;241;43m=\u001b[39;49m\u001b[38;5;241;43m24\u001b[39;49m\u001b[43m)\u001b[49m\n\u001b[0;32m     11\u001b[0m \u001b[38;5;28;01mfor\u001b[39;00m label_id, label \u001b[38;5;129;01min\u001b[39;00m \u001b[38;5;28menumerate\u001b[39m(labels):\n\u001b[0;32m     12\u001b[0m \n\u001b[0;32m     13\u001b[0m     \u001b[38;5;66;03m# Filter the dataset by a single label, shuffle it, and grab a few samples\u001b[39;00m\n\u001b[0;32m     14\u001b[0m     ds_slice \u001b[38;5;241m=\u001b[39m ds[\u001b[38;5;124m'\u001b[39m\u001b[38;5;124mtrain\u001b[39m\u001b[38;5;124m'\u001b[39m]\u001b[38;5;241m.\u001b[39mfilter(\u001b[38;5;28;01mlambda\u001b[39;00m ex: ex[\u001b[38;5;124m'\u001b[39m\u001b[38;5;124mlabel\u001b[39m\u001b[38;5;124m'\u001b[39m] \u001b[38;5;241m==\u001b[39m label_id)\u001b[38;5;241m.\u001b[39mshuffle(seed)\u001b[38;5;241m.\u001b[39mselect(\u001b[38;5;28mrange\u001b[39m(examples_per_class))\n",
      "File \u001b[1;32mc:\\Users\\LEGION\\anaconda3\\envs\\AML-CV\\Lib\\site-packages\\PIL\\ImageFont.py:834\u001b[0m, in \u001b[0;36mtruetype\u001b[1;34m(font, size, index, encoding, layout_engine)\u001b[0m\n\u001b[0;32m    831\u001b[0m     \u001b[38;5;28;01mreturn\u001b[39;00m FreeTypeFont(font, size, index, encoding, layout_engine)\n\u001b[0;32m    833\u001b[0m \u001b[38;5;28;01mtry\u001b[39;00m:\n\u001b[1;32m--> 834\u001b[0m     \u001b[38;5;28;01mreturn\u001b[39;00m \u001b[43mfreetype\u001b[49m\u001b[43m(\u001b[49m\u001b[43mfont\u001b[49m\u001b[43m)\u001b[49m\n\u001b[0;32m    835\u001b[0m \u001b[38;5;28;01mexcept\u001b[39;00m \u001b[38;5;167;01mOSError\u001b[39;00m:\n\u001b[0;32m    836\u001b[0m     \u001b[38;5;28;01mif\u001b[39;00m \u001b[38;5;129;01mnot\u001b[39;00m is_path(font):\n",
      "File \u001b[1;32mc:\\Users\\LEGION\\anaconda3\\envs\\AML-CV\\Lib\\site-packages\\PIL\\ImageFont.py:831\u001b[0m, in \u001b[0;36mtruetype.<locals>.freetype\u001b[1;34m(font)\u001b[0m\n\u001b[0;32m    830\u001b[0m \u001b[38;5;28;01mdef\u001b[39;00m \u001b[38;5;21mfreetype\u001b[39m(font: StrOrBytesPath \u001b[38;5;241m|\u001b[39m BinaryIO \u001b[38;5;241m|\u001b[39m \u001b[38;5;28;01mNone\u001b[39;00m) \u001b[38;5;241m-\u001b[39m\u001b[38;5;241m>\u001b[39m FreeTypeFont:\n\u001b[1;32m--> 831\u001b[0m     \u001b[38;5;28;01mreturn\u001b[39;00m \u001b[43mFreeTypeFont\u001b[49m\u001b[43m(\u001b[49m\u001b[43mfont\u001b[49m\u001b[43m,\u001b[49m\u001b[43m \u001b[49m\u001b[43msize\u001b[49m\u001b[43m,\u001b[49m\u001b[43m \u001b[49m\u001b[43mindex\u001b[49m\u001b[43m,\u001b[49m\u001b[43m \u001b[49m\u001b[43mencoding\u001b[49m\u001b[43m,\u001b[49m\u001b[43m \u001b[49m\u001b[43mlayout_engine\u001b[49m\u001b[43m)\u001b[49m\n",
      "File \u001b[1;32mc:\\Users\\LEGION\\anaconda3\\envs\\AML-CV\\Lib\\site-packages\\PIL\\ImageFont.py:257\u001b[0m, in \u001b[0;36mFreeTypeFont.__init__\u001b[1;34m(self, font, size, index, encoding, layout_engine)\u001b[0m\n\u001b[0;32m    255\u001b[0m                 load_from_bytes(f)\n\u001b[0;32m    256\u001b[0m             \u001b[38;5;28;01mreturn\u001b[39;00m\n\u001b[1;32m--> 257\u001b[0m     \u001b[38;5;28mself\u001b[39m\u001b[38;5;241m.\u001b[39mfont \u001b[38;5;241m=\u001b[39m \u001b[43mcore\u001b[49m\u001b[38;5;241;43m.\u001b[39;49m\u001b[43mgetfont\u001b[49m\u001b[43m(\u001b[49m\n\u001b[0;32m    258\u001b[0m \u001b[43m        \u001b[49m\u001b[43mfont\u001b[49m\u001b[43m,\u001b[49m\u001b[43m \u001b[49m\u001b[43msize\u001b[49m\u001b[43m,\u001b[49m\u001b[43m \u001b[49m\u001b[43mindex\u001b[49m\u001b[43m,\u001b[49m\u001b[43m \u001b[49m\u001b[43mencoding\u001b[49m\u001b[43m,\u001b[49m\u001b[43m \u001b[49m\u001b[43mlayout_engine\u001b[49m\u001b[38;5;241;43m=\u001b[39;49m\u001b[43mlayout_engine\u001b[49m\n\u001b[0;32m    259\u001b[0m \u001b[43m    \u001b[49m\u001b[43m)\u001b[49m\n\u001b[0;32m    260\u001b[0m \u001b[38;5;28;01melse\u001b[39;00m:\n\u001b[0;32m    261\u001b[0m     load_from_bytes(font)\n",
      "\u001b[1;31mOSError\u001b[0m: cannot open resource"
     ]
    }
   ],
   "source": [
    "show_examples(cifar10, seed=random.randint(0, 1337), examples_per_class=3)"
   ]
  },
  {
   "cell_type": "markdown",
   "id": "8a7e5989-b6d2-461c-abe4-a232a9069e5e",
   "metadata": {},
   "source": [
    "The images are being preprocessed by resizing them to 224x224 pixels, which is the required input size for the Vision Transformer (ViT). The `ViTImageProcessor` handles the following steps:\n",
    "\n",
    "1. **Resizing**: Images are resized to 224x224 using bilinear interpolation (`resample=2`).\n",
    "2. **Rescaling**: Pixel values are rescaled by a factor of 1/255 (`rescale_factor = 0.00392156862745098`), bringing them into the range [0, 1].\n",
    "3. **Normalization**: Standard normalization is applied using the following mean and standard deviation:\n",
    "   - `image_mean = [0.5, 0.5, 0.5]`\n",
    "   - `image_std = [0.5, 0.5, 0.5]`\n",
    "   This normalizes each channel (RGB) to have a mean of 0 and a standard deviation of 1.\n",
    "\n",
    "The transform function processes batches of images by converting them into PyTorch tensors and applying these preprocessing steps lazily, the preprocessor is obtained from the authors of the model I'm using."
   ]
  },
  {
   "cell_type": "code",
   "execution_count": 6,
   "id": "10968d2a3f00bc63",
   "metadata": {
    "ExecuteTime": {
     "end_time": "2024-10-09T21:48:14.620008Z",
     "start_time": "2024-10-09T21:48:14.494704Z"
    }
   },
   "outputs": [
    {
     "data": {
      "text/plain": [
       "ViTImageProcessor {\n",
       "  \"do_normalize\": true,\n",
       "  \"do_rescale\": true,\n",
       "  \"do_resize\": true,\n",
       "  \"image_mean\": [\n",
       "    0.5,\n",
       "    0.5,\n",
       "    0.5\n",
       "  ],\n",
       "  \"image_processor_type\": \"ViTImageProcessor\",\n",
       "  \"image_std\": [\n",
       "    0.5,\n",
       "    0.5,\n",
       "    0.5\n",
       "  ],\n",
       "  \"resample\": 2,\n",
       "  \"rescale_factor\": 0.00392156862745098,\n",
       "  \"size\": {\n",
       "    \"height\": 224,\n",
       "    \"width\": 224\n",
       "  }\n",
       "}"
      ]
     },
     "execution_count": 6,
     "metadata": {},
     "output_type": "execute_result"
    }
   ],
   "source": [
    "# Pre-processing of the dataset\n",
    "processor = ViTImageProcessor.from_pretrained('google/vit-base-patch16-224-in21k')\n",
    "processor"
   ]
  },
  {
   "cell_type": "code",
   "execution_count": 7,
   "id": "45aadadba5086168",
   "metadata": {
    "ExecuteTime": {
     "end_time": "2024-10-09T21:48:14.650301Z",
     "start_time": "2024-10-09T21:48:14.636105Z"
    }
   },
   "outputs": [],
   "source": [
    "# Function to apply the processor on each img\n",
    "def transform(example_batch):\n",
    "    # Take a list of PIL images and turn them to pixel values\n",
    "    inputs = processor([x for x in example_batch['img']], return_tensors='pt') #pt means pytorch tensor\n",
    "    inputs['label'] = example_batch['label']\n",
    "    return inputs\n",
    "\n",
    "prepared_cifar10 = cifar10.with_transform(transform)"
   ]
  },
  {
   "cell_type": "code",
   "execution_count": 8,
   "id": "d2f7fe215a8a557f",
   "metadata": {
    "ExecuteTime": {
     "end_time": "2024-10-09T21:48:14.726861Z",
     "start_time": "2024-10-09T21:48:14.667869Z"
    }
   },
   "outputs": [
    {
     "data": {
      "text/plain": [
       "{'pixel_values': tensor([[[[ 0.3961,  0.3961,  0.3961,  ...,  0.2941,  0.2941,  0.2941],\n",
       "          [ 0.3961,  0.3961,  0.3961,  ...,  0.2941,  0.2941,  0.2941],\n",
       "          [ 0.3961,  0.3961,  0.3961,  ...,  0.2941,  0.2941,  0.2941],\n",
       "          ...,\n",
       "          [-0.1922, -0.1922, -0.1922,  ..., -0.2863, -0.2863, -0.2863],\n",
       "          [-0.1922, -0.1922, -0.1922,  ..., -0.2863, -0.2863, -0.2863],\n",
       "          [-0.1922, -0.1922, -0.1922,  ..., -0.2863, -0.2863, -0.2863]],\n",
       "\n",
       "         [[ 0.3804,  0.3804,  0.3804,  ...,  0.2784,  0.2784,  0.2784],\n",
       "          [ 0.3804,  0.3804,  0.3804,  ...,  0.2784,  0.2784,  0.2784],\n",
       "          [ 0.3804,  0.3804,  0.3804,  ...,  0.2784,  0.2784,  0.2784],\n",
       "          ...,\n",
       "          [-0.2471, -0.2471, -0.2471,  ..., -0.3412, -0.3412, -0.3412],\n",
       "          [-0.2471, -0.2471, -0.2471,  ..., -0.3412, -0.3412, -0.3412],\n",
       "          [-0.2471, -0.2471, -0.2471,  ..., -0.3412, -0.3412, -0.3412]],\n",
       "\n",
       "         [[ 0.4824,  0.4824,  0.4824,  ...,  0.3647,  0.3647,  0.3647],\n",
       "          [ 0.4824,  0.4824,  0.4824,  ...,  0.3647,  0.3647,  0.3647],\n",
       "          [ 0.4824,  0.4824,  0.4824,  ...,  0.3647,  0.3647,  0.3647],\n",
       "          ...,\n",
       "          [-0.2784, -0.2784, -0.2784,  ..., -0.3961, -0.3961, -0.3961],\n",
       "          [-0.2784, -0.2784, -0.2784,  ..., -0.3961, -0.3961, -0.3961],\n",
       "          [-0.2784, -0.2784, -0.2784,  ..., -0.3961, -0.3961, -0.3961]]],\n",
       "\n",
       "\n",
       "        [[[-0.7725, -0.7725, -0.7725,  ...,  0.5608,  0.5608,  0.5608],\n",
       "          [-0.7725, -0.7725, -0.7725,  ...,  0.5608,  0.5608,  0.5608],\n",
       "          [-0.7725, -0.7725, -0.7725,  ...,  0.5608,  0.5608,  0.5608],\n",
       "          ...,\n",
       "          [-0.5843, -0.5843, -0.5843,  ..., -0.8196, -0.8196, -0.8196],\n",
       "          [-0.5843, -0.5843, -0.5843,  ..., -0.8196, -0.8196, -0.8196],\n",
       "          [-0.5843, -0.5843, -0.5843,  ..., -0.8196, -0.8196, -0.8196]],\n",
       "\n",
       "         [[-0.6627, -0.6627, -0.6627,  ...,  0.7412,  0.7412,  0.7412],\n",
       "          [-0.6627, -0.6627, -0.6627,  ...,  0.7412,  0.7412,  0.7412],\n",
       "          [-0.6627, -0.6627, -0.6627,  ...,  0.7412,  0.7412,  0.7412],\n",
       "          ...,\n",
       "          [-0.6863, -0.6863, -0.6863,  ..., -0.7882, -0.7882, -0.7882],\n",
       "          [-0.6863, -0.6863, -0.6863,  ..., -0.7882, -0.7882, -0.7882],\n",
       "          [-0.6863, -0.6863, -0.6863,  ..., -0.7882, -0.7882, -0.7882]],\n",
       "\n",
       "         [[-0.9216, -0.9216, -0.9216,  ...,  0.0980,  0.0980,  0.0980],\n",
       "          [-0.9216, -0.9216, -0.9216,  ...,  0.0980,  0.0980,  0.0980],\n",
       "          [-0.9216, -0.9216, -0.9216,  ...,  0.0980,  0.0980,  0.0980],\n",
       "          ...,\n",
       "          [-0.8196, -0.8196, -0.8196,  ..., -0.7647, -0.7647, -0.7647],\n",
       "          [-0.8196, -0.8196, -0.8196,  ..., -0.7647, -0.7647, -0.7647],\n",
       "          [-0.8196, -0.8196, -0.8196,  ..., -0.7647, -0.7647, -0.7647]]]]), 'label': [0, 6]}"
      ]
     },
     "execution_count": 8,
     "metadata": {},
     "output_type": "execute_result"
    }
   ],
   "source": [
    "prepared_cifar10['train'][0:2]"
   ]
  },
  {
   "cell_type": "markdown",
   "id": "a6496a04637bb265",
   "metadata": {},
   "source": [
    "## Part b. - Load Pre-Trained ViT model"
   ]
  },
  {
   "cell_type": "code",
   "execution_count": 9,
   "id": "ec044b351b9456e3",
   "metadata": {
    "ExecuteTime": {
     "end_time": "2024-10-09T21:48:15.579417Z",
     "start_time": "2024-10-09T21:48:14.743103Z"
    }
   },
   "outputs": [],
   "source": [
    "def collate_fn(batch):\n",
    "    return {\n",
    "        'pixel_values': torch.stack([x['pixel_values'] for x in batch]),\n",
    "        'labels': torch.tensor([x['label'] for x in batch])\n",
    "    }\n",
    "\n",
    "metric = evaluate.load('accuracy')\n",
    "def compute_metrics(p):\n",
    "    return metric.compute(predictions=np.argmax(p.predictions, axis=1), references=p.label_ids)"
   ]
  },
  {
   "cell_type": "code",
   "execution_count": 10,
   "id": "d6d8cb0d1664f182",
   "metadata": {
    "ExecuteTime": {
     "end_time": "2024-10-09T21:48:17.254690Z",
     "start_time": "2024-10-09T21:48:15.596581Z"
    }
   },
   "outputs": [
    {
     "name": "stderr",
     "output_type": "stream",
     "text": [
      "Some weights of ViTForImageClassification were not initialized from the model checkpoint at google/vit-base-patch16-224-in21k and are newly initialized: ['classifier.bias', 'classifier.weight']\n",
      "You should probably TRAIN this model on a down-stream task to be able to use it for predictions and inference.\n"
     ]
    },
    {
     "data": {
      "text/plain": [
       "ViTForImageClassification(\n",
       "  (vit): ViTModel(\n",
       "    (embeddings): ViTEmbeddings(\n",
       "      (patch_embeddings): ViTPatchEmbeddings(\n",
       "        (projection): Conv2d(3, 768, kernel_size=(16, 16), stride=(16, 16))\n",
       "      )\n",
       "      (dropout): Dropout(p=0.0, inplace=False)\n",
       "    )\n",
       "    (encoder): ViTEncoder(\n",
       "      (layer): ModuleList(\n",
       "        (0-11): 12 x ViTLayer(\n",
       "          (attention): ViTSdpaAttention(\n",
       "            (attention): ViTSdpaSelfAttention(\n",
       "              (query): Linear(in_features=768, out_features=768, bias=True)\n",
       "              (key): Linear(in_features=768, out_features=768, bias=True)\n",
       "              (value): Linear(in_features=768, out_features=768, bias=True)\n",
       "              (dropout): Dropout(p=0.0, inplace=False)\n",
       "            )\n",
       "            (output): ViTSelfOutput(\n",
       "              (dense): Linear(in_features=768, out_features=768, bias=True)\n",
       "              (dropout): Dropout(p=0.0, inplace=False)\n",
       "            )\n",
       "          )\n",
       "          (intermediate): ViTIntermediate(\n",
       "            (dense): Linear(in_features=768, out_features=3072, bias=True)\n",
       "            (intermediate_act_fn): GELUActivation()\n",
       "          )\n",
       "          (output): ViTOutput(\n",
       "            (dense): Linear(in_features=3072, out_features=768, bias=True)\n",
       "            (dropout): Dropout(p=0.0, inplace=False)\n",
       "          )\n",
       "          (layernorm_before): LayerNorm((768,), eps=1e-12, elementwise_affine=True)\n",
       "          (layernorm_after): LayerNorm((768,), eps=1e-12, elementwise_affine=True)\n",
       "        )\n",
       "      )\n",
       "    )\n",
       "    (layernorm): LayerNorm((768,), eps=1e-12, elementwise_affine=True)\n",
       "  )\n",
       "  (classifier): Linear(in_features=768, out_features=10, bias=True)\n",
       ")"
      ]
     },
     "execution_count": 10,
     "metadata": {},
     "output_type": "execute_result"
    }
   ],
   "source": [
    "labels = cifar10['train'].features['label'].names\n",
    "\n",
    "model = ViTForImageClassification.from_pretrained(\n",
    "    'google/vit-base-patch16-224-in21k',\n",
    "    num_labels=len(labels),\n",
    "    id2label={str(i): c for i, c in enumerate(labels)},\n",
    "    label2id={c: str(i) for i, c in enumerate(labels)}\n",
    ")\n",
    "model.to(device)"
   ]
  },
  {
   "cell_type": "markdown",
   "id": "a7eb304a6bc8b72b",
   "metadata": {},
   "source": [
    "## Part c. - Model Fine-Tuning\n",
    "\n",
    "### Layer freezing\n",
    "\n",
    "To prevent overfitting layers $0 - 9$ where frozen, the training was done only in the last 2 layers $+$ the classifier.\n",
    "\n",
    "\n",
    "\n"
   ]
  },
  {
   "cell_type": "code",
   "execution_count": 11,
   "id": "55b6117885ada6ea",
   "metadata": {
    "ExecuteTime": {
     "end_time": "2024-10-09T21:48:17.332725Z",
     "start_time": "2024-10-09T21:48:17.272874Z"
    },
    "editable": true,
    "slideshow": {
     "slide_type": ""
    },
    "tags": []
   },
   "outputs": [
    {
     "name": "stdout",
     "output_type": "stream",
     "text": [
      "vit.embeddings.cls_token: Trainable\n",
      "vit.embeddings.position_embeddings: Trainable\n",
      "vit.embeddings.patch_embeddings.projection.weight: Trainable\n",
      "vit.embeddings.patch_embeddings.projection.bias: Trainable\n",
      "vit.encoder.layer.0.attention.attention.query.weight: Frozen\n",
      "vit.encoder.layer.0.attention.attention.query.bias: Frozen\n",
      "vit.encoder.layer.0.attention.attention.key.weight: Frozen\n",
      "vit.encoder.layer.0.attention.attention.key.bias: Frozen\n",
      "vit.encoder.layer.0.attention.attention.value.weight: Frozen\n",
      "vit.encoder.layer.0.attention.attention.value.bias: Frozen\n",
      "vit.encoder.layer.0.attention.output.dense.weight: Frozen\n",
      "vit.encoder.layer.0.attention.output.dense.bias: Frozen\n",
      "vit.encoder.layer.0.intermediate.dense.weight: Frozen\n",
      "vit.encoder.layer.0.intermediate.dense.bias: Frozen\n",
      "vit.encoder.layer.0.output.dense.weight: Frozen\n",
      "vit.encoder.layer.0.output.dense.bias: Frozen\n",
      "vit.encoder.layer.0.layernorm_before.weight: Frozen\n",
      "vit.encoder.layer.0.layernorm_before.bias: Frozen\n",
      "vit.encoder.layer.0.layernorm_after.weight: Frozen\n",
      "vit.encoder.layer.0.layernorm_after.bias: Frozen\n",
      "vit.encoder.layer.1.attention.attention.query.weight: Frozen\n",
      "vit.encoder.layer.1.attention.attention.query.bias: Frozen\n",
      "vit.encoder.layer.1.attention.attention.key.weight: Frozen\n",
      "vit.encoder.layer.1.attention.attention.key.bias: Frozen\n",
      "vit.encoder.layer.1.attention.attention.value.weight: Frozen\n",
      "vit.encoder.layer.1.attention.attention.value.bias: Frozen\n",
      "vit.encoder.layer.1.attention.output.dense.weight: Frozen\n",
      "vit.encoder.layer.1.attention.output.dense.bias: Frozen\n",
      "vit.encoder.layer.1.intermediate.dense.weight: Frozen\n",
      "vit.encoder.layer.1.intermediate.dense.bias: Frozen\n",
      "vit.encoder.layer.1.output.dense.weight: Frozen\n",
      "vit.encoder.layer.1.output.dense.bias: Frozen\n",
      "vit.encoder.layer.1.layernorm_before.weight: Frozen\n",
      "vit.encoder.layer.1.layernorm_before.bias: Frozen\n",
      "vit.encoder.layer.1.layernorm_after.weight: Frozen\n",
      "vit.encoder.layer.1.layernorm_after.bias: Frozen\n",
      "vit.encoder.layer.2.attention.attention.query.weight: Frozen\n",
      "vit.encoder.layer.2.attention.attention.query.bias: Frozen\n",
      "vit.encoder.layer.2.attention.attention.key.weight: Frozen\n",
      "vit.encoder.layer.2.attention.attention.key.bias: Frozen\n",
      "vit.encoder.layer.2.attention.attention.value.weight: Frozen\n",
      "vit.encoder.layer.2.attention.attention.value.bias: Frozen\n",
      "vit.encoder.layer.2.attention.output.dense.weight: Frozen\n",
      "vit.encoder.layer.2.attention.output.dense.bias: Frozen\n",
      "vit.encoder.layer.2.intermediate.dense.weight: Frozen\n",
      "vit.encoder.layer.2.intermediate.dense.bias: Frozen\n",
      "vit.encoder.layer.2.output.dense.weight: Frozen\n",
      "vit.encoder.layer.2.output.dense.bias: Frozen\n",
      "vit.encoder.layer.2.layernorm_before.weight: Frozen\n",
      "vit.encoder.layer.2.layernorm_before.bias: Frozen\n",
      "vit.encoder.layer.2.layernorm_after.weight: Frozen\n",
      "vit.encoder.layer.2.layernorm_after.bias: Frozen\n",
      "vit.encoder.layer.3.attention.attention.query.weight: Frozen\n",
      "vit.encoder.layer.3.attention.attention.query.bias: Frozen\n",
      "vit.encoder.layer.3.attention.attention.key.weight: Frozen\n",
      "vit.encoder.layer.3.attention.attention.key.bias: Frozen\n",
      "vit.encoder.layer.3.attention.attention.value.weight: Frozen\n",
      "vit.encoder.layer.3.attention.attention.value.bias: Frozen\n",
      "vit.encoder.layer.3.attention.output.dense.weight: Frozen\n",
      "vit.encoder.layer.3.attention.output.dense.bias: Frozen\n",
      "vit.encoder.layer.3.intermediate.dense.weight: Frozen\n",
      "vit.encoder.layer.3.intermediate.dense.bias: Frozen\n",
      "vit.encoder.layer.3.output.dense.weight: Frozen\n",
      "vit.encoder.layer.3.output.dense.bias: Frozen\n",
      "vit.encoder.layer.3.layernorm_before.weight: Frozen\n",
      "vit.encoder.layer.3.layernorm_before.bias: Frozen\n",
      "vit.encoder.layer.3.layernorm_after.weight: Frozen\n",
      "vit.encoder.layer.3.layernorm_after.bias: Frozen\n",
      "vit.encoder.layer.4.attention.attention.query.weight: Frozen\n",
      "vit.encoder.layer.4.attention.attention.query.bias: Frozen\n",
      "vit.encoder.layer.4.attention.attention.key.weight: Frozen\n",
      "vit.encoder.layer.4.attention.attention.key.bias: Frozen\n",
      "vit.encoder.layer.4.attention.attention.value.weight: Frozen\n",
      "vit.encoder.layer.4.attention.attention.value.bias: Frozen\n",
      "vit.encoder.layer.4.attention.output.dense.weight: Frozen\n",
      "vit.encoder.layer.4.attention.output.dense.bias: Frozen\n",
      "vit.encoder.layer.4.intermediate.dense.weight: Frozen\n",
      "vit.encoder.layer.4.intermediate.dense.bias: Frozen\n",
      "vit.encoder.layer.4.output.dense.weight: Frozen\n",
      "vit.encoder.layer.4.output.dense.bias: Frozen\n",
      "vit.encoder.layer.4.layernorm_before.weight: Frozen\n",
      "vit.encoder.layer.4.layernorm_before.bias: Frozen\n",
      "vit.encoder.layer.4.layernorm_after.weight: Frozen\n",
      "vit.encoder.layer.4.layernorm_after.bias: Frozen\n",
      "vit.encoder.layer.5.attention.attention.query.weight: Frozen\n",
      "vit.encoder.layer.5.attention.attention.query.bias: Frozen\n",
      "vit.encoder.layer.5.attention.attention.key.weight: Frozen\n",
      "vit.encoder.layer.5.attention.attention.key.bias: Frozen\n",
      "vit.encoder.layer.5.attention.attention.value.weight: Frozen\n",
      "vit.encoder.layer.5.attention.attention.value.bias: Frozen\n",
      "vit.encoder.layer.5.attention.output.dense.weight: Frozen\n",
      "vit.encoder.layer.5.attention.output.dense.bias: Frozen\n",
      "vit.encoder.layer.5.intermediate.dense.weight: Frozen\n",
      "vit.encoder.layer.5.intermediate.dense.bias: Frozen\n",
      "vit.encoder.layer.5.output.dense.weight: Frozen\n",
      "vit.encoder.layer.5.output.dense.bias: Frozen\n",
      "vit.encoder.layer.5.layernorm_before.weight: Frozen\n",
      "vit.encoder.layer.5.layernorm_before.bias: Frozen\n",
      "vit.encoder.layer.5.layernorm_after.weight: Frozen\n",
      "vit.encoder.layer.5.layernorm_after.bias: Frozen\n",
      "vit.encoder.layer.6.attention.attention.query.weight: Frozen\n",
      "vit.encoder.layer.6.attention.attention.query.bias: Frozen\n",
      "vit.encoder.layer.6.attention.attention.key.weight: Frozen\n",
      "vit.encoder.layer.6.attention.attention.key.bias: Frozen\n",
      "vit.encoder.layer.6.attention.attention.value.weight: Frozen\n",
      "vit.encoder.layer.6.attention.attention.value.bias: Frozen\n",
      "vit.encoder.layer.6.attention.output.dense.weight: Frozen\n",
      "vit.encoder.layer.6.attention.output.dense.bias: Frozen\n",
      "vit.encoder.layer.6.intermediate.dense.weight: Frozen\n",
      "vit.encoder.layer.6.intermediate.dense.bias: Frozen\n",
      "vit.encoder.layer.6.output.dense.weight: Frozen\n",
      "vit.encoder.layer.6.output.dense.bias: Frozen\n",
      "vit.encoder.layer.6.layernorm_before.weight: Frozen\n",
      "vit.encoder.layer.6.layernorm_before.bias: Frozen\n",
      "vit.encoder.layer.6.layernorm_after.weight: Frozen\n",
      "vit.encoder.layer.6.layernorm_after.bias: Frozen\n",
      "vit.encoder.layer.7.attention.attention.query.weight: Frozen\n",
      "vit.encoder.layer.7.attention.attention.query.bias: Frozen\n",
      "vit.encoder.layer.7.attention.attention.key.weight: Frozen\n",
      "vit.encoder.layer.7.attention.attention.key.bias: Frozen\n",
      "vit.encoder.layer.7.attention.attention.value.weight: Frozen\n",
      "vit.encoder.layer.7.attention.attention.value.bias: Frozen\n",
      "vit.encoder.layer.7.attention.output.dense.weight: Frozen\n",
      "vit.encoder.layer.7.attention.output.dense.bias: Frozen\n",
      "vit.encoder.layer.7.intermediate.dense.weight: Frozen\n",
      "vit.encoder.layer.7.intermediate.dense.bias: Frozen\n",
      "vit.encoder.layer.7.output.dense.weight: Frozen\n",
      "vit.encoder.layer.7.output.dense.bias: Frozen\n",
      "vit.encoder.layer.7.layernorm_before.weight: Frozen\n",
      "vit.encoder.layer.7.layernorm_before.bias: Frozen\n",
      "vit.encoder.layer.7.layernorm_after.weight: Frozen\n",
      "vit.encoder.layer.7.layernorm_after.bias: Frozen\n",
      "vit.encoder.layer.8.attention.attention.query.weight: Frozen\n",
      "vit.encoder.layer.8.attention.attention.query.bias: Frozen\n",
      "vit.encoder.layer.8.attention.attention.key.weight: Frozen\n",
      "vit.encoder.layer.8.attention.attention.key.bias: Frozen\n",
      "vit.encoder.layer.8.attention.attention.value.weight: Frozen\n",
      "vit.encoder.layer.8.attention.attention.value.bias: Frozen\n",
      "vit.encoder.layer.8.attention.output.dense.weight: Frozen\n",
      "vit.encoder.layer.8.attention.output.dense.bias: Frozen\n",
      "vit.encoder.layer.8.intermediate.dense.weight: Frozen\n",
      "vit.encoder.layer.8.intermediate.dense.bias: Frozen\n",
      "vit.encoder.layer.8.output.dense.weight: Frozen\n",
      "vit.encoder.layer.8.output.dense.bias: Frozen\n",
      "vit.encoder.layer.8.layernorm_before.weight: Frozen\n",
      "vit.encoder.layer.8.layernorm_before.bias: Frozen\n",
      "vit.encoder.layer.8.layernorm_after.weight: Frozen\n",
      "vit.encoder.layer.8.layernorm_after.bias: Frozen\n",
      "vit.encoder.layer.9.attention.attention.query.weight: Frozen\n",
      "vit.encoder.layer.9.attention.attention.query.bias: Frozen\n",
      "vit.encoder.layer.9.attention.attention.key.weight: Frozen\n",
      "vit.encoder.layer.9.attention.attention.key.bias: Frozen\n",
      "vit.encoder.layer.9.attention.attention.value.weight: Frozen\n",
      "vit.encoder.layer.9.attention.attention.value.bias: Frozen\n",
      "vit.encoder.layer.9.attention.output.dense.weight: Frozen\n",
      "vit.encoder.layer.9.attention.output.dense.bias: Frozen\n",
      "vit.encoder.layer.9.intermediate.dense.weight: Frozen\n",
      "vit.encoder.layer.9.intermediate.dense.bias: Frozen\n",
      "vit.encoder.layer.9.output.dense.weight: Frozen\n",
      "vit.encoder.layer.9.output.dense.bias: Frozen\n",
      "vit.encoder.layer.9.layernorm_before.weight: Frozen\n",
      "vit.encoder.layer.9.layernorm_before.bias: Frozen\n",
      "vit.encoder.layer.9.layernorm_after.weight: Frozen\n",
      "vit.encoder.layer.9.layernorm_after.bias: Frozen\n",
      "vit.encoder.layer.10.attention.attention.query.weight: Trainable\n",
      "vit.encoder.layer.10.attention.attention.query.bias: Trainable\n",
      "vit.encoder.layer.10.attention.attention.key.weight: Trainable\n",
      "vit.encoder.layer.10.attention.attention.key.bias: Trainable\n",
      "vit.encoder.layer.10.attention.attention.value.weight: Trainable\n",
      "vit.encoder.layer.10.attention.attention.value.bias: Trainable\n",
      "vit.encoder.layer.10.attention.output.dense.weight: Trainable\n",
      "vit.encoder.layer.10.attention.output.dense.bias: Trainable\n",
      "vit.encoder.layer.10.intermediate.dense.weight: Trainable\n",
      "vit.encoder.layer.10.intermediate.dense.bias: Trainable\n",
      "vit.encoder.layer.10.output.dense.weight: Trainable\n",
      "vit.encoder.layer.10.output.dense.bias: Trainable\n",
      "vit.encoder.layer.10.layernorm_before.weight: Trainable\n",
      "vit.encoder.layer.10.layernorm_before.bias: Trainable\n",
      "vit.encoder.layer.10.layernorm_after.weight: Trainable\n",
      "vit.encoder.layer.10.layernorm_after.bias: Trainable\n",
      "vit.encoder.layer.11.attention.attention.query.weight: Trainable\n",
      "vit.encoder.layer.11.attention.attention.query.bias: Trainable\n",
      "vit.encoder.layer.11.attention.attention.key.weight: Trainable\n",
      "vit.encoder.layer.11.attention.attention.key.bias: Trainable\n",
      "vit.encoder.layer.11.attention.attention.value.weight: Trainable\n",
      "vit.encoder.layer.11.attention.attention.value.bias: Trainable\n",
      "vit.encoder.layer.11.attention.output.dense.weight: Trainable\n",
      "vit.encoder.layer.11.attention.output.dense.bias: Trainable\n",
      "vit.encoder.layer.11.intermediate.dense.weight: Trainable\n",
      "vit.encoder.layer.11.intermediate.dense.bias: Trainable\n",
      "vit.encoder.layer.11.output.dense.weight: Trainable\n",
      "vit.encoder.layer.11.output.dense.bias: Trainable\n",
      "vit.encoder.layer.11.layernorm_before.weight: Trainable\n",
      "vit.encoder.layer.11.layernorm_before.bias: Trainable\n",
      "vit.encoder.layer.11.layernorm_after.weight: Trainable\n",
      "vit.encoder.layer.11.layernorm_after.bias: Trainable\n",
      "vit.layernorm.weight: Trainable\n",
      "vit.layernorm.bias: Trainable\n",
      "classifier.weight: Trainable\n",
      "classifier.bias: Trainable\n"
     ]
    }
   ],
   "source": [
    "# Freezing of layers we don't want to train\n",
    "for name, param in model.named_parameters():\n",
    "    if \"encoder.layer\" in name:\n",
    "        layer_number = int(name.split('.')[3])\n",
    "        if layer_number < 10:  # Freeze layers 0-9, keep the last 2 \n",
    "            param.requires_grad = False\n",
    "\n",
    "for name, param in model.named_parameters():\n",
    "    print(f\"{name}: {'Trainable' if param.requires_grad else 'Frozen'}\")\n",
    "\n",
    "# Definition of training args\n",
    "training_args = TrainingArguments(\n",
    "  output_dir=\"./vit-base-beans\",\n",
    "  per_device_train_batch_size=32,\n",
    "  eval_strategy=\"epoch\",\n",
    "  save_strategy=\"epoch\",\n",
    "  optim=\"adamw_torch\",\n",
    "  lr_scheduler_type=\"linear\", # \n",
    "  num_train_epochs=3, # 3 epoch(s) to prevent overfitting\n",
    "  fp16=True, # Mixed 16 bit floating precision\n",
    "  save_steps=1000,\n",
    "  eval_steps=1000,\n",
    "  logging_steps=10,\n",
    "  learning_rate=2e-4,\n",
    "  save_total_limit=2,\n",
    "  remove_unused_columns=False, # Note \n",
    "  push_to_hub=False,\n",
    "  report_to='tensorboard',\n",
    "  load_best_model_at_end=True,\n",
    ")"
   ]
  },
  {
   "cell_type": "code",
   "execution_count": 12,
   "id": "b8c3941000937518",
   "metadata": {
    "ExecuteTime": {
     "end_time": "2024-10-09T21:48:17.629331Z",
     "start_time": "2024-10-09T21:48:17.457208Z"
    },
    "editable": true,
    "slideshow": {
     "slide_type": ""
    },
    "tags": []
   },
   "outputs": [],
   "source": [
    "# Training\n",
    "trainer = Trainer(\n",
    "    model=model,\n",
    "    args=training_args,\n",
    "    data_collator=collate_fn,\n",
    "    compute_metrics=compute_metrics,\n",
    "    train_dataset=prepared_cifar10[\"train\"],\n",
    "    eval_dataset=prepared_cifar10[\"test\"],\n",
    "    tokenizer=processor,\n",
    ")"
   ]
  },
  {
   "cell_type": "code",
   "execution_count": 13,
   "id": "d032954d066607f1",
   "metadata": {
    "ExecuteTime": {
     "end_time": "2024-10-09T22:06:25.576375Z",
     "start_time": "2024-10-09T21:48:17.712071Z"
    },
    "editable": true,
    "slideshow": {
     "slide_type": ""
    },
    "tags": []
   },
   "outputs": [
    {
     "data": {
      "text/html": [
       "\n",
       "    <div>\n",
       "      \n",
       "      <progress value='4689' max='4689' style='width:300px; height:20px; vertical-align: middle;'></progress>\n",
       "      [4689/4689 08:38, Epoch 3/3]\n",
       "    </div>\n",
       "    <table border=\"1\" class=\"dataframe\">\n",
       "  <thead>\n",
       " <tr style=\"text-align: left;\">\n",
       "      <th>Epoch</th>\n",
       "      <th>Training Loss</th>\n",
       "      <th>Validation Loss</th>\n",
       "      <th>Accuracy</th>\n",
       "    </tr>\n",
       "  </thead>\n",
       "  <tbody>\n",
       "    <tr>\n",
       "      <td>1</td>\n",
       "      <td>0.090200</td>\n",
       "      <td>0.091320</td>\n",
       "      <td>0.971900</td>\n",
       "    </tr>\n",
       "    <tr>\n",
       "      <td>2</td>\n",
       "      <td>0.048700</td>\n",
       "      <td>0.072549</td>\n",
       "      <td>0.978600</td>\n",
       "    </tr>\n",
       "    <tr>\n",
       "      <td>3</td>\n",
       "      <td>0.015400</td>\n",
       "      <td>0.066692</td>\n",
       "      <td>0.982200</td>\n",
       "    </tr>\n",
       "  </tbody>\n",
       "</table><p>"
      ],
      "text/plain": [
       "<IPython.core.display.HTML object>"
      ]
     },
     "metadata": {},
     "output_type": "display_data"
    },
    {
     "name": "stdout",
     "output_type": "stream",
     "text": [
      "***** train metrics *****\n",
      "  epoch                    =           3.0\n",
      "  total_flos               = 10826282096GF\n",
      "  train_loss               =        0.0754\n",
      "  train_runtime            =    0:08:39.50\n",
      "  train_samples_per_second =       288.737\n",
      "  train_steps_per_second   =         9.026\n"
     ]
    }
   ],
   "source": [
    "train_results = trainer.train()\n",
    "trainer.save_model()\n",
    "trainer.log_metrics(\"train\", train_results.metrics ) \n",
    "\n",
    "trainer.save_metrics(\"train\", train_results.metrics)\n",
    "trainer.save_state()"
   ]
  },
  {
   "cell_type": "code",
   "execution_count": 14,
   "id": "be57793480d335d8",
   "metadata": {
    "ExecuteTime": {
     "end_time": "2024-10-09T22:07:00.654594Z",
     "start_time": "2024-10-09T22:06:25.654732Z"
    }
   },
   "outputs": [
    {
     "data": {
      "text/html": [
       "\n",
       "    <div>\n",
       "      \n",
       "      <progress value='1250' max='1250' style='width:300px; height:20px; vertical-align: middle;'></progress>\n",
       "      [1250/1250 00:34]\n",
       "    </div>\n",
       "    "
      ],
      "text/plain": [
       "<IPython.core.display.HTML object>"
      ]
     },
     "metadata": {},
     "output_type": "display_data"
    },
    {
     "name": "stdout",
     "output_type": "stream",
     "text": [
      "***** eval metrics *****\n",
      "  epoch                   =        3.0\n",
      "  eval_accuracy           =     0.9822\n",
      "  eval_loss               =     0.0667\n",
      "  eval_runtime            = 0:00:34.40\n",
      "  eval_samples_per_second =    290.685\n",
      "  eval_steps_per_second   =     36.336\n"
     ]
    }
   ],
   "source": [
    "# Eval block\n",
    "metrics = trainer.evaluate(prepared_cifar10['test'])\n",
    "trainer.log_metrics(\"eval\", metrics)\n",
    "trainer.save_metrics(\"eval\", metrics)"
   ]
  },
  {
   "cell_type": "code",
   "execution_count": 15,
   "id": "1dcace07d5ea446e",
   "metadata": {
    "ExecuteTime": {
     "end_time": "2024-10-09T22:21:55.996454Z",
     "start_time": "2024-10-09T22:21:55.890083Z"
    }
   },
   "outputs": [
    {
     "data": {
      "image/png": "[encoded data removed]",
      "text/plain": [
       "<Figure size 1000x500 with 1 Axes>"
      ]
     },
     "metadata": {},
     "output_type": "display_data"
    }
   ],
   "source": [
    "# Training Curve Visualization\n",
    "\n",
    "log_history = trainer.state.log_history\n",
    "train_loss = []\n",
    "eval_loss = []\n",
    "train_accuracy = []\n",
    "eval_accuracy = []\n",
    "train_steps = []\n",
    "eval_steps = []\n",
    "\n",
    "for log in log_history:\n",
    "    if 'loss' in log.keys() and 'epoch' in log.keys():\n",
    "        train_loss.append(log['loss'])\n",
    "        train_steps.append(log['epoch']) \n",
    "    if 'eval_loss' in log.keys():\n",
    "        eval_loss.append(log['eval_loss'])\n",
    "        eval_steps.append(log['epoch'])\n",
    "    if 'eval_accuracy' in log.keys():\n",
    "        eval_accuracy.append(log['eval_accuracy'])\n",
    "\n",
    "plt.figure(figsize=(10, 5))\n",
    "plt.plot(train_steps, train_loss, label='Training Loss')\n",
    "plt.plot(eval_steps, eval_loss, label='Validation Loss')\n",
    "plt.xlabel('Epoch')\n",
    "plt.ylabel('Loss')\n",
    "plt.title('Training and Validation Loss Curves')\n",
    "plt.legend()\n",
    "plt.grid(True)\n",
    "plt.show()"
   ]
  },
  {
   "cell_type": "markdown",
   "id": "11e65f81332e19f4",
   "metadata": {},
   "source": [
    "## f. Attention map visualization (and infer test)"
   ]
  },
  {
   "cell_type": "markdown",
   "id": "5e8d56c2-d732-4c5e-8601-de6aca2d0d3f",
   "metadata": {},
   "source": [
    "Vision Transformers (ViTs) use self-attention mechanisms to focus on different parts of an image for classification. Attention maps visualize how much each patch in the image influences the model’s decision. These maps show which regions the model considers most important when making a prediction.\n",
    "\n",
    "In ViTs, the image is split into fixed-size patches (e.g., 16x16 pixels), which are then linearly embedded. Each patch interacts with every other patch through multi-head self-attention, allowing the model to capture both local and global relationships across the image."
   ]
  },
  {
   "cell_type": "code",
   "execution_count": 35,
   "id": "1f8eee2654074b92",
   "metadata": {
    "ExecuteTime": {
     "end_time": "2024-10-09T22:35:31.121243Z",
     "start_time": "2024-10-09T22:35:30.936414Z"
    },
    "editable": true,
    "slideshow": {
     "slide_type": ""
    },
    "tags": []
   },
   "outputs": [
    {
     "name": "stdout",
     "output_type": "stream",
     "text": [
      "Model outputs (logits): tensor([[-1.4523, -0.9883, -1.7749, -1.0151, -1.0336,  0.5870, -1.1491,  8.6559,\n",
      "         -1.3704, -0.6770]], device='cuda:0')\n",
      "Predicted label: 7, Actual label: 7\n",
      "Attentions:  (None, None, None, None, None, None, None, None, None, None, None, None)\n"
     ]
    },
    {
     "ename": "AttributeError",
     "evalue": "'NoneType' object has no attribute 'mean'",
     "output_type": "error",
     "traceback": [
      "\u001b[0;31m---------------------------------------------------------------------------\u001b[0m",
      "\u001b[0;31mAttributeError\u001b[0m                            Traceback (most recent call last)",
      "Cell \u001b[0;32mIn[35], line 29\u001b[0m\n\u001b[1;32m     26\u001b[0m \u001b[38;5;28mprint\u001b[39m(\u001b[38;5;124m\"\u001b[39m\u001b[38;5;124mAttentions: \u001b[39m\u001b[38;5;124m\"\u001b[39m, attentions) \u001b[38;5;66;03m# Attentions list is full of None for some reason...\u001b[39;00m\n\u001b[1;32m     27\u001b[0m attention \u001b[38;5;241m=\u001b[39m attentions[\u001b[38;5;241m-\u001b[39m\u001b[38;5;241m1\u001b[39m]       \u001b[38;5;66;03m# Shape: (batch_size, num_heads, seq_len, seq_len)\u001b[39;00m\n\u001b[0;32m---> 29\u001b[0m attention \u001b[38;5;241m=\u001b[39m \u001b[43mattention\u001b[49m\u001b[38;5;241;43m.\u001b[39;49m\u001b[43mmean\u001b[49m(dim\u001b[38;5;241m=\u001b[39m\u001b[38;5;241m1\u001b[39m)  \u001b[38;5;66;03m# Shape: (batch_size, seq_len, seq_len)\u001b[39;00m\n",
      "\u001b[0;31mAttributeError\u001b[0m: 'NoneType' object has no attribute 'mean'"
     ]
    }
   ],
   "source": [
    "vit_model = ViTForImageClassification.from_pretrained(\"./vit-base-beans\")\n",
    "vit_model.eval()\n",
    "vit_model.config.output_attentions = True\n",
    "vit_model.to(device)\n",
    "\n",
    "original_sample = cifar10['test'][20]\n",
    "image = original_sample['img']\n",
    "label = original_sample['label']\n",
    "    \n",
    "inputs = processor(images=image, return_tensors=\"pt\")\n",
    "inputs = {k: v.to(model.device) for k, v in inputs.items()}\n",
    "    \n",
    "# Forward pass\n",
    "with torch.no_grad():\n",
    "    outputs = vit_model(**inputs, output_attentions=True)\n",
    "\n",
    "print(f\"Model outputs (logits): {outputs.logits}\")\n",
    "\n",
    "predicted_label = torch.argmax(outputs.logits, dim=-1)\n",
    "print(f'Predicted label: {predicted_label.item()}, Actual label: {label}')\n",
    "\n",
    "attentions = outputs.attentions  # Tuple of (num_layers, batch_size, num_heads, seq_len, seq_len)\n",
    "print(\"Attentions: \", attentions) # Attentions list is full of None for some reason...\n",
    "attention = attentions[-1]       # Shape: (batch_size, num_heads, seq_len, seq_len)\n",
    "    \n",
    "attention = attention.mean(dim=1)  # Shape: (batch_size, seq_len, seq_len)"
   ]
  },
  {
   "cell_type": "code",
   "execution_count": 7,
   "id": "28184f35-7736-4653-a1f8-c9f5bb3ceaf9",
   "metadata": {},
   "outputs": [
    {
     "ename": "NameError",
     "evalue": "name 'attention' is not defined",
     "output_type": "error",
     "traceback": [
      "\u001b[1;31m---------------------------------------------------------------------------\u001b[0m",
      "\u001b[1;31mNameError\u001b[0m                                 Traceback (most recent call last)",
      "Cell \u001b[1;32mIn[7], line 2\u001b[0m\n\u001b[0;32m      1\u001b[0m \u001b[38;5;28;01mimport\u001b[39;00m \u001b[38;5;21;01mtorch\u001b[39;00m\u001b[38;5;21;01m.\u001b[39;00m\u001b[38;5;21;01mnn\u001b[39;00m\u001b[38;5;21;01m.\u001b[39;00m\u001b[38;5;21;01mfunctional\u001b[39;00m \u001b[38;5;28;01mas\u001b[39;00m \u001b[38;5;21;01mF\u001b[39;00m\n\u001b[1;32m----> 2\u001b[0m cls_attention \u001b[38;5;241m=\u001b[39m \u001b[43mattention\u001b[49m[:, \u001b[38;5;241m0\u001b[39m, \u001b[38;5;241m1\u001b[39m:]  \u001b[38;5;66;03m# Shape: (batch_size, seq_len - 1)\u001b[39;00m\n\u001b[0;32m      4\u001b[0m \u001b[38;5;66;03m# Reshape attention map to 2D spatial dimensions\u001b[39;00m\n\u001b[0;32m      5\u001b[0m num_patches \u001b[38;5;241m=\u001b[39m \u001b[38;5;28mint\u001b[39m(np\u001b[38;5;241m.\u001b[39msqrt(cls_attention\u001b[38;5;241m.\u001b[39mshape[\u001b[38;5;241m-\u001b[39m\u001b[38;5;241m1\u001b[39m]))\n",
      "\u001b[1;31mNameError\u001b[0m: name 'attention' is not defined"
     ]
    }
   ],
   "source": [
    "import torch.nn.functional as F\n",
    "cls_attention = attention[:, 0, 1:]  # Shape: (batch_size, seq_len - 1)\n",
    "    \n",
    "# Reshape attention map to 2D spatial dimensions\n",
    "num_patches = int(np.sqrt(cls_attention.shape[-1]))\n",
    "cls_attention = cls_attention.reshape(-1, num_patches, num_patches)\n",
    "    \n",
    "# Upsample the attention map to the image size\n",
    "cls_attention = F.interpolate(cls_attention.unsqueeze(1), size=(image.size[1], image.size[0]), mode='bilinear', align_corners=False)\n",
    "cls_attention = cls_attention.squeeze().cpu().numpy()\n",
    "    \n",
    "# Normalize attention map for visualization\n",
    "cls_attention = (cls_attention - cls_attention.min()) / (cls_attention.max() - cls_attention.min())\n",
    "    \n",
    "# Plot the original image and attention map\n",
    "plt.figure(figsize=(12, 6))\n",
    "    \n",
    "# Original Image\n",
    "plt.subplot(1, 2, 1)\n",
    "plt.imshow(image)\n",
    "plt.title(f'Original Image - Label: {label}')\n",
    "plt.axis('off')\n",
    "    \n",
    "# Attention Map Overlay\n",
    "plt.subplot(1, 2, 2)\n",
    "plt.imshow(image)\n",
    "plt.imshow(cls_attention, cmap='jet', alpha=0.5)\n",
    "plt.title('Attention Map Overlay')\n",
    "plt.axis('off')\n",
    "    \n",
    "plt.show()"
   ]
  }
 ],
 "metadata": {
  "kernelspec": {
   "display_name": "AML-CV",
   "language": "python",
   "name": "python3"
  },
  "language_info": {
   "codemirror_mode": {
    "name": "ipython",
    "version": 3
   },
   "file_extension": ".py",
   "mimetype": "text/x-python",
   "name": "python",
   "nbconvert_exporter": "python",
   "pygments_lexer": "ipython3",
   "version": "3.12.7"
  }
 },
 "nbformat": 4,
 "nbformat_minor": 5
}
