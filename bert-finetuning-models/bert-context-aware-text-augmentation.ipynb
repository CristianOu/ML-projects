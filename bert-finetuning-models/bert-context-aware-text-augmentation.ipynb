{
 "cells": [
  {
   "cell_type": "markdown",
   "metadata": {},
   "source": [
    "## Data Loading"
   ]
  },
  {
   "cell_type": "markdown",
   "metadata": {},
   "source": [
    " ### Tone Classification"
   ]
  },
  {
   "cell_type": "code",
   "execution_count": 1,
   "metadata": {},
   "outputs": [
    {
     "name": "stdout",
     "output_type": "stream",
     "text": [
      "TONE_POLARITY and TONE_FORMALITY datasets already exist\n"
     ]
    }
   ],
   "source": [
    "from datasets import load_dataset\n",
    "import os\n",
    "import pandas as pd\n",
    "from sklearn.model_selection import train_test_split\n",
    "from sklearn.preprocessing import LabelEncoder\n",
    "\n",
    "# Set CUDA_LAUNCH_BLOCKING to debug device-side errors\n",
    "os.environ[\"CUDA_LAUNCH_BLOCKING\"] = \"1\"\n",
    "\n",
    "# Check if TONE_POLARITY and TONE_FORMALITY train/eval datasets already exist\n",
    "if os.path.exists(\"tone_polarity_train.csv\") and os.path.exists(\"tone_polarity_eval.csv\") and \\\n",
    "   os.path.exists(\"tone_formality_train.csv\") and os.path.exists(\"tone_formality_eval.csv\") and \\\n",
    "    os.path.exists(\"tone_polarity_test.csv\") and os.path.exists(\"tone_formality_test.csv\"):\n",
    "    tone_polarity_train = pd.read_csv(\"tone_polarity_train.csv\")\n",
    "    tone_polarity_eval = pd.read_csv(\"tone_polarity_eval.csv\")\n",
    "    tone_formality_train = pd.read_csv(\"tone_formality_train.csv\")\n",
    "    tone_formality_eval = pd.read_csv(\"tone_formality_eval.csv\")\n",
    "    tone_polarity_test = pd.read_csv(\"tone_polarity_test.csv\")\n",
    "    tone_formality_test = pd.read_csv(\"tone_formality_test.csv\")\n",
    "    print(\"TONE_POLARITY and TONE_FORMALITY datasets already exist\")\n",
    "else:\n",
    "    print(\"Creating TONE_POLARITY and TONE_FORMALITY datasets...\")\n",
    "\n",
    "    # Step 1: Load and preprocess Amazon Polarity for TONE_POLARITY\n",
    "    tone_polarity = load_dataset(\"fancyzhx/amazon_polarity\")\n",
    "    tone_polarity_df = pd.DataFrame({\n",
    "        \"task_type\": \"TONE_POLARITY\",\n",
    "        \"input_text\": tone_polarity[\"train\"][\"content\"],\n",
    "        \"aux_text\": None,  # No auxiliary text for TONE_POLARITY\n",
    "        \"label\": tone_polarity[\"train\"][\"label\"],  # 1 = Positive, 0 = Negative\n",
    "    })\n",
    "\n",
    "    tone_polarity_test_df = pd.DataFrame({\n",
    "        \"task_type\": \"TONE_POLARITY\",\n",
    "        \"input_text\": tone_polarity[\"test\"][\"content\"],\n",
    "        \"aux_text\": None,  # No auxiliary text for TONE_POLARITY\n",
    "        \"label\": tone_polarity[\"test\"][\"label\"],  # 1 = Positive, 0 = Negative\n",
    "    })\n",
    "\n",
    "    # Sample the dataset to make it more manageable\n",
    "    tone_polarity_sampled = tone_polarity_df.sample(n=9200, random_state=42)\n",
    "    tone_polarity_train, tone_polarity_eval = train_test_split(tone_polarity_sampled, test_size=0.2, random_state=42)\n",
    "    tone_polarity_test_df = tone_polarity_test_df.sample(n=2000, random_state=42)\n",
    "\n",
    "    # Save TONE_POLARITY datasets\n",
    "    tone_polarity_train.to_csv(\"tone_polarity_train.csv\", index=False)\n",
    "    tone_polarity_eval.to_csv(\"tone_polarity_eval.csv\", index=False)\n",
    "    tone_polarity_test_df.to_csv(\"tone_polarity_test.csv\", index=False)\n",
    "\n",
    "    # Step 2: Load and preprocess Pavlick Formality Scores for TONE_FORMALITY\n",
    "    tone_formality = load_dataset(\"osyvokon/pavlick-formality-scores\")\n",
    "    tone_formality_df = pd.DataFrame({\n",
    "        \"task_type\": \"TONE_FORMALITY\",\n",
    "        \"input_text\": tone_formality[\"train\"][\"sentence\"],\n",
    "        \"aux_text\": None,  # No auxiliary text for TONE_FORMALITY\n",
    "        \"label\": tone_formality[\"train\"][\"avg_score\"],  # Keep as float for regression\n",
    "    })\n",
    "\n",
    "    tone_formality_test_df = pd.DataFrame({\n",
    "        \"task_type\": \"TONE_FORMALITY\",\n",
    "        \"input_text\": tone_formality[\"test\"][\"sentence\"],\n",
    "        \"aux_text\": None,  # No auxiliary text for TONE_FORMALITY\n",
    "        \"label\": tone_formality[\"test\"][\"avg_score\"],  # Keep as float for regression\n",
    "    })\n",
    "\n",
    "    tone_formality_train, tone_formality_eval = train_test_split(tone_formality_df, test_size=0.2, random_state=42)\n",
    "\n",
    "    # Save TONE_FORMALITY datasets\n",
    "    tone_formality_train.to_csv(\"tone_formality_train.csv\", index=False)\n",
    "    tone_formality_eval.to_csv(\"tone_formality_eval.csv\", index=False)\n",
    "    tone_formality_test_df.to_csv(\"tone_formality_test.csv\", index=False)\n",
    "\n",
    "    print(\"TONE_POLARITY and TONE_FORMALITY datasets created and saved\")"
   ]
  },
  {
   "cell_type": "markdown",
   "metadata": {},
   "source": [
    "### STS Benchmark"
   ]
  },
  {
   "cell_type": "code",
   "execution_count": 2,
   "metadata": {},
   "outputs": [
    {
     "name": "stdout",
     "output_type": "stream",
     "text": [
      "Loading existing STS dataset\n"
     ]
    }
   ],
   "source": [
    "if os.path.exists(\"sts_benchmark_dataset_train.csv\") and os.path.exists(\"sts_benchmark_dataset_eval.csv\") and os.path.exists(\"sts_benchmark_dataset_test.csv\"):\n",
    "    print(\"Loading existing STS dataset\")\n",
    "    sts_train_data = pd.read_csv(\"sts_benchmark_dataset_train.csv\")\n",
    "    sts_eval_data = pd.read_csv(\"sts_benchmark_dataset_eval.csv\")\n",
    "    sts_test_data = pd.read_csv(\"sts_benchmark_dataset_test.csv\")\n",
    "else:\n",
    "    print(\"Creating new STS CSV files\")\n",
    "    \n",
    "    # Load STS Benchmark\n",
    "    sts_dataset = load_dataset(\"mteb/stsbenchmark-sts\")\n",
    "    \n",
    "    # Training data\n",
    "    sts_train_data = pd.DataFrame({\n",
    "        \"task_type\": \"STS\",\n",
    "        \"input_text\": sts_dataset[\"train\"][\"sentence1\"],\n",
    "        \"aux_text\": sts_dataset[\"train\"][\"sentence2\"],\n",
    "        \"similarity_score\": sts_dataset[\"train\"][\"score\"],  # Similarity score (0–5)\n",
    "    })\n",
    "    \n",
    "    # Validation data\n",
    "    sts_eval_data = pd.DataFrame({\n",
    "        \"task_type\": \"STS\",\n",
    "        \"input_text\": sts_dataset[\"validation\"][\"sentence1\"],\n",
    "        \"aux_text\": sts_dataset[\"validation\"][\"sentence2\"],\n",
    "        \"similarity_score\": sts_dataset[\"validation\"][\"score\"],  # Similarity score (0–5)\n",
    "    })\n",
    "\n",
    "    sts_test_data = pd.DataFrame({\n",
    "        \"task_type\": \"STS\",\n",
    "        \"input_text\": sts_dataset[\"test\"][\"sentence1\"],\n",
    "        \"aux_text\": sts_dataset[\"test\"][\"sentence2\"],\n",
    "        \"similarity_score\": sts_dataset[\"test\"][\"score\"],  # Similarity score (0–5)\n",
    "    })\n",
    "    \n",
    "    # Save to CSV\n",
    "    sts_train_data.to_csv(\"sts_benchmark_dataset_train.csv\", index=False)\n",
    "    sts_eval_data.to_csv(\"sts_benchmark_dataset_eval.csv\", index=False)\n",
    "    sts_test_data.to_csv(\"sts_benchmark_dataset_test.csv\", index=False)\n",
    "    print(\"STS Benchmark Train and Eval datasets created and saved\")\n"
   ]
  },
  {
   "cell_type": "markdown",
   "metadata": {},
   "source": [
    "### PAWS"
   ]
  },
  {
   "cell_type": "code",
   "execution_count": 3,
   "metadata": {},
   "outputs": [
    {
     "name": "stdout",
     "output_type": "stream",
     "text": [
      "Loading existing PAWS dataset\n"
     ]
    }
   ],
   "source": [
    "if os.path.exists(\"paws_dataset_train.csv\") and os.path.exists(\"paws_dataset_eval.csv\") and os.path.exists(\"paws_dataset_test.csv\"):\n",
    "    print(\"Loading existing PAWS dataset\")\n",
    "    paws_train_data = pd.read_csv(\"paws_dataset_train.csv\")\n",
    "    paws_eval_data = pd.read_csv(\"paws_dataset_eval.csv\")\n",
    "    paws_test_data = pd.read_csv(\"paws_dataset_test.csv\")\n",
    "else:\n",
    "    print(\"Creating new PAWS CSV files\")\n",
    "\n",
    "    # Load PAWS\n",
    "    paws_dataset = load_dataset(\"paws\", \"labeled_final\")\n",
    "    \n",
    "    # Training data\n",
    "    paws_train_data = pd.DataFrame({\n",
    "        \"task_type\": \"PAWS\",\n",
    "        \"input_text\": paws_dataset[\"train\"][\"sentence1\"],\n",
    "        \"aux_text\": paws_dataset[\"train\"][\"sentence2\"],\n",
    "        \"paraphrase_label\": paws_dataset[\"train\"][\"label\"],  # 1 = Paraphrase, 0 = Not Paraphrase\n",
    "    })\n",
    "    \n",
    "    # Validation data\n",
    "    paws_eval_data = pd.DataFrame({\n",
    "        \"task_type\": \"PAWS\",\n",
    "        \"input_text\": paws_dataset[\"validation\"][\"sentence1\"],\n",
    "        \"aux_text\": paws_dataset[\"validation\"][\"sentence2\"],\n",
    "        \"paraphrase_label\": paws_dataset[\"validation\"][\"label\"],  # 1 = Paraphrase, 0 = Not Paraphrase\n",
    "    })\n",
    "\n",
    "    paws_test_data = pd.DataFrame({\n",
    "        \"task_type\": \"PAWS\",\n",
    "        \"input_text\": paws_dataset[\"test\"][\"sentence1\"],\n",
    "        \"aux_text\": paws_dataset[\"test\"][\"sentence2\"],\n",
    "        \"paraphrase_label\": paws_dataset[\"test\"][\"label\"],  # 1 = Paraphrase, 0 = Not Paraphrase\n",
    "    })\n",
    "    \n",
    "    paws_train_data = paws_train_data.sample(frac=0.1).reset_index(drop=True)\n",
    "    paws_eval_data = paws_eval_data.sample(frac=0.2).reset_index(drop=True)\n",
    "    paws_test_data = paws_test_data.sample(frac=0.2).reset_index(drop=True)\n",
    "\n",
    "    # Save to CSV\n",
    "    paws_train_data.to_csv(\"paws_dataset_train.csv\", index=False)\n",
    "    paws_eval_data.to_csv(\"paws_dataset_eval.csv\", index=False)\n",
    "    paws_test_data.to_csv(\"paws_dataset_test.csv\", index=False)\n",
    "    print(\"PAWS Train and Eval datasets created and saved\")\n"
   ]
  },
  {
   "cell_type": "markdown",
   "metadata": {},
   "source": [
    "### Combine Data"
   ]
  },
  {
   "cell_type": "code",
   "execution_count": 4,
   "metadata": {},
   "outputs": [
    {
     "name": "stdout",
     "output_type": "stream",
     "text": [
      "Number of TONE classes: 2\n",
      "Creating new combined datasets\n",
      "Combined Train Dataset Size: (2547, 4)\n",
      "Combined Eval Dataset Size: (544, 4)\n",
      "Combined Test Dataset Size: (1047, 4)\n",
      "        task_type                                         input_text  \\\n",
      "0  TONE_FORMALITY                                 they may help you.   \n",
      "1             STS  Syria tells Russia some troops have pulled out...   \n",
      "2             STS               Two dogs running through tall grass.   \n",
      "3  TONE_FORMALITY                     when you ran out of 7 dominos.   \n",
      "4   TONE_POLARITY  No problems. Fits the amp perfectly, and appea...   \n",
      "\n",
      "                                       aux_text     label  \n",
      "0                                           NaN  0.382609  \n",
      "1  Syria says troops have begun pullout – video  0.680000  \n",
      "2   Two dogs are running through a grassy area.  0.920000  \n",
      "3                                           NaN  0.313043  \n",
      "4                                           NaN  1.000000  \n",
      "        task_type                                         input_text  \\\n",
      "0  TONE_FORMALITY  It was for that story the he was presented wit...   \n",
      "1             STS         Black and white dog running through water.   \n",
      "2  TONE_FORMALITY  I can only wonder if your opponents on this is...   \n",
      "3            PAWS  Emily Ann Lloyd ( born Emily Ann Morelli on Ma...   \n",
      "4            PAWS  In 1938 he became the Government Anthropologis...   \n",
      "\n",
      "                                            aux_text     label  \n",
      "0                                                NaN  0.626087  \n",
      "1    A black and white dog is running through grass.  0.520000  \n",
      "2                                                NaN  0.826087  \n",
      "3  Emily Ann Lloyd ( born Emily Ann Morelli ; Mar...  1.000000  \n",
      "4  In 1938 he became anthropologist of the anglo-...  1.000000  \n",
      "        task_type                                         input_text  \\\n",
      "0             STS                     A man is dragging a dead deer.   \n",
      "1  TONE_FORMALITY  The Coast Guard identified its seven missing p...   \n",
      "2             STS  The man is sitting cross legged wearing a cloa...   \n",
      "3  TONE_FORMALITY  We could not have done this without the help o...   \n",
      "4   TONE_POLARITY  This is what might be called a \"light romance\"...   \n",
      "\n",
      "                                            aux_text     label  \n",
      "0          A man is jumping into water from a cliff.  0.160000  \n",
      "1                                                NaN  0.660870  \n",
      "2  Man sitting cross legged while wearing a brown...  0.760000  \n",
      "3                                                NaN  0.608696  \n",
      "4                                                NaN  0.000000  \n"
     ]
    }
   ],
   "source": [
    "import pandas as pd\n",
    "import os\n",
    "\n",
    "# Load individual datasets\n",
    "tone_polarity_train = pd.read_csv(\"tone_polarity_train.csv\")\n",
    "tone_polarity_eval = pd.read_csv(\"tone_polarity_eval.csv\")\n",
    "tone_polarity_test = pd.read_csv(\"tone_polarity_test.csv\")\n",
    "\n",
    "tone_formality_train = pd.read_csv(\"tone_formality_train.csv\")\n",
    "tone_formality_eval = pd.read_csv(\"tone_formality_eval.csv\")\n",
    "tone_formality_test = pd.read_csv(\"tone_formality_test.csv\")\n",
    "\n",
    "sts_train_data = pd.read_csv(\"sts_benchmark_dataset_train.csv\")\n",
    "sts_eval_data = pd.read_csv(\"sts_benchmark_dataset_eval.csv\")\n",
    "sts_test_data = pd.read_csv(\"sts_benchmark_dataset_test.csv\")\n",
    "\n",
    "paws_train_data = pd.read_csv(\"paws_dataset_train.csv\")\n",
    "paws_eval_data = pd.read_csv(\"paws_dataset_eval.csv\")\n",
    "paws_test_data = pd.read_csv(\"paws_dataset_test.csv\")\n",
    "\n",
    "sts_train_data.rename(columns={\"similarity_score\": \"label\"}, inplace=True)\n",
    "sts_eval_data.rename(columns={\"similarity_score\": \"label\"}, inplace=True)\n",
    "sts_test_data.rename(columns={\"similarity_score\": \"label\"}, inplace=True)\n",
    "\n",
    "paws_train_data.rename(columns={\"paraphrase_label\": \"label\"}, inplace=True)\n",
    "paws_eval_data.rename(columns={\"paraphrase_label\": \"label\"}, inplace=True)\n",
    "paws_test_data.rename(columns={\"paraphrase_label\": \"label\"}, inplace=True)\n",
    "\n",
    "# Encode TONE labels as integers\n",
    "tone_encoder = LabelEncoder()\n",
    "tone_polarity_train[\"label\"] = tone_encoder.fit_transform(tone_polarity_train[\"label\"]).astype(int)\n",
    "tone_polarity_eval[\"label\"] = tone_encoder.fit_transform(tone_polarity_eval[\"label\"]).astype(int)\n",
    "tone_polarity_test[\"label\"] = tone_encoder.fit_transform(tone_polarity_test[\"label\"]).astype(int)\n",
    "\n",
    "num_tone_classes = len(tone_encoder.classes_)\n",
    "print(f\"Number of TONE classes: {num_tone_classes}\")\n",
    "\n",
    "# Combine train datasets\n",
    "combined_train_data = pd.concat([tone_polarity_train, tone_formality_train, sts_train_data, paws_train_data], ignore_index=True)\n",
    "combined_train_data = combined_train_data.sample(frac=0.1, random_state=42).reset_index(drop=True)\n",
    "\n",
    "# Combine eval datasets\n",
    "combined_eval_data = pd.concat([tone_polarity_eval, tone_formality_eval, sts_eval_data, paws_eval_data], ignore_index=True)\n",
    "combined_eval_data = combined_eval_data.sample(frac=0.08, random_state=42).reset_index(drop=True)\n",
    "\n",
    "# Combine test datasets\n",
    "combined_test_data = pd.concat([tone_polarity_test, tone_formality_test, sts_test_data, paws_test_data], ignore_index=True)\n",
    "combined_test_data = combined_test_data.sample(frac=0.15, random_state=42).reset_index(drop=True)\n",
    "\n",
    "from sklearn.preprocessing import MinMaxScaler\n",
    "\n",
    "# Normalize float labels\n",
    "scaler = MinMaxScaler()\n",
    "combined_train_data.loc[combined_train_data['task_type'] == 'TONE_FORMALITY', 'label'] = scaler.fit_transform(\n",
    "    combined_train_data.loc[combined_train_data['task_type'] == 'TONE_FORMALITY', 'label'].values.reshape(-1, 1)\n",
    ")\n",
    "\n",
    "combined_eval_data.loc[combined_eval_data['task_type'] == 'TONE_FORMALITY', 'label'] = scaler.transform(\n",
    "    combined_eval_data.loc[combined_eval_data['task_type'] == 'TONE_FORMALITY', 'label'].values.reshape(-1, 1)\n",
    ")\n",
    "\n",
    "combined_test_data.loc[combined_test_data['task_type'] == 'TONE_FORMALITY', 'label'] = scaler.transform(\n",
    "    combined_test_data.loc[combined_test_data['task_type'] == 'TONE_FORMALITY', 'label'].values.reshape(-1, 1)\n",
    ")\n",
    "\n",
    "# STS normalization\n",
    "combined_train_data.loc[combined_train_data['task_type'] == 'STS', 'label'] = scaler.fit_transform(\n",
    "    combined_train_data.loc[combined_train_data['task_type'] == 'STS', 'label'].values.reshape(-1, 1)\n",
    ")\n",
    "combined_eval_data.loc[combined_eval_data['task_type'] == 'STS', 'label'] = scaler.transform(\n",
    "    combined_eval_data.loc[combined_eval_data['task_type'] == 'STS', 'label'].values.reshape(-1, 1)\n",
    ")\n",
    "\n",
    "combined_test_data.loc[combined_test_data['task_type'] == 'STS', 'label'] = scaler.transform(\n",
    "    combined_test_data.loc[combined_test_data['task_type'] == 'STS', 'label'].values.reshape(-1, 1)\n",
    ")\n",
    "\n",
    "# Save combined train and eval datasets\n",
    "if os.path.exists(\"combined_train.csv\") and os.path.exists(\"combined_eval.csv\") and os.path.exists(\"combined_test.csv\"):\n",
    "    print(\"Loading existing combined datasets\")\n",
    "    combined_train_data = pd.read_csv(\"combined_train.csv\")\n",
    "    combined_eval_data = pd.read_csv(\"combined_eval.csv\")\n",
    "    combined_test_data = pd.read_csv(\"combined_test.csv\")\n",
    "else:\n",
    "    print(\"Creating new combined datasets\")\n",
    "    combined_train_data.to_csv(\"combined_train.csv\", index=False)\n",
    "    combined_eval_data.to_csv(\"combined_eval.csv\", index=False)\n",
    "    combined_test_data.to_csv(\"combined_test.csv\", index=False)\n",
    "\n",
    "# Print results\n",
    "print(f\"Combined Train Dataset Size: {combined_train_data.shape}\")\n",
    "print(f\"Combined Eval Dataset Size: {combined_eval_data.shape}\")\n",
    "print(f\"Combined Test Dataset Size: {combined_test_data.shape}\")\n",
    "print(combined_train_data.head())\n",
    "print(combined_eval_data.head())\n",
    "print(combined_test_data.head())\n"
   ]
  },
  {
   "cell_type": "markdown",
   "metadata": {},
   "source": [
    "## Training Preparation"
   ]
  },
  {
   "cell_type": "markdown",
   "metadata": {},
   "source": [
    "### Tokenization"
   ]
  },
  {
   "cell_type": "code",
   "execution_count": 5,
   "metadata": {},
   "outputs": [
    {
     "name": "stdout",
     "output_type": "stream",
     "text": [
      "Tokenizing combined train data...\n",
      "Tokenizing combined eval data...\n",
      "Tokenizing combined test data...\n",
      "                count   mean  std    min    25%    50%    75%    max\n",
      "task_type                                                           \n",
      "PAWS            492.0  512.0  0.0  512.0  512.0  512.0  512.0  512.0\n",
      "STS             561.0  512.0  0.0  512.0  512.0  512.0  512.0  512.0\n",
      "TONE_FORMALITY  761.0  512.0  0.0  512.0  512.0  512.0  512.0  512.0\n",
      "TONE_POLARITY   733.0  512.0  0.0  512.0  512.0  512.0  512.0  512.0\n",
      "                count   mean  std    min    25%    50%    75%    max\n",
      "task_type                                                           \n",
      "PAWS            151.0  512.0  0.0  512.0  512.0  512.0  512.0  512.0\n",
      "STS              97.0  512.0  0.0  512.0  512.0  512.0  512.0  512.0\n",
      "TONE_FORMALITY  151.0  512.0  0.0  512.0  512.0  512.0  512.0  512.0\n",
      "TONE_POLARITY   145.0  512.0  0.0  512.0  512.0  512.0  512.0  512.0\n",
      "                count   mean  std    min    25%    50%    75%    max\n",
      "task_type                                                           \n",
      "PAWS            226.0  512.0  0.0  512.0  512.0  512.0  512.0  512.0\n",
      "STS             179.0  512.0  0.0  512.0  512.0  512.0  512.0  512.0\n",
      "TONE_FORMALITY  326.0  512.0  0.0  512.0  512.0  512.0  512.0  512.0\n",
      "TONE_POLARITY   316.0  512.0  0.0  512.0  512.0  512.0  512.0  512.0\n",
      "Tokenization complete.\n"
     ]
    }
   ],
   "source": [
    "from transformers import AutoTokenizer\n",
    "\n",
    "# Load tokenizer\n",
    "tokenizer = AutoTokenizer.from_pretrained(\"bert-base-uncased\")\n",
    "\n",
    "# Tokenize input and auxiliary text dynamically by task type\n",
    "def tokenize_data(dataframe, max_length):\n",
    "    input_ids, attention_masks = [], []\n",
    "\n",
    "    for _, row in dataframe.iterrows():\n",
    "        if pd.isna(row[\"aux_text\"]):  # Single-sentence input\n",
    "            tokenized = tokenizer(\n",
    "                row[\"input_text\"],\n",
    "                truncation=True,\n",
    "                padding=\"max_length\",\n",
    "                max_length=max_length,\n",
    "            )\n",
    "        else:  # Sentence-pair input\n",
    "            tokenized = tokenizer(\n",
    "                row[\"input_text\"],\n",
    "                row[\"aux_text\"],\n",
    "                truncation=True,\n",
    "                padding=\"max_length\",\n",
    "                max_length=max_length,\n",
    "            )\n",
    "\n",
    "        input_ids.append(tokenized[\"input_ids\"])\n",
    "        attention_masks.append(tokenized[\"attention_mask\"])\n",
    "\n",
    "    dataframe[\"input_ids\"] = input_ids\n",
    "    dataframe[\"attention_mask\"] = attention_masks\n",
    "    return dataframe\n",
    "\n",
    "# Load train and eval data\n",
    "combined_train_data = pd.read_csv(\"combined_train.csv\")\n",
    "combined_eval_data = pd.read_csv(\"combined_eval.csv\")\n",
    "combined_test_data = pd.read_csv(\"combined_test.csv\")\n",
    "\n",
    "# Tokenize combined train and eval datasets\n",
    "print(\"Tokenizing combined train data...\")\n",
    "combined_train_data = tokenize_data(combined_train_data, max_length=512)\n",
    "print(\"Tokenizing combined eval data...\")\n",
    "combined_eval_data = tokenize_data(combined_eval_data, max_length=512)\n",
    "print(\"Tokenizing combined test data...\")\n",
    "combined_test_data = tokenize_data(combined_test_data, max_length=512)\n",
    "\n",
    "combined_train_data[\"input_length\"] = combined_train_data[\"input_ids\"].apply(len)\n",
    "combined_eval_data[\"input_length\"] = combined_eval_data[\"input_ids\"].apply(len)\n",
    "combined_test_data[\"input_length\"] = combined_test_data[\"input_ids\"].apply(len)\n",
    "\n",
    "print(combined_train_data.groupby(\"task_type\")[\"input_length\"].describe())\n",
    "print(combined_eval_data.groupby(\"task_type\")[\"input_length\"].describe())\n",
    "print(combined_test_data.groupby(\"task_type\")[\"input_length\"].describe())\n",
    "\n",
    "print(\"Tokenization complete.\")"
   ]
  },
  {
   "cell_type": "code",
   "execution_count": 6,
   "metadata": {},
   "outputs": [],
   "source": [
    "import torch\n",
    "\n",
    "# Custom collate function for mixed-task batches\n",
    "def custom_collate(batch):\n",
    "    input_ids = [torch.tensor(item[\"input_ids\"], dtype=torch.long) for item in batch]\n",
    "    attention_masks = [torch.tensor(item[\"attention_mask\"], dtype=torch.long) for item in batch]\n",
    "    labels = [torch.tensor(item[\"label\"], dtype=torch.float if isinstance(item[\"label\"], float) else torch.long) for item in batch]\n",
    "    task_types = [item[\"task_type\"] for item in batch]\n",
    "\n",
    "    # Pad input_ids and attention_masks to the same length\n",
    "    input_ids = torch.nn.utils.rnn.pad_sequence(input_ids, batch_first=True, padding_value=0)\n",
    "    attention_masks = torch.nn.utils.rnn.pad_sequence(attention_masks, batch_first=True, padding_value=0)\n",
    "\n",
    "    # Convert labels into a tensor\n",
    "    labels = torch.stack(labels)\n",
    "\n",
    "    return {\n",
    "        \"input_ids\": input_ids,\n",
    "        \"attention_mask\": attention_masks,\n",
    "        \"labels\": labels,\n",
    "        \"task_type\": task_types,  # Keep task types as a list\n",
    "    }\n"
   ]
  },
  {
   "cell_type": "markdown",
   "metadata": {},
   "source": [
    "## Model Setup"
   ]
  },
  {
   "cell_type": "code",
   "execution_count": 7,
   "metadata": {},
   "outputs": [
    {
     "name": "stdout",
     "output_type": "stream",
     "text": [
      "Using device: cuda\n"
     ]
    }
   ],
   "source": [
    "import torch.nn as nn\n",
    "from transformers import AutoModel\n",
    "\n",
    "device = torch.device(\"cuda\" if torch.cuda.is_available() else \"cpu\")\n",
    "print(f\"Using device: {device}\")\n",
    "\n",
    "class MultiTaskBERT(nn.Module):\n",
    "    def __init__(self, base_model_name, num_tone_classes):\n",
    "        super(MultiTaskBERT, self).__init__()\n",
    "        self.bert = AutoModel.from_pretrained(base_model_name)\n",
    "        self.dropout = nn.Dropout(0.1)\n",
    "        # Task-specific heads\n",
    "        self.tone_polarity_classifier = nn.Linear(self.bert.config.hidden_size, 2)  # Binary classification\n",
    "        self.tone_formality_regressor = nn.Linear(self.bert.config.hidden_size, 1)  # Regression\n",
    "        self.sts_regressor = nn.Linear(self.bert.config.hidden_size, 1)  # Regression\n",
    "        self.paws_classifier = nn.Linear(self.bert.config.hidden_size, 2)  # Binary classification\n",
    "\n",
    "    def forward(self, input_ids, attention_mask, task_type):\n",
    "        outputs = self.bert(input_ids=input_ids, attention_mask=attention_mask)\n",
    "        pooled_output = outputs.pooler_output\n",
    "\n",
    "        if task_type == \"TONE_POLARITY\":\n",
    "            return self.tone_polarity_classifier(pooled_output)\n",
    "        elif task_type == \"TONE_FORMALITY\":\n",
    "            return self.tone_formality_regressor(pooled_output)\n",
    "        elif task_type == \"STS\":\n",
    "            return self.sts_regressor(pooled_output)\n",
    "        elif task_type == \"PAWS\":\n",
    "            return self.paws_classifier(pooled_output)"
   ]
  },
  {
   "cell_type": "markdown",
   "metadata": {},
   "source": [
    "### Dynamic Loss"
   ]
  },
  {
   "cell_type": "code",
   "execution_count": 8,
   "metadata": {},
   "outputs": [],
   "source": [
    "import torch\n",
    "import torch.nn as nn\n",
    "from transformers import AdamW\n",
    "from sklearn.utils.class_weight import compute_class_weight\n",
    "import numpy as np\n",
    "\n",
    "# Compute weights for TONE_POLARITY\n",
    "tone_polarity_labels = combined_train_data[combined_train_data['task_type'] == 'TONE_POLARITY']['label'].values\n",
    "class_weights = compute_class_weight('balanced', classes=np.unique(tone_polarity_labels), y=tone_polarity_labels)\n",
    "class_weights = torch.tensor(class_weights, dtype=torch.float).to(device)\n",
    "\n",
    "# Define losses\n",
    "classification_loss = nn.CrossEntropyLoss(weight=class_weights)  # For TONE_POLARITY and PAWS\n",
    "regression_loss = nn.MSELoss()\n",
    "# binary_loss = nn.BCEWithLogitsLoss()\n",
    "\n",
    "def compute_loss(task_type, outputs, labels):\n",
    "    if task_type == \"TONE_POLARITY\":\n",
    "        # Binary classification\n",
    "        return classification_loss(outputs, labels)\n",
    "    elif task_type == \"TONE_FORMALITY\":\n",
    "        # Regression\n",
    "        return regression_loss(outputs.squeeze(), labels)\n",
    "    elif task_type == \"STS\":\n",
    "        # Regression\n",
    "        return regression_loss(outputs.squeeze(), labels)\n",
    "    elif task_type == \"PAWS\":\n",
    "        # Binary classification\n",
    "        return classification_loss(outputs, labels)\n"
   ]
  },
  {
   "cell_type": "markdown",
   "metadata": {},
   "source": [
    "### Multi-Task Dataset"
   ]
  },
  {
   "cell_type": "code",
   "execution_count": 9,
   "metadata": {},
   "outputs": [],
   "source": [
    "from torch.utils.data import Dataset\n",
    "\n",
    "class MultiTaskDataset(Dataset):\n",
    "    def __init__(self, dataframe):\n",
    "        self.data = dataframe\n",
    "\n",
    "    def __len__(self):\n",
    "        return len(self.data)\n",
    "\n",
    "    def __getitem__(self, idx):\n",
    "        row = self.data.iloc[idx]\n",
    "        return {\n",
    "            \"input_ids\": row[\"input_ids\"],\n",
    "            \"attention_mask\": row[\"attention_mask\"],\n",
    "            \"label\": row[\"label\"],\n",
    "            \"task_type\": row[\"task_type\"],\n",
    "        }"
   ]
  },
  {
   "cell_type": "code",
   "execution_count": 10,
   "metadata": {},
   "outputs": [
    {
     "name": "stdout",
     "output_type": "stream",
     "text": [
      "Train DataLoader Batches: 160\n",
      "Eval DataLoader Batches: 34\n",
      "Test DataLoader Batches: 66\n"
     ]
    }
   ],
   "source": [
    "from torch.utils.data import DataLoader\n",
    "\n",
    "# Create train and eval datasets\n",
    "train_dataset = MultiTaskDataset(combined_train_data)\n",
    "eval_dataset = MultiTaskDataset(combined_eval_data)\n",
    "test_dataset = MultiTaskDataset(combined_test_data)\n",
    "\n",
    "# DataLoaders with custom collate function\n",
    "train_dataloader = DataLoader(train_dataset, batch_size=16, shuffle=True, collate_fn=custom_collate)\n",
    "eval_dataloader = DataLoader(eval_dataset, batch_size=16, shuffle=False, collate_fn=custom_collate)\n",
    "test_dataloader = DataLoader(test_dataset, batch_size=16, shuffle=False, collate_fn=custom_collate)\n",
    "\n",
    "print(f\"Train DataLoader Batches: {len(train_dataloader)}\")\n",
    "print(f\"Eval DataLoader Batches: {len(eval_dataloader)}\")\n",
    "print(f\"Test DataLoader Batches: {len(test_dataloader)}\")"
   ]
  },
  {
   "cell_type": "markdown",
   "metadata": {},
   "source": [
    "## Training/Evaluation"
   ]
  },
  {
   "cell_type": "code",
   "execution_count": 11,
   "metadata": {},
   "outputs": [],
   "source": [
    "from tqdm import tqdm\n",
    "\n",
    "def train_one_epoch(model, dataloader, optimizer, device, scheduler=None):\n",
    "    model.train()\n",
    "    epoch_loss = 0.0\n",
    "    task_losses = {\"TONE_POLARITY\": 0.0, \"TONE_FORMALITY\": 0.0, \"STS\": 0.0, \"PAWS\": 0.0}\n",
    "    batch_count = 0\n",
    "\n",
    "    progress_bar = tqdm(dataloader, desc=\"Training\", unit=\"batch\")\n",
    "    for batch in progress_bar:\n",
    "        optimizer.zero_grad()\n",
    "        batch_loss = 0.0\n",
    "\n",
    "        # Process each row in the batch\n",
    "        for i in range(len(batch[\"task_type\"])):\n",
    "            try:\n",
    "                task_type = batch[\"task_type\"][i]\n",
    "                inputs = {\n",
    "                    \"input_ids\": batch[\"input_ids\"][i].unsqueeze(0).to(device),\n",
    "                    \"attention_mask\": batch[\"attention_mask\"][i].unsqueeze(0).to(device),\n",
    "                }\n",
    "\n",
    "                # Dynamically convert labels based on task\n",
    "                if task_type == \"TONE_POLARITY\":\n",
    "                    labels = batch[\"labels\"][i].unsqueeze(0).to(device).long()\n",
    "                    assert labels.max() < num_tone_classes, f\"Label out of range for TONE: {labels.max()}\"\n",
    "                elif task_type == \"TONE_FORMALITY\":\n",
    "                    labels = batch[\"labels\"][i].unsqueeze(0).to(device).float()\n",
    "                    assert labels.dtype == torch.float, \"TONE_FORMALITY labels must be float.\"\n",
    "                elif task_type == \"STS\":\n",
    "                    labels = batch[\"labels\"][i].unsqueeze(0).to(device).float()\n",
    "                    assert labels.dtype == torch.float, \"STS labels must be float.\"\n",
    "                elif task_type == \"PAWS\":\n",
    "                    labels = batch[\"labels\"][i].unsqueeze(0).to(device).long()\n",
    "                    assert labels.max() <= 1, f\"Label out of range for PAWS: {labels.max()}\"\n",
    "\n",
    "                # Forward pass\n",
    "                outputs = model(**inputs, task_type=task_type)\n",
    "\n",
    "                # Compute loss\n",
    "                try:\n",
    "                    loss = compute_loss(task_type, outputs, labels)\n",
    "                    batch_loss += loss\n",
    "                except Exception as e:\n",
    "                    print(f\"Error with Task {task_type}: {e}\")\n",
    "                    print(f\"Labels Shape: {labels.shape}, Labels: {labels}\")\n",
    "                    print(f\"Outputs: {outputs}\")\n",
    "                    break\n",
    "\n",
    "                # Track task-specific loss\n",
    "                task_losses[task_type] += loss.item()\n",
    "\n",
    "            except Exception as e:\n",
    "                print(f\"Error with Task {task_type}: {e}\")\n",
    "                break\n",
    "\n",
    "        # Backward pass and optimization\n",
    "        batch_loss.backward()\n",
    "        optimizer.step()\n",
    "\n",
    "        # # Update learning rate (if scheduler updates per batch)\n",
    "        # if scheduler and hasattr(scheduler, \"step\"):\n",
    "        #     scheduler.step()\n",
    "\n",
    "        # Log current learning rate\n",
    "        current_lr = optimizer.param_groups[0][\"lr\"]\n",
    "        progress_bar.set_postfix({\"Batch Loss\": batch_loss.item(), \"Learning Rate\": current_lr})\n",
    "\n",
    "        # Log batch loss\n",
    "        epoch_loss += batch_loss.item()\n",
    "        batch_count += 1             \n",
    "\n",
    "    avg_loss = epoch_loss / batch_count\n",
    "    print(f\"Training Loss: {avg_loss:.4f}\", \"lr:\", optimizer.param_groups[0][\"lr\"])\n",
    "    print(f\"Task-Specific Training Losses: {task_losses}\")\n",
    "\n",
    "    return avg_loss, task_losses"
   ]
  },
  {
   "cell_type": "code",
   "execution_count": 12,
   "metadata": {},
   "outputs": [],
   "source": [
    "def validate_one_epoch(model, dataloader, device):\n",
    "    model.eval()\n",
    "    val_loss = 0.0\n",
    "    task_losses = {\"TONE_POLARITY\": 0.0, \"TONE_FORMALITY\": 0.0, \"STS\": 0.0, \"PAWS\": 0.0}\n",
    "    batch_count = 0\n",
    "\n",
    "    # Store predictions and labels\n",
    "    all_predictions = {\"TONE_POLARITY\": [], \"TONE_FORMALITY\": [], \"STS\": [], \"PAWS\": []}\n",
    "    all_labels = {\"TONE_POLARITY\": [], \"TONE_FORMALITY\": [], \"STS\": [], \"PAWS\": []}\n",
    "\n",
    "    progress_bar = tqdm(dataloader, desc=\"Validating\", unit=\"batch\")\n",
    "    with torch.no_grad():\n",
    "        for batch in progress_bar:\n",
    "            batch_val_loss = 0.0\n",
    "            for i in range(len(batch[\"task_type\"])):\n",
    "                task_type = batch[\"task_type\"][i]\n",
    "                inputs = {\n",
    "                    \"input_ids\": batch[\"input_ids\"][i].unsqueeze(0).to(device),\n",
    "                    \"attention_mask\": batch[\"attention_mask\"][i].unsqueeze(0).to(device),\n",
    "                }\n",
    "\n",
    "                # Convert labels dynamically\n",
    "                if task_type in [\"TONE_POLARITY\", \"PAWS\"]:\n",
    "                    labels = batch[\"labels\"][i].unsqueeze(0).to(device).long()\n",
    "                else:\n",
    "                    labels = batch[\"labels\"][i].unsqueeze(0).to(device).float()\n",
    "\n",
    "                # Forward pass\n",
    "                outputs = model(**inputs, task_type=task_type)\n",
    "\n",
    "                # Compute loss\n",
    "                loss = compute_loss(task_type, outputs, labels)\n",
    "                batch_val_loss += loss.item()\n",
    "                task_losses[task_type] += loss.item()\n",
    "\n",
    "                if task_type in [\"TONE_POLARITY\", \"PAWS\"]:\n",
    "                    # Classification: Ensure outputs are correctly processed\n",
    "                    predicted_labels = torch.argmax(outputs, dim=1).cpu().numpy()\n",
    "                    all_predictions[task_type].append(predicted_labels)\n",
    "                else:\n",
    "                    # Regression: Directly append the output\n",
    "                    predicted_labels = outputs.squeeze().cpu().numpy()\n",
    "                    all_predictions[task_type].append(np.array([predicted_labels]))\n",
    "\n",
    "                # Append labels (ensure they are arrays)\n",
    "                all_labels[task_type].append(labels.squeeze().cpu().numpy())\n",
    "\n",
    "            val_loss += batch_val_loss\n",
    "            batch_count += 1\n",
    "            progress_bar.set_postfix({\"Batch Loss\": batch_val_loss})\n",
    "\n",
    "    avg_loss = val_loss / batch_count\n",
    "\n",
    "    # Combine predictions and labels\n",
    "    for task in all_predictions.keys():\n",
    "        all_predictions[task] = np.concatenate(\n",
    "            [np.expand_dims(p, axis=0) if p.ndim == 0 else p for p in all_predictions[task]]\n",
    "        )\n",
    "        all_labels[task] = np.concatenate(\n",
    "            [np.expand_dims(l, axis=0) if l.ndim == 0 else l for l in all_labels[task]]\n",
    "        )\n",
    "\n",
    "    return avg_loss, task_losses, all_predictions, all_labels\n"
   ]
  },
  {
   "cell_type": "code",
   "execution_count": 13,
   "metadata": {},
   "outputs": [],
   "source": [
    "from sklearn.metrics import accuracy_score, mean_squared_error, f1_score\n",
    "from scipy.stats import pearsonr\n",
    "\n",
    "def compute_metrics(all_predictions, all_labels):\n",
    "    metrics = {}\n",
    "    for task in all_predictions.keys():\n",
    "        predictions = all_predictions[task]\n",
    "        labels = all_labels[task]\n",
    "\n",
    "        if task == \"TONE_POLARITY\":\n",
    "            metrics[task] = {\"Accuracy\": accuracy_score(labels, predictions)}\n",
    "        elif task == \"TONE_FORMALITY\":\n",
    "            # Flatten inputs to 1D arrays\n",
    "            predictions = np.ravel(predictions)\n",
    "            labels = np.ravel(labels)\n",
    "            if len(predictions) < 2 or len(labels) < 2:\n",
    "                print(f\"Not enough data for {task}: predictions={predictions}, labels={labels}\")\n",
    "                metrics[task] = {\"Pearson Corr\": None}\n",
    "                continue\n",
    "            pearson_corr, _ = pearsonr(labels, predictions)\n",
    "            metrics[task] = {\"Pearson Corr\": pearson_corr}\n",
    "        elif task == \"STS\":\n",
    "            # Flatten inputs to 1D arrays\n",
    "            predictions = np.ravel(predictions)\n",
    "            labels = np.ravel(labels)\n",
    "            if len(predictions) < 2 or len(labels) < 2:\n",
    "                print(f\"Not enough data for {task}: predictions={predictions}, labels={labels}\")\n",
    "                metrics[task] = {\"Pearson Corr\": None, \"MSE\": None}\n",
    "                continue\n",
    "            pearson_corr, _ = pearsonr(labels, predictions)\n",
    "            mse = mean_squared_error(labels, predictions)\n",
    "            metrics[task] = {\"Pearson Corr\": pearson_corr, \"MSE\": mse}\n",
    "        elif task == \"PAWS\":\n",
    "            metrics[task] = {\"F1 Score\": f1_score(labels, predictions)}\n",
    "\n",
    "    return metrics\n",
    "\n"
   ]
  },
  {
   "cell_type": "markdown",
   "metadata": {},
   "source": [
    "### Training Loop"
   ]
  },
  {
   "cell_type": "code",
   "execution_count": 14,
   "metadata": {},
   "outputs": [
    {
     "name": "stderr",
     "output_type": "stream",
     "text": [
      "c:\\Users\\mccry\\miniconda3\\envs\\itu-aml\\Lib\\site-packages\\transformers\\optimization.py:591: FutureWarning: This implementation of AdamW is deprecated and will be removed in a future version. Use the PyTorch implementation torch.optim.AdamW instead, or set `no_deprecation_warning=True` to disable this warning\n",
      "  warnings.warn(\n"
     ]
    },
    {
     "name": "stdout",
     "output_type": "stream",
     "text": [
      "\n",
      "Starting Epoch 1/10...\n"
     ]
    },
    {
     "name": "stderr",
     "output_type": "stream",
     "text": [
      "Training:   0%|          | 0/160 [00:00<?, ?batch/s]c:\\Users\\mccry\\miniconda3\\envs\\itu-aml\\Lib\\site-packages\\torch\\nn\\modules\\loss.py:608: UserWarning: Using a target size (torch.Size([1])) that is different to the input size (torch.Size([])). This will likely lead to incorrect results due to broadcasting. Please ensure they have the same size.\n",
      "  return F.mse_loss(input, target, reduction=self.reduction)\n",
      "Training: 100%|██████████| 160/160 [02:40<00:00,  1.00s/batch, Batch Loss=1.75, Learning Rate=2e-5]\n"
     ]
    },
    {
     "name": "stdout",
     "output_type": "stream",
     "text": [
      "Training Loss: 5.7155 lr: 2e-05\n",
      "Task-Specific Training Losses: {'TONE_POLARITY': 480.737031891942, 'TONE_FORMALITY': 44.813665180212666, 'STS': 47.6946028726191, 'PAWS': 341.2384021282196}\n"
     ]
    },
    {
     "name": "stderr",
     "output_type": "stream",
     "text": [
      "Validating: 100%|██████████| 34/34 [00:19<00:00,  1.77batch/s, Batch Loss=2.48]\n"
     ]
    },
    {
     "name": "stdout",
     "output_type": "stream",
     "text": [
      "Validation Loss: 5.6042\n",
      "Task-Specific Validation Losses: {'TONE_POLARITY': [], 'TONE_FORMALITY': [], 'STS': [], 'PAWS': []}\n",
      "Metrics:\n",
      "TONE_POLARITY: {'Accuracy': 0.8620689655172413}\n",
      "TONE_FORMALITY: {'Pearson Corr': 0.5877444736537867}\n",
      "STS: {'Pearson Corr': 0.4239080077771606, 'MSE': 0.10610559}\n",
      "PAWS: {'F1 Score': 0.11764705882352941}\n",
      "\n",
      "Starting Epoch 2/10...\n"
     ]
    },
    {
     "name": "stderr",
     "output_type": "stream",
     "text": [
      "Training:   0%|          | 0/160 [00:00<?, ?batch/s]c:\\Users\\mccry\\miniconda3\\envs\\itu-aml\\Lib\\site-packages\\torch\\nn\\modules\\loss.py:608: UserWarning: Using a target size (torch.Size([1])) that is different to the input size (torch.Size([])). This will likely lead to incorrect results due to broadcasting. Please ensure they have the same size.\n",
      "  return F.mse_loss(input, target, reduction=self.reduction)\n",
      "Training: 100%|██████████| 160/160 [02:48<00:00,  1.05s/batch, Batch Loss=0.851, Learning Rate=2e-5]\n"
     ]
    },
    {
     "name": "stdout",
     "output_type": "stream",
     "text": [
      "Training Loss: 3.9553 lr: 2e-05\n",
      "Task-Specific Training Losses: {'TONE_POLARITY': 251.8396256417036, 'TONE_FORMALITY': 21.70254821526665, 'STS': 34.78601942328032, 'PAWS': 324.519906938076}\n"
     ]
    },
    {
     "name": "stderr",
     "output_type": "stream",
     "text": [
      "Validating: 100%|██████████| 34/34 [00:18<00:00,  1.80batch/s, Batch Loss=1.76]\n"
     ]
    },
    {
     "name": "stdout",
     "output_type": "stream",
     "text": [
      "Validation Loss: 4.4936\n",
      "Task-Specific Validation Losses: {'TONE_POLARITY': [67.61775949597359], 'TONE_FORMALITY': [5.862886315249455], 'STS': [10.292241550547033], 'PAWS': [106.76886287331581]}\n",
      "Metrics:\n",
      "TONE_POLARITY: {'Accuracy': 0.903448275862069}\n",
      "TONE_FORMALITY: {'Pearson Corr': 0.7042287090193096}\n",
      "STS: {'Pearson Corr': 0.6298457624434193, 'MSE': 0.06052242}\n",
      "PAWS: {'F1 Score': 0.3157894736842105}\n",
      "\n",
      "Starting Epoch 3/10...\n"
     ]
    },
    {
     "name": "stderr",
     "output_type": "stream",
     "text": [
      "Training:   0%|          | 0/160 [00:00<?, ?batch/s]c:\\Users\\mccry\\miniconda3\\envs\\itu-aml\\Lib\\site-packages\\torch\\nn\\modules\\loss.py:608: UserWarning: Using a target size (torch.Size([1])) that is different to the input size (torch.Size([])). This will likely lead to incorrect results due to broadcasting. Please ensure they have the same size.\n",
      "  return F.mse_loss(input, target, reduction=self.reduction)\n",
      "Training: 100%|██████████| 160/160 [02:26<00:00,  1.09batch/s, Batch Loss=1.05, Learning Rate=2e-5] \n"
     ]
    },
    {
     "name": "stdout",
     "output_type": "stream",
     "text": [
      "Training Loss: 3.1479 lr: 2e-05\n",
      "Task-Specific Training Losses: {'TONE_POLARITY': 162.72294370271266, 'TONE_FORMALITY': 16.766248682234618, 'STS': 27.30438957758878, 'PAWS': 296.8706812262535}\n"
     ]
    },
    {
     "name": "stderr",
     "output_type": "stream",
     "text": [
      "Validating: 100%|██████████| 34/34 [00:18<00:00,  1.86batch/s, Batch Loss=1.43]\n"
     ]
    },
    {
     "name": "stdout",
     "output_type": "stream",
     "text": [
      "Validation Loss: 4.8867\n",
      "Task-Specific Validation Losses: {'TONE_POLARITY': [67.61775949597359, 35.14633794873953], 'TONE_FORMALITY': [5.862886315249455, 4.571013827651086], 'STS': [10.292241550547033, 5.87067460759863], 'PAWS': [106.76886287331581, 107.192911952734]}\n",
      "Metrics:\n",
      "TONE_POLARITY: {'Accuracy': 0.8827586206896552}\n",
      "TONE_FORMALITY: {'Pearson Corr': 0.6788338342975789}\n",
      "STS: {'Pearson Corr': 0.5953849891770914, 'MSE': 0.06585486}\n",
      "PAWS: {'F1 Score': 0.6190476190476191}\n",
      "\n",
      "Starting Epoch 4/10...\n"
     ]
    },
    {
     "name": "stderr",
     "output_type": "stream",
     "text": [
      "Training:   0%|          | 0/160 [00:00<?, ?batch/s]c:\\Users\\mccry\\miniconda3\\envs\\itu-aml\\Lib\\site-packages\\torch\\nn\\modules\\loss.py:608: UserWarning: Using a target size (torch.Size([1])) that is different to the input size (torch.Size([])). This will likely lead to incorrect results due to broadcasting. Please ensure they have the same size.\n",
      "  return F.mse_loss(input, target, reduction=self.reduction)\n",
      "Training: 100%|██████████| 160/160 [02:25<00:00,  1.10batch/s, Batch Loss=0.736, Learning Rate=2e-5]\n"
     ]
    },
    {
     "name": "stdout",
     "output_type": "stream",
     "text": [
      "Training Loss: 2.5312 lr: 2e-05\n",
      "Task-Specific Training Losses: {'TONE_POLARITY': 111.43597141467035, 'TONE_FORMALITY': 15.162008450235263, 'STS': 23.490467376054994, 'PAWS': 254.90011398494244}\n"
     ]
    },
    {
     "name": "stderr",
     "output_type": "stream",
     "text": [
      "Validating: 100%|██████████| 34/34 [00:19<00:00,  1.76batch/s, Batch Loss=1.41]\n"
     ]
    },
    {
     "name": "stdout",
     "output_type": "stream",
     "text": [
      "Validation Loss: 4.5371\n",
      "Task-Specific Validation Losses: {'TONE_POLARITY': [67.61775949597359, 35.14633794873953, 47.90322977863252], 'TONE_FORMALITY': [5.862886315249455, 4.571013827651086, 5.018941059086956], 'STS': [10.292241550547033, 5.87067460759863, 6.387921232151712], 'PAWS': [106.76886287331581, 107.192911952734, 106.83827745914459]}\n",
      "Metrics:\n",
      "TONE_POLARITY: {'Accuracy': 0.9172413793103448}\n",
      "TONE_FORMALITY: {'Pearson Corr': 0.7141569180948326}\n",
      "STS: {'Pearson Corr': 0.5704790044700655, 'MSE': 0.08865753}\n",
      "PAWS: {'F1 Score': 0.5695364238410596}\n",
      "\n",
      "Starting Epoch 5/10...\n"
     ]
    },
    {
     "name": "stderr",
     "output_type": "stream",
     "text": [
      "Training:   0%|          | 0/160 [00:00<?, ?batch/s]c:\\Users\\mccry\\miniconda3\\envs\\itu-aml\\Lib\\site-packages\\torch\\nn\\modules\\loss.py:608: UserWarning: Using a target size (torch.Size([1])) that is different to the input size (torch.Size([])). This will likely lead to incorrect results due to broadcasting. Please ensure they have the same size.\n",
      "  return F.mse_loss(input, target, reduction=self.reduction)\n",
      "Training: 100%|██████████| 160/160 [02:21<00:00,  1.13batch/s, Batch Loss=0.37, Learning Rate=2e-6] \n"
     ]
    },
    {
     "name": "stdout",
     "output_type": "stream",
     "text": [
      "Training Loss: 1.7710 lr: 2.0000000000000003e-06\n",
      "Task-Specific Training Losses: {'TONE_POLARITY': 69.45110149495304, 'TONE_FORMALITY': 13.00748609178779, 'STS': 19.2923292511247, 'PAWS': 181.60214403271675}\n"
     ]
    },
    {
     "name": "stderr",
     "output_type": "stream",
     "text": [
      "Validating: 100%|██████████| 34/34 [00:17<00:00,  1.89batch/s, Batch Loss=1.14]\n"
     ]
    },
    {
     "name": "stdout",
     "output_type": "stream",
     "text": [
      "Validation Loss: 4.6282\n",
      "Task-Specific Validation Losses: {'TONE_POLARITY': [67.61775949597359, 35.14633794873953, 47.90322977863252, 30.809024633839726], 'TONE_FORMALITY': [5.862886315249455, 4.571013827651086, 5.018941059086956, 4.284731402582281], 'STS': [10.292241550547033, 5.87067460759863, 6.387921232151712, 8.599780948571237], 'PAWS': [106.76886287331581, 107.192911952734, 106.83827745914459, 110.56875635683537]}\n",
      "Metrics:\n",
      "TONE_POLARITY: {'Accuracy': 0.9172413793103448}\n",
      "TONE_FORMALITY: {'Pearson Corr': 0.7064878279157871}\n",
      "STS: {'Pearson Corr': 0.5604251866233203, 'MSE': 0.07647006}\n",
      "PAWS: {'F1 Score': 0.5035971223021583}\n",
      "\n",
      "Starting Epoch 6/10...\n"
     ]
    },
    {
     "name": "stderr",
     "output_type": "stream",
     "text": [
      "Training:   0%|          | 0/160 [00:00<?, ?batch/s]c:\\Users\\mccry\\miniconda3\\envs\\itu-aml\\Lib\\site-packages\\torch\\nn\\modules\\loss.py:608: UserWarning: Using a target size (torch.Size([1])) that is different to the input size (torch.Size([])). This will likely lead to incorrect results due to broadcasting. Please ensure they have the same size.\n",
      "  return F.mse_loss(input, target, reduction=self.reduction)\n",
      "Training: 100%|██████████| 160/160 [02:18<00:00,  1.16batch/s, Batch Loss=0.106, Learning Rate=2e-6]\n"
     ]
    },
    {
     "name": "stdout",
     "output_type": "stream",
     "text": [
      "Training Loss: 1.6695 lr: 2.0000000000000003e-06\n",
      "Task-Specific Training Losses: {'TONE_POLARITY': 69.93412495497614, 'TONE_FORMALITY': 12.633876246713502, 'STS': 16.67689278741856, 'PAWS': 167.86867716908455}\n"
     ]
    },
    {
     "name": "stderr",
     "output_type": "stream",
     "text": [
      "Validating: 100%|██████████| 34/34 [00:17<00:00,  1.90batch/s, Batch Loss=1.04]\n"
     ]
    },
    {
     "name": "stdout",
     "output_type": "stream",
     "text": [
      "Validation Loss: 4.6415\n",
      "Task-Specific Validation Losses: {'TONE_POLARITY': [67.61775949597359, 35.14633794873953, 47.90322977863252, 30.809024633839726, 31.820497604086995], 'TONE_FORMALITY': [5.862886315249455, 4.571013827651086, 5.018941059086956, 4.284731402582281, 4.435250534323131], 'STS': [10.292241550547033, 5.87067460759863, 6.387921232151712, 8.599780948571237, 7.417595710213391], 'PAWS': [106.76886287331581, 107.192911952734, 106.83827745914459, 110.56875635683537, 113.6851977109909]}\n",
      "Metrics:\n",
      "TONE_POLARITY: {'Accuracy': 0.9103448275862069}\n",
      "TONE_FORMALITY: {'Pearson Corr': 0.7019490048129771}\n",
      "STS: {'Pearson Corr': 0.5724968107465134, 'MSE': 0.07184207}\n",
      "PAWS: {'F1 Score': 0.5503355704697986}\n",
      "\n",
      "Starting Epoch 7/10...\n"
     ]
    },
    {
     "name": "stderr",
     "output_type": "stream",
     "text": [
      "Training:   0%|          | 0/160 [00:00<?, ?batch/s]c:\\Users\\mccry\\miniconda3\\envs\\itu-aml\\Lib\\site-packages\\torch\\nn\\modules\\loss.py:608: UserWarning: Using a target size (torch.Size([1])) that is different to the input size (torch.Size([])). This will likely lead to incorrect results due to broadcasting. Please ensure they have the same size.\n",
      "  return F.mse_loss(input, target, reduction=self.reduction)\n",
      "Training: 100%|██████████| 160/160 [02:18<00:00,  1.16batch/s, Batch Loss=0.117, Learning Rate=2e-7]\n"
     ]
    },
    {
     "name": "stdout",
     "output_type": "stream",
     "text": [
      "Training Loss: 1.5791 lr: 2.0000000000000004e-07\n",
      "Task-Specific Training Losses: {'TONE_POLARITY': 66.77668223530054, 'TONE_FORMALITY': 12.526887876238572, 'STS': 16.740584882550678, 'PAWS': 156.60846763849258}\n"
     ]
    },
    {
     "name": "stderr",
     "output_type": "stream",
     "text": [
      "Validating: 100%|██████████| 34/34 [00:17<00:00,  1.90batch/s, Batch Loss=1.04]\n"
     ]
    },
    {
     "name": "stdout",
     "output_type": "stream",
     "text": [
      "Validation Loss: 4.6423\n",
      "Task-Specific Validation Losses: {'TONE_POLARITY': [67.61775949597359, 35.14633794873953, 47.90322977863252, 30.809024633839726, 31.820497604086995, 32.16771945543587], 'TONE_FORMALITY': [5.862886315249455, 4.571013827651086, 5.018941059086956, 4.284731402582281, 4.435250534323131, 4.560914896157101], 'STS': [10.292241550547033, 5.87067460759863, 6.387921232151712, 8.599780948571237, 7.417595710213391, 6.9686804514204255], 'PAWS': [106.76886287331581, 107.192911952734, 106.83827745914459, 110.56875635683537, 113.6851977109909, 114.11249960958958]}\n",
      "Metrics:\n",
      "TONE_POLARITY: {'Accuracy': 0.9103448275862069}\n",
      "TONE_FORMALITY: {'Pearson Corr': 0.7013918770647218}\n",
      "STS: {'Pearson Corr': 0.5748326478187205, 'MSE': 0.07204323}\n",
      "PAWS: {'F1 Score': 0.5540540540540541}\n",
      "\n",
      "Starting Epoch 8/10...\n"
     ]
    },
    {
     "name": "stderr",
     "output_type": "stream",
     "text": [
      "Training:   0%|          | 0/160 [00:00<?, ?batch/s]c:\\Users\\mccry\\miniconda3\\envs\\itu-aml\\Lib\\site-packages\\torch\\nn\\modules\\loss.py:608: UserWarning: Using a target size (torch.Size([1])) that is different to the input size (torch.Size([])). This will likely lead to incorrect results due to broadcasting. Please ensure they have the same size.\n",
      "  return F.mse_loss(input, target, reduction=self.reduction)\n",
      "Training: 100%|██████████| 160/160 [02:18<00:00,  1.16batch/s, Batch Loss=0.503, Learning Rate=2e-7]\n"
     ]
    },
    {
     "name": "stdout",
     "output_type": "stream",
     "text": [
      "Training Loss: 1.5469 lr: 2.0000000000000004e-07\n",
      "Task-Specific Training Losses: {'TONE_POLARITY': 61.9513022582978, 'TONE_FORMALITY': 13.019271630400642, 'STS': 16.170139648212515, 'PAWS': 156.36423034220934}\n"
     ]
    },
    {
     "name": "stderr",
     "output_type": "stream",
     "text": [
      "Validating: 100%|██████████| 34/34 [00:17<00:00,  1.89batch/s, Batch Loss=1.03]\n"
     ]
    },
    {
     "name": "stdout",
     "output_type": "stream",
     "text": [
      "Validation Loss: 4.6505\n",
      "Task-Specific Validation Losses: {'TONE_POLARITY': [67.61775949597359, 35.14633794873953, 47.90322977863252, 30.809024633839726, 31.820497604086995, 32.16771945543587, 31.846141987480223], 'TONE_FORMALITY': [5.862886315249455, 4.571013827651086, 5.018941059086956, 4.284731402582281, 4.435250534323131, 4.560914896157101, 4.56483021439908], 'STS': [10.292241550547033, 5.87067460759863, 6.387921232151712, 8.599780948571237, 7.417595710213391, 6.9686804514204255, 6.988193384357146], 'PAWS': [106.76886287331581, 107.192911952734, 106.83827745914459, 110.56875635683537, 113.6851977109909, 114.11249960958958, 114.43980100005865]}\n",
      "Metrics:\n",
      "TONE_POLARITY: {'Accuracy': 0.9241379310344827}\n",
      "TONE_FORMALITY: {'Pearson Corr': 0.7018409932306165}\n",
      "STS: {'Pearson Corr': 0.5774346503937319, 'MSE': 0.07197069}\n",
      "PAWS: {'F1 Score': 0.5342465753424658}\n",
      "\n",
      "Starting Epoch 9/10...\n"
     ]
    },
    {
     "name": "stderr",
     "output_type": "stream",
     "text": [
      "Training:   0%|          | 0/160 [00:00<?, ?batch/s]c:\\Users\\mccry\\miniconda3\\envs\\itu-aml\\Lib\\site-packages\\torch\\nn\\modules\\loss.py:608: UserWarning: Using a target size (torch.Size([1])) that is different to the input size (torch.Size([])). This will likely lead to incorrect results due to broadcasting. Please ensure they have the same size.\n",
      "  return F.mse_loss(input, target, reduction=self.reduction)\n",
      "Training: 100%|██████████| 160/160 [02:17<00:00,  1.16batch/s, Batch Loss=0.112, Learning Rate=2e-8]\n"
     ]
    },
    {
     "name": "stdout",
     "output_type": "stream",
     "text": [
      "Training Loss: 1.5560 lr: 2.0000000000000007e-08\n",
      "Task-Specific Training Losses: {'TONE_POLARITY': 63.59892800077796, 'TONE_FORMALITY': 13.099845896808691, 'STS': 16.91163639135074, 'PAWS': 155.35728330165148}\n"
     ]
    },
    {
     "name": "stderr",
     "output_type": "stream",
     "text": [
      "Validating: 100%|██████████| 34/34 [00:17<00:00,  1.89batch/s, Batch Loss=1.03]\n"
     ]
    },
    {
     "name": "stdout",
     "output_type": "stream",
     "text": [
      "Validation Loss: 4.6519\n",
      "Task-Specific Validation Losses: {'TONE_POLARITY': [67.61775949597359, 35.14633794873953, 47.90322977863252, 30.809024633839726, 31.820497604086995, 32.16771945543587, 31.846141987480223, 31.591505291871727], 'TONE_FORMALITY': [5.862886315249455, 4.571013827651086, 5.018941059086956, 4.284731402582281, 4.435250534323131, 4.560914896157101, 4.56483021439908, 4.557774954275942], 'STS': [10.292241550547033, 5.87067460759863, 6.387921232151712, 8.599780948571237, 7.417595710213391, 6.9686804514204255, 6.988193384357146, 6.9811564453848405], 'PAWS': [106.76886287331581, 107.192911952734, 106.83827745914459, 110.56875635683537, 113.6851977109909, 114.11249960958958, 114.43980100005865, 114.98632551729679]}\n",
      "Metrics:\n",
      "TONE_POLARITY: {'Accuracy': 0.9241379310344827}\n",
      "TONE_FORMALITY: {'Pearson Corr': 0.7018015617401704}\n",
      "STS: {'Pearson Corr': 0.5776436367569617, 'MSE': 0.07195521}\n",
      "PAWS: {'F1 Score': 0.5379310344827586}\n",
      "\n",
      "Starting Epoch 10/10...\n"
     ]
    },
    {
     "name": "stderr",
     "output_type": "stream",
     "text": [
      "Training:   0%|          | 0/160 [00:00<?, ?batch/s]c:\\Users\\mccry\\miniconda3\\envs\\itu-aml\\Lib\\site-packages\\torch\\nn\\modules\\loss.py:608: UserWarning: Using a target size (torch.Size([1])) that is different to the input size (torch.Size([])). This will likely lead to incorrect results due to broadcasting. Please ensure they have the same size.\n",
      "  return F.mse_loss(input, target, reduction=self.reduction)\n",
      "Training: 100%|██████████| 160/160 [02:18<00:00,  1.15batch/s, Batch Loss=0.059, Learning Rate=2e-8]\n"
     ]
    },
    {
     "name": "stdout",
     "output_type": "stream",
     "text": [
      "Training Loss: 1.5447 lr: 2.0000000000000007e-08\n",
      "Task-Specific Training Losses: {'TONE_POLARITY': 61.40431997925043, 'TONE_FORMALITY': 12.843758520809107, 'STS': 18.217910062442172, 'PAWS': 154.68268823623657}\n"
     ]
    },
    {
     "name": "stderr",
     "output_type": "stream",
     "text": [
      "Validating: 100%|██████████| 34/34 [00:17<00:00,  1.90batch/s, Batch Loss=1.02]"
     ]
    },
    {
     "name": "stdout",
     "output_type": "stream",
     "text": [
      "Validation Loss: 4.6522\n",
      "Task-Specific Validation Losses: {'TONE_POLARITY': [67.61775949597359, 35.14633794873953, 47.90322977863252, 30.809024633839726, 31.820497604086995, 32.16771945543587, 31.846141987480223, 31.591505291871727, 31.588643421418965], 'TONE_FORMALITY': [5.862886315249455, 4.571013827651086, 5.018941059086956, 4.284731402582281, 4.435250534323131, 4.560914896157101, 4.56483021439908, 4.557774954275942, 4.557823594392289], 'STS': [10.292241550547033, 5.87067460759863, 6.387921232151712, 8.599780948571237, 7.417595710213391, 6.9686804514204255, 6.988193384357146, 6.9811564453848405, 6.979655989049206], 'PAWS': [106.76886287331581, 107.192911952734, 106.83827745914459, 110.56875635683537, 113.6851977109909, 114.11249960958958, 114.43980100005865, 114.98632551729679, 115.03885004669428]}\n",
      "Metrics:\n",
      "TONE_POLARITY: {'Accuracy': 0.9241379310344827}\n",
      "TONE_FORMALITY: {'Pearson Corr': 0.7017858165211497}\n",
      "STS: {'Pearson Corr': 0.5777447632436952, 'MSE': 0.07197341}\n",
      "PAWS: {'F1 Score': 0.5379310344827586}\n"
     ]
    },
    {
     "name": "stderr",
     "output_type": "stream",
     "text": [
      "\n"
     ]
    }
   ],
   "source": [
    "import matplotlib.pyplot as plt\n",
    "from torch.optim.lr_scheduler import ReduceLROnPlateau\n",
    "\n",
    "model = MultiTaskBERT(base_model_name=\"bert-base-uncased\", num_tone_classes=num_tone_classes)\n",
    "\n",
    "# Freeze layers\n",
    "for param in model.bert.parameters():\n",
    "    param.requires_grad = False  # Freeze all layers\n",
    "\n",
    "# Optionally, unfreeze the last few layers\n",
    "for i in range(9, 12):  # Unfreeze last 3 layers\n",
    "    for param in model.bert.encoder.layer[i].parameters():\n",
    "        param.requires_grad = True\n",
    "\n",
    "# for name, param in model.named_parameters():\n",
    "#     print(f\"Layer: {name}, Frozen: {not param.requires_grad}\")\n",
    "\n",
    "model.to(device)\n",
    "\n",
    "# Optimizer\n",
    "optimizer = AdamW(filter(lambda p: p.requires_grad, model.parameters()), lr=2e-5)\n",
    "scheduler = ReduceLROnPlateau(optimizer, mode=\"min\", factor=0.1, patience=1, verbose=True)\n",
    "\n",
    "train_losses = []\n",
    "train_task_losses = {\"TONE_POLARITY\": [], \"TONE_FORMALITY\": [], \"STS\": [], \"PAWS\": []}  # Use lists instead of floats\n",
    "val_losses = []\n",
    "val_task_losses = {\"TONE_POLARITY\": [], \"TONE_FORMALITY\": [], \"STS\": [], \"PAWS\": []}  # Use lists instead of floats\n",
    "\n",
    "for epoch in range(10):\n",
    "    print(f\"\\nStarting Epoch {epoch + 1}/{10}...\")\n",
    "\n",
    "    # Training\n",
    "    train_loss, train_task_loss = train_one_epoch(model, train_dataloader, optimizer, device, scheduler)\n",
    "    train_losses.append(train_loss)\n",
    "    for task in train_task_losses.keys():\n",
    "        train_task_losses[task].append(train_task_loss[task])\n",
    "\n",
    "    # Validation\n",
    "    val_loss, val_task_loss, all_predictions, all_labels = validate_one_epoch(model, eval_dataloader, device)\n",
    "    metrics = compute_metrics(all_predictions, all_labels)\n",
    "\n",
    "    print(f\"Validation Loss: {val_loss:.4f}\")\n",
    "    print(f\"Task-Specific Validation Losses: {val_task_losses}\")\n",
    "    print(\"Metrics:\")\n",
    "    for task, task_metrics in metrics.items():\n",
    "        print(f\"{task}: {task_metrics}\")\n",
    "\n",
    "    val_losses.append(val_loss)\n",
    "    for task in val_task_losses.keys():\n",
    "        val_task_losses[task].append(val_task_loss[task])\n",
    "\n",
    "    # Update learning rate\n",
    "    scheduler.step(val_loss)"
   ]
  },
  {
   "cell_type": "markdown",
   "metadata": {},
   "source": [
    "### Base Model vs Fine-Tuned Model Evaluation"
   ]
  },
  {
   "cell_type": "code",
   "execution_count": 15,
   "metadata": {},
   "outputs": [
    {
     "name": "stdout",
     "output_type": "stream",
     "text": [
      "Evaluating Base Model on Test Data...\n"
     ]
    },
    {
     "name": "stderr",
     "output_type": "stream",
     "text": [
      "Validating:   0%|          | 0/66 [00:00<?, ?batch/s]c:\\Users\\mccry\\miniconda3\\envs\\itu-aml\\Lib\\site-packages\\torch\\nn\\modules\\loss.py:608: UserWarning: Using a target size (torch.Size([1])) that is different to the input size (torch.Size([])). This will likely lead to incorrect results due to broadcasting. Please ensure they have the same size.\n",
      "  return F.mse_loss(input, target, reduction=self.reduction)\n",
      "Validating: 100%|██████████| 66/66 [00:43<00:00,  1.52batch/s, Batch Loss=3.21]\n"
     ]
    },
    {
     "name": "stdout",
     "output_type": "stream",
     "text": [
      "\n",
      "Evaluating Fine-Tuned Model on Test Data...\n"
     ]
    },
    {
     "name": "stderr",
     "output_type": "stream",
     "text": [
      "Validating:   0%|          | 0/66 [00:00<?, ?batch/s]c:\\Users\\mccry\\miniconda3\\envs\\itu-aml\\Lib\\site-packages\\torch\\nn\\modules\\loss.py:608: UserWarning: Using a target size (torch.Size([1])) that is different to the input size (torch.Size([])). This will likely lead to incorrect results due to broadcasting. Please ensure they have the same size.\n",
      "  return F.mse_loss(input, target, reduction=self.reduction)\n",
      "Validating: 100%|██████████| 66/66 [00:37<00:00,  1.75batch/s, Batch Loss=0.597]"
     ]
    },
    {
     "name": "stdout",
     "output_type": "stream",
     "text": [
      "\n",
      "Baseline Model Metrics:\n",
      "TONE_POLARITY: {'Accuracy': 0.5316455696202531}\n",
      "TONE_FORMALITY: {'Pearson Corr': 0.3987862122205062}\n",
      "STS: {'Pearson Corr': -0.02418339395893955, 'MSE': 0.62876886}\n",
      "PAWS: {'F1 Score': 0.56}\n",
      "\n",
      "Fine-Tuned Model Metrics:\n",
      "TONE_POLARITY: {'Accuracy': 0.9272151898734177}\n",
      "TONE_FORMALITY: {'Pearson Corr': 0.7276223976910738}\n",
      "STS: {'Pearson Corr': 0.575724695482497, 'MSE': 0.06118055}\n",
      "PAWS: {'F1 Score': 0.4329896907216495}\n",
      "\n",
      "Task-Specific Validation Losses (Baseline):\n",
      "TONE_POLARITY: 217.5646\n",
      "TONE_FORMALITY: 15.2382\n",
      "STS: 112.5496\n",
      "PAWS: 169.4966\n",
      "\n",
      "Task-Specific Validation Losses (Fine-Tuned):\n",
      "TONE_POLARITY: 67.8977\n",
      "TONE_FORMALITY: 9.4230\n",
      "STS: 10.9513\n",
      "PAWS: 185.0386\n",
      "\n",
      "Performance Comparison:\n",
      "TONE_POLARITY Comparison:\n",
      "  Baseline Metrics: {'Accuracy': 0.5316455696202531}\n",
      "  Fine-Tuned Metrics: {'Accuracy': 0.9272151898734177}\n",
      "  Baseline Loss: 217.5646\n",
      "  Fine-Tuned Loss: 67.8977\n",
      "\n",
      "TONE_FORMALITY Comparison:\n",
      "  Baseline Metrics: {'Pearson Corr': 0.3987862122205062}\n",
      "  Fine-Tuned Metrics: {'Pearson Corr': 0.7276223976910738}\n",
      "  Baseline Loss: 15.2382\n",
      "  Fine-Tuned Loss: 9.4230\n",
      "\n",
      "STS Comparison:\n",
      "  Baseline Metrics: {'Pearson Corr': -0.02418339395893955, 'MSE': 0.62876886}\n",
      "  Fine-Tuned Metrics: {'Pearson Corr': 0.575724695482497, 'MSE': 0.06118055}\n",
      "  Baseline Loss: 112.5496\n",
      "  Fine-Tuned Loss: 10.9513\n",
      "\n",
      "PAWS Comparison:\n",
      "  Baseline Metrics: {'F1 Score': 0.56}\n",
      "  Fine-Tuned Metrics: {'F1 Score': 0.4329896907216495}\n",
      "  Baseline Loss: 169.4966\n",
      "  Fine-Tuned Loss: 185.0386\n",
      "\n"
     ]
    },
    {
     "name": "stderr",
     "output_type": "stream",
     "text": [
      "\n"
     ]
    }
   ],
   "source": [
    "# Evaluate base model (untrained)\n",
    "print(\"Evaluating Base Model on Test Data...\")\n",
    "base_model = MultiTaskBERT(base_model_name=\"bert-base-uncased\", num_tone_classes=num_tone_classes)\n",
    "base_model.to(device)\n",
    "base_model.eval()\n",
    "\n",
    "base_loss, base_task_losses, base_predictions, base_labels = validate_one_epoch(\n",
    "    base_model, test_dataloader, device\n",
    ")\n",
    "\n",
    "# Compute metrics for base model\n",
    "base_metrics = compute_metrics(base_predictions, base_labels)\n",
    "\n",
    "# Evaluate fine-tuned model\n",
    "print(\"\\nEvaluating Fine-Tuned Model on Test Data...\")\n",
    "model.eval()\n",
    "\n",
    "fine_tuned_loss, fine_tuned_task_losses, fine_tuned_predictions, fine_tuned_labels = validate_one_epoch(\n",
    "    model, test_dataloader, device\n",
    ")\n",
    "\n",
    "# Compute metrics for fine-tuned model\n",
    "fine_tuned_metrics = compute_metrics(fine_tuned_predictions, fine_tuned_labels)\n",
    "\n",
    "# Print results for both models\n",
    "print(\"\\nBaseline Model Metrics:\")\n",
    "for task, task_metrics in base_metrics.items():\n",
    "    print(f\"{task}: {task_metrics}\")\n",
    "\n",
    "print(\"\\nFine-Tuned Model Metrics:\")\n",
    "for task, task_metrics in fine_tuned_metrics.items():\n",
    "    print(f\"{task}: {task_metrics}\")\n",
    "\n",
    "print(\"\\nTask-Specific Validation Losses (Baseline):\")\n",
    "for task, loss in base_task_losses.items():\n",
    "    print(f\"{task}: {loss:.4f}\")\n",
    "\n",
    "print(\"\\nTask-Specific Validation Losses (Fine-Tuned):\")\n",
    "for task, loss in fine_tuned_task_losses.items():\n",
    "    print(f\"{task}: {loss:.4f}\")\n",
    "\n",
    "# Compare overall performance\n",
    "print(\"\\nPerformance Comparison:\")\n",
    "for task in base_metrics.keys():\n",
    "    print(f\"{task} Comparison:\")\n",
    "    print(f\"  Baseline Metrics: {base_metrics[task]}\")\n",
    "    print(f\"  Fine-Tuned Metrics: {fine_tuned_metrics[task]}\")\n",
    "    print(f\"  Baseline Loss: {base_task_losses[task]:.4f}\")\n",
    "    print(f\"  Fine-Tuned Loss: {fine_tuned_task_losses[task]:.4f}\")\n",
    "    print()"
   ]
  },
  {
   "cell_type": "code",
   "execution_count": 16,
   "metadata": {},
   "outputs": [
    {
     "data": {
      "text/html": [
       "<table border=\"1\" class=\"dataframe\">\n",
       "  <thead>\n",
       "    <tr style=\"text-align: right;\">\n",
       "      <th>Task</th>\n",
       "      <th>Example Input 1</th>\n",
       "      <th>Example Input 2</th>\n",
       "      <th>Prediction_Base</th>\n",
       "      <th>Prediction_Fine-Tuned</th>\n",
       "    </tr>\n",
       "  </thead>\n",
       "  <tbody>\n",
       "    <tr>\n",
       "      <td>TONE_POLARITY</td>\n",
       "      <td>I absolutely love this product! It's amazing.</td>\n",
       "      <td></td>\n",
       "      <td>Positive (1)</td>\n",
       "      <td>Positive (1)</td>\n",
       "    </tr>\n",
       "    <tr>\n",
       "      <td>TONE_POLARITY</td>\n",
       "      <td>This is the worst purchase I've ever made.</td>\n",
       "      <td></td>\n",
       "      <td>Positive (1)</td>\n",
       "      <td>Negative (0)</td>\n",
       "    </tr>\n",
       "    <tr>\n",
       "      <td>TONE_POLARITY</td>\n",
       "      <td>The movie was a masterpiece; I couldn't stop watching.</td>\n",
       "      <td></td>\n",
       "      <td>Negative (0)</td>\n",
       "      <td>Positive (1)</td>\n",
       "    </tr>\n",
       "    <tr>\n",
       "      <td>TONE_POLARITY</td>\n",
       "      <td>The service was terrible; I will never go back.</td>\n",
       "      <td></td>\n",
       "      <td>Negative (0)</td>\n",
       "      <td>Negative (0)</td>\n",
       "    </tr>\n",
       "    <tr>\n",
       "      <td>TONE_POLARITY</td>\n",
       "      <td>What an incredible experience! Highly recommend it.</td>\n",
       "      <td></td>\n",
       "      <td>Positive (1)</td>\n",
       "      <td>Positive (1)</td>\n",
       "    </tr>\n",
       "    <tr>\n",
       "      <td>TONE_POLARITY</td>\n",
       "      <td>I regret spending money on this; it was a complete waste.</td>\n",
       "      <td></td>\n",
       "      <td>Negative (0)</td>\n",
       "      <td>Negative (0)</td>\n",
       "    </tr>\n",
       "    <tr>\n",
       "      <td>TONE_FORMALITY</td>\n",
       "      <td>Could you please pass me the salt?</td>\n",
       "      <td></td>\n",
       "      <td>0.75 (Formality Score)</td>\n",
       "      <td>0.44 (Formality Score)</td>\n",
       "    </tr>\n",
       "    <tr>\n",
       "      <td>TONE_FORMALITY</td>\n",
       "      <td>Pass me the salt!</td>\n",
       "      <td></td>\n",
       "      <td>0.73 (Formality Score)</td>\n",
       "      <td>0.24 (Formality Score)</td>\n",
       "    </tr>\n",
       "    <tr>\n",
       "      <td>TONE_FORMALITY</td>\n",
       "      <td>Would you kindly let me know your availability?</td>\n",
       "      <td></td>\n",
       "      <td>0.78 (Formality Score)</td>\n",
       "      <td>0.66 (Formality Score)</td>\n",
       "    </tr>\n",
       "    <tr>\n",
       "      <td>TONE_FORMALITY</td>\n",
       "      <td>C'mon, are you ready yet?</td>\n",
       "      <td></td>\n",
       "      <td>0.76 (Formality Score)</td>\n",
       "      <td>0.27 (Formality Score)</td>\n",
       "    </tr>\n",
       "    <tr>\n",
       "      <td>TONE_FORMALITY</td>\n",
       "      <td>We appreciate your cooperation in this matter.</td>\n",
       "      <td></td>\n",
       "      <td>0.80 (Formality Score)</td>\n",
       "      <td>0.69 (Formality Score)</td>\n",
       "    </tr>\n",
       "    <tr>\n",
       "      <td>TONE_FORMALITY</td>\n",
       "      <td>Send me the document now.</td>\n",
       "      <td></td>\n",
       "      <td>0.73 (Formality Score)</td>\n",
       "      <td>0.41 (Formality Score)</td>\n",
       "    </tr>\n",
       "    <tr>\n",
       "      <td>STS</td>\n",
       "      <td>A man is playing a guitar.</td>\n",
       "      <td>A person is playing a musical instrument.</td>\n",
       "      <td>0.00 (Similarity Score)</td>\n",
       "      <td>0.42 (Similarity Score)</td>\n",
       "    </tr>\n",
       "    <tr>\n",
       "      <td>STS</td>\n",
       "      <td>A dog is running in the park.</td>\n",
       "      <td>A cat is sleeping on the couch.</td>\n",
       "      <td>0.00 (Similarity Score)</td>\n",
       "      <td>0.03 (Similarity Score)</td>\n",
       "    </tr>\n",
       "    <tr>\n",
       "      <td>STS</td>\n",
       "      <td>Two boys are playing soccer.</td>\n",
       "      <td>Two kids are kicking a ball in a field.</td>\n",
       "      <td>0.00 (Similarity Score)</td>\n",
       "      <td>0.21 (Similarity Score)</td>\n",
       "    </tr>\n",
       "    <tr>\n",
       "      <td>STS</td>\n",
       "      <td>A woman is reading a book.</td>\n",
       "      <td>Someone is browsing their phone.</td>\n",
       "      <td>0.00 (Similarity Score)</td>\n",
       "      <td>0.04 (Similarity Score)</td>\n",
       "    </tr>\n",
       "    <tr>\n",
       "      <td>STS</td>\n",
       "      <td>The car is parked in front of the house.</td>\n",
       "      <td>A vehicle is stationary outside the residence.</td>\n",
       "      <td>0.00 (Similarity Score)</td>\n",
       "      <td>0.47 (Similarity Score)</td>\n",
       "    </tr>\n",
       "    <tr>\n",
       "      <td>STS</td>\n",
       "      <td>A chef is cooking in a kitchen.</td>\n",
       "      <td>A person is preparing food.</td>\n",
       "      <td>0.00 (Similarity Score)</td>\n",
       "      <td>0.46 (Similarity Score)</td>\n",
       "    </tr>\n",
       "    <tr>\n",
       "      <td>PAWS</td>\n",
       "      <td>The book on the table is mine.</td>\n",
       "      <td>The book is mine on the table.</td>\n",
       "      <td>Positive (1)</td>\n",
       "      <td>Positive (1)</td>\n",
       "    </tr>\n",
       "    <tr>\n",
       "      <td>PAWS</td>\n",
       "      <td>I went to the store yesterday.</td>\n",
       "      <td>Yesterday, I went to the store.</td>\n",
       "      <td>Positive (1)</td>\n",
       "      <td>Positive (1)</td>\n",
       "    </tr>\n",
       "    <tr>\n",
       "      <td>PAWS</td>\n",
       "      <td>She loves reading novels in the evening.</td>\n",
       "      <td>In the evening, she enjoys reading novels.</td>\n",
       "      <td>Positive (1)</td>\n",
       "      <td>0</td>\n",
       "    </tr>\n",
       "    <tr>\n",
       "      <td>PAWS</td>\n",
       "      <td>The cat chased the mouse.</td>\n",
       "      <td>The mouse was chased by the cat.</td>\n",
       "      <td>Positive (1)</td>\n",
       "      <td>Positive (1)</td>\n",
       "    </tr>\n",
       "    <tr>\n",
       "      <td>PAWS</td>\n",
       "      <td>The tall man stood near the door.</td>\n",
       "      <td>Near the door stood the tall man.</td>\n",
       "      <td>Positive (1)</td>\n",
       "      <td>Positive (1)</td>\n",
       "    </tr>\n",
       "    <tr>\n",
       "      <td>PAWS</td>\n",
       "      <td>The movie starts at 8 PM.</td>\n",
       "      <td>At 8 PM, the movie starts.</td>\n",
       "      <td>Positive (1)</td>\n",
       "      <td>Positive (1)</td>\n",
       "    </tr>\n",
       "  </tbody>\n",
       "</table>"
      ],
      "text/plain": [
       "<IPython.core.display.HTML object>"
      ]
     },
     "metadata": {},
     "output_type": "display_data"
    }
   ],
   "source": [
    "from transformers import AutoTokenizer\n",
    "import torch\n",
    "import pandas as pd\n",
    "from IPython.display import display\n",
    "\n",
    "tokenizer = AutoTokenizer.from_pretrained(\"bert-base-uncased\")\n",
    "\n",
    "examples = {\n",
    "    \"TONE_POLARITY\": [\n",
    "        \"I absolutely love this product! It's amazing.\",\n",
    "        \"This is the worst purchase I've ever made.\",\n",
    "        \"The movie was a masterpiece; I couldn't stop watching.\",\n",
    "        \"The service was terrible; I will never go back.\",\n",
    "        \"What an incredible experience! Highly recommend it.\",\n",
    "        \"I regret spending money on this; it was a complete waste.\"\n",
    "    ],\n",
    "    \"TONE_FORMALITY\": [\n",
    "        \"Could you please pass me the salt?\",\n",
    "        \"Pass me the salt!\",\n",
    "        \"Would you kindly let me know your availability?\",\n",
    "        \"C'mon, are you ready yet?\",\n",
    "        \"We appreciate your cooperation in this matter.\",\n",
    "        \"Send me the document now.\"\n",
    "    ],\n",
    "    \"STS\": [\n",
    "        (\"A man is playing a guitar.\", \"A person is playing a musical instrument.\"),\n",
    "        (\"A dog is running in the park.\", \"A cat is sleeping on the couch.\"),\n",
    "        (\"Two boys are playing soccer.\", \"Two kids are kicking a ball in a field.\"),\n",
    "        (\"A woman is reading a book.\", \"Someone is browsing their phone.\"),\n",
    "        (\"The car is parked in front of the house.\", \"A vehicle is stationary outside the residence.\"),\n",
    "        (\"A chef is cooking in a kitchen.\", \"A person is preparing food.\")\n",
    "    ],\n",
    "    \"PAWS\": [\n",
    "        (\"The book on the table is mine.\", \"The book is mine on the table.\"),\n",
    "        (\"I went to the store yesterday.\", \"Yesterday, I went to the store.\"),\n",
    "        (\"She loves reading novels in the evening.\", \"In the evening, she enjoys reading novels.\"),\n",
    "        (\"The cat chased the mouse.\", \"The mouse was chased by the cat.\"),\n",
    "        (\"The tall man stood near the door.\", \"Near the door stood the tall man.\"),\n",
    "        (\"The movie starts at 8 PM.\", \"At 8 PM, the movie starts.\")\n",
    "    ]\n",
    "}\n",
    "\n",
    "import pandas as pd\n",
    "from IPython.display import display, HTML\n",
    "\n",
    "def test_models(model, examples, task_type, tokenizer, device, normalize=False):\n",
    "    model.eval()\n",
    "    results = []\n",
    "\n",
    "    for i, example in enumerate(examples):\n",
    "        if task_type in [\"STS\", \"PAWS\"]:\n",
    "            input_texts = tokenizer(\n",
    "                text=example[0],\n",
    "                text_pair=example[1],\n",
    "                padding=True,\n",
    "                truncation=True,\n",
    "                return_tensors=\"pt\"\n",
    "            )\n",
    "            example_input_1 = example[0]\n",
    "            example_input_2 = example[1]\n",
    "        else:\n",
    "            input_texts = tokenizer(\n",
    "                text=example,\n",
    "                padding=True,\n",
    "                truncation=True,\n",
    "                return_tensors=\"pt\"\n",
    "            )\n",
    "            example_input_1 = example\n",
    "            example_input_2 = \"\"\n",
    "\n",
    "        if \"token_type_ids\" in input_texts:\n",
    "            del input_texts[\"token_type_ids\"]\n",
    "\n",
    "        input_texts = {key: val.to(device) for key, val in input_texts.items()}\n",
    "\n",
    "        with torch.no_grad():\n",
    "            outputs = model(**input_texts, task_type=task_type)\n",
    "\n",
    "        if task_type in [\"TONE_POLARITY\", \"PAWS\"]:\n",
    "            prediction = torch.argmax(outputs, dim=1).item()\n",
    "            prediction_text = \"Positive (1)\" if prediction == 1 else \"Negative (0)\" if task_type == \"TONE_POLARITY\" else str(prediction)\n",
    "        elif task_type == \"TONE_FORMALITY\":\n",
    "            prediction = outputs.squeeze().item()\n",
    "            if normalize:\n",
    "                prediction = (prediction + 1) / 2  # Example normalization: assuming outputs are in [-1, 1]\n",
    "            prediction_text = f\"{prediction:.2f} (Formality Score)\"\n",
    "        elif task_type == \"STS\":\n",
    "            prediction = outputs.squeeze().item()\n",
    "            if normalize:\n",
    "                prediction = max(0, min(1, prediction))  # Clamp values to [0, 1] as an example\n",
    "            prediction_text = f\"{prediction:.2f} (Similarity Score)\"\n",
    "\n",
    "        results.append({\n",
    "            \"Example Input 1\": example_input_1,\n",
    "            \"Example Input 2\": example_input_2,\n",
    "            \"Prediction\": prediction_text\n",
    "        })\n",
    "\n",
    "    return pd.DataFrame(results)\n",
    "\n",
    "def display_results(base_model, fine_tuned_model, examples, tokenizer, device):\n",
    "    all_results = []\n",
    "\n",
    "    for task, task_examples in examples.items():\n",
    "        # Base Model Results with normalization enabled\n",
    "        base_results = test_models(base_model, task_examples, task, tokenizer, device, normalize=True)\n",
    "        base_results[\"Task\"] = task\n",
    "        base_results[\"Model\"] = \"Base Model\"\n",
    "\n",
    "        # Fine-Tuned Model Results without normalization\n",
    "        fine_tuned_results = test_models(fine_tuned_model, task_examples, task, tokenizer, device, normalize=False)\n",
    "        fine_tuned_results[\"Task\"] = task\n",
    "        fine_tuned_results[\"Model\"] = \"Fine-Tuned Model\"\n",
    "\n",
    "        combined_results = pd.merge(\n",
    "            base_results,\n",
    "            fine_tuned_results,\n",
    "            on=[\"Task\", \"Example Input 1\", \"Example Input 2\"],\n",
    "            suffixes=(\"_Base\", \"_Fine-Tuned\")\n",
    "        )\n",
    "        all_results.append(combined_results)\n",
    "\n",
    "    final_df = pd.concat(all_results, ignore_index=True)\n",
    "\n",
    "    final_df = final_df[[  # Reorganizing columns\n",
    "        \"Task\", \"Example Input 1\", \"Example Input 2\",\n",
    "        \"Prediction_Base\", \"Prediction_Fine-Tuned\"\n",
    "    ]]\n",
    "\n",
    "    display(HTML(final_df.to_html(index=False, escape=False)))\n",
    "\n",
    "display_results(base_model, model, examples, tokenizer, device)"
   ]
  },
  {
   "cell_type": "markdown",
   "metadata": {},
   "source": [
    "### Plotting"
   ]
  },
  {
   "cell_type": "code",
   "execution_count": 17,
   "metadata": {},
   "outputs": [
    {
     "name": "stdout",
     "output_type": "stream",
     "text": [
      "Plotting losses...\n",
      "Train Losses: [5.7155231684446335, 3.9553006194531917, 3.1479016441851853, 2.531178530678153, 1.77095662727952, 1.6694598300382495, 1.5790788958314805, 1.5469058971852063, 1.5560480864718556, 1.544679227634333]\n",
      "Validation Losses: [5.604169124561349, 4.493557009903625, 4.886716750853405, 4.537126274759665, 4.628192398812189, 4.64146512978244, 4.6423225466557385, 4.650493006142038, 4.6519109721045515, 4.652186404129757]\n"
     ]
    },
    {
     "data": {
      "image/png": "[encoded data removed]",
      "text/plain": [
       "<Figure size 1000x600 with 1 Axes>"
      ]
     },
     "metadata": {},
     "output_type": "display_data"
    }
   ],
   "source": [
    "import matplotlib.pyplot as plt\n",
    "\n",
    "def plot_losses(train_losses, eval_losses):\n",
    "    \"\"\"\n",
    "    Plots overall training and evaluation losses over epochs.\n",
    "    \"\"\"\n",
    "    plt.figure(figsize=(10, 6))\n",
    "    epochs = range(1, len(train_losses) + 1)\n",
    "\n",
    "    plt.plot(epochs, train_losses, label=\"Train Loss\", marker=\"o\")\n",
    "    plt.plot(epochs, eval_losses, label=\"Eval Loss\", marker=\"x\")\n",
    "\n",
    "    plt.xlabel(\"Epoch\")\n",
    "    plt.ylabel(\"Loss\")\n",
    "    plt.title(\"Training and Evaluation Losses\")\n",
    "    plt.legend()\n",
    "    plt.grid(True)\n",
    "    plt.show()\n",
    "\n",
    "print(\"Plotting losses...\")\n",
    "print(\"Train Losses:\", train_losses)\n",
    "print(\"Validation Losses:\", val_losses)\n",
    "\n",
    "# Plot losses (use this if the losses are overall, not task-specific)\n",
    "plot_losses(train_losses, val_losses)"
   ]
  },
  {
   "cell_type": "code",
   "execution_count": 18,
   "metadata": {},
   "outputs": [
    {
     "name": "stdout",
     "output_type": "stream",
     "text": [
      "{'TONE_POLARITY': [480.737031891942, 251.8396256417036, 162.72294370271266, 111.43597141467035, 69.45110149495304, 69.93412495497614, 66.77668223530054, 61.9513022582978, 63.59892800077796, 61.40431997925043], 'TONE_FORMALITY': [44.813665180212666, 21.70254821526665, 16.766248682234618, 15.162008450235263, 13.00748609178779, 12.633876246713502, 12.526887876238572, 13.019271630400642, 13.099845896808691, 12.843758520809107], 'STS': [47.6946028726191, 34.78601942328032, 27.30438957758878, 23.490467376054994, 19.2923292511247, 16.67689278741856, 16.740584882550678, 16.170139648212515, 16.91163639135074, 18.217910062442172], 'PAWS': [341.2384021282196, 324.519906938076, 296.8706812262535, 254.90011398494244, 181.60214403271675, 167.86867716908455, 156.60846763849258, 156.36423034220934, 155.35728330165148, 154.68268823623657]}\n",
      "{'TONE_POLARITY': [67.61775949597359, 35.14633794873953, 47.90322977863252, 30.809024633839726, 31.820497604086995, 32.16771945543587, 31.846141987480223, 31.591505291871727, 31.588643421418965, 31.56531538721174], 'TONE_FORMALITY': [5.862886315249455, 4.571013827651086, 5.018941059086956, 4.284731402582281, 4.435250534323131, 4.560914896157101, 4.56483021439908, 4.557774954275942, 4.557823594392289, 4.557959545524568], 'STS': [10.292241550547033, 5.87067460759863, 6.387921232151712, 8.599780948571237, 7.417595710213391, 6.9686804514204255, 6.988193384357146, 6.9811564453848405, 6.979655989049206, 6.981420986589001], 'PAWS': [106.76886287331581, 107.192911952734, 106.83827745914459, 110.56875635683537, 113.6851977109909, 114.11249960958958, 114.43980100005865, 114.98632551729679, 115.03885004669428, 115.0696418210864]}\n"
     ]
    },
    {
     "data": {
      "image/png": "[encoded data removed]",
      "text/plain": [
       "<Figure size 1000x600 with 1 Axes>"
      ]
     },
     "metadata": {},
     "output_type": "display_data"
    }
   ],
   "source": [
    "import matplotlib.pyplot as plt\n",
    "\n",
    "def plot_task_losses(train_losses, eval_losses, task_names):\n",
    "    \"\"\"\n",
    "    Plots training and evaluation losses for each task over epochs.\n",
    "    \"\"\"\n",
    "    plt.figure(figsize=(10, 6))\n",
    "    epochs = range(1, len(list(train_losses.values())[0]) + 1)  # Number of epochs\n",
    "\n",
    "    for task_name in task_names:\n",
    "        train_task_losses = train_losses[task_name]\n",
    "        eval_task_losses = eval_losses[task_name]\n",
    "\n",
    "        plt.plot(epochs, train_task_losses, label=f\"{task_name} Train Loss\", marker=\"o\")\n",
    "        plt.plot(epochs, eval_task_losses, label=f\"{task_name} Eval Loss\", linestyle=\"--\", marker=\"x\")\n",
    "\n",
    "    plt.xlabel(\"Epoch\")\n",
    "    plt.ylabel(\"Loss\")\n",
    "    plt.title(\"Training and Evaluation Losses by Task\")\n",
    "    plt.legend()\n",
    "    plt.grid(True)\n",
    "    plt.show()\n",
    "\n",
    "print(train_task_losses)\n",
    "print(val_task_losses)\n",
    "\n",
    "# Plot task-specific losses \n",
    "plot_task_losses(train_task_losses, val_task_losses, [\"TONE_POLARITY\", \"TONE_FORMALITY\", \"STS\", \"PAWS\"])\n"
   ]
  }
 ],
 "metadata": {
  "kernelspec": {
   "display_name": "itu-aml",
   "language": "python",
   "name": "python3"
  },
  "language_info": {
   "codemirror_mode": {
    "name": "ipython",
    "version": 3
   },
   "file_extension": ".py",
   "mimetype": "text/x-python",
   "name": "python",
   "nbconvert_exporter": "python",
   "pygments_lexer": "ipython3",
   "version": "3.12.7"
  }
 },
 "nbformat": 4,
 "nbformat_minor": 2
}
