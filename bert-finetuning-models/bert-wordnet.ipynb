{
 "cells": [
  {
   "cell_type": "code",
   "execution_count": 1,
   "metadata": {},
   "outputs": [
    {
     "name": "stderr",
     "output_type": "stream",
     "text": [
      "[nltk_data] Downloading package wordnet to\n",
      "[nltk_data]     C:\\Users\\mccry\\AppData\\Roaming\\nltk_data...\n",
      "[nltk_data]   Package wordnet is already up-to-date!\n"
     ]
    }
   ],
   "source": [
    "import csv\n",
    "import nltk\n",
    "from nltk.corpus import wordnet as wn\n",
    "nltk.download('wordnet')\n",
    "\n",
    "\n",
    "# Extract WordNet relationships\n",
    "def extract_wordnet_data():\n",
    "    data = []\n",
    "    for synset in wn.all_synsets():\n",
    "        # print(synset.lemmas())\n",
    "        # break\n",
    "        for lemma in synset.lemmas():\n",
    "            # Synonyms\n",
    "            for synonym in synset.lemmas():\n",
    "                if lemma != synonym:\n",
    "                    data.append([lemma.name(), synonym.name(), \"synonym\", synset.definition(), synset.definition()])\n",
    "            \n",
    "            # Antonyms\n",
    "            for antonym in lemma.antonyms():\n",
    "                data.append([lemma.name(), antonym.name(), \"antonym\", synset.definition(), antonym.synset().definition()])\n",
    "            \n",
    "            # Hypernyms and Hyponyms\n",
    "            for hypernym in synset.hypernyms():\n",
    "                data.append([synset.name().split('.')[0], hypernym.name().split('.')[0], \"hypernym\", synset.definition(), hypernym.definition()])\n",
    "                \n",
    "    \n",
    "    return data\n",
    "\n",
    "# Write to CSV\n",
    "def create_csv(data, filename=\"wordnet_dataset.csv\"):\n",
    "    with open(filename, mode='w', newline='') as file:\n",
    "        writer = csv.writer(file)\n",
    "        writer.writerow([\"Word 1\", \"Word 2\", \"Relationship\", \"Definition 1\", \"Definition 2\"])\n",
    "        writer.writerows(data)\n",
    "\n",
    "# Generate and save the dataset\n",
    "data = extract_wordnet_data()\n",
    "create_csv(data)\n"
   ]
  },
  {
   "cell_type": "code",
   "execution_count": 2,
   "metadata": {},
   "outputs": [
    {
     "name": "stderr",
     "output_type": "stream",
     "text": [
      "Some weights of BertForSequenceClassification were not initialized from the model checkpoint at bert-base-uncased and are newly initialized: ['classifier.bias', 'classifier.weight']\n",
      "You should probably TRAIN this model on a down-stream task to be able to use it for predictions and inference.\n"
     ]
    }
   ],
   "source": [
    "from transformers import BertTokenizer, BertForSequenceClassification, Trainer, TrainingArguments\n",
    "from datasets import Dataset\n",
    "import pandas as pd\n",
    "\n",
    "tokenizer = BertTokenizer.from_pretrained(\"bert-base-uncased\")\n",
    "model = BertForSequenceClassification.from_pretrained(\"bert-base-uncased\", num_labels=3)  # Adjust num_labels\n",
    "\n",
    "# Tokenize and prepare dataset\n",
    "# Define training args, Trainer, and fine-tune\n",
    "\n",
    "# Load the CSV file\n",
    "data = pd.read_csv(\"wordnet_dataset.csv\")\n",
    "\n",
    "# Define a mapping for relationship labels\n",
    "label_mapping = {\"synonym\": 0, \"antonym\": 1, \"hypernym\": 2}\n",
    "\n",
    "# Map relationships to numerical labels\n",
    "data[\"label\"] = data[\"Relationship\"].map(label_mapping)\n",
    "\n",
    "# Concatenate Word 1 and Word 2 with definitions (optional)\n",
    "data[\"text\"] = data[\"Word 1\"] + \" [SEP] \" + data[\"Word 2\"]\n",
    "data[\"text\"] = data[\"text\"].fillna(\"\")\n",
    "data = data[data[\"text\"].str.strip() != \"\"]\n",
    "\n",
    "\n",
    "# Convert to Hugging Face Dataset\n",
    "dataset = Dataset.from_pandas(data[[\"text\", \"label\"]])\n",
    "# print(len(dataset))"
   ]
  },
  {
   "cell_type": "code",
   "execution_count": 3,
   "metadata": {},
   "outputs": [
    {
     "data": {
      "application/vnd.jupyter.widget-view+json": {
       "model_id": "3a708a24b5724b3abd82579d7bbb27c6",
       "version_major": 2,
       "version_minor": 0
      },
      "text/plain": [
       "Map:   0%|          | 0/48123 [00:00<?, ? examples/s]"
      ]
     },
     "metadata": {},
     "output_type": "display_data"
    }
   ],
   "source": [
    "tokenizer = BertTokenizer.from_pretrained(\"bert-base-uncased\")\n",
    "\n",
    "# Tokenize the dataset\n",
    "def tokenize_function(examples):\n",
    "    return tokenizer(examples[\"text\"], padding=\"max_length\", truncation=True, max_length=128)\n",
    "\n",
    "fraction = 0.1\n",
    "dataset = dataset.select(range(int(len(dataset) * fraction)))\n",
    "tokenized_dataset = dataset.map(tokenize_function, batched=True)\n"
   ]
  },
  {
   "cell_type": "code",
   "execution_count": 4,
   "metadata": {},
   "outputs": [
    {
     "name": "stdout",
     "output_type": "stream",
     "text": [
      "Train samples: 33686, Validation samples: 9672, Test samples: 4765\n"
     ]
    }
   ],
   "source": [
    "# Split into train and validation sets\n",
    "split_dataset = tokenized_dataset.train_test_split(test_size=0.3)\n",
    "validation_test_split = split_dataset[\"test\"].train_test_split(test_size=0.33)\n",
    "\n",
    "train_dataset = split_dataset[\"train\"]\n",
    "val_dataset = validation_test_split[\"train\"]\n",
    "test_dataset = validation_test_split[\"test\"]\n",
    "\n",
    "print(f\"Train samples: {len(train_dataset)}, Validation samples: {len(val_dataset)}, Test samples: {len(test_dataset)}\")\n",
    "\n",
    "# Set the fraction of the dataset to use\n",
    "fraction = 0.01\n",
    "\n",
    "\n",
    "# Select a fraction of the training and validation datasets\n",
    "train_dataset_sample = train_dataset.select(range(int(len(train_dataset) * fraction)))\n",
    "val_dataset_sample = val_dataset.select(range(int(len(val_dataset) * fraction)))\n",
    "test_dataset_sample = test_dataset.select(range(int(len(test_dataset) * 0.1)))\n",
    "\n",
    "\n",
    "label_mapping_reverse = {v: k for k, v in label_mapping.items()}\n",
    "\n",
    "\n",
    "# print(train_dataset_sample[0])\n",
    "# Dynamically determine label names from the dataset\n",
    "unique_labels = sorted(set(train_dataset_sample[\"label\"]))  # Ensure sorted labels\n",
    "# print(unique_labels)\n",
    "target_names = [label_mapping_reverse[label] for label in unique_labels]  # Reverse map labels to class names\n",
    "\n",
    "# print(target_names)\n",
    "# print(f\"Training on {len(train_dataset_sample)} samples and validating on {len(val_dataset_sample)} samples and testing on {len(test_dataset_sample)} samples\")\n"
   ]
  },
  {
   "cell_type": "code",
   "execution_count": 5,
   "metadata": {},
   "outputs": [
    {
     "name": "stderr",
     "output_type": "stream",
     "text": [
      "Some weights of BertForSequenceClassification were not initialized from the model checkpoint at bert-base-uncased and are newly initialized: ['classifier.bias', 'classifier.weight']\n",
      "You should probably TRAIN this model on a down-stream task to be able to use it for predictions and inference.\n"
     ]
    },
    {
     "name": "stdout",
     "output_type": "stream",
     "text": [
      "bert.embeddings.word_embeddings.weight: Frozen\n",
      "bert.embeddings.position_embeddings.weight: Frozen\n",
      "bert.embeddings.token_type_embeddings.weight: Frozen\n",
      "bert.embeddings.LayerNorm.weight: Frozen\n",
      "bert.embeddings.LayerNorm.bias: Frozen\n",
      "bert.encoder.layer.0.attention.self.query.weight: Frozen\n",
      "bert.encoder.layer.0.attention.self.query.bias: Frozen\n",
      "bert.encoder.layer.0.attention.self.key.weight: Frozen\n",
      "bert.encoder.layer.0.attention.self.key.bias: Frozen\n",
      "bert.encoder.layer.0.attention.self.value.weight: Frozen\n",
      "bert.encoder.layer.0.attention.self.value.bias: Frozen\n",
      "bert.encoder.layer.0.attention.output.dense.weight: Frozen\n",
      "bert.encoder.layer.0.attention.output.dense.bias: Frozen\n",
      "bert.encoder.layer.0.attention.output.LayerNorm.weight: Frozen\n",
      "bert.encoder.layer.0.attention.output.LayerNorm.bias: Frozen\n",
      "bert.encoder.layer.0.intermediate.dense.weight: Frozen\n",
      "bert.encoder.layer.0.intermediate.dense.bias: Frozen\n",
      "bert.encoder.layer.0.output.dense.weight: Frozen\n",
      "bert.encoder.layer.0.output.dense.bias: Frozen\n",
      "bert.encoder.layer.0.output.LayerNorm.weight: Frozen\n",
      "bert.encoder.layer.0.output.LayerNorm.bias: Frozen\n",
      "bert.encoder.layer.1.attention.self.query.weight: Frozen\n",
      "bert.encoder.layer.1.attention.self.query.bias: Frozen\n",
      "bert.encoder.layer.1.attention.self.key.weight: Frozen\n",
      "bert.encoder.layer.1.attention.self.key.bias: Frozen\n",
      "bert.encoder.layer.1.attention.self.value.weight: Frozen\n",
      "bert.encoder.layer.1.attention.self.value.bias: Frozen\n",
      "bert.encoder.layer.1.attention.output.dense.weight: Frozen\n",
      "bert.encoder.layer.1.attention.output.dense.bias: Frozen\n",
      "bert.encoder.layer.1.attention.output.LayerNorm.weight: Frozen\n",
      "bert.encoder.layer.1.attention.output.LayerNorm.bias: Frozen\n",
      "bert.encoder.layer.1.intermediate.dense.weight: Frozen\n",
      "bert.encoder.layer.1.intermediate.dense.bias: Frozen\n",
      "bert.encoder.layer.1.output.dense.weight: Frozen\n",
      "bert.encoder.layer.1.output.dense.bias: Frozen\n",
      "bert.encoder.layer.1.output.LayerNorm.weight: Frozen\n",
      "bert.encoder.layer.1.output.LayerNorm.bias: Frozen\n",
      "bert.encoder.layer.2.attention.self.query.weight: Frozen\n",
      "bert.encoder.layer.2.attention.self.query.bias: Frozen\n",
      "bert.encoder.layer.2.attention.self.key.weight: Frozen\n",
      "bert.encoder.layer.2.attention.self.key.bias: Frozen\n",
      "bert.encoder.layer.2.attention.self.value.weight: Frozen\n",
      "bert.encoder.layer.2.attention.self.value.bias: Frozen\n",
      "bert.encoder.layer.2.attention.output.dense.weight: Frozen\n",
      "bert.encoder.layer.2.attention.output.dense.bias: Frozen\n",
      "bert.encoder.layer.2.attention.output.LayerNorm.weight: Frozen\n",
      "bert.encoder.layer.2.attention.output.LayerNorm.bias: Frozen\n",
      "bert.encoder.layer.2.intermediate.dense.weight: Frozen\n",
      "bert.encoder.layer.2.intermediate.dense.bias: Frozen\n",
      "bert.encoder.layer.2.output.dense.weight: Frozen\n",
      "bert.encoder.layer.2.output.dense.bias: Frozen\n",
      "bert.encoder.layer.2.output.LayerNorm.weight: Frozen\n",
      "bert.encoder.layer.2.output.LayerNorm.bias: Frozen\n",
      "bert.encoder.layer.3.attention.self.query.weight: Frozen\n",
      "bert.encoder.layer.3.attention.self.query.bias: Frozen\n",
      "bert.encoder.layer.3.attention.self.key.weight: Frozen\n",
      "bert.encoder.layer.3.attention.self.key.bias: Frozen\n",
      "bert.encoder.layer.3.attention.self.value.weight: Frozen\n",
      "bert.encoder.layer.3.attention.self.value.bias: Frozen\n",
      "bert.encoder.layer.3.attention.output.dense.weight: Frozen\n",
      "bert.encoder.layer.3.attention.output.dense.bias: Frozen\n",
      "bert.encoder.layer.3.attention.output.LayerNorm.weight: Frozen\n",
      "bert.encoder.layer.3.attention.output.LayerNorm.bias: Frozen\n",
      "bert.encoder.layer.3.intermediate.dense.weight: Frozen\n",
      "bert.encoder.layer.3.intermediate.dense.bias: Frozen\n",
      "bert.encoder.layer.3.output.dense.weight: Frozen\n",
      "bert.encoder.layer.3.output.dense.bias: Frozen\n",
      "bert.encoder.layer.3.output.LayerNorm.weight: Frozen\n",
      "bert.encoder.layer.3.output.LayerNorm.bias: Frozen\n",
      "bert.encoder.layer.4.attention.self.query.weight: Frozen\n",
      "bert.encoder.layer.4.attention.self.query.bias: Frozen\n",
      "bert.encoder.layer.4.attention.self.key.weight: Frozen\n",
      "bert.encoder.layer.4.attention.self.key.bias: Frozen\n",
      "bert.encoder.layer.4.attention.self.value.weight: Frozen\n",
      "bert.encoder.layer.4.attention.self.value.bias: Frozen\n",
      "bert.encoder.layer.4.attention.output.dense.weight: Frozen\n",
      "bert.encoder.layer.4.attention.output.dense.bias: Frozen\n",
      "bert.encoder.layer.4.attention.output.LayerNorm.weight: Frozen\n",
      "bert.encoder.layer.4.attention.output.LayerNorm.bias: Frozen\n",
      "bert.encoder.layer.4.intermediate.dense.weight: Frozen\n",
      "bert.encoder.layer.4.intermediate.dense.bias: Frozen\n",
      "bert.encoder.layer.4.output.dense.weight: Frozen\n",
      "bert.encoder.layer.4.output.dense.bias: Frozen\n",
      "bert.encoder.layer.4.output.LayerNorm.weight: Frozen\n",
      "bert.encoder.layer.4.output.LayerNorm.bias: Frozen\n",
      "bert.encoder.layer.5.attention.self.query.weight: Frozen\n",
      "bert.encoder.layer.5.attention.self.query.bias: Frozen\n",
      "bert.encoder.layer.5.attention.self.key.weight: Frozen\n",
      "bert.encoder.layer.5.attention.self.key.bias: Frozen\n",
      "bert.encoder.layer.5.attention.self.value.weight: Frozen\n",
      "bert.encoder.layer.5.attention.self.value.bias: Frozen\n",
      "bert.encoder.layer.5.attention.output.dense.weight: Frozen\n",
      "bert.encoder.layer.5.attention.output.dense.bias: Frozen\n",
      "bert.encoder.layer.5.attention.output.LayerNorm.weight: Frozen\n",
      "bert.encoder.layer.5.attention.output.LayerNorm.bias: Frozen\n",
      "bert.encoder.layer.5.intermediate.dense.weight: Frozen\n",
      "bert.encoder.layer.5.intermediate.dense.bias: Frozen\n",
      "bert.encoder.layer.5.output.dense.weight: Frozen\n",
      "bert.encoder.layer.5.output.dense.bias: Frozen\n",
      "bert.encoder.layer.5.output.LayerNorm.weight: Frozen\n",
      "bert.encoder.layer.5.output.LayerNorm.bias: Frozen\n",
      "bert.encoder.layer.6.attention.self.query.weight: Frozen\n",
      "bert.encoder.layer.6.attention.self.query.bias: Frozen\n",
      "bert.encoder.layer.6.attention.self.key.weight: Frozen\n",
      "bert.encoder.layer.6.attention.self.key.bias: Frozen\n",
      "bert.encoder.layer.6.attention.self.value.weight: Frozen\n",
      "bert.encoder.layer.6.attention.self.value.bias: Frozen\n",
      "bert.encoder.layer.6.attention.output.dense.weight: Frozen\n",
      "bert.encoder.layer.6.attention.output.dense.bias: Frozen\n",
      "bert.encoder.layer.6.attention.output.LayerNorm.weight: Frozen\n",
      "bert.encoder.layer.6.attention.output.LayerNorm.bias: Frozen\n",
      "bert.encoder.layer.6.intermediate.dense.weight: Frozen\n",
      "bert.encoder.layer.6.intermediate.dense.bias: Frozen\n",
      "bert.encoder.layer.6.output.dense.weight: Frozen\n",
      "bert.encoder.layer.6.output.dense.bias: Frozen\n",
      "bert.encoder.layer.6.output.LayerNorm.weight: Frozen\n",
      "bert.encoder.layer.6.output.LayerNorm.bias: Frozen\n",
      "bert.encoder.layer.7.attention.self.query.weight: Frozen\n",
      "bert.encoder.layer.7.attention.self.query.bias: Frozen\n",
      "bert.encoder.layer.7.attention.self.key.weight: Frozen\n",
      "bert.encoder.layer.7.attention.self.key.bias: Frozen\n",
      "bert.encoder.layer.7.attention.self.value.weight: Frozen\n",
      "bert.encoder.layer.7.attention.self.value.bias: Frozen\n",
      "bert.encoder.layer.7.attention.output.dense.weight: Frozen\n",
      "bert.encoder.layer.7.attention.output.dense.bias: Frozen\n",
      "bert.encoder.layer.7.attention.output.LayerNorm.weight: Frozen\n",
      "bert.encoder.layer.7.attention.output.LayerNorm.bias: Frozen\n",
      "bert.encoder.layer.7.intermediate.dense.weight: Frozen\n",
      "bert.encoder.layer.7.intermediate.dense.bias: Frozen\n",
      "bert.encoder.layer.7.output.dense.weight: Frozen\n",
      "bert.encoder.layer.7.output.dense.bias: Frozen\n",
      "bert.encoder.layer.7.output.LayerNorm.weight: Frozen\n",
      "bert.encoder.layer.7.output.LayerNorm.bias: Frozen\n",
      "bert.encoder.layer.8.attention.self.query.weight: Trainable\n",
      "bert.encoder.layer.8.attention.self.query.bias: Trainable\n",
      "bert.encoder.layer.8.attention.self.key.weight: Trainable\n",
      "bert.encoder.layer.8.attention.self.key.bias: Trainable\n",
      "bert.encoder.layer.8.attention.self.value.weight: Trainable\n",
      "bert.encoder.layer.8.attention.self.value.bias: Trainable\n",
      "bert.encoder.layer.8.attention.output.dense.weight: Trainable\n",
      "bert.encoder.layer.8.attention.output.dense.bias: Trainable\n",
      "bert.encoder.layer.8.attention.output.LayerNorm.weight: Trainable\n",
      "bert.encoder.layer.8.attention.output.LayerNorm.bias: Trainable\n",
      "bert.encoder.layer.8.intermediate.dense.weight: Trainable\n",
      "bert.encoder.layer.8.intermediate.dense.bias: Trainable\n",
      "bert.encoder.layer.8.output.dense.weight: Trainable\n",
      "bert.encoder.layer.8.output.dense.bias: Trainable\n",
      "bert.encoder.layer.8.output.LayerNorm.weight: Trainable\n",
      "bert.encoder.layer.8.output.LayerNorm.bias: Trainable\n",
      "bert.encoder.layer.9.attention.self.query.weight: Trainable\n",
      "bert.encoder.layer.9.attention.self.query.bias: Trainable\n",
      "bert.encoder.layer.9.attention.self.key.weight: Trainable\n",
      "bert.encoder.layer.9.attention.self.key.bias: Trainable\n",
      "bert.encoder.layer.9.attention.self.value.weight: Trainable\n",
      "bert.encoder.layer.9.attention.self.value.bias: Trainable\n",
      "bert.encoder.layer.9.attention.output.dense.weight: Trainable\n",
      "bert.encoder.layer.9.attention.output.dense.bias: Trainable\n",
      "bert.encoder.layer.9.attention.output.LayerNorm.weight: Trainable\n",
      "bert.encoder.layer.9.attention.output.LayerNorm.bias: Trainable\n",
      "bert.encoder.layer.9.intermediate.dense.weight: Trainable\n",
      "bert.encoder.layer.9.intermediate.dense.bias: Trainable\n",
      "bert.encoder.layer.9.output.dense.weight: Trainable\n",
      "bert.encoder.layer.9.output.dense.bias: Trainable\n",
      "bert.encoder.layer.9.output.LayerNorm.weight: Trainable\n",
      "bert.encoder.layer.9.output.LayerNorm.bias: Trainable\n",
      "bert.encoder.layer.10.attention.self.query.weight: Trainable\n",
      "bert.encoder.layer.10.attention.self.query.bias: Trainable\n",
      "bert.encoder.layer.10.attention.self.key.weight: Trainable\n",
      "bert.encoder.layer.10.attention.self.key.bias: Trainable\n",
      "bert.encoder.layer.10.attention.self.value.weight: Trainable\n",
      "bert.encoder.layer.10.attention.self.value.bias: Trainable\n",
      "bert.encoder.layer.10.attention.output.dense.weight: Trainable\n",
      "bert.encoder.layer.10.attention.output.dense.bias: Trainable\n",
      "bert.encoder.layer.10.attention.output.LayerNorm.weight: Trainable\n",
      "bert.encoder.layer.10.attention.output.LayerNorm.bias: Trainable\n",
      "bert.encoder.layer.10.intermediate.dense.weight: Trainable\n",
      "bert.encoder.layer.10.intermediate.dense.bias: Trainable\n",
      "bert.encoder.layer.10.output.dense.weight: Trainable\n",
      "bert.encoder.layer.10.output.dense.bias: Trainable\n",
      "bert.encoder.layer.10.output.LayerNorm.weight: Trainable\n",
      "bert.encoder.layer.10.output.LayerNorm.bias: Trainable\n",
      "bert.encoder.layer.11.attention.self.query.weight: Trainable\n",
      "bert.encoder.layer.11.attention.self.query.bias: Trainable\n",
      "bert.encoder.layer.11.attention.self.key.weight: Trainable\n",
      "bert.encoder.layer.11.attention.self.key.bias: Trainable\n",
      "bert.encoder.layer.11.attention.self.value.weight: Trainable\n",
      "bert.encoder.layer.11.attention.self.value.bias: Trainable\n",
      "bert.encoder.layer.11.attention.output.dense.weight: Trainable\n",
      "bert.encoder.layer.11.attention.output.dense.bias: Trainable\n",
      "bert.encoder.layer.11.attention.output.LayerNorm.weight: Trainable\n",
      "bert.encoder.layer.11.attention.output.LayerNorm.bias: Trainable\n",
      "bert.encoder.layer.11.intermediate.dense.weight: Trainable\n",
      "bert.encoder.layer.11.intermediate.dense.bias: Trainable\n",
      "bert.encoder.layer.11.output.dense.weight: Trainable\n",
      "bert.encoder.layer.11.output.dense.bias: Trainable\n",
      "bert.encoder.layer.11.output.LayerNorm.weight: Trainable\n",
      "bert.encoder.layer.11.output.LayerNorm.bias: Trainable\n",
      "bert.pooler.dense.weight: Frozen\n",
      "bert.pooler.dense.bias: Frozen\n",
      "classifier.weight: Trainable\n",
      "classifier.bias: Trainable\n"
     ]
    }
   ],
   "source": [
    "from transformers import BertForSequenceClassification, TrainingArguments, Trainer\n",
    "from sklearn.metrics import accuracy_score, precision_recall_fscore_support, classification_report\n",
    "import torch\n",
    "from transformers import BertTokenizer, BertForSequenceClassification, Trainer, TrainingArguments\n",
    "\n",
    "tokenizer = BertTokenizer.from_pretrained(\"bert-base-uncased\")\n",
    "\n",
    "# Load pre-trained BERT model\n",
    "model = BertForSequenceClassification.from_pretrained(\"bert-base-uncased\", num_labels=len(label_mapping))\n",
    "\n",
    "def freeze_bert_layers(model, freeze_up_to=0):\n",
    "    \"\"\"Freezes layers of the BERT model up to a given index.\"\"\"\n",
    "    for name, param in model.bert.named_parameters():\n",
    "        layer_num = int(name.split('.')[2]) if 'encoder.layer' in name else -1\n",
    "        if layer_num < freeze_up_to:\n",
    "            param.requires_grad = False\n",
    "\n",
    "freeze_bert_layers(model, freeze_up_to=8)\n",
    "\n",
    "# Print the status of layers\n",
    "for name, param in model.named_parameters():\n",
    "    print(f\"{name}: {'Trainable' if param.requires_grad else 'Frozen'}\")"
   ]
  },
  {
   "cell_type": "code",
   "execution_count": 9,
   "metadata": {},
   "outputs": [
    {
     "data": {
      "application/vnd.jupyter.widget-view+json": {
       "model_id": "8b71bb3ae1644b18afbabeb0a7edca74",
       "version_major": 2,
       "version_minor": 0
      },
      "text/plain": [
       "  0%|          | 0/210 [00:00<?, ?it/s]"
      ]
     },
     "metadata": {},
     "output_type": "display_data"
    },
    {
     "name": "stdout",
     "output_type": "stream",
     "text": [
      "{'loss': 0.3142, 'grad_norm': 1.591407060623169, 'learning_rate': 2.1000000000000002e-06, 'epoch': 1.0}\n"
     ]
    },
    {
     "data": {
      "application/vnd.jupyter.widget-view+json": {
       "model_id": "15deae32aa4a432c89bca836a777a2aa",
       "version_major": 2,
       "version_minor": 0
      },
      "text/plain": [
       "  0%|          | 0/6 [00:00<?, ?it/s]"
      ]
     },
     "metadata": {},
     "output_type": "display_data"
    },
    {
     "name": "stdout",
     "output_type": "stream",
     "text": [
      "{'eval_loss': 0.302346795797348, 'eval_runtime': 0.4193, 'eval_samples_per_second': 228.978, 'eval_steps_per_second': 14.311, 'epoch': 1.0}\n",
      "{'loss': 0.3121, 'grad_norm': 2.5179994106292725, 'learning_rate': 4.2000000000000004e-06, 'epoch': 2.0}\n"
     ]
    },
    {
     "data": {
      "application/vnd.jupyter.widget-view+json": {
       "model_id": "521f1d16dc4d443f802c67da3b25e73a",
       "version_major": 2,
       "version_minor": 0
      },
      "text/plain": [
       "  0%|          | 0/6 [00:00<?, ?it/s]"
      ]
     },
     "metadata": {},
     "output_type": "display_data"
    },
    {
     "name": "stdout",
     "output_type": "stream",
     "text": [
      "{'eval_loss': 0.30025842785835266, 'eval_runtime': 0.4248, 'eval_samples_per_second': 225.989, 'eval_steps_per_second': 14.124, 'epoch': 2.0}\n",
      "{'loss': 0.3023, 'grad_norm': 1.6631137132644653, 'learning_rate': 6.300000000000001e-06, 'epoch': 3.0}\n"
     ]
    },
    {
     "data": {
      "application/vnd.jupyter.widget-view+json": {
       "model_id": "a342e71f6f044669949b9594e8f19306",
       "version_major": 2,
       "version_minor": 0
      },
      "text/plain": [
       "  0%|          | 0/6 [00:00<?, ?it/s]"
      ]
     },
     "metadata": {},
     "output_type": "display_data"
    },
    {
     "name": "stdout",
     "output_type": "stream",
     "text": [
      "{'eval_loss': 0.2922807037830353, 'eval_runtime': 0.4192, 'eval_samples_per_second': 229.025, 'eval_steps_per_second': 14.314, 'epoch': 3.0}\n",
      "{'loss': 0.2924, 'grad_norm': 2.782123565673828, 'learning_rate': 8.400000000000001e-06, 'epoch': 4.0}\n"
     ]
    },
    {
     "data": {
      "application/vnd.jupyter.widget-view+json": {
       "model_id": "b224e033636d4710963644769436fc74",
       "version_major": 2,
       "version_minor": 0
      },
      "text/plain": [
       "  0%|          | 0/6 [00:00<?, ?it/s]"
      ]
     },
     "metadata": {},
     "output_type": "display_data"
    },
    {
     "name": "stdout",
     "output_type": "stream",
     "text": [
      "{'eval_loss': 0.2847661077976227, 'eval_runtime': 0.4191, 'eval_samples_per_second': 229.045, 'eval_steps_per_second': 14.315, 'epoch': 4.0}\n",
      "{'loss': 0.2716, 'grad_norm': 2.1610031127929688, 'learning_rate': 9.949107209404664e-06, 'epoch': 5.0}\n"
     ]
    },
    {
     "data": {
      "application/vnd.jupyter.widget-view+json": {
       "model_id": "5572b72de0c44f7cac3a12b827d2f4ff",
       "version_major": 2,
       "version_minor": 0
      },
      "text/plain": [
       "  0%|          | 0/6 [00:00<?, ?it/s]"
      ]
     },
     "metadata": {},
     "output_type": "display_data"
    },
    {
     "name": "stdout",
     "output_type": "stream",
     "text": [
      "{'eval_loss': 0.27398213744163513, 'eval_runtime': 0.4251, 'eval_samples_per_second': 225.823, 'eval_steps_per_second': 14.114, 'epoch': 5.0}\n",
      "{'loss': 0.2573, 'grad_norm': 1.586068034172058, 'learning_rate': 8.683705689382025e-06, 'epoch': 6.0}\n"
     ]
    },
    {
     "data": {
      "application/vnd.jupyter.widget-view+json": {
       "model_id": "caf59ad662d94b88987313dfe84ad9cc",
       "version_major": 2,
       "version_minor": 0
      },
      "text/plain": [
       "  0%|          | 0/6 [00:00<?, ?it/s]"
      ]
     },
     "metadata": {},
     "output_type": "display_data"
    },
    {
     "name": "stdout",
     "output_type": "stream",
     "text": [
      "{'eval_loss': 0.2654883563518524, 'eval_runtime': 0.4242, 'eval_samples_per_second': 226.291, 'eval_steps_per_second': 14.143, 'epoch': 6.0}\n",
      "{'loss': 0.2498, 'grad_norm': 2.216377019882202, 'learning_rate': 6.132483837128823e-06, 'epoch': 7.0}\n"
     ]
    },
    {
     "data": {
      "application/vnd.jupyter.widget-view+json": {
       "model_id": "323799eebdcf43ec97d70ce4c32341aa",
       "version_major": 2,
       "version_minor": 0
      },
      "text/plain": [
       "  0%|          | 0/6 [00:00<?, ?it/s]"
      ]
     },
     "metadata": {},
     "output_type": "display_data"
    },
    {
     "name": "stdout",
     "output_type": "stream",
     "text": [
      "{'eval_loss': 0.25639793276786804, 'eval_runtime': 0.4254, 'eval_samples_per_second': 225.664, 'eval_steps_per_second': 14.104, 'epoch': 7.0}\n",
      "{'loss': 0.2415, 'grad_norm': 1.9160346984863281, 'learning_rate': 3.1859614732467957e-06, 'epoch': 8.0}\n"
     ]
    },
    {
     "data": {
      "application/vnd.jupyter.widget-view+json": {
       "model_id": "18611d5da5e14ed68534badc30e02efa",
       "version_major": 2,
       "version_minor": 0
      },
      "text/plain": [
       "  0%|          | 0/6 [00:00<?, ?it/s]"
      ]
     },
     "metadata": {},
     "output_type": "display_data"
    },
    {
     "name": "stdout",
     "output_type": "stream",
     "text": [
      "{'eval_loss': 0.24978329241275787, 'eval_runtime': 0.4559, 'eval_samples_per_second': 210.574, 'eval_steps_per_second': 13.161, 'epoch': 8.0}\n",
      "{'loss': 0.239, 'grad_norm': 1.723503589630127, 'learning_rate': 8.7264051518613e-07, 'epoch': 9.0}\n"
     ]
    },
    {
     "data": {
      "application/vnd.jupyter.widget-view+json": {
       "model_id": "6e8bdb86d18a4e9db0ad40824713ecb3",
       "version_major": 2,
       "version_minor": 0
      },
      "text/plain": [
       "  0%|          | 0/6 [00:00<?, ?it/s]"
      ]
     },
     "metadata": {},
     "output_type": "display_data"
    },
    {
     "name": "stdout",
     "output_type": "stream",
     "text": [
      "{'eval_loss': 0.24807167053222656, 'eval_runtime': 0.4263, 'eval_samples_per_second': 225.19, 'eval_steps_per_second': 14.074, 'epoch': 9.0}\n",
      "{'loss': 0.2341, 'grad_norm': 1.6990138292312622, 'learning_rate': 0.0, 'epoch': 10.0}\n"
     ]
    },
    {
     "data": {
      "application/vnd.jupyter.widget-view+json": {
       "model_id": "3063a1ae2c4d48e38305f831d7859c4c",
       "version_major": 2,
       "version_minor": 0
      },
      "text/plain": [
       "  0%|          | 0/6 [00:00<?, ?it/s]"
      ]
     },
     "metadata": {},
     "output_type": "display_data"
    },
    {
     "name": "stdout",
     "output_type": "stream",
     "text": [
      "{'eval_loss': 0.24791859090328217, 'eval_runtime': 0.6259, 'eval_samples_per_second': 153.37, 'eval_steps_per_second': 9.586, 'epoch': 10.0}\n",
      "{'train_runtime': 53.4193, 'train_samples_per_second': 62.899, 'train_steps_per_second': 3.931, 'train_loss': 0.2714232535589309, 'epoch': 10.0}\n"
     ]
    },
    {
     "data": {
      "text/plain": [
       "('./bert-wordnet-finetuned\\\\tokenizer_config.json',\n",
       " './bert-wordnet-finetuned\\\\special_tokens_map.json',\n",
       " './bert-wordnet-finetuned\\\\vocab.txt',\n",
       " './bert-wordnet-finetuned\\\\added_tokens.json')"
      ]
     },
     "execution_count": 9,
     "metadata": {},
     "output_type": "execute_result"
    }
   ],
   "source": [
    "# Define training arguments\n",
    "training_args = TrainingArguments(\n",
    "    output_dir=\"./bert-wordnet-results\",\n",
    "    eval_strategy=\"epoch\",\n",
    "    save_strategy=\"epoch\",\n",
    "    logging_strategy=\"epoch\",\n",
    "    learning_rate=1e-5,\n",
    "    per_device_train_batch_size=16,\n",
    "    per_device_eval_batch_size=16,\n",
    "    weight_decay=0.001,\n",
    "    logging_dir=\"./logs\",\n",
    "    num_train_epochs=10,\n",
    "    load_best_model_at_end=True,\n",
    "    warmup_steps=100,\n",
    "    lr_scheduler_type=\"cosine\",\n",
    ")\n",
    "\n",
    "trainer = Trainer(\n",
    "    model=model,\n",
    "    args=training_args,\n",
    "    train_dataset=train_dataset_sample,\n",
    "    eval_dataset=val_dataset_sample,\n",
    "    tokenizer=tokenizer\n",
    ")\n",
    "\n",
    "trainer.train()\n",
    "\n",
    "# Save the fine-tuned model\n",
    "model.save_pretrained(\"./bert-wordnet-finetuned\")\n",
    "tokenizer.save_pretrained(\"./bert-wordnet-finetuned\")\n"
   ]
  },
  {
   "cell_type": "code",
   "execution_count": 10,
   "metadata": {},
   "outputs": [
    {
     "name": "stdout",
     "output_type": "stream",
     "text": [
      "Epoch 1: {'loss': 0.3142, 'grad_norm': 1.591407060623169, 'learning_rate': 2.1000000000000002e-06, 'epoch': 1.0, 'step': 21}\n",
      "Epoch 2: {'loss': 0.3121, 'grad_norm': 2.5179994106292725, 'learning_rate': 4.2000000000000004e-06, 'epoch': 2.0, 'step': 42}\n",
      "Epoch 3: {'loss': 0.3023, 'grad_norm': 1.6631137132644653, 'learning_rate': 6.300000000000001e-06, 'epoch': 3.0, 'step': 63}\n",
      "Epoch 4: {'loss': 0.2924, 'grad_norm': 2.782123565673828, 'learning_rate': 8.400000000000001e-06, 'epoch': 4.0, 'step': 84}\n",
      "Epoch 5: {'loss': 0.2716, 'grad_norm': 2.1610031127929688, 'learning_rate': 9.949107209404664e-06, 'epoch': 5.0, 'step': 105}\n",
      "Epoch 6: {'loss': 0.2573, 'grad_norm': 1.586068034172058, 'learning_rate': 8.683705689382025e-06, 'epoch': 6.0, 'step': 126}\n",
      "Epoch 7: {'loss': 0.2498, 'grad_norm': 2.216377019882202, 'learning_rate': 6.132483837128823e-06, 'epoch': 7.0, 'step': 147}\n",
      "Epoch 8: {'loss': 0.2415, 'grad_norm': 1.9160346984863281, 'learning_rate': 3.1859614732467957e-06, 'epoch': 8.0, 'step': 168}\n",
      "Epoch 9: {'loss': 0.239, 'grad_norm': 1.723503589630127, 'learning_rate': 8.7264051518613e-07, 'epoch': 9.0, 'step': 189}\n",
      "Epoch 10: {'loss': 0.2341, 'grad_norm': 1.6990138292312622, 'learning_rate': 0.0, 'epoch': 10.0, 'step': 210}\n"
     ]
    }
   ],
   "source": [
    "log_history = trainer.state.log_history\n",
    "eval_logs = [log for log in log_history if \"loss\" in log]\n",
    "\n",
    "for epoch, log in enumerate(eval_logs, 1):\n",
    "    print(f\"Epoch {epoch}: {log}\")"
   ]
  },
  {
   "cell_type": "code",
   "execution_count": 11,
   "metadata": {},
   "outputs": [
    {
     "data": {
      "image/png": "[encoded data removed]",
      "text/plain": [
       "<Figure size 1000x600 with 1 Axes>"
      ]
     },
     "metadata": {},
     "output_type": "display_data"
    }
   ],
   "source": [
    "import matplotlib.pyplot as plt\n",
    "\n",
    "# Extract log history from the trainer\n",
    "log_history = trainer.state.log_history\n",
    "\n",
    "# Separate training and evaluation losses\n",
    "training_losses = [entry[\"loss\"] for entry in log_history if \"loss\" in entry]\n",
    "eval_losses = [entry[\"eval_loss\"] for entry in log_history if \"eval_loss\" in entry]\n",
    "epochs = range(1, len(training_losses) + 1)\n",
    "\n",
    "# Plot training and evaluation losses\n",
    "plt.figure(figsize=(10, 6))\n",
    "plt.plot(epochs, training_losses, label=\"Training Loss\", marker=\"o\")\n",
    "plt.plot(range(1, len(eval_losses) + 1), eval_losses, label=\"Validation Loss\", marker=\"x\")\n",
    "plt.xlabel(\"Epoch\")\n",
    "plt.ylabel(\"Loss\")\n",
    "plt.title(\"Training and Validation Loss\")\n",
    "plt.legend()\n",
    "plt.grid(True)\n",
    "plt.show()\n"
   ]
  },
  {
   "cell_type": "code",
   "execution_count": 12,
   "metadata": {},
   "outputs": [
    {
     "name": "stdout",
     "output_type": "stream",
     "text": [
      "Classification Report:\n",
      "synonym:\n",
      "  precision: 0.9262\n",
      "  recall: 1.0000\n",
      "  f1-score: 0.9617\n",
      "  support: 439.0000\n",
      "antonym:\n",
      "  precision: 1.0000\n",
      "  recall: 0.0541\n",
      "  f1-score: 0.1026\n",
      "  support: 37.0000\n",
      "macro avg:\n",
      "  precision: 0.9631\n",
      "  recall: 0.5270\n",
      "  f1-score: 0.5321\n",
      "  support: 476.0000\n",
      "weighted avg:\n",
      "  precision: 0.9319\n",
      "  recall: 0.9265\n",
      "  f1-score: 0.8949\n",
      "  support: 476.0000\n"
     ]
    }
   ],
   "source": [
    "from sklearn.metrics import classification_report\n",
    "import torch\n",
    "from transformers import BertTokenizer, BertForSequenceClassification\n",
    "\n",
    "def compute_classification_metrics(model, dataset, tokenizer):\n",
    "    # Ensure model is in evaluation mode\n",
    "    model.eval()\n",
    "    \n",
    "    # Get the device where the model is located\n",
    "    device = next(model.parameters()).device\n",
    "\n",
    "    all_predictions = []\n",
    "    all_labels = []\n",
    "\n",
    "    for example in dataset:\n",
    "        # Tokenize the input text\n",
    "        inputs = tokenizer(\n",
    "            example[\"text\"],  # Adjust column name to match your dataset\n",
    "            return_tensors=\"pt\",\n",
    "            padding=\"max_length\",\n",
    "            truncation=True,\n",
    "            max_length=128\n",
    "        )\n",
    "        \n",
    "        # Move inputs to the same device as the model\n",
    "        inputs = {key: val.to(device) for key, val in inputs.items()}\n",
    "\n",
    "        with torch.no_grad():\n",
    "            outputs = model(**inputs)\n",
    "            logits = outputs.logits\n",
    "            predicted_label = torch.argmax(logits, dim=-1).item()\n",
    "        \n",
    "        # Store predictions and ground truth labels\n",
    "        all_predictions.append(predicted_label)\n",
    "        all_labels.append(example[\"label\"])\n",
    "    \n",
    "    # Compute classification metrics\n",
    "    report = classification_report(\n",
    "        all_labels,\n",
    "        all_predictions,\n",
    "        target_names=target_names,  # Adjust for your label names\n",
    "        output_dict=True\n",
    "    )\n",
    "    return report\n",
    "\n",
    "\n",
    "model = BertForSequenceClassification.from_pretrained(\"./bert-wordnet-finetuned\")\n",
    "tokenizer = BertTokenizer.from_pretrained(\"./bert-wordnet-finetuned\")\n",
    "# Evaluate the model on the test dataset\n",
    "test_report = compute_classification_metrics(model, test_dataset_sample, tokenizer)\n",
    "\n",
    "# Print metrics\n",
    "print(\"Classification Report:\")\n",
    "for label, metrics in test_report.items():\n",
    "    if isinstance(metrics, dict):  # Skip summary keys like 'accuracy'\n",
    "        print(f\"{label}:\")\n",
    "        for metric_name, value in metrics.items():\n",
    "            print(f\"  {metric_name}: {value:.4f}\")\n"
   ]
  },
  {
   "cell_type": "code",
   "execution_count": 14,
   "metadata": {},
   "outputs": [
    {
     "name": "stdout",
     "output_type": "stream",
     "text": [
      "\n",
      "Student Text 1: Machine learning is a subfield of artificial intelligence.\n",
      "  Reference 1: Machine learning is a subfield of artificial intelligence.\n",
      "    Similarity Score (Model): 1.00 -> Potential Plagiarism\n",
      "  Reference 2: Artificial intelligence includes machine learning and deep learning.\n",
      "    Similarity Score (Model): 0.77 -> Potential Plagiarism\n",
      "  Reference 3: Neural networks mimic the human brain's structure and function.\n",
      "    Similarity Score (Model): 0.71 -> Not Plagiarized\n",
      "  Reference 4: Machine learning uses data and algorithms to learn patterns.\n",
      "    Similarity Score (Model): 0.73 -> Not Plagiarized\n",
      "\n",
      "Student Text 2: Deep learning is a type of machine learning that uses neural networks.\n",
      "  Reference 1: Machine learning is a subfield of artificial intelligence.\n",
      "    Similarity Score (Model): 0.94 -> Potential Plagiarism\n",
      "  Reference 2: Artificial intelligence includes machine learning and deep learning.\n",
      "    Similarity Score (Model): 0.74 -> Not Plagiarized\n",
      "  Reference 3: Neural networks mimic the human brain's structure and function.\n",
      "    Similarity Score (Model): 0.68 -> Not Plagiarized\n",
      "  Reference 4: Machine learning uses data and algorithms to learn patterns.\n",
      "    Similarity Score (Model): 0.71 -> Not Plagiarized\n",
      "\n",
      "Student Text 3: Neural networks are inspired by the structure of the human brain.\n",
      "  Reference 1: Machine learning is a subfield of artificial intelligence.\n",
      "    Similarity Score (Model): 0.81 -> Potential Plagiarism\n",
      "  Reference 2: Artificial intelligence includes machine learning and deep learning.\n",
      "    Similarity Score (Model): 0.86 -> Potential Plagiarism\n",
      "  Reference 3: Neural networks mimic the human brain's structure and function.\n",
      "    Similarity Score (Model): 0.90 -> Potential Plagiarism\n",
      "  Reference 4: Machine learning uses data and algorithms to learn patterns.\n",
      "    Similarity Score (Model): 0.80 -> Potential Plagiarism\n"
     ]
    }
   ],
   "source": [
    "import torch\n",
    "from transformers import BertTokenizer, BertForSequenceClassification\n",
    "\n",
    "# Load the fine-tuned model and tokenizer\n",
    "model_path = \"./bert-wordnet-finetuned\"  # Path to your fine-tuned model\n",
    "tokenizer = BertTokenizer.from_pretrained(model_path)\n",
    "model = BertForSequenceClassification.from_pretrained(model_path)  # Ensure the correct model type\n",
    "model.eval()  # Set model to evaluation mode\n",
    "\n",
    "# Function to compute similarity score\n",
    "def compute_similarity(text1, text2):\n",
    "    # Tokenize the input sentences\n",
    "    inputs = tokenizer(text1, text2, return_tensors=\"pt\", padding=True, truncation=True)\n",
    "\n",
    "    # Forward pass through the model\n",
    "    with torch.no_grad():\n",
    "        outputs = model(**inputs)\n",
    "    \n",
    "    # Handle logits for regression or classification\n",
    "    if outputs.logits.shape[-1] == 1:  # Regression model\n",
    "        similarity_score = outputs.logits.squeeze().item()  # Squeeze to get a scalar value\n",
    "    elif outputs.logits.shape[-1] > 1:  # Classification model\n",
    "        probabilities = torch.softmax(outputs.logits, dim=-1)  # Compute probabilities\n",
    "        similarity_score = probabilities[0, 1].item()  # Use the probability of the \"similar\" class\n",
    "    else:\n",
    "        raise ValueError(\"Unexpected model output shape.\")\n",
    "    \n",
    "    return similarity_score\n",
    "\n",
    "# Function to compute cosine similarity for embeddings\n",
    "def compute_cosine_similarity(text1, text2):\n",
    "    # Tokenize the input sentences\n",
    "    inputs1 = tokenizer(text1, return_tensors=\"pt\", truncation=True, padding=True)\n",
    "    inputs2 = tokenizer(text2, return_tensors=\"pt\", truncation=True, padding=True)\n",
    "\n",
    "    # Forward pass through the model\n",
    "    with torch.no_grad():\n",
    "        embeddings1 = model.bert(**inputs1).last_hidden_state[:, 0, :]  # CLS token embedding\n",
    "        embeddings2 = model.bert(**inputs2).last_hidden_state[:, 0, :]  # CLS token embedding\n",
    "\n",
    "    # Compute cosine similarity\n",
    "    cosine_similarity = torch.nn.functional.cosine_similarity(embeddings1, embeddings2).item()\n",
    "    return cosine_similarity\n",
    "\n",
    "# Define example data\n",
    "student_texts = [\n",
    "    \"Machine learning is a subfield of artificial intelligence.\",\n",
    "    \"Deep learning is a type of machine learning that uses neural networks.\",\n",
    "    \"Neural networks are inspired by the structure of the human brain.\",\n",
    "]\n",
    "\n",
    "reference_texts = [\n",
    "    \"Machine learning is a subfield of artificial intelligence.\",\n",
    "    \"Artificial intelligence includes machine learning and deep learning.\",\n",
    "    \"Neural networks mimic the human brain's structure and function.\",\n",
    "    \"Machine learning uses data and algorithms to learn patterns.\",\n",
    "]\n",
    "\n",
    "# Threshold for potential plagiarism\n",
    "similarity_threshold = 0.75  # Adjust based on experimentation\n",
    "\n",
    "# Check for plagiarism\n",
    "for i, student_text in enumerate(student_texts):\n",
    "    print(f\"\\nStudent Text {i + 1}: {student_text}\")\n",
    "    for j, reference_text in enumerate(reference_texts):\n",
    "        similarity = compute_cosine_similarity(student_text, reference_text)\n",
    "        # cosine_similarity = compute_cosine_similarity(student_text, reference_text)\n",
    "        status = \"Potential Plagiarism\" if similarity >= similarity_threshold else \"Not Plagiarized\"\n",
    "        print(f\"  Reference {j + 1}: {reference_text}\")\n",
    "        print(f\"    Similarity Score (Model): {similarity:.2f} -> {status}\")\n",
    "        # print(f\"    Cosine Similarity (Embeddings): {cosine_similarity:.2f}\")\n"
   ]
  },
  {
   "cell_type": "code",
   "execution_count": 15,
   "metadata": {},
   "outputs": [
    {
     "name": "stderr",
     "output_type": "stream",
     "text": [
      "Some weights of BertForSequenceClassification were not initialized from the model checkpoint at bert-base-uncased and are newly initialized: ['classifier.bias', 'classifier.weight']\n",
      "You should probably TRAIN this model on a down-stream task to be able to use it for predictions and inference.\n"
     ]
    },
    {
     "name": "stdout",
     "output_type": "stream",
     "text": [
      "Base Model Classification Report:\n",
      "synonym:\n",
      "  precision: 0.9062\n",
      "  recall: 0.1982\n",
      "  f1-score: 0.3252\n",
      "  support: 439.0000\n",
      "antonym:\n",
      "  precision: 0.0737\n",
      "  recall: 0.7568\n",
      "  f1-score: 0.1343\n",
      "  support: 37.0000\n",
      "macro avg:\n",
      "  precision: 0.4900\n",
      "  recall: 0.4775\n",
      "  f1-score: 0.2298\n",
      "  support: 476.0000\n",
      "weighted avg:\n",
      "  precision: 0.8415\n",
      "  recall: 0.2416\n",
      "  f1-score: 0.3104\n",
      "  support: 476.0000\n",
      "\n",
      "Fine-Tuned Model Classification Report:\n",
      "synonym:\n",
      "  precision: 0.9262\n",
      "  recall: 1.0000\n",
      "  f1-score: 0.9617\n",
      "  support: 439.0000\n",
      "antonym:\n",
      "  precision: 1.0000\n",
      "  recall: 0.0541\n",
      "  f1-score: 0.1026\n",
      "  support: 37.0000\n",
      "macro avg:\n",
      "  precision: 0.9631\n",
      "  recall: 0.5270\n",
      "  f1-score: 0.5321\n",
      "  support: 476.0000\n",
      "weighted avg:\n",
      "  precision: 0.9319\n",
      "  recall: 0.9265\n",
      "  f1-score: 0.8949\n",
      "  support: 476.0000\n"
     ]
    }
   ],
   "source": [
    "from sklearn.metrics import classification_report\n",
    "import torch\n",
    "\n",
    "def evaluate_model(model, dataset, tokenizer, target_names):\n",
    "    model.eval()  # Ensure the model is in evaluation mode\n",
    "    \n",
    "    # Get the device where the model is located\n",
    "    device = next(model.parameters()).device\n",
    "    \n",
    "    all_predictions = []\n",
    "    all_labels = []\n",
    "\n",
    "    for example in dataset:\n",
    "        # Tokenize the input text\n",
    "        inputs = tokenizer(\n",
    "            example[\"text\"],  # Adjust column name to match your dataset\n",
    "            return_tensors=\"pt\",\n",
    "            padding=\"max_length\",\n",
    "            truncation=True,\n",
    "            max_length=128\n",
    "        )\n",
    "        \n",
    "        # Move inputs to the same device as the model\n",
    "        inputs = {key: val.to(device) for key, val in inputs.items()}\n",
    "\n",
    "        # Forward pass\n",
    "        with torch.no_grad():\n",
    "            outputs = model(**inputs)\n",
    "            logits = outputs.logits\n",
    "            predicted_label = torch.argmax(logits, dim=-1).item()  # Prediction\n",
    "        \n",
    "        # Collect predictions and ground truth labels\n",
    "        all_predictions.append(predicted_label)\n",
    "        all_labels.append(example[\"label\"])  # Assuming your dataset has a 'label' field\n",
    "\n",
    "    # Compute and return the classification report\n",
    "    report = classification_report(\n",
    "        all_labels,\n",
    "        all_predictions,\n",
    "        target_names=target_names,\n",
    "        output_dict=True\n",
    "    )\n",
    "    return report\n",
    "\n",
    "\n",
    "from transformers import BertTokenizer, BertForSequenceClassification\n",
    "\n",
    "# Base BERT model (not fine-tuned)\n",
    "base_model = BertForSequenceClassification.from_pretrained(\"bert-base-uncased\", num_labels=2)\n",
    "base_tokenizer = BertTokenizer.from_pretrained(\"bert-base-uncased\")\n",
    "base_model.to(\"cuda\" if torch.cuda.is_available() else \"cpu\")\n",
    "\n",
    "# Fine-tuned BERT model\n",
    "fine_tuned_model_path = \"./bert-wordnet-finetuned\"\n",
    "fine_tuned_model = BertForSequenceClassification.from_pretrained(fine_tuned_model_path)\n",
    "fine_tuned_tokenizer = BertTokenizer.from_pretrained(fine_tuned_model_path)\n",
    "fine_tuned_model.to(\"cuda\" if torch.cuda.is_available() else \"cpu\")\n",
    "\n",
    "\n",
    "# Evaluate base model\n",
    "base_model_report = evaluate_model(base_model, test_dataset_sample, base_tokenizer, target_names)\n",
    "\n",
    "# Evaluate fine-tuned model\n",
    "fine_tuned_model_report = evaluate_model(fine_tuned_model, test_dataset_sample, fine_tuned_tokenizer, target_names)\n",
    "\n",
    "# Print classification reports\n",
    "print(\"Base Model Classification Report:\")\n",
    "for label, metrics in base_model_report.items():\n",
    "    if isinstance(metrics, dict):  # Skip summary keys like 'accuracy'\n",
    "        print(f\"{label}:\")\n",
    "        for metric_name, value in metrics.items():\n",
    "            print(f\"  {metric_name}: {value:.4f}\")\n",
    "\n",
    "print(\"\\nFine-Tuned Model Classification Report:\")\n",
    "for label, metrics in fine_tuned_model_report.items():\n",
    "    if isinstance(metrics, dict):  # Skip summary keys like 'accuracy'\n",
    "        print(f\"{label}:\")\n",
    "        for metric_name, value in metrics.items():\n",
    "            print(f\"  {metric_name}: {value:.4f}\")\n",
    "\n"
   ]
  }
 ],
 "metadata": {
  "kernelspec": {
   "display_name": "itu-aml",
   "language": "python",
   "name": "python3"
  },
  "language_info": {
   "codemirror_mode": {
    "name": "ipython",
    "version": 3
   },
   "file_extension": ".py",
   "mimetype": "text/x-python",
   "name": "python",
   "nbconvert_exporter": "python",
   "pygments_lexer": "ipython3",
   "version": "3.12.7"
  }
 },
 "nbformat": 4,
 "nbformat_minor": 2
}
