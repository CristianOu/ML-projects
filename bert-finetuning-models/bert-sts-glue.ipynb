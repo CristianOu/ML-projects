{
 "cells": [
  {
   "cell_type": "code",
   "execution_count": 1,
   "metadata": {},
   "outputs": [
    {
     "name": "stdout",
     "output_type": "stream",
     "text": [
      "Using device: cuda\n",
      "300\n"
     ]
    }
   ],
   "source": [
    "# Import necessary libraries\n",
    "import pandas as pd\n",
    "import torch\n",
    "from transformers import BertTokenizer, BertForSequenceClassification, Trainer, TrainingArguments\n",
    "import matplotlib.pyplot as plt\n",
    "\n",
    "# Ensure the dataset is loaded\n",
    "train_df = pd.read_csv(\"sts_benchmark_dataset_train.csv\")\n",
    "eval_df = pd.read_csv(\"sts_benchmark_dataset_eval.csv\")\n",
    "\n",
    "train_sample_df = train_df.sample(frac=0.2, random_state=42)\n",
    "eval_sample_df = eval_df.sample(frac=0.2, random_state=42)\n",
    "\n",
    "# Initialize tokenizer\n",
    "tokenizer = BertTokenizer.from_pretrained(\"bert-base-uncased\")\n",
    "device = torch.device(\"cuda\" if torch.cuda.is_available() else \"cpu\")\n",
    "print(f\"Using device: {device}\")\n",
    "\n",
    "# Tokenize data\n",
    "def tokenize_data(df):\n",
    "    return tokenizer(\n",
    "        list(df[\"input_text\"]),\n",
    "        list(df[\"aux_text\"]),\n",
    "        padding=True,\n",
    "        truncation=True,\n",
    "        max_length=128,\n",
    "        return_tensors=\"pt\",\n",
    "    )\n",
    "\n",
    "train_encodings = tokenize_data(train_sample_df)\n",
    "eval_encodings = tokenize_data(eval_sample_df)\n",
    "\n",
    "# Dataset class for PyTorch\n",
    "class STSDataset(torch.utils.data.Dataset):\n",
    "    def __init__(self, encodings, scores):\n",
    "        self.encodings = encodings\n",
    "        self.scores = list(scores)\n",
    "\n",
    "    def __len__(self):\n",
    "        return len(self.scores)\n",
    "\n",
    "    def __getitem__(self, idx):\n",
    "        item = {key: val[idx] for key, val in self.encodings.items()}\n",
    "        item[\"label\"] = torch.tensor(self.scores[idx] / 5.0, dtype=torch.float)\n",
    "        return item\n",
    "\n",
    "# Create datasets\n",
    "train_dataset = STSDataset(train_encodings, train_sample_df[\"similarity_score\"])\n",
    "eval_dataset = STSDataset(eval_encodings, eval_sample_df[\"similarity_score\"])\n",
    "\n",
    "print(len(eval_dataset))"
   ]
  },
  {
   "cell_type": "code",
   "execution_count": 2,
   "metadata": {},
   "outputs": [
    {
     "name": "stderr",
     "output_type": "stream",
     "text": [
      "Some weights of BertForSequenceClassification were not initialized from the model checkpoint at bert-base-uncased and are newly initialized: ['classifier.bias', 'classifier.weight']\n",
      "You should probably TRAIN this model on a down-stream task to be able to use it for predictions and inference.\n"
     ]
    }
   ],
   "source": [
    "from transformers import BertForSequenceClassification\n",
    "\n",
    "model = BertForSequenceClassification.from_pretrained(\"bert-base-uncased\", num_labels=1)\n",
    "model = model.to(\"cuda\")"
   ]
  },
  {
   "cell_type": "code",
   "execution_count": 3,
   "metadata": {},
   "outputs": [
    {
     "name": "stdout",
     "output_type": "stream",
     "text": [
      "bert.embeddings.word_embeddings.weight: Frozen\n",
      "bert.embeddings.position_embeddings.weight: Frozen\n",
      "bert.embeddings.token_type_embeddings.weight: Frozen\n",
      "bert.embeddings.LayerNorm.weight: Frozen\n",
      "bert.embeddings.LayerNorm.bias: Frozen\n",
      "bert.encoder.layer.0.attention.self.query.weight: Frozen\n",
      "bert.encoder.layer.0.attention.self.query.bias: Frozen\n",
      "bert.encoder.layer.0.attention.self.key.weight: Frozen\n",
      "bert.encoder.layer.0.attention.self.key.bias: Frozen\n",
      "bert.encoder.layer.0.attention.self.value.weight: Frozen\n",
      "bert.encoder.layer.0.attention.self.value.bias: Frozen\n",
      "bert.encoder.layer.0.attention.output.dense.weight: Frozen\n",
      "bert.encoder.layer.0.attention.output.dense.bias: Frozen\n",
      "bert.encoder.layer.0.attention.output.LayerNorm.weight: Frozen\n",
      "bert.encoder.layer.0.attention.output.LayerNorm.bias: Frozen\n",
      "bert.encoder.layer.0.intermediate.dense.weight: Frozen\n",
      "bert.encoder.layer.0.intermediate.dense.bias: Frozen\n",
      "bert.encoder.layer.0.output.dense.weight: Frozen\n",
      "bert.encoder.layer.0.output.dense.bias: Frozen\n",
      "bert.encoder.layer.0.output.LayerNorm.weight: Frozen\n",
      "bert.encoder.layer.0.output.LayerNorm.bias: Frozen\n",
      "bert.encoder.layer.1.attention.self.query.weight: Frozen\n",
      "bert.encoder.layer.1.attention.self.query.bias: Frozen\n",
      "bert.encoder.layer.1.attention.self.key.weight: Frozen\n",
      "bert.encoder.layer.1.attention.self.key.bias: Frozen\n",
      "bert.encoder.layer.1.attention.self.value.weight: Frozen\n",
      "bert.encoder.layer.1.attention.self.value.bias: Frozen\n",
      "bert.encoder.layer.1.attention.output.dense.weight: Frozen\n",
      "bert.encoder.layer.1.attention.output.dense.bias: Frozen\n",
      "bert.encoder.layer.1.attention.output.LayerNorm.weight: Frozen\n",
      "bert.encoder.layer.1.attention.output.LayerNorm.bias: Frozen\n",
      "bert.encoder.layer.1.intermediate.dense.weight: Frozen\n",
      "bert.encoder.layer.1.intermediate.dense.bias: Frozen\n",
      "bert.encoder.layer.1.output.dense.weight: Frozen\n",
      "bert.encoder.layer.1.output.dense.bias: Frozen\n",
      "bert.encoder.layer.1.output.LayerNorm.weight: Frozen\n",
      "bert.encoder.layer.1.output.LayerNorm.bias: Frozen\n",
      "bert.encoder.layer.2.attention.self.query.weight: Frozen\n",
      "bert.encoder.layer.2.attention.self.query.bias: Frozen\n",
      "bert.encoder.layer.2.attention.self.key.weight: Frozen\n",
      "bert.encoder.layer.2.attention.self.key.bias: Frozen\n",
      "bert.encoder.layer.2.attention.self.value.weight: Frozen\n",
      "bert.encoder.layer.2.attention.self.value.bias: Frozen\n",
      "bert.encoder.layer.2.attention.output.dense.weight: Frozen\n",
      "bert.encoder.layer.2.attention.output.dense.bias: Frozen\n",
      "bert.encoder.layer.2.attention.output.LayerNorm.weight: Frozen\n",
      "bert.encoder.layer.2.attention.output.LayerNorm.bias: Frozen\n",
      "bert.encoder.layer.2.intermediate.dense.weight: Frozen\n",
      "bert.encoder.layer.2.intermediate.dense.bias: Frozen\n",
      "bert.encoder.layer.2.output.dense.weight: Frozen\n",
      "bert.encoder.layer.2.output.dense.bias: Frozen\n",
      "bert.encoder.layer.2.output.LayerNorm.weight: Frozen\n",
      "bert.encoder.layer.2.output.LayerNorm.bias: Frozen\n",
      "bert.encoder.layer.3.attention.self.query.weight: Frozen\n",
      "bert.encoder.layer.3.attention.self.query.bias: Frozen\n",
      "bert.encoder.layer.3.attention.self.key.weight: Frozen\n",
      "bert.encoder.layer.3.attention.self.key.bias: Frozen\n",
      "bert.encoder.layer.3.attention.self.value.weight: Frozen\n",
      "bert.encoder.layer.3.attention.self.value.bias: Frozen\n",
      "bert.encoder.layer.3.attention.output.dense.weight: Frozen\n",
      "bert.encoder.layer.3.attention.output.dense.bias: Frozen\n",
      "bert.encoder.layer.3.attention.output.LayerNorm.weight: Frozen\n",
      "bert.encoder.layer.3.attention.output.LayerNorm.bias: Frozen\n",
      "bert.encoder.layer.3.intermediate.dense.weight: Frozen\n",
      "bert.encoder.layer.3.intermediate.dense.bias: Frozen\n",
      "bert.encoder.layer.3.output.dense.weight: Frozen\n",
      "bert.encoder.layer.3.output.dense.bias: Frozen\n",
      "bert.encoder.layer.3.output.LayerNorm.weight: Frozen\n",
      "bert.encoder.layer.3.output.LayerNorm.bias: Frozen\n",
      "bert.encoder.layer.4.attention.self.query.weight: Frozen\n",
      "bert.encoder.layer.4.attention.self.query.bias: Frozen\n",
      "bert.encoder.layer.4.attention.self.key.weight: Frozen\n",
      "bert.encoder.layer.4.attention.self.key.bias: Frozen\n",
      "bert.encoder.layer.4.attention.self.value.weight: Frozen\n",
      "bert.encoder.layer.4.attention.self.value.bias: Frozen\n",
      "bert.encoder.layer.4.attention.output.dense.weight: Frozen\n",
      "bert.encoder.layer.4.attention.output.dense.bias: Frozen\n",
      "bert.encoder.layer.4.attention.output.LayerNorm.weight: Frozen\n",
      "bert.encoder.layer.4.attention.output.LayerNorm.bias: Frozen\n",
      "bert.encoder.layer.4.intermediate.dense.weight: Frozen\n",
      "bert.encoder.layer.4.intermediate.dense.bias: Frozen\n",
      "bert.encoder.layer.4.output.dense.weight: Frozen\n",
      "bert.encoder.layer.4.output.dense.bias: Frozen\n",
      "bert.encoder.layer.4.output.LayerNorm.weight: Frozen\n",
      "bert.encoder.layer.4.output.LayerNorm.bias: Frozen\n",
      "bert.encoder.layer.5.attention.self.query.weight: Frozen\n",
      "bert.encoder.layer.5.attention.self.query.bias: Frozen\n",
      "bert.encoder.layer.5.attention.self.key.weight: Frozen\n",
      "bert.encoder.layer.5.attention.self.key.bias: Frozen\n",
      "bert.encoder.layer.5.attention.self.value.weight: Frozen\n",
      "bert.encoder.layer.5.attention.self.value.bias: Frozen\n",
      "bert.encoder.layer.5.attention.output.dense.weight: Frozen\n",
      "bert.encoder.layer.5.attention.output.dense.bias: Frozen\n",
      "bert.encoder.layer.5.attention.output.LayerNorm.weight: Frozen\n",
      "bert.encoder.layer.5.attention.output.LayerNorm.bias: Frozen\n",
      "bert.encoder.layer.5.intermediate.dense.weight: Frozen\n",
      "bert.encoder.layer.5.intermediate.dense.bias: Frozen\n",
      "bert.encoder.layer.5.output.dense.weight: Frozen\n",
      "bert.encoder.layer.5.output.dense.bias: Frozen\n",
      "bert.encoder.layer.5.output.LayerNorm.weight: Frozen\n",
      "bert.encoder.layer.5.output.LayerNorm.bias: Frozen\n",
      "bert.encoder.layer.6.attention.self.query.weight: Frozen\n",
      "bert.encoder.layer.6.attention.self.query.bias: Frozen\n",
      "bert.encoder.layer.6.attention.self.key.weight: Frozen\n",
      "bert.encoder.layer.6.attention.self.key.bias: Frozen\n",
      "bert.encoder.layer.6.attention.self.value.weight: Frozen\n",
      "bert.encoder.layer.6.attention.self.value.bias: Frozen\n",
      "bert.encoder.layer.6.attention.output.dense.weight: Frozen\n",
      "bert.encoder.layer.6.attention.output.dense.bias: Frozen\n",
      "bert.encoder.layer.6.attention.output.LayerNorm.weight: Frozen\n",
      "bert.encoder.layer.6.attention.output.LayerNorm.bias: Frozen\n",
      "bert.encoder.layer.6.intermediate.dense.weight: Frozen\n",
      "bert.encoder.layer.6.intermediate.dense.bias: Frozen\n",
      "bert.encoder.layer.6.output.dense.weight: Frozen\n",
      "bert.encoder.layer.6.output.dense.bias: Frozen\n",
      "bert.encoder.layer.6.output.LayerNorm.weight: Frozen\n",
      "bert.encoder.layer.6.output.LayerNorm.bias: Frozen\n",
      "bert.encoder.layer.7.attention.self.query.weight: Frozen\n",
      "bert.encoder.layer.7.attention.self.query.bias: Frozen\n",
      "bert.encoder.layer.7.attention.self.key.weight: Frozen\n",
      "bert.encoder.layer.7.attention.self.key.bias: Frozen\n",
      "bert.encoder.layer.7.attention.self.value.weight: Frozen\n",
      "bert.encoder.layer.7.attention.self.value.bias: Frozen\n",
      "bert.encoder.layer.7.attention.output.dense.weight: Frozen\n",
      "bert.encoder.layer.7.attention.output.dense.bias: Frozen\n",
      "bert.encoder.layer.7.attention.output.LayerNorm.weight: Frozen\n",
      "bert.encoder.layer.7.attention.output.LayerNorm.bias: Frozen\n",
      "bert.encoder.layer.7.intermediate.dense.weight: Frozen\n",
      "bert.encoder.layer.7.intermediate.dense.bias: Frozen\n",
      "bert.encoder.layer.7.output.dense.weight: Frozen\n",
      "bert.encoder.layer.7.output.dense.bias: Frozen\n",
      "bert.encoder.layer.7.output.LayerNorm.weight: Frozen\n",
      "bert.encoder.layer.7.output.LayerNorm.bias: Frozen\n",
      "bert.encoder.layer.8.attention.self.query.weight: Trainable\n",
      "bert.encoder.layer.8.attention.self.query.bias: Trainable\n",
      "bert.encoder.layer.8.attention.self.key.weight: Trainable\n",
      "bert.encoder.layer.8.attention.self.key.bias: Trainable\n",
      "bert.encoder.layer.8.attention.self.value.weight: Trainable\n",
      "bert.encoder.layer.8.attention.self.value.bias: Trainable\n",
      "bert.encoder.layer.8.attention.output.dense.weight: Trainable\n",
      "bert.encoder.layer.8.attention.output.dense.bias: Trainable\n",
      "bert.encoder.layer.8.attention.output.LayerNorm.weight: Trainable\n",
      "bert.encoder.layer.8.attention.output.LayerNorm.bias: Trainable\n",
      "bert.encoder.layer.8.intermediate.dense.weight: Trainable\n",
      "bert.encoder.layer.8.intermediate.dense.bias: Trainable\n",
      "bert.encoder.layer.8.output.dense.weight: Trainable\n",
      "bert.encoder.layer.8.output.dense.bias: Trainable\n",
      "bert.encoder.layer.8.output.LayerNorm.weight: Trainable\n",
      "bert.encoder.layer.8.output.LayerNorm.bias: Trainable\n",
      "bert.encoder.layer.9.attention.self.query.weight: Trainable\n",
      "bert.encoder.layer.9.attention.self.query.bias: Trainable\n",
      "bert.encoder.layer.9.attention.self.key.weight: Trainable\n",
      "bert.encoder.layer.9.attention.self.key.bias: Trainable\n",
      "bert.encoder.layer.9.attention.self.value.weight: Trainable\n",
      "bert.encoder.layer.9.attention.self.value.bias: Trainable\n",
      "bert.encoder.layer.9.attention.output.dense.weight: Trainable\n",
      "bert.encoder.layer.9.attention.output.dense.bias: Trainable\n",
      "bert.encoder.layer.9.attention.output.LayerNorm.weight: Trainable\n",
      "bert.encoder.layer.9.attention.output.LayerNorm.bias: Trainable\n",
      "bert.encoder.layer.9.intermediate.dense.weight: Trainable\n",
      "bert.encoder.layer.9.intermediate.dense.bias: Trainable\n",
      "bert.encoder.layer.9.output.dense.weight: Trainable\n",
      "bert.encoder.layer.9.output.dense.bias: Trainable\n",
      "bert.encoder.layer.9.output.LayerNorm.weight: Trainable\n",
      "bert.encoder.layer.9.output.LayerNorm.bias: Trainable\n",
      "bert.encoder.layer.10.attention.self.query.weight: Trainable\n",
      "bert.encoder.layer.10.attention.self.query.bias: Trainable\n",
      "bert.encoder.layer.10.attention.self.key.weight: Trainable\n",
      "bert.encoder.layer.10.attention.self.key.bias: Trainable\n",
      "bert.encoder.layer.10.attention.self.value.weight: Trainable\n",
      "bert.encoder.layer.10.attention.self.value.bias: Trainable\n",
      "bert.encoder.layer.10.attention.output.dense.weight: Trainable\n",
      "bert.encoder.layer.10.attention.output.dense.bias: Trainable\n",
      "bert.encoder.layer.10.attention.output.LayerNorm.weight: Trainable\n",
      "bert.encoder.layer.10.attention.output.LayerNorm.bias: Trainable\n",
      "bert.encoder.layer.10.intermediate.dense.weight: Trainable\n",
      "bert.encoder.layer.10.intermediate.dense.bias: Trainable\n",
      "bert.encoder.layer.10.output.dense.weight: Trainable\n",
      "bert.encoder.layer.10.output.dense.bias: Trainable\n",
      "bert.encoder.layer.10.output.LayerNorm.weight: Trainable\n",
      "bert.encoder.layer.10.output.LayerNorm.bias: Trainable\n",
      "bert.encoder.layer.11.attention.self.query.weight: Trainable\n",
      "bert.encoder.layer.11.attention.self.query.bias: Trainable\n",
      "bert.encoder.layer.11.attention.self.key.weight: Trainable\n",
      "bert.encoder.layer.11.attention.self.key.bias: Trainable\n",
      "bert.encoder.layer.11.attention.self.value.weight: Trainable\n",
      "bert.encoder.layer.11.attention.self.value.bias: Trainable\n",
      "bert.encoder.layer.11.attention.output.dense.weight: Trainable\n",
      "bert.encoder.layer.11.attention.output.dense.bias: Trainable\n",
      "bert.encoder.layer.11.attention.output.LayerNorm.weight: Trainable\n",
      "bert.encoder.layer.11.attention.output.LayerNorm.bias: Trainable\n",
      "bert.encoder.layer.11.intermediate.dense.weight: Trainable\n",
      "bert.encoder.layer.11.intermediate.dense.bias: Trainable\n",
      "bert.encoder.layer.11.output.dense.weight: Trainable\n",
      "bert.encoder.layer.11.output.dense.bias: Trainable\n",
      "bert.encoder.layer.11.output.LayerNorm.weight: Trainable\n",
      "bert.encoder.layer.11.output.LayerNorm.bias: Trainable\n",
      "bert.pooler.dense.weight: Frozen\n",
      "bert.pooler.dense.bias: Frozen\n",
      "classifier.weight: Trainable\n",
      "classifier.bias: Trainable\n"
     ]
    }
   ],
   "source": [
    "def freeze_bert_layers(model, freeze_up_to=0):\n",
    "    \"\"\"Freezes layers of the BERT model up to a given index.\"\"\"\n",
    "    for name, param in model.bert.named_parameters():\n",
    "        layer_num = int(name.split('.')[2]) if 'encoder.layer' in name else -1\n",
    "        if layer_num < freeze_up_to:\n",
    "            param.requires_grad = False\n",
    "\n",
    "freeze_bert_layers(model, freeze_up_to=8)\n",
    "\n",
    "# Print the status of layers\n",
    "for name, param in model.named_parameters():\n",
    "    print(f\"{name}: {'Trainable' if param.requires_grad else 'Frozen'}\")"
   ]
  },
  {
   "cell_type": "code",
   "execution_count": 4,
   "metadata": {},
   "outputs": [
    {
     "name": "stdout",
     "output_type": "stream",
     "text": [
      "Starting training...\n"
     ]
    },
    {
     "data": {
      "application/vnd.jupyter.widget-view+json": {
       "model_id": "e591e761fc644344ab4797cc14dc6c3d",
       "version_major": 2,
       "version_minor": 0
      },
      "text/plain": [
       "  0%|          | 0/720 [00:00<?, ?it/s]"
      ]
     },
     "metadata": {},
     "output_type": "display_data"
    },
    {
     "name": "stdout",
     "output_type": "stream",
     "text": [
      "Epoch 0:\n",
      "{'loss': 0.1108, 'grad_norm': 1.7790671586990356, 'learning_rate': 1.9510565162951538e-05, 'epoch': 1.0}\n"
     ]
    },
    {
     "data": {
      "application/vnd.jupyter.widget-view+json": {
       "model_id": "3b41734d8cf7476e8cc1c5c98ee88056",
       "version_major": 2,
       "version_minor": 0
      },
      "text/plain": [
       "  0%|          | 0/19 [00:00<?, ?it/s]"
      ]
     },
     "metadata": {},
     "output_type": "display_data"
    },
    {
     "name": "stdout",
     "output_type": "stream",
     "text": [
      "{'eval_loss': 0.02828211709856987, 'eval_runtime': 0.8427, 'eval_samples_per_second': 355.983, 'eval_steps_per_second': 22.546, 'epoch': 1.0}\n",
      "Epoch 1:\n",
      "  Training Loss: 0.1108\n",
      "  Evaluation Loss: 0.0283\n",
      "{'loss': 0.0525, 'grad_norm': 3.282228946685791, 'learning_rate': 1.8090169943749477e-05, 'epoch': 2.0}\n"
     ]
    },
    {
     "data": {
      "application/vnd.jupyter.widget-view+json": {
       "model_id": "913d5222cc184425940971011c6dc7d8",
       "version_major": 2,
       "version_minor": 0
      },
      "text/plain": [
       "  0%|          | 0/19 [00:00<?, ?it/s]"
      ]
     },
     "metadata": {},
     "output_type": "display_data"
    },
    {
     "name": "stdout",
     "output_type": "stream",
     "text": [
      "{'eval_loss': 0.03189115226268768, 'eval_runtime': 0.8136, 'eval_samples_per_second': 368.723, 'eval_steps_per_second': 23.352, 'epoch': 2.0}\n",
      "Epoch 2:\n",
      "  Training Loss: 0.0525\n",
      "  Evaluation Loss: 0.0319\n",
      "{'loss': 0.0393, 'grad_norm': 2.526024580001831, 'learning_rate': 1.5877852522924733e-05, 'epoch': 3.0}\n"
     ]
    },
    {
     "data": {
      "application/vnd.jupyter.widget-view+json": {
       "model_id": "66a28adf8b3f41d59827a6e3b67e986d",
       "version_major": 2,
       "version_minor": 0
      },
      "text/plain": [
       "  0%|          | 0/19 [00:00<?, ?it/s]"
      ]
     },
     "metadata": {},
     "output_type": "display_data"
    },
    {
     "name": "stdout",
     "output_type": "stream",
     "text": [
      "{'eval_loss': 0.028185253962874413, 'eval_runtime': 0.8146, 'eval_samples_per_second': 368.271, 'eval_steps_per_second': 23.324, 'epoch': 3.0}\n",
      "Epoch 3:\n",
      "  Training Loss: 0.0393\n",
      "  Evaluation Loss: 0.0282\n",
      "{'loss': 0.035, 'grad_norm': 0.9903405904769897, 'learning_rate': 1.3090169943749475e-05, 'epoch': 4.0}\n"
     ]
    },
    {
     "data": {
      "application/vnd.jupyter.widget-view+json": {
       "model_id": "838733df1cd94eeaa515debf4f53d76e",
       "version_major": 2,
       "version_minor": 0
      },
      "text/plain": [
       "  0%|          | 0/19 [00:00<?, ?it/s]"
      ]
     },
     "metadata": {},
     "output_type": "display_data"
    },
    {
     "name": "stdout",
     "output_type": "stream",
     "text": [
      "{'eval_loss': 0.02807765267789364, 'eval_runtime': 0.8584, 'eval_samples_per_second': 349.501, 'eval_steps_per_second': 22.135, 'epoch': 4.0}\n",
      "Epoch 4:\n",
      "  Training Loss: 0.0350\n",
      "  Evaluation Loss: 0.0281\n",
      "{'loss': 0.0298, 'grad_norm': 1.4594242572784424, 'learning_rate': 1e-05, 'epoch': 5.0}\n"
     ]
    },
    {
     "data": {
      "application/vnd.jupyter.widget-view+json": {
       "model_id": "0e4af6e259594d169c613be1e03066f7",
       "version_major": 2,
       "version_minor": 0
      },
      "text/plain": [
       "  0%|          | 0/19 [00:00<?, ?it/s]"
      ]
     },
     "metadata": {},
     "output_type": "display_data"
    },
    {
     "name": "stdout",
     "output_type": "stream",
     "text": [
      "{'eval_loss': 0.03016560897231102, 'eval_runtime': 0.8265, 'eval_samples_per_second': 362.957, 'eval_steps_per_second': 22.987, 'epoch': 5.0}\n",
      "Epoch 5:\n",
      "  Training Loss: 0.0298\n",
      "  Evaluation Loss: 0.0302\n",
      "{'loss': 0.0267, 'grad_norm': 1.3151830434799194, 'learning_rate': 6.909830056250527e-06, 'epoch': 6.0}\n"
     ]
    },
    {
     "data": {
      "application/vnd.jupyter.widget-view+json": {
       "model_id": "f7a9f1b58a194c31864c782d26ac3d27",
       "version_major": 2,
       "version_minor": 0
      },
      "text/plain": [
       "  0%|          | 0/19 [00:00<?, ?it/s]"
      ]
     },
     "metadata": {},
     "output_type": "display_data"
    },
    {
     "name": "stdout",
     "output_type": "stream",
     "text": [
      "{'eval_loss': 0.02840052917599678, 'eval_runtime': 0.8204, 'eval_samples_per_second': 365.696, 'eval_steps_per_second': 23.161, 'epoch': 6.0}\n",
      "Epoch 6:\n",
      "  Training Loss: 0.0267\n",
      "  Evaluation Loss: 0.0284\n",
      "{'loss': 0.0238, 'grad_norm': 1.0338585376739502, 'learning_rate': 4.12214747707527e-06, 'epoch': 7.0}\n"
     ]
    },
    {
     "data": {
      "application/vnd.jupyter.widget-view+json": {
       "model_id": "fafddae86a9d44bb85d85340e3f2363b",
       "version_major": 2,
       "version_minor": 0
      },
      "text/plain": [
       "  0%|          | 0/19 [00:00<?, ?it/s]"
      ]
     },
     "metadata": {},
     "output_type": "display_data"
    },
    {
     "name": "stdout",
     "output_type": "stream",
     "text": [
      "{'eval_loss': 0.031028158962726593, 'eval_runtime': 0.8242, 'eval_samples_per_second': 363.997, 'eval_steps_per_second': 23.053, 'epoch': 7.0}\n",
      "Epoch 7:\n",
      "  Training Loss: 0.0238\n",
      "  Evaluation Loss: 0.0310\n",
      "{'loss': 0.0237, 'grad_norm': 0.8528518676757812, 'learning_rate': 1.9098300562505266e-06, 'epoch': 8.0}\n"
     ]
    },
    {
     "data": {
      "application/vnd.jupyter.widget-view+json": {
       "model_id": "37b713e63a3141328314d0b33901b4d9",
       "version_major": 2,
       "version_minor": 0
      },
      "text/plain": [
       "  0%|          | 0/19 [00:00<?, ?it/s]"
      ]
     },
     "metadata": {},
     "output_type": "display_data"
    },
    {
     "name": "stdout",
     "output_type": "stream",
     "text": [
      "{'eval_loss': 0.02898724190890789, 'eval_runtime': 0.8252, 'eval_samples_per_second': 363.554, 'eval_steps_per_second': 23.025, 'epoch': 8.0}\n",
      "Epoch 8:\n",
      "  Training Loss: 0.0237\n",
      "  Evaluation Loss: 0.0290\n",
      "{'loss': 0.0221, 'grad_norm': 1.028995156288147, 'learning_rate': 4.894348370484648e-07, 'epoch': 9.0}\n"
     ]
    },
    {
     "data": {
      "application/vnd.jupyter.widget-view+json": {
       "model_id": "cbb6dc01475b4609ad92d49537e1a0be",
       "version_major": 2,
       "version_minor": 0
      },
      "text/plain": [
       "  0%|          | 0/19 [00:00<?, ?it/s]"
      ]
     },
     "metadata": {},
     "output_type": "display_data"
    },
    {
     "name": "stdout",
     "output_type": "stream",
     "text": [
      "{'eval_loss': 0.029510319232940674, 'eval_runtime': 0.8303, 'eval_samples_per_second': 361.323, 'eval_steps_per_second': 22.884, 'epoch': 9.0}\n",
      "Epoch 9:\n",
      "  Training Loss: 0.0221\n",
      "  Evaluation Loss: 0.0295\n",
      "{'loss': 0.0219, 'grad_norm': 1.4944701194763184, 'learning_rate': 0.0, 'epoch': 10.0}\n"
     ]
    },
    {
     "data": {
      "application/vnd.jupyter.widget-view+json": {
       "model_id": "ba7db44da18e49fc84a9f0f0c1e01bd6",
       "version_major": 2,
       "version_minor": 0
      },
      "text/plain": [
       "  0%|          | 0/19 [00:00<?, ?it/s]"
      ]
     },
     "metadata": {},
     "output_type": "display_data"
    },
    {
     "name": "stdout",
     "output_type": "stream",
     "text": [
      "{'eval_loss': 0.029339641332626343, 'eval_runtime': 0.8945, 'eval_samples_per_second': 335.366, 'eval_steps_per_second': 21.24, 'epoch': 10.0}\n",
      "{'train_runtime': 101.3709, 'train_samples_per_second': 113.445, 'train_steps_per_second': 7.103, 'train_loss': 0.03856019344594744, 'epoch': 10.0}\n",
      "\n",
      "Training Complete!\n",
      "Final Losses Per Epoch:\n",
      "Evaluating on the validation set...\n"
     ]
    },
    {
     "data": {
      "application/vnd.jupyter.widget-view+json": {
       "model_id": "debc9f72964f459fb2a4e435195a429b",
       "version_major": 2,
       "version_minor": 0
      },
      "text/plain": [
       "  0%|          | 0/19 [00:00<?, ?it/s]"
      ]
     },
     "metadata": {},
     "output_type": "display_data"
    },
    {
     "name": "stdout",
     "output_type": "stream",
     "text": [
      "Validation Results: {'eval_loss': 0.02807765267789364, 'eval_runtime': 0.962, 'eval_samples_per_second': 311.838, 'eval_steps_per_second': 19.75, 'epoch': 10.0}\n",
      "Model and tokenizer saved!\n"
     ]
    }
   ],
   "source": [
    "from scipy.stats import pearsonr, spearmanr\n",
    "from sklearn.metrics import mean_squared_error, mean_absolute_error\n",
    "from transformers import TrainerCallback\n",
    "\n",
    "\n",
    "class LossLoggerCallback(TrainerCallback):\n",
    "    def __init__(self):\n",
    "        super().__init__()\n",
    "        self.training_losses = []\n",
    "        self.evaluation_losses = []\n",
    "        self.epoch = 0\n",
    "\n",
    "    def on_epoch_end(self, args, state, control, **kwargs):\n",
    "        # Extract the latest training and evaluation losses from state.log_history\n",
    "        train_loss = None\n",
    "        eval_loss = None\n",
    "\n",
    "        for log in state.log_history:\n",
    "            if \"loss\" in log:\n",
    "                train_loss = log[\"loss\"]\n",
    "            if \"eval_loss\" in log:\n",
    "                eval_loss = log[\"eval_loss\"]\n",
    "\n",
    "        # Print losses for the current epoch\n",
    "        print(f\"Epoch {self.epoch}:\")\n",
    "        if train_loss is not None:\n",
    "            print(f\"  Training Loss: {train_loss:.4f}\")\n",
    "        if eval_loss is not None:\n",
    "            print(f\"  Evaluation Loss: {eval_loss:.4f}\")\n",
    "\n",
    "        self.epoch += 1\n",
    "\n",
    "    def on_train_end(self, args, state, control, **kwargs):\n",
    "        \"\"\"\n",
    "        This method is triggered at the end of training and prints a summary of losses.\n",
    "        \"\"\"\n",
    "        print(\"\\nTraining Complete!\")\n",
    "        print(\"Final Losses Per Epoch:\")\n",
    "        for epoch, (train_loss, eval_loss) in enumerate(\n",
    "            zip(self.training_losses, self.evaluation_losses), start=1\n",
    "        ):\n",
    "            print(f\"  Epoch {epoch}: Training Loss = {train_loss}, Evaluation Loss = {eval_loss}\")\n",
    "\n",
    "\n",
    "training_args = TrainingArguments(\n",
    "    output_dir=\"./results_sampled\",         \n",
    "    eval_strategy=\"epoch\",\n",
    "    save_strategy=\"epoch\",\n",
    "    logging_strategy=\"epoch\",\n",
    "    learning_rate=2e-5,                      \n",
    "    per_device_train_batch_size=16,          \n",
    "    per_device_eval_batch_size=16,            \n",
    "    num_train_epochs=10,                    \n",
    "    weight_decay=0.001,                       \n",
    "    save_total_limit=3,                       \n",
    "    report_to=\"none\",              \n",
    "    lr_scheduler_type=\"cosine\",\n",
    "    load_best_model_at_end=True,\n",
    "\n",
    ")\n",
    "\n",
    "# Initialize Trainer\n",
    "trainer = Trainer(\n",
    "    model=model,\n",
    "    args=training_args,\n",
    "    train_dataset=train_dataset,\n",
    "    eval_dataset=eval_dataset,\n",
    "    tokenizer=tokenizer,\n",
    "    callbacks=[LossLoggerCallback()],\n",
    "\n",
    ")\n",
    "\n",
    "# Train the model\n",
    "print(\"Starting training...\")\n",
    "train_output = trainer.train()\n",
    "\n",
    "# Evaluate the model\n",
    "print(\"Evaluating on the validation set...\")\n",
    "results = trainer.evaluate(eval_dataset)\n",
    "print(\"Validation Results:\", results)\n",
    "\n",
    "# Save the fine-tuned model and tokenizer\n",
    "model.save_pretrained(\"./fine_tuned_bert_sts\")\n",
    "tokenizer.save_pretrained(\"./fine_tuned_bert_sts\")\n",
    "print(\"Model and tokenizer saved!\")\n",
    "\n",
    "# Extract training logs for plotting\n",
    "# train_logs = train_output.metrics\n",
    "# eval_logs = trainer.evaluate(eval_dataset)\n"
   ]
  },
  {
   "cell_type": "code",
   "execution_count": 5,
   "metadata": {},
   "outputs": [
    {
     "name": "stdout",
     "output_type": "stream",
     "text": [
      "[{'loss': 0.1108, 'grad_norm': 1.7790671586990356, 'learning_rate': 1.9510565162951538e-05, 'epoch': 1.0, 'step': 72}, {'loss': 0.0525, 'grad_norm': 3.282228946685791, 'learning_rate': 1.8090169943749477e-05, 'epoch': 2.0, 'step': 144}, {'loss': 0.0393, 'grad_norm': 2.526024580001831, 'learning_rate': 1.5877852522924733e-05, 'epoch': 3.0, 'step': 216}, {'loss': 0.035, 'grad_norm': 0.9903405904769897, 'learning_rate': 1.3090169943749475e-05, 'epoch': 4.0, 'step': 288}, {'loss': 0.0298, 'grad_norm': 1.4594242572784424, 'learning_rate': 1e-05, 'epoch': 5.0, 'step': 360}, {'loss': 0.0267, 'grad_norm': 1.3151830434799194, 'learning_rate': 6.909830056250527e-06, 'epoch': 6.0, 'step': 432}, {'loss': 0.0238, 'grad_norm': 1.0338585376739502, 'learning_rate': 4.12214747707527e-06, 'epoch': 7.0, 'step': 504}, {'loss': 0.0237, 'grad_norm': 0.8528518676757812, 'learning_rate': 1.9098300562505266e-06, 'epoch': 8.0, 'step': 576}, {'loss': 0.0221, 'grad_norm': 1.028995156288147, 'learning_rate': 4.894348370484648e-07, 'epoch': 9.0, 'step': 648}, {'loss': 0.0219, 'grad_norm': 1.4944701194763184, 'learning_rate': 0.0, 'epoch': 10.0, 'step': 720}]\n"
     ]
    },
    {
     "data": {
      "image/png": "[encoded data removed]",
      "text/plain": [
       "<Figure size 1000x600 with 1 Axes>"
      ]
     },
     "metadata": {},
     "output_type": "display_data"
    }
   ],
   "source": [
    "# Extract logs for training and validation\n",
    "train_logs = [log for log in trainer.state.log_history if 'loss' in log]\n",
    "eval_logs = [log for log in trainer.state.log_history if 'eval_loss' in log]\n",
    "\n",
    "print(train_logs)\n",
    "\n",
    "# Group training loss by epoch\n",
    "train_loss_per_epoch = {}\n",
    "for log in train_logs:\n",
    "    epoch = int(log['epoch'])\n",
    "    if epoch not in train_loss_per_epoch:\n",
    "        train_loss_per_epoch[epoch] = []\n",
    "    train_loss_per_epoch[epoch].append(log['loss'])\n",
    "\n",
    "# Calculate the average training loss for each epoch\n",
    "train_loss = [sum(losses) / len(losses) for epoch, losses in sorted(train_loss_per_epoch.items())]\n",
    "\n",
    "# Extract unique validation losses (one per epoch)\n",
    "eval_loss_per_epoch = {}\n",
    "for log in eval_logs:\n",
    "    epoch = int(log['epoch'])\n",
    "    if epoch not in eval_loss_per_epoch:\n",
    "        eval_loss_per_epoch[epoch] = log['eval_loss']\n",
    "\n",
    "eval_loss = [loss for _, loss in sorted(eval_loss_per_epoch.items())]\n",
    "\n",
    "# Align epochs\n",
    "epochs = range(1, max(len(train_loss), len(eval_loss)) + 1)\n",
    "\n",
    "# Plot training and validation losses\n",
    "plt.figure(figsize=(10, 6))\n",
    "plt.plot(epochs[:len(train_loss)], train_loss, label=\"Training Loss\", marker='o', linestyle='-')\n",
    "plt.plot(epochs[:len(eval_loss)], eval_loss, label=\"Validation Loss\", marker='x', linestyle='--')\n",
    "plt.xlabel(\"Epoch\")\n",
    "plt.ylabel(\"Loss\")\n",
    "plt.title(\"Training and Validation Loss Per Epoch\")\n",
    "plt.legend()\n",
    "plt.grid()\n",
    "plt.show()\n"
   ]
  },
  {
   "cell_type": "code",
   "execution_count": 6,
   "metadata": {},
   "outputs": [
    {
     "name": "stdout",
     "output_type": "stream",
     "text": [
      "Pearson Correlation: 0.8160\n",
      "Spearman Correlation: 0.8159\n"
     ]
    }
   ],
   "source": [
    "# Import the necessary libraries\n",
    "from transformers import BertTokenizer, BertForSequenceClassification\n",
    "from datasets import load_dataset\n",
    "from scipy.stats import pearsonr, spearmanr\n",
    "\n",
    "\n",
    "# Load the fine-tuned model and tokenizer\n",
    "model = BertForSequenceClassification.from_pretrained(\"./fine_tuned_bert_sts\")\n",
    "tokenizer = BertTokenizer.from_pretrained(\"./fine_tuned_bert_sts\")\n",
    "model.eval()\n",
    "\n",
    "# Load STS-B evaluation dataset (validation or test split)\n",
    "stsb_data = load_dataset(\"glue\", \"stsb\", split=\"validation\")  # Use \"test\" for the test set\n",
    "\n",
    "# print(stsb_data[0])\n",
    "\n",
    "# Function to compute predictions\n",
    "def compute_predictions(dataset):\n",
    "    predictions = []\n",
    "    ground_truths = []\n",
    "\n",
    "    for example in dataset:\n",
    "        sentence1 = example[\"sentence1\"]\n",
    "        sentence2 = example[\"sentence2\"]\n",
    "        true_score = example[\"label\"]\n",
    "\n",
    "        inputs = tokenizer(sentence1, sentence2, return_tensors=\"pt\", padding=True, truncation=True)\n",
    "        with torch.no_grad():\n",
    "            logits = model(**inputs).logits\n",
    "            # print(logits)\n",
    "            predicted_score = logits.squeeze().item()\n",
    "\n",
    "        predictions.append(predicted_score)\n",
    "        ground_truths.append(true_score)\n",
    "\n",
    "    return predictions, ground_truths\n",
    "\n",
    "# Compute predictions and ground truths\n",
    "predicted_scores, true_scores = compute_predictions(stsb_data)\n",
    "\n",
    "# Compute Pearson and Spearman correlations\n",
    "pearson_corr = pearsonr(predicted_scores, true_scores)\n",
    "spearman_corr = spearmanr(predicted_scores, true_scores)\n",
    "\n",
    "print(f\"Pearson Correlation: {pearson_corr[0]:.4f}\")\n",
    "print(f\"Spearman Correlation: {spearman_corr.correlation:.4f}\")\n"
   ]
  },
  {
   "cell_type": "code",
   "execution_count": 7,
   "metadata": {},
   "outputs": [
    {
     "name": "stderr",
     "output_type": "stream",
     "text": [
      "Some weights of BertForSequenceClassification were not initialized from the model checkpoint at bert-base-uncased and are newly initialized: ['classifier.bias', 'classifier.weight']\n",
      "You should probably TRAIN this model on a down-stream task to be able to use it for predictions and inference.\n"
     ]
    },
    {
     "name": "stdout",
     "output_type": "stream",
     "text": [
      "Pearson Correlation: -0.4612\n",
      "Spearman Correlation: -0.6321\n"
     ]
    }
   ],
   "source": [
    "# Import the necessary libraries\n",
    "from transformers import BertTokenizer, BertForSequenceClassification\n",
    "from datasets import load_dataset\n",
    "from scipy.stats import pearsonr, spearmanr\n",
    "\n",
    "\n",
    "# Load the fine-tuned model and tokenizer\n",
    "model = BertForSequenceClassification.from_pretrained(\"bert-base-uncased\" , num_labels=1)\n",
    "tokenizer = BertTokenizer.from_pretrained(\"bert-base-uncased\")\n",
    "model.eval()\n",
    "\n",
    "# Load STS-B evaluation dataset (validation or test split)\n",
    "stsb_data = load_dataset(\"glue\", \"stsb\", split=\"validation\")  # Use \"test\" for the test set\n",
    "\n",
    "# print(stsb_data[0])\n",
    "\n",
    "# Function to compute predictions\n",
    "def compute_predictions(dataset):\n",
    "    predictions = []\n",
    "    ground_truths = []\n",
    "\n",
    "    for example in dataset:\n",
    "        sentence1 = example[\"sentence1\"]\n",
    "        sentence2 = example[\"sentence2\"]\n",
    "        true_score = example[\"label\"]\n",
    "\n",
    "        inputs = tokenizer(sentence1, sentence2, return_tensors=\"pt\", padding=True, truncation=True)\n",
    "        with torch.no_grad():\n",
    "            logits = model(**inputs).logits\n",
    "            # print(logits)\n",
    "            predicted_score = logits.squeeze().item()\n",
    "\n",
    "        predictions.append(predicted_score)\n",
    "        ground_truths.append(true_score)\n",
    "\n",
    "    return predictions, ground_truths\n",
    "\n",
    "# Compute predictions and ground truths\n",
    "predicted_scores, true_scores = compute_predictions(stsb_data)\n",
    "\n",
    "# Compute Pearson and Spearman correlations\n",
    "pearson_corr = pearsonr(predicted_scores, true_scores)\n",
    "spearman_corr = spearmanr(predicted_scores, true_scores)\n",
    "\n",
    "print(f\"Pearson Correlation: {pearson_corr[0]:.4f}\")\n",
    "print(f\"Spearman Correlation: {spearman_corr.correlation:.4f}\")\n"
   ]
  },
  {
   "cell_type": "code",
   "execution_count": 8,
   "metadata": {},
   "outputs": [
    {
     "name": "stderr",
     "output_type": "stream",
     "text": [
      "BertSdpaSelfAttention is used but `torch.nn.functional.scaled_dot_product_attention` does not support non-absolute `position_embedding_type` or `output_attentions=True` or `head_mask`. Falling back to the manual attention implementation, but specifying the manual implementation will be required from Transformers version v5.0.0 onwards. This warning can be removed using the argument `attn_implementation=\"eager\"` when loading the model.\n"
     ]
    }
   ],
   "source": [
    "from transformers import BertForSequenceClassification, BertTokenizer\n",
    "\n",
    "# Load fine-tuned model and tokenizer\n",
    "model = BertForSequenceClassification.from_pretrained(\"./fine_tuned_bert_sts\", output_attentions=True)\n",
    "tokenizer = BertTokenizer.from_pretrained(\"./fine_tuned_bert_sts\")\n",
    "\n",
    "# Move model to GPU if available\n",
    "device = \"cuda\" if torch.cuda.is_available() else \"cpu\"\n",
    "model.to(device)\n",
    "\n",
    "\n",
    "sentence1 = \"The chef prepared a delicious meal.\"\n",
    "sentence2 = \"A cook made a tasty dish.\"\n",
    "\n",
    "inputs = tokenizer(sentence1, sentence2, return_tensors=\"pt\", padding=True, truncation=True, max_length=128)\n",
    "inputs = {key: val.to(device) for key, val in inputs.items()}\n",
    "\n",
    "# Forward pass with attention outputs\n",
    "outputs = model(**inputs, output_attentions=True)\n",
    "\n",
    "# Extract attention weights\n",
    "attention_weights = outputs.attentions  # List of tensors [num_layers, batch_size, num_heads, seq_len, seq_len]\n",
    "\n",
    "# print(attention_weights)\n"
   ]
  },
  {
   "cell_type": "code",
   "execution_count": 10,
   "metadata": {},
   "outputs": [
    {
     "data": {
      "image/png": "[encoded data removed]",
      "text/plain": [
       "<Figure size 1000x1000 with 2 Axes>"
      ]
     },
     "metadata": {},
     "output_type": "display_data"
    }
   ],
   "source": [
    "import matplotlib.pyplot as plt\n",
    "import numpy as np\n",
    "\n",
    "# Select attention weights from the first layer and the first head\n",
    "layer = 2 # First layer (index starts at 0)\n",
    "head = 0   # First head\n",
    "\n",
    "# Extract the attention matrix for the chosen layer and head\n",
    "attention_matrix = attention_weights[layer][0, head].detach().cpu().numpy()  # Shape: [seq_len, seq_len]\n",
    "\n",
    "# Get tokenized input tokens\n",
    "tokens = tokenizer.convert_ids_to_tokens(inputs[\"input_ids\"][0])\n",
    "\n",
    "def plot_attention_matrix(attention_matrix, tokens):\n",
    "    plt.figure(figsize=(10, 10))\n",
    "    plt.imshow(attention_matrix, cmap=\"viridis\")\n",
    "    plt.colorbar(label=\"Attention Weight\")\n",
    "    plt.xticks(ticks=np.arange(len(tokens)), labels=tokens, rotation=90)\n",
    "    plt.yticks(ticks=np.arange(len(tokens)), labels=tokens)\n",
    "    plt.title(f\"Attention Weights Layer {layer}\")\n",
    "    plt.xlabel(\"Tokens\")\n",
    "    plt.ylabel(\"Tokens\")\n",
    "    plt.show()\n",
    "\n",
    "plot_attention_matrix(attention_matrix, tokens)\n",
    "\n"
   ]
  },
  {
   "cell_type": "code",
   "execution_count": 12,
   "metadata": {},
   "outputs": [
    {
     "name": "stdout",
     "output_type": "stream",
     "text": [
      "Cosine Similarity: 0.8595818877220154\n"
     ]
    }
   ],
   "source": [
    "from transformers import BertTokenizer, BertModel\n",
    "\n",
    "# Load the fine-tuned model and tokenizer\n",
    "model = BertModel.from_pretrained(\"bert-base-uncased\")\n",
    "tokenizer = BertTokenizer.from_pretrained(\"bert-base-uncased\")\n",
    "\n",
    "# Move model to GPU if available\n",
    "device = \"cuda\" if torch.cuda.is_available() else \"cpu\"\n",
    "model.to(device)\n",
    "\n",
    "sentence1 = \"The chef prepared a delicious meal.\"\n",
    "sentence2 = \"A cook made a tasty dish.\"\n",
    "\n",
    "# Tokenize each sentence individually\n",
    "inputs1 = tokenizer(sentence1, return_tensors=\"pt\", padding=True, truncation=True, max_length=128)\n",
    "inputs2 = tokenizer(sentence2, return_tensors=\"pt\", padding=True, truncation=True, max_length=128)\n",
    "\n",
    "# Move inputs to device\n",
    "inputs1 = {key: val.to(device) for key, val in inputs1.items()}\n",
    "inputs2 = {key: val.to(device) for key, val in inputs2.items()}\n",
    "\n",
    "# Forward pass for each sentence\n",
    "with torch.no_grad():\n",
    "    outputs1 = model(**inputs1)\n",
    "    outputs2 = model(**inputs2)\n",
    "\n",
    "# print(outputs1)\n",
    "\n",
    "# Extract `[CLS]` embeddings\n",
    "cls_embedding1 = outputs1.last_hidden_state[0, 0]  # `[CLS]` for sentence 1\n",
    "cls_embedding2 = outputs2.last_hidden_state[0, 0]  # `[CLS]` for sentence 2\n",
    "\n",
    "# print(cls_embedding2)\n",
    "\n",
    "import torch.nn.functional as F\n",
    "\n",
    "# Compute cosine similarity\n",
    "cosine_similarity = F.cosine_similarity(cls_embedding1, cls_embedding2, dim=0).item()\n",
    "print(f\"Cosine Similarity: {cosine_similarity}\")\n"
   ]
  },
  {
   "cell_type": "code",
   "execution_count": 13,
   "metadata": {},
   "outputs": [
    {
     "name": "stdout",
     "output_type": "stream",
     "text": [
      "(2, 768)\n"
     ]
    },
    {
     "data": {
      "application/vnd.plotly.v1+json": {
       "config": {
        "plotlyServerURL": "https://plot.ly"
       },
       "data": [
        {
         "hovertemplate": "Sentence=Sentence 1<br>Principal Component 1=%{x}<br>Principal Component 2=%{y}<extra></extra>",
         "legendgroup": "Sentence 1",
         "marker": {
          "color": "#636efa",
          "line": {
           "color": "DarkSlateGrey",
           "width": 2
          },
          "size": 10,
          "symbol": "circle"
         },
         "mode": "markers",
         "name": "Sentence 1",
         "orientation": "v",
         "showlegend": true,
         "type": "scatter",
         "x": [
          3.755397319793701
         ],
         "xaxis": "x",
         "y": [
          -0.0000015727913478258415
         ],
         "yaxis": "y"
        },
        {
         "hovertemplate": "Sentence=Sentence 2<br>Principal Component 1=%{x}<br>Principal Component 2=%{y}<extra></extra>",
         "legendgroup": "Sentence 2",
         "marker": {
          "color": "#EF553B",
          "line": {
           "color": "DarkSlateGrey",
           "width": 2
          },
          "size": 10,
          "symbol": "circle"
         },
         "mode": "markers",
         "name": "Sentence 2",
         "orientation": "v",
         "showlegend": true,
         "type": "scatter",
         "x": [
          -3.7553935050964355
         ],
         "xaxis": "x",
         "y": [
          -0.0000015727927120678942
         ],
         "yaxis": "y"
        }
       ],
       "layout": {
        "legend": {
         "title": {
          "text": "Sentence"
         },
         "tracegroupgap": 0
        },
        "scene": {
         "xaxis": {
          "title": {
           "text": "PC1"
          }
         },
         "yaxis": {
          "title": {
           "text": "PC2"
          }
         }
        },
        "template": {
         "data": {
          "bar": [
           {
            "error_x": {
             "color": "#2a3f5f"
            },
            "error_y": {
             "color": "#2a3f5f"
            },
            "marker": {
             "line": {
              "color": "#E5ECF6",
              "width": 0.5
             },
             "pattern": {
              "fillmode": "overlay",
              "size": 10,
              "solidity": 0.2
             }
            },
            "type": "bar"
           }
          ],
          "barpolar": [
           {
            "marker": {
             "line": {
              "color": "#E5ECF6",
              "width": 0.5
             },
             "pattern": {
              "fillmode": "overlay",
              "size": 10,
              "solidity": 0.2
             }
            },
            "type": "barpolar"
           }
          ],
          "carpet": [
           {
            "aaxis": {
             "endlinecolor": "#2a3f5f",
             "gridcolor": "white",
             "linecolor": "white",
             "minorgridcolor": "white",
             "startlinecolor": "#2a3f5f"
            },
            "baxis": {
             "endlinecolor": "#2a3f5f",
             "gridcolor": "white",
             "linecolor": "white",
             "minorgridcolor": "white",
             "startlinecolor": "#2a3f5f"
            },
            "type": "carpet"
           }
          ],
          "choropleth": [
           {
            "colorbar": {
             "outlinewidth": 0,
             "ticks": ""
            },
            "type": "choropleth"
           }
          ],
          "contour": [
           {
            "colorbar": {
             "outlinewidth": 0,
             "ticks": ""
            },
            "colorscale": [
             [
              0,
              "#0d0887"
             ],
             [
              0.1111111111111111,
              "#46039f"
             ],
             [
              0.2222222222222222,
              "#7201a8"
             ],
             [
              0.3333333333333333,
              "#9c179e"
             ],
             [
              0.4444444444444444,
              "#bd3786"
             ],
             [
              0.5555555555555556,
              "#d8576b"
             ],
             [
              0.6666666666666666,
              "#ed7953"
             ],
             [
              0.7777777777777778,
              "#fb9f3a"
             ],
             [
              0.8888888888888888,
              "#fdca26"
             ],
             [
              1,
              "#f0f921"
             ]
            ],
            "type": "contour"
           }
          ],
          "contourcarpet": [
           {
            "colorbar": {
             "outlinewidth": 0,
             "ticks": ""
            },
            "type": "contourcarpet"
           }
          ],
          "heatmap": [
           {
            "colorbar": {
             "outlinewidth": 0,
             "ticks": ""
            },
            "colorscale": [
             [
              0,
              "#0d0887"
             ],
             [
              0.1111111111111111,
              "#46039f"
             ],
             [
              0.2222222222222222,
              "#7201a8"
             ],
             [
              0.3333333333333333,
              "#9c179e"
             ],
             [
              0.4444444444444444,
              "#bd3786"
             ],
             [
              0.5555555555555556,
              "#d8576b"
             ],
             [
              0.6666666666666666,
              "#ed7953"
             ],
             [
              0.7777777777777778,
              "#fb9f3a"
             ],
             [
              0.8888888888888888,
              "#fdca26"
             ],
             [
              1,
              "#f0f921"
             ]
            ],
            "type": "heatmap"
           }
          ],
          "heatmapgl": [
           {
            "colorbar": {
             "outlinewidth": 0,
             "ticks": ""
            },
            "colorscale": [
             [
              0,
              "#0d0887"
             ],
             [
              0.1111111111111111,
              "#46039f"
             ],
             [
              0.2222222222222222,
              "#7201a8"
             ],
             [
              0.3333333333333333,
              "#9c179e"
             ],
             [
              0.4444444444444444,
              "#bd3786"
             ],
             [
              0.5555555555555556,
              "#d8576b"
             ],
             [
              0.6666666666666666,
              "#ed7953"
             ],
             [
              0.7777777777777778,
              "#fb9f3a"
             ],
             [
              0.8888888888888888,
              "#fdca26"
             ],
             [
              1,
              "#f0f921"
             ]
            ],
            "type": "heatmapgl"
           }
          ],
          "histogram": [
           {
            "marker": {
             "pattern": {
              "fillmode": "overlay",
              "size": 10,
              "solidity": 0.2
             }
            },
            "type": "histogram"
           }
          ],
          "histogram2d": [
           {
            "colorbar": {
             "outlinewidth": 0,
             "ticks": ""
            },
            "colorscale": [
             [
              0,
              "#0d0887"
             ],
             [
              0.1111111111111111,
              "#46039f"
             ],
             [
              0.2222222222222222,
              "#7201a8"
             ],
             [
              0.3333333333333333,
              "#9c179e"
             ],
             [
              0.4444444444444444,
              "#bd3786"
             ],
             [
              0.5555555555555556,
              "#d8576b"
             ],
             [
              0.6666666666666666,
              "#ed7953"
             ],
             [
              0.7777777777777778,
              "#fb9f3a"
             ],
             [
              0.8888888888888888,
              "#fdca26"
             ],
             [
              1,
              "#f0f921"
             ]
            ],
            "type": "histogram2d"
           }
          ],
          "histogram2dcontour": [
           {
            "colorbar": {
             "outlinewidth": 0,
             "ticks": ""
            },
            "colorscale": [
             [
              0,
              "#0d0887"
             ],
             [
              0.1111111111111111,
              "#46039f"
             ],
             [
              0.2222222222222222,
              "#7201a8"
             ],
             [
              0.3333333333333333,
              "#9c179e"
             ],
             [
              0.4444444444444444,
              "#bd3786"
             ],
             [
              0.5555555555555556,
              "#d8576b"
             ],
             [
              0.6666666666666666,
              "#ed7953"
             ],
             [
              0.7777777777777778,
              "#fb9f3a"
             ],
             [
              0.8888888888888888,
              "#fdca26"
             ],
             [
              1,
              "#f0f921"
             ]
            ],
            "type": "histogram2dcontour"
           }
          ],
          "mesh3d": [
           {
            "colorbar": {
             "outlinewidth": 0,
             "ticks": ""
            },
            "type": "mesh3d"
           }
          ],
          "parcoords": [
           {
            "line": {
             "colorbar": {
              "outlinewidth": 0,
              "ticks": ""
             }
            },
            "type": "parcoords"
           }
          ],
          "pie": [
           {
            "automargin": true,
            "type": "pie"
           }
          ],
          "scatter": [
           {
            "fillpattern": {
             "fillmode": "overlay",
             "size": 10,
             "solidity": 0.2
            },
            "type": "scatter"
           }
          ],
          "scatter3d": [
           {
            "line": {
             "colorbar": {
              "outlinewidth": 0,
              "ticks": ""
             }
            },
            "marker": {
             "colorbar": {
              "outlinewidth": 0,
              "ticks": ""
             }
            },
            "type": "scatter3d"
           }
          ],
          "scattercarpet": [
           {
            "marker": {
             "colorbar": {
              "outlinewidth": 0,
              "ticks": ""
             }
            },
            "type": "scattercarpet"
           }
          ],
          "scattergeo": [
           {
            "marker": {
             "colorbar": {
              "outlinewidth": 0,
              "ticks": ""
             }
            },
            "type": "scattergeo"
           }
          ],
          "scattergl": [
           {
            "marker": {
             "colorbar": {
              "outlinewidth": 0,
              "ticks": ""
             }
            },
            "type": "scattergl"
           }
          ],
          "scattermapbox": [
           {
            "marker": {
             "colorbar": {
              "outlinewidth": 0,
              "ticks": ""
             }
            },
            "type": "scattermapbox"
           }
          ],
          "scatterpolar": [
           {
            "marker": {
             "colorbar": {
              "outlinewidth": 0,
              "ticks": ""
             }
            },
            "type": "scatterpolar"
           }
          ],
          "scatterpolargl": [
           {
            "marker": {
             "colorbar": {
              "outlinewidth": 0,
              "ticks": ""
             }
            },
            "type": "scatterpolargl"
           }
          ],
          "scatterternary": [
           {
            "marker": {
             "colorbar": {
              "outlinewidth": 0,
              "ticks": ""
             }
            },
            "type": "scatterternary"
           }
          ],
          "surface": [
           {
            "colorbar": {
             "outlinewidth": 0,
             "ticks": ""
            },
            "colorscale": [
             [
              0,
              "#0d0887"
             ],
             [
              0.1111111111111111,
              "#46039f"
             ],
             [
              0.2222222222222222,
              "#7201a8"
             ],
             [
              0.3333333333333333,
              "#9c179e"
             ],
             [
              0.4444444444444444,
              "#bd3786"
             ],
             [
              0.5555555555555556,
              "#d8576b"
             ],
             [
              0.6666666666666666,
              "#ed7953"
             ],
             [
              0.7777777777777778,
              "#fb9f3a"
             ],
             [
              0.8888888888888888,
              "#fdca26"
             ],
             [
              1,
              "#f0f921"
             ]
            ],
            "type": "surface"
           }
          ],
          "table": [
           {
            "cells": {
             "fill": {
              "color": "#EBF0F8"
             },
             "line": {
              "color": "white"
             }
            },
            "header": {
             "fill": {
              "color": "#C8D4E3"
             },
             "line": {
              "color": "white"
             }
            },
            "type": "table"
           }
          ]
         },
         "layout": {
          "annotationdefaults": {
           "arrowcolor": "#2a3f5f",
           "arrowhead": 0,
           "arrowwidth": 1
          },
          "autotypenumbers": "strict",
          "coloraxis": {
           "colorbar": {
            "outlinewidth": 0,
            "ticks": ""
           }
          },
          "colorscale": {
           "diverging": [
            [
             0,
             "#8e0152"
            ],
            [
             0.1,
             "#c51b7d"
            ],
            [
             0.2,
             "#de77ae"
            ],
            [
             0.3,
             "#f1b6da"
            ],
            [
             0.4,
             "#fde0ef"
            ],
            [
             0.5,
             "#f7f7f7"
            ],
            [
             0.6,
             "#e6f5d0"
            ],
            [
             0.7,
             "#b8e186"
            ],
            [
             0.8,
             "#7fbc41"
            ],
            [
             0.9,
             "#4d9221"
            ],
            [
             1,
             "#276419"
            ]
           ],
           "sequential": [
            [
             0,
             "#0d0887"
            ],
            [
             0.1111111111111111,
             "#46039f"
            ],
            [
             0.2222222222222222,
             "#7201a8"
            ],
            [
             0.3333333333333333,
             "#9c179e"
            ],
            [
             0.4444444444444444,
             "#bd3786"
            ],
            [
             0.5555555555555556,
             "#d8576b"
            ],
            [
             0.6666666666666666,
             "#ed7953"
            ],
            [
             0.7777777777777778,
             "#fb9f3a"
            ],
            [
             0.8888888888888888,
             "#fdca26"
            ],
            [
             1,
             "#f0f921"
            ]
           ],
           "sequentialminus": [
            [
             0,
             "#0d0887"
            ],
            [
             0.1111111111111111,
             "#46039f"
            ],
            [
             0.2222222222222222,
             "#7201a8"
            ],
            [
             0.3333333333333333,
             "#9c179e"
            ],
            [
             0.4444444444444444,
             "#bd3786"
            ],
            [
             0.5555555555555556,
             "#d8576b"
            ],
            [
             0.6666666666666666,
             "#ed7953"
            ],
            [
             0.7777777777777778,
             "#fb9f3a"
            ],
            [
             0.8888888888888888,
             "#fdca26"
            ],
            [
             1,
             "#f0f921"
            ]
           ]
          },
          "colorway": [
           "#636efa",
           "#EF553B",
           "#00cc96",
           "#ab63fa",
           "#FFA15A",
           "#19d3f3",
           "#FF6692",
           "#B6E880",
           "#FF97FF",
           "#FECB52"
          ],
          "font": {
           "color": "#2a3f5f"
          },
          "geo": {
           "bgcolor": "white",
           "lakecolor": "white",
           "landcolor": "#E5ECF6",
           "showlakes": true,
           "showland": true,
           "subunitcolor": "white"
          },
          "hoverlabel": {
           "align": "left"
          },
          "hovermode": "closest",
          "mapbox": {
           "style": "light"
          },
          "paper_bgcolor": "white",
          "plot_bgcolor": "#E5ECF6",
          "polar": {
           "angularaxis": {
            "gridcolor": "white",
            "linecolor": "white",
            "ticks": ""
           },
           "bgcolor": "#E5ECF6",
           "radialaxis": {
            "gridcolor": "white",
            "linecolor": "white",
            "ticks": ""
           }
          },
          "scene": {
           "xaxis": {
            "backgroundcolor": "#E5ECF6",
            "gridcolor": "white",
            "gridwidth": 2,
            "linecolor": "white",
            "showbackground": true,
            "ticks": "",
            "zerolinecolor": "white"
           },
           "yaxis": {
            "backgroundcolor": "#E5ECF6",
            "gridcolor": "white",
            "gridwidth": 2,
            "linecolor": "white",
            "showbackground": true,
            "ticks": "",
            "zerolinecolor": "white"
           },
           "zaxis": {
            "backgroundcolor": "#E5ECF6",
            "gridcolor": "white",
            "gridwidth": 2,
            "linecolor": "white",
            "showbackground": true,
            "ticks": "",
            "zerolinecolor": "white"
           }
          },
          "shapedefaults": {
           "line": {
            "color": "#2a3f5f"
           }
          },
          "ternary": {
           "aaxis": {
            "gridcolor": "white",
            "linecolor": "white",
            "ticks": ""
           },
           "baxis": {
            "gridcolor": "white",
            "linecolor": "white",
            "ticks": ""
           },
           "bgcolor": "#E5ECF6",
           "caxis": {
            "gridcolor": "white",
            "linecolor": "white",
            "ticks": ""
           }
          },
          "title": {
           "x": 0.05
          },
          "xaxis": {
           "automargin": true,
           "gridcolor": "white",
           "linecolor": "white",
           "ticks": "",
           "title": {
            "standoff": 15
           },
           "zerolinecolor": "white",
           "zerolinewidth": 2
          },
          "yaxis": {
           "automargin": true,
           "gridcolor": "white",
           "linecolor": "white",
           "ticks": "",
           "title": {
            "standoff": 15
           },
           "zerolinecolor": "white",
           "zerolinewidth": 2
          }
         }
        },
        "title": {
         "text": "2D Visualization of Latent Representations"
        },
        "xaxis": {
         "anchor": "y",
         "domain": [
          0,
          1
         ],
         "title": {
          "text": "Principal Component 1"
         }
        },
        "yaxis": {
         "anchor": "x",
         "domain": [
          0,
          1
         ],
         "title": {
          "text": "Principal Component 2"
         }
        }
       }
      }
     },
     "metadata": {},
     "output_type": "display_data"
    }
   ],
   "source": [
    "from sklearn.decomposition import PCA\n",
    "import plotly.express as px\n",
    "\n",
    "\n",
    "# Stack embeddings and reduce to 3D\n",
    "embeddings = torch.stack([cls_embedding1.squeeze(0), cls_embedding2.squeeze(0)]).cpu().numpy()\n",
    "print(embeddings.shape)\n",
    "\n",
    "# Reduce dimensionality to 2D\n",
    "pca = PCA(n_components=2)\n",
    "reduced_embeddings = pca.fit_transform(embeddings)\n",
    "\n",
    "# Prepare data for visualization\n",
    "data = {\n",
    "    \"PC1\": reduced_embeddings[:, 0],\n",
    "    \"PC2\": reduced_embeddings[:, 1],\n",
    "    \"Sentence\": [\"Sentence 1\", \"Sentence 2\"]\n",
    "}\n",
    "\n",
    "# Create 2D scatter plot with Plotly\n",
    "fig = px.scatter(\n",
    "    data,\n",
    "    x=\"PC1\",\n",
    "    y=\"PC2\",\n",
    "    color=\"Sentence\",\n",
    "    title=\"2D Visualization of Latent Representations\",\n",
    "    labels={\"PC1\": \"Principal Component 1\", \"PC2\": \"Principal Component 2\"}\n",
    ")\n",
    "\n",
    "fig.update_traces(marker=dict(size=10, line=dict(width=2, color=\"DarkSlateGrey\")))\n",
    "fig.update_layout(scene=dict(xaxis_title=\"PC1\", yaxis_title=\"PC2\"))\n",
    "fig.show()\n",
    "\n"
   ]
  },
  {
   "cell_type": "code",
   "execution_count": 16,
   "metadata": {},
   "outputs": [
    {
     "data": {
      "application/vnd.plotly.v1+json": {
       "config": {
        "plotlyServerURL": "https://plot.ly"
       },
       "data": [
        {
         "hovertemplate": "Sentence=Sentence 1<br>Principal Component 1=%{x}<br>Principal Component 2=%{y}<br>Principal Component 3=%{z}<extra></extra>",
         "legendgroup": "Sentence 1",
         "marker": {
          "color": "#636efa",
          "line": {
           "color": "DarkSlateGrey",
           "width": 2
          },
          "size": 10,
          "symbol": "circle"
         },
         "mode": "markers",
         "name": "Sentence 1",
         "scene": "scene",
         "showlegend": true,
         "type": "scatter3d",
         "x": [
          -791.6126098632812
         ],
         "y": [
          -669.4457397460938
         ],
         "z": [
          5.424751359922597e-12
         ]
        },
        {
         "hovertemplate": "Sentence=Sentence 2<br>Principal Component 1=%{x}<br>Principal Component 2=%{y}<br>Principal Component 3=%{z}<extra></extra>",
         "legendgroup": "Sentence 2",
         "marker": {
          "color": "#EF553B",
          "line": {
           "color": "DarkSlateGrey",
           "width": 2
          },
          "size": 10,
          "symbol": "circle"
         },
         "mode": "markers",
         "name": "Sentence 2",
         "scene": "scene",
         "showlegend": true,
         "type": "scatter3d",
         "x": [
          1181.1483154296875
         ],
         "y": [
          688.188720703125
         ],
         "z": [
          6.289344479243342e-12
         ]
        },
        {
         "hovertemplate": "Sentence=Sentence 3<br>Principal Component 1=%{x}<br>Principal Component 2=%{y}<br>Principal Component 3=%{z}<extra></extra>",
         "legendgroup": "Sentence 3",
         "marker": {
          "color": "#00cc96",
          "line": {
           "color": "DarkSlateGrey",
           "width": 2
          },
          "size": 10,
          "symbol": "circle"
         },
         "mode": "markers",
         "name": "Sentence 3",
         "scene": "scene",
         "showlegend": true,
         "type": "scatter3d",
         "x": [
          79.08528137207031
         ],
         "y": [
          2.1469054222106934
         ],
         "z": [
          6.0338669824466784e-12
         ]
        }
       ],
       "layout": {
        "legend": {
         "title": {
          "text": "Sentence"
         },
         "tracegroupgap": 0
        },
        "scene": {
         "domain": {
          "x": [
           0,
           1
          ],
          "y": [
           0,
           1
          ]
         },
         "xaxis": {
          "title": {
           "text": "PC1"
          }
         },
         "yaxis": {
          "title": {
           "text": "PC2"
          }
         },
         "zaxis": {
          "title": {
           "text": "PC3"
          }
         }
        },
        "template": {
         "data": {
          "bar": [
           {
            "error_x": {
             "color": "#2a3f5f"
            },
            "error_y": {
             "color": "#2a3f5f"
            },
            "marker": {
             "line": {
              "color": "#E5ECF6",
              "width": 0.5
             },
             "pattern": {
              "fillmode": "overlay",
              "size": 10,
              "solidity": 0.2
             }
            },
            "type": "bar"
           }
          ],
          "barpolar": [
           {
            "marker": {
             "line": {
              "color": "#E5ECF6",
              "width": 0.5
             },
             "pattern": {
              "fillmode": "overlay",
              "size": 10,
              "solidity": 0.2
             }
            },
            "type": "barpolar"
           }
          ],
          "carpet": [
           {
            "aaxis": {
             "endlinecolor": "#2a3f5f",
             "gridcolor": "white",
             "linecolor": "white",
             "minorgridcolor": "white",
             "startlinecolor": "#2a3f5f"
            },
            "baxis": {
             "endlinecolor": "#2a3f5f",
             "gridcolor": "white",
             "linecolor": "white",
             "minorgridcolor": "white",
             "startlinecolor": "#2a3f5f"
            },
            "type": "carpet"
           }
          ],
          "choropleth": [
           {
            "colorbar": {
             "outlinewidth": 0,
             "ticks": ""
            },
            "type": "choropleth"
           }
          ],
          "contour": [
           {
            "colorbar": {
             "outlinewidth": 0,
             "ticks": ""
            },
            "colorscale": [
             [
              0,
              "#0d0887"
             ],
             [
              0.1111111111111111,
              "#46039f"
             ],
             [
              0.2222222222222222,
              "#7201a8"
             ],
             [
              0.3333333333333333,
              "#9c179e"
             ],
             [
              0.4444444444444444,
              "#bd3786"
             ],
             [
              0.5555555555555556,
              "#d8576b"
             ],
             [
              0.6666666666666666,
              "#ed7953"
             ],
             [
              0.7777777777777778,
              "#fb9f3a"
             ],
             [
              0.8888888888888888,
              "#fdca26"
             ],
             [
              1,
              "#f0f921"
             ]
            ],
            "type": "contour"
           }
          ],
          "contourcarpet": [
           {
            "colorbar": {
             "outlinewidth": 0,
             "ticks": ""
            },
            "type": "contourcarpet"
           }
          ],
          "heatmap": [
           {
            "colorbar": {
             "outlinewidth": 0,
             "ticks": ""
            },
            "colorscale": [
             [
              0,
              "#0d0887"
             ],
             [
              0.1111111111111111,
              "#46039f"
             ],
             [
              0.2222222222222222,
              "#7201a8"
             ],
             [
              0.3333333333333333,
              "#9c179e"
             ],
             [
              0.4444444444444444,
              "#bd3786"
             ],
             [
              0.5555555555555556,
              "#d8576b"
             ],
             [
              0.6666666666666666,
              "#ed7953"
             ],
             [
              0.7777777777777778,
              "#fb9f3a"
             ],
             [
              0.8888888888888888,
              "#fdca26"
             ],
             [
              1,
              "#f0f921"
             ]
            ],
            "type": "heatmap"
           }
          ],
          "heatmapgl": [
           {
            "colorbar": {
             "outlinewidth": 0,
             "ticks": ""
            },
            "colorscale": [
             [
              0,
              "#0d0887"
             ],
             [
              0.1111111111111111,
              "#46039f"
             ],
             [
              0.2222222222222222,
              "#7201a8"
             ],
             [
              0.3333333333333333,
              "#9c179e"
             ],
             [
              0.4444444444444444,
              "#bd3786"
             ],
             [
              0.5555555555555556,
              "#d8576b"
             ],
             [
              0.6666666666666666,
              "#ed7953"
             ],
             [
              0.7777777777777778,
              "#fb9f3a"
             ],
             [
              0.8888888888888888,
              "#fdca26"
             ],
             [
              1,
              "#f0f921"
             ]
            ],
            "type": "heatmapgl"
           }
          ],
          "histogram": [
           {
            "marker": {
             "pattern": {
              "fillmode": "overlay",
              "size": 10,
              "solidity": 0.2
             }
            },
            "type": "histogram"
           }
          ],
          "histogram2d": [
           {
            "colorbar": {
             "outlinewidth": 0,
             "ticks": ""
            },
            "colorscale": [
             [
              0,
              "#0d0887"
             ],
             [
              0.1111111111111111,
              "#46039f"
             ],
             [
              0.2222222222222222,
              "#7201a8"
             ],
             [
              0.3333333333333333,
              "#9c179e"
             ],
             [
              0.4444444444444444,
              "#bd3786"
             ],
             [
              0.5555555555555556,
              "#d8576b"
             ],
             [
              0.6666666666666666,
              "#ed7953"
             ],
             [
              0.7777777777777778,
              "#fb9f3a"
             ],
             [
              0.8888888888888888,
              "#fdca26"
             ],
             [
              1,
              "#f0f921"
             ]
            ],
            "type": "histogram2d"
           }
          ],
          "histogram2dcontour": [
           {
            "colorbar": {
             "outlinewidth": 0,
             "ticks": ""
            },
            "colorscale": [
             [
              0,
              "#0d0887"
             ],
             [
              0.1111111111111111,
              "#46039f"
             ],
             [
              0.2222222222222222,
              "#7201a8"
             ],
             [
              0.3333333333333333,
              "#9c179e"
             ],
             [
              0.4444444444444444,
              "#bd3786"
             ],
             [
              0.5555555555555556,
              "#d8576b"
             ],
             [
              0.6666666666666666,
              "#ed7953"
             ],
             [
              0.7777777777777778,
              "#fb9f3a"
             ],
             [
              0.8888888888888888,
              "#fdca26"
             ],
             [
              1,
              "#f0f921"
             ]
            ],
            "type": "histogram2dcontour"
           }
          ],
          "mesh3d": [
           {
            "colorbar": {
             "outlinewidth": 0,
             "ticks": ""
            },
            "type": "mesh3d"
           }
          ],
          "parcoords": [
           {
            "line": {
             "colorbar": {
              "outlinewidth": 0,
              "ticks": ""
             }
            },
            "type": "parcoords"
           }
          ],
          "pie": [
           {
            "automargin": true,
            "type": "pie"
           }
          ],
          "scatter": [
           {
            "fillpattern": {
             "fillmode": "overlay",
             "size": 10,
             "solidity": 0.2
            },
            "type": "scatter"
           }
          ],
          "scatter3d": [
           {
            "line": {
             "colorbar": {
              "outlinewidth": 0,
              "ticks": ""
             }
            },
            "marker": {
             "colorbar": {
              "outlinewidth": 0,
              "ticks": ""
             }
            },
            "type": "scatter3d"
           }
          ],
          "scattercarpet": [
           {
            "marker": {
             "colorbar": {
              "outlinewidth": 0,
              "ticks": ""
             }
            },
            "type": "scattercarpet"
           }
          ],
          "scattergeo": [
           {
            "marker": {
             "colorbar": {
              "outlinewidth": 0,
              "ticks": ""
             }
            },
            "type": "scattergeo"
           }
          ],
          "scattergl": [
           {
            "marker": {
             "colorbar": {
              "outlinewidth": 0,
              "ticks": ""
             }
            },
            "type": "scattergl"
           }
          ],
          "scattermapbox": [
           {
            "marker": {
             "colorbar": {
              "outlinewidth": 0,
              "ticks": ""
             }
            },
            "type": "scattermapbox"
           }
          ],
          "scatterpolar": [
           {
            "marker": {
             "colorbar": {
              "outlinewidth": 0,
              "ticks": ""
             }
            },
            "type": "scatterpolar"
           }
          ],
          "scatterpolargl": [
           {
            "marker": {
             "colorbar": {
              "outlinewidth": 0,
              "ticks": ""
             }
            },
            "type": "scatterpolargl"
           }
          ],
          "scatterternary": [
           {
            "marker": {
             "colorbar": {
              "outlinewidth": 0,
              "ticks": ""
             }
            },
            "type": "scatterternary"
           }
          ],
          "surface": [
           {
            "colorbar": {
             "outlinewidth": 0,
             "ticks": ""
            },
            "colorscale": [
             [
              0,
              "#0d0887"
             ],
             [
              0.1111111111111111,
              "#46039f"
             ],
             [
              0.2222222222222222,
              "#7201a8"
             ],
             [
              0.3333333333333333,
              "#9c179e"
             ],
             [
              0.4444444444444444,
              "#bd3786"
             ],
             [
              0.5555555555555556,
              "#d8576b"
             ],
             [
              0.6666666666666666,
              "#ed7953"
             ],
             [
              0.7777777777777778,
              "#fb9f3a"
             ],
             [
              0.8888888888888888,
              "#fdca26"
             ],
             [
              1,
              "#f0f921"
             ]
            ],
            "type": "surface"
           }
          ],
          "table": [
           {
            "cells": {
             "fill": {
              "color": "#EBF0F8"
             },
             "line": {
              "color": "white"
             }
            },
            "header": {
             "fill": {
              "color": "#C8D4E3"
             },
             "line": {
              "color": "white"
             }
            },
            "type": "table"
           }
          ]
         },
         "layout": {
          "annotationdefaults": {
           "arrowcolor": "#2a3f5f",
           "arrowhead": 0,
           "arrowwidth": 1
          },
          "autotypenumbers": "strict",
          "coloraxis": {
           "colorbar": {
            "outlinewidth": 0,
            "ticks": ""
           }
          },
          "colorscale": {
           "diverging": [
            [
             0,
             "#8e0152"
            ],
            [
             0.1,
             "#c51b7d"
            ],
            [
             0.2,
             "#de77ae"
            ],
            [
             0.3,
             "#f1b6da"
            ],
            [
             0.4,
             "#fde0ef"
            ],
            [
             0.5,
             "#f7f7f7"
            ],
            [
             0.6,
             "#e6f5d0"
            ],
            [
             0.7,
             "#b8e186"
            ],
            [
             0.8,
             "#7fbc41"
            ],
            [
             0.9,
             "#4d9221"
            ],
            [
             1,
             "#276419"
            ]
           ],
           "sequential": [
            [
             0,
             "#0d0887"
            ],
            [
             0.1111111111111111,
             "#46039f"
            ],
            [
             0.2222222222222222,
             "#7201a8"
            ],
            [
             0.3333333333333333,
             "#9c179e"
            ],
            [
             0.4444444444444444,
             "#bd3786"
            ],
            [
             0.5555555555555556,
             "#d8576b"
            ],
            [
             0.6666666666666666,
             "#ed7953"
            ],
            [
             0.7777777777777778,
             "#fb9f3a"
            ],
            [
             0.8888888888888888,
             "#fdca26"
            ],
            [
             1,
             "#f0f921"
            ]
           ],
           "sequentialminus": [
            [
             0,
             "#0d0887"
            ],
            [
             0.1111111111111111,
             "#46039f"
            ],
            [
             0.2222222222222222,
             "#7201a8"
            ],
            [
             0.3333333333333333,
             "#9c179e"
            ],
            [
             0.4444444444444444,
             "#bd3786"
            ],
            [
             0.5555555555555556,
             "#d8576b"
            ],
            [
             0.6666666666666666,
             "#ed7953"
            ],
            [
             0.7777777777777778,
             "#fb9f3a"
            ],
            [
             0.8888888888888888,
             "#fdca26"
            ],
            [
             1,
             "#f0f921"
            ]
           ]
          },
          "colorway": [
           "#636efa",
           "#EF553B",
           "#00cc96",
           "#ab63fa",
           "#FFA15A",
           "#19d3f3",
           "#FF6692",
           "#B6E880",
           "#FF97FF",
           "#FECB52"
          ],
          "font": {
           "color": "#2a3f5f"
          },
          "geo": {
           "bgcolor": "white",
           "lakecolor": "white",
           "landcolor": "#E5ECF6",
           "showlakes": true,
           "showland": true,
           "subunitcolor": "white"
          },
          "hoverlabel": {
           "align": "left"
          },
          "hovermode": "closest",
          "mapbox": {
           "style": "light"
          },
          "paper_bgcolor": "white",
          "plot_bgcolor": "#E5ECF6",
          "polar": {
           "angularaxis": {
            "gridcolor": "white",
            "linecolor": "white",
            "ticks": ""
           },
           "bgcolor": "#E5ECF6",
           "radialaxis": {
            "gridcolor": "white",
            "linecolor": "white",
            "ticks": ""
           }
          },
          "scene": {
           "xaxis": {
            "backgroundcolor": "#E5ECF6",
            "gridcolor": "white",
            "gridwidth": 2,
            "linecolor": "white",
            "showbackground": true,
            "ticks": "",
            "zerolinecolor": "white"
           },
           "yaxis": {
            "backgroundcolor": "#E5ECF6",
            "gridcolor": "white",
            "gridwidth": 2,
            "linecolor": "white",
            "showbackground": true,
            "ticks": "",
            "zerolinecolor": "white"
           },
           "zaxis": {
            "backgroundcolor": "#E5ECF6",
            "gridcolor": "white",
            "gridwidth": 2,
            "linecolor": "white",
            "showbackground": true,
            "ticks": "",
            "zerolinecolor": "white"
           }
          },
          "shapedefaults": {
           "line": {
            "color": "#2a3f5f"
           }
          },
          "ternary": {
           "aaxis": {
            "gridcolor": "white",
            "linecolor": "white",
            "ticks": ""
           },
           "baxis": {
            "gridcolor": "white",
            "linecolor": "white",
            "ticks": ""
           },
           "bgcolor": "#E5ECF6",
           "caxis": {
            "gridcolor": "white",
            "linecolor": "white",
            "ticks": ""
           }
          },
          "title": {
           "x": 0.05
          },
          "xaxis": {
           "automargin": true,
           "gridcolor": "white",
           "linecolor": "white",
           "ticks": "",
           "title": {
            "standoff": 15
           },
           "zerolinecolor": "white",
           "zerolinewidth": 2
          },
          "yaxis": {
           "automargin": true,
           "gridcolor": "white",
           "linecolor": "white",
           "ticks": "",
           "title": {
            "standoff": 15
           },
           "zerolinecolor": "white",
           "zerolinewidth": 2
          }
         }
        },
        "title": {
         "text": "3D Visualization of Latent Representations"
        }
       }
      }
     },
     "metadata": {},
     "output_type": "display_data"
    }
   ],
   "source": [
    "from sklearn.manifold import TSNE\n",
    "\n",
    "# Add a third sentence\n",
    "sentence3 = \"A person strums a guitar melodically.\"\n",
    "inputs3 = tokenizer(sentence3, return_tensors=\"pt\", truncation=True, padding=True, max_length=128)\n",
    "inputs3 = {key: val.to(device) for key, val in inputs3.items()}\n",
    "\n",
    "# Forward pass for the third sentence\n",
    "with torch.no_grad():\n",
    "    outputs3 = model(**inputs3)\n",
    "\n",
    "# print(outputs3)\n",
    "\n",
    "# Extract `[CLS]` embedding for the third sentence\n",
    "cls_embedding3 = outputs3.last_hidden_state[0, 0]  # Shape: [1, hidden_dim]\n",
    "\n",
    "# Stack embeddings (now 3 samples)\n",
    "embeddings = torch.stack([\n",
    "    cls_embedding1.squeeze(0),\n",
    "    cls_embedding2.squeeze(0),\n",
    "    cls_embedding3.squeeze(0)\n",
    "]).cpu().numpy()\n",
    "\n",
    "# Reduce dimensionality to 3D\n",
    "tsne = TSNE(n_components=3, perplexity=2, random_state=42)\n",
    "reduced_embeddings = tsne.fit_transform(embeddings)\n",
    "\n",
    "# Prepare data for visualization\n",
    "data = {\n",
    "    \"PC1\": reduced_embeddings[:, 0],\n",
    "    \"PC2\": reduced_embeddings[:, 1],\n",
    "    \"PC3\": reduced_embeddings[:, 2],\n",
    "    \"Sentence\": [\"Sentence 1\", \"Sentence 2\", \"Sentence 3\"]\n",
    "}\n",
    "\n",
    "# Create 3D scatter plot with Plotly\n",
    "fig = px.scatter_3d(\n",
    "    data,\n",
    "    x=\"PC1\",\n",
    "    y=\"PC2\",\n",
    "    z=\"PC3\",\n",
    "    color=\"Sentence\",\n",
    "    title=\"3D Visualization of Latent Representations\",\n",
    "    labels={\"PC1\": \"Principal Component 1\", \"PC2\": \"Principal Component 2\", \"PC3\": \"Principal Component 3\"}\n",
    ")\n",
    "\n",
    "fig.update_traces(marker=dict(size=10, line=dict(width=2, color=\"DarkSlateGrey\")))\n",
    "fig.update_layout(scene=dict(xaxis_title=\"PC1\", yaxis_title=\"PC2\", zaxis_title=\"PC3\"))\n",
    "fig.show()\n"
   ]
  },
  {
   "cell_type": "code",
   "execution_count": 17,
   "metadata": {},
   "outputs": [
    {
     "name": "stdout",
     "output_type": "stream",
     "text": [
      "\n",
      "Student Text 1: Machine learning is a subfield of artificial intelligence.\n",
      "  Reference 1: Artificial intelligence includes machine learning and deep learning.\n",
      "    Similarity Score: 0.72 -> Potential Plagiarism\n",
      "  Reference 2: Neural networks mimic the human brain's structure and function.\n",
      "    Similarity Score: 0.25 -> Not Plagiarized\n",
      "  Reference 3: Machine learning uses data and algorithms to learn patterns.\n",
      "    Similarity Score: 0.52 -> Not Plagiarized\n",
      "\n",
      "Student Text 2: Deep learning is a type of machine learning that uses neural networks.\n",
      "  Reference 1: Artificial intelligence includes machine learning and deep learning.\n",
      "    Similarity Score: 0.60 -> Not Plagiarized\n",
      "  Reference 2: Neural networks mimic the human brain's structure and function.\n",
      "    Similarity Score: 0.49 -> Not Plagiarized\n",
      "  Reference 3: Machine learning uses data and algorithms to learn patterns.\n",
      "    Similarity Score: 0.51 -> Not Plagiarized\n",
      "\n",
      "Student Text 3: Neural networks are inspired by the structure of the human brain.\n",
      "  Reference 1: Artificial intelligence includes machine learning and deep learning.\n",
      "    Similarity Score: 0.35 -> Not Plagiarized\n",
      "  Reference 2: Neural networks mimic the human brain's structure and function.\n",
      "    Similarity Score: 0.65 -> Not Plagiarized\n",
      "  Reference 3: Machine learning uses data and algorithms to learn patterns.\n",
      "    Similarity Score: 0.17 -> Not Plagiarized\n"
     ]
    }
   ],
   "source": [
    "import torch\n",
    "from transformers import BertTokenizer, BertForSequenceClassification\n",
    "\n",
    "# Load the fine-tuned model and tokenizer\n",
    "model_path = \"./fine_tuned_bert_sts\"  # Path to your fine-tuned model\n",
    "tokenizer = BertTokenizer.from_pretrained(model_path)\n",
    "model = BertForSequenceClassification.from_pretrained(model_path)  # Ensure the correct model type\n",
    "model.eval()\n",
    "\n",
    "# Function to compute similarity score\n",
    "def compute_similarity(text1, text2):\n",
    "    # Tokenize the input sentences\n",
    "    inputs = tokenizer(text1, text2, return_tensors=\"pt\", padding=True, truncation=True)\n",
    "\n",
    "    # Forward pass through the model\n",
    "    with torch.no_grad():\n",
    "        outputs = model(**inputs)\n",
    "    \n",
    "    # Handle logits for regression or classification\n",
    "    if outputs.logits.shape[-1] == 1:  # Regression model\n",
    "        similarity_score = outputs.logits.squeeze().item()  # Squeeze to get a scalar value\n",
    "    elif outputs.logits.shape[-1] > 1:  # Classification model\n",
    "        probabilities = torch.softmax(outputs.logits, dim=-1)  # Compute probabilities\n",
    "        similarity_score = probabilities[0, 1].item()  # Use the probability of the \"similar\" class\n",
    "    else:\n",
    "        raise ValueError(\"Unexpected model output shape.\")\n",
    "    \n",
    "    return similarity_score\n",
    "\n",
    "# Define example data\n",
    "student_texts = [\n",
    "    \"Machine learning is a subfield of artificial intelligence.\",\n",
    "    \"Deep learning is a type of machine learning that uses neural networks.\",\n",
    "    \"Neural networks are inspired by the structure of the human brain.\",\n",
    "]\n",
    "\n",
    "reference_texts = [\n",
    "    \"Artificial intelligence includes machine learning and deep learning.\",\n",
    "    \"Neural networks mimic the human brain's structure and function.\",\n",
    "    \"Machine learning uses data and algorithms to learn patterns.\",\n",
    "]\n",
    "\n",
    "# Threshold for potential plagiarism\n",
    "similarity_threshold = 3.5 / 5  # Adjust based on experimentation\n",
    "\n",
    "# Check for plagiarism\n",
    "for i, student_text in enumerate(student_texts):\n",
    "    print(f\"\\nStudent Text {i + 1}: {student_text}\")\n",
    "    for j, reference_text in enumerate(reference_texts):\n",
    "        similarity = compute_similarity(student_text, reference_text)\n",
    "        status = \"Potential Plagiarism\" if similarity >= similarity_threshold else \"Not Plagiarized\"\n",
    "        print(f\"  Reference {j + 1}: {reference_text}\")\n",
    "        print(f\"    Similarity Score: {similarity:.2f} -> {status}\")\n"
   ]
  },
  {
   "cell_type": "code",
   "execution_count": null,
   "metadata": {},
   "outputs": [],
   "source": []
  }
 ],
 "metadata": {
  "kernelspec": {
   "display_name": "itu-aml",
   "language": "python",
   "name": "python3"
  },
  "language_info": {
   "codemirror_mode": {
    "name": "ipython",
    "version": 3
   },
   "file_extension": ".py",
   "mimetype": "text/x-python",
   "name": "python",
   "nbconvert_exporter": "python",
   "pygments_lexer": "ipython3",
   "version": "3.12.7"
  }
 },
 "nbformat": 4,
 "nbformat_minor": 2
}
