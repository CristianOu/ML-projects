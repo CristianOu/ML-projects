{
 "cells": [
  {
   "cell_type": "markdown",
   "metadata": {},
   "source": [
    "## Task 2a"
   ]
  },
  {
   "cell_type": "code",
   "execution_count": 39,
   "metadata": {},
   "outputs": [
    {
     "name": "stdout",
     "output_type": "stream",
     "text": [
      "Using device: cuda\n"
     ]
    }
   ],
   "source": [
    "# Import necessary libraries\n",
    "import torch\n",
    "import torch.nn as nn\n",
    "from torch.utils.data import DataLoader, random_split\n",
    "from torchvision import datasets, transforms\n",
    "from transformers import ViTForImageClassification, AdamW, get_linear_schedule_with_warmup\n",
    "from tqdm import tqdm\n",
    "from torch.utils.data import Subset\n",
    "import matplotlib.pyplot as plt\n",
    "\n",
    "# Check if CUDA is available and set device\n",
    "device = torch.device('cuda' if torch.cuda.is_available() else 'cpu')\n",
    "print(f'Using device: {device}')\n"
   ]
  },
  {
   "cell_type": "code",
   "execution_count": 40,
   "metadata": {},
   "outputs": [
    {
     "name": "stdout",
     "output_type": "stream",
     "text": [
      "Files already downloaded and verified\n",
      "Files already downloaded and verified\n",
      "900 100\n"
     ]
    }
   ],
   "source": [
    "# Define image transformations\n",
    "transform_train = transforms.Compose([\n",
    "    transforms.Resize((224, 224)),\n",
    "    transforms.RandomHorizontalFlip(),  # Data augmentation\n",
    "    transforms.ToTensor(),\n",
    "    transforms.Normalize(mean=[0.485, 0.456, 0.406],   # ImageNet normalization\n",
    "                         std=[0.229, 0.224, 0.225]),\n",
    "])\n",
    "\n",
    "transform_test = transforms.Compose([\n",
    "    transforms.Resize((224, 224)),\n",
    "    transforms.ToTensor(),\n",
    "    transforms.Normalize(mean=[0.485, 0.456, 0.406],   # ImageNet normalization\n",
    "                         std=[0.229, 0.224, 0.225]),\n",
    "])\n",
    "\n",
    "# Download and load the CIFAR-10 dataset\n",
    "full_train_dataset = datasets.CIFAR10(root='./data', train=True, download=True, transform=transform_train)\n",
    "test_dataset = datasets.CIFAR10(root='./data', train=False, download=True, transform=transform_test)\n",
    "\n",
    "subset_indices = list(range(1000))  # Indices for the first 1,000 items\n",
    "subset_train_dataset = Subset(full_train_dataset, subset_indices)\n",
    "\n",
    "# Split training data into training and validation sets\n",
    "train_size = int(0.9 * len(subset_train_dataset))  # 90% for training\n",
    "val_size = len(subset_train_dataset) - train_size  # 10% for validation\n",
    "train_dataset, val_dataset = random_split(subset_train_dataset, [train_size, val_size])\n",
    "\n",
    "print(train_size, val_size)\n",
    "\n",
    "# Create data loaders\n",
    "batch_size = 32\n",
    "\n",
    "train_loader = DataLoader(train_dataset, batch_size=batch_size, shuffle=True, num_workers=4)\n",
    "val_loader   = DataLoader(val_dataset, batch_size=batch_size, shuffle=False, num_workers=4)\n",
    "test_loader  = DataLoader(test_dataset, batch_size=batch_size, shuffle=False, num_workers=4)\n"
   ]
  },
  {
   "cell_type": "markdown",
   "metadata": {},
   "source": [
    "## Task 2b\n"
   ]
  },
  {
   "cell_type": "code",
   "execution_count": 41,
   "metadata": {},
   "outputs": [
    {
     "data": {
      "text/plain": [
       "ViTForImageClassification(\n",
       "  (vit): ViTModel(\n",
       "    (embeddings): ViTEmbeddings(\n",
       "      (patch_embeddings): ViTPatchEmbeddings(\n",
       "        (projection): Conv2d(3, 768, kernel_size=(16, 16), stride=(16, 16))\n",
       "      )\n",
       "      (dropout): Dropout(p=0.0, inplace=False)\n",
       "    )\n",
       "    (encoder): ViTEncoder(\n",
       "      (layer): ModuleList(\n",
       "        (0-11): 12 x ViTLayer(\n",
       "          (attention): ViTSdpaAttention(\n",
       "            (attention): ViTSdpaSelfAttention(\n",
       "              (query): Linear(in_features=768, out_features=768, bias=True)\n",
       "              (key): Linear(in_features=768, out_features=768, bias=True)\n",
       "              (value): Linear(in_features=768, out_features=768, bias=True)\n",
       "              (dropout): Dropout(p=0.0, inplace=False)\n",
       "            )\n",
       "            (output): ViTSelfOutput(\n",
       "              (dense): Linear(in_features=768, out_features=768, bias=True)\n",
       "              (dropout): Dropout(p=0.0, inplace=False)\n",
       "            )\n",
       "          )\n",
       "          (intermediate): ViTIntermediate(\n",
       "            (dense): Linear(in_features=768, out_features=3072, bias=True)\n",
       "            (intermediate_act_fn): GELUActivation()\n",
       "          )\n",
       "          (output): ViTOutput(\n",
       "            (dense): Linear(in_features=3072, out_features=768, bias=True)\n",
       "            (dropout): Dropout(p=0.0, inplace=False)\n",
       "          )\n",
       "          (layernorm_before): LayerNorm((768,), eps=1e-12, elementwise_affine=True)\n",
       "          (layernorm_after): LayerNorm((768,), eps=1e-12, elementwise_affine=True)\n",
       "        )\n",
       "      )\n",
       "    )\n",
       "    (layernorm): LayerNorm((768,), eps=1e-12, elementwise_affine=True)\n",
       "  )\n",
       "  (classifier): Linear(in_features=768, out_features=10, bias=True)\n",
       ")"
      ]
     },
     "execution_count": 41,
     "metadata": {},
     "output_type": "execute_result"
    }
   ],
   "source": [
    "model = ViTForImageClassification.from_pretrained('google/vit-base-patch16-224')\n",
    "\n",
    "# Replace the classifier head with a new one\n",
    "model.classifier = nn.Linear(model.config.hidden_size, 10)\n",
    "device = torch.device('cuda' if torch.cuda.is_available() else 'cpu')\n",
    "model.to(device)\n",
    "\n",
    "# print(model.classifier)\n"
   ]
  },
  {
   "cell_type": "markdown",
   "metadata": {},
   "source": [
    "## Task 2c"
   ]
  },
  {
   "cell_type": "code",
   "execution_count": 42,
   "metadata": {},
   "outputs": [
    {
     "name": "stdout",
     "output_type": "stream",
     "text": [
      "Trainable parameters:\n",
      "vit.encoder.layer.11.attention.attention.query.weight\n",
      "vit.encoder.layer.11.attention.attention.query.bias\n",
      "vit.encoder.layer.11.attention.attention.key.weight\n",
      "vit.encoder.layer.11.attention.attention.key.bias\n",
      "vit.encoder.layer.11.attention.attention.value.weight\n",
      "vit.encoder.layer.11.attention.attention.value.bias\n",
      "vit.encoder.layer.11.attention.output.dense.weight\n",
      "vit.encoder.layer.11.attention.output.dense.bias\n",
      "vit.encoder.layer.11.intermediate.dense.weight\n",
      "vit.encoder.layer.11.intermediate.dense.bias\n",
      "vit.encoder.layer.11.output.dense.weight\n",
      "vit.encoder.layer.11.output.dense.bias\n",
      "vit.encoder.layer.11.layernorm_before.weight\n",
      "vit.encoder.layer.11.layernorm_before.bias\n",
      "vit.encoder.layer.11.layernorm_after.weight\n",
      "vit.encoder.layer.11.layernorm_after.bias\n",
      "classifier.weight\n",
      "classifier.bias\n"
     ]
    }
   ],
   "source": [
    "# Freeze lower layers and fine-tune top layers\n",
    "# Let's freeze all layers except the last Transformer encoder layer and the classifier\n",
    "for name, param in model.named_parameters():\n",
    "  if 'encoder.layer.11' in name or 'classifier' in name:\n",
    "    param.requires_grad = True\n",
    "  else:\n",
    "    param.requires_grad = False\n",
    "\n",
    "# Verify which parameters are trainable\n",
    "print(\"Trainable parameters:\")\n",
    "for name, param in model.named_parameters():\n",
    "  if param.requires_grad:\n",
    "    print(name)\n",
    "\n",
    "# Define the optimizer and learning rate scheduler\n",
    "optimizer = AdamW(model.parameters(), lr=5e-4, weight_decay=1e-4)\n",
    "\n",
    "# Number of training steps\n",
    "num_epochs = 6\n",
    "total_steps = len(train_loader) * num_epochs\n",
    "\n",
    "# Set up the learning rate scheduler\n",
    "scheduler = get_linear_schedule_with_warmup(optimizer, \n",
    "                                            num_warmup_steps=int(0.1 * total_steps), \n",
    "                                            num_training_steps=total_steps)\n",
    "\n",
    "# Define the loss function\n",
    "criterion = nn.CrossEntropyLoss()\n",
    "\n",
    "\n",
    "# # Number of encoder layers to freeze\n",
    "# freeze_layers = 6  # Freeze the first 6 layers (adjust as needed)\n",
    "\n",
    "# # Freeze the embeddings\n",
    "# for param in model.vit.embeddings.parameters():\n",
    "#   param.requires_grad = False\n",
    "\n",
    "# # Freeze the first N encoder layers\n",
    "# for idx in range(freeze_layers):\n",
    "#   for param in model.vit.encoder.layer[idx].parameters():\n",
    "#     param.requires_grad = False\n",
    "\n",
    "# # Ensure the classifier is trainable\n",
    "# for param in model.classifier.parameters():\n",
    "#   param.requires_grad = True"
   ]
  },
  {
   "cell_type": "code",
   "execution_count": 43,
   "metadata": {},
   "outputs": [
    {
     "name": "stderr",
     "output_type": "stream",
     "text": [
      "Epoch [1/6]: 100%|██████████| 29/29 [00:48<00:00,  1.68s/it, loss=0.0448]\n"
     ]
    },
    {
     "name": "stdout",
     "output_type": "stream",
     "text": [
      "Epoch [1/6] - Train Loss: 1.3022, Train Acc: 59.33% - Val Loss: 0.2514, Val Acc: 90.00%\n"
     ]
    },
    {
     "name": "stderr",
     "output_type": "stream",
     "text": [
      "Epoch [2/6]: 100%|██████████| 29/29 [00:46<00:00,  1.60s/it, loss=0.0181]\n"
     ]
    },
    {
     "name": "stdout",
     "output_type": "stream",
     "text": [
      "Epoch [2/6] - Train Loss: 0.1799, Train Acc: 94.33% - Val Loss: 0.2052, Val Acc: 92.00%\n"
     ]
    },
    {
     "name": "stderr",
     "output_type": "stream",
     "text": [
      "Epoch [3/6]: 100%|██████████| 29/29 [00:45<00:00,  1.58s/it, loss=0.0176] \n"
     ]
    },
    {
     "name": "stdout",
     "output_type": "stream",
     "text": [
      "Epoch [3/6] - Train Loss: 0.0596, Train Acc: 99.44% - Val Loss: 0.1772, Val Acc: 93.00%\n"
     ]
    },
    {
     "name": "stderr",
     "output_type": "stream",
     "text": [
      "Epoch [4/6]: 100%|██████████| 29/29 [00:46<00:00,  1.60s/it, loss=0.0129]\n"
     ]
    },
    {
     "name": "stdout",
     "output_type": "stream",
     "text": [
      "Epoch [4/6] - Train Loss: 0.0289, Train Acc: 99.89% - Val Loss: 0.1456, Val Acc: 94.00%\n"
     ]
    },
    {
     "name": "stderr",
     "output_type": "stream",
     "text": [
      "Epoch [5/6]: 100%|██████████| 29/29 [00:49<00:00,  1.72s/it, loss=0.0229] \n"
     ]
    },
    {
     "name": "stdout",
     "output_type": "stream",
     "text": [
      "Epoch [5/6] - Train Loss: 0.0190, Train Acc: 100.00% - Val Loss: 0.1655, Val Acc: 93.00%\n"
     ]
    },
    {
     "name": "stderr",
     "output_type": "stream",
     "text": [
      "Epoch [6/6]: 100%|██████████| 29/29 [00:50<00:00,  1.75s/it, loss=0.0214] \n"
     ]
    },
    {
     "name": "stdout",
     "output_type": "stream",
     "text": [
      "Epoch [6/6] - Train Loss: 0.0165, Train Acc: 100.00% - Val Loss: 0.1662, Val Acc: 93.00%\n"
     ]
    }
   ],
   "source": [
    "# Lists to store training and validation loss and accuracy\n",
    "train_losses = []\n",
    "val_losses = []\n",
    "train_accuracies = []\n",
    "val_accuracies = []\n",
    "\n",
    "for epoch in range(num_epochs):\n",
    "  model.train()\n",
    "  running_loss = 0.0\n",
    "  correct = 0\n",
    "  total = 0\n",
    "\n",
    "  loop = tqdm(train_loader, leave=True)\n",
    "  for inputs, labels in loop:\n",
    "    inputs = inputs.to(device)\n",
    "    labels = labels.to(device)\n",
    "\n",
    "    optimizer.zero_grad()\n",
    "\n",
    "    outputs = model(inputs).logits\n",
    "    loss = criterion(outputs, labels)\n",
    "    loss.backward()\n",
    "    optimizer.step()\n",
    "    scheduler.step()\n",
    "\n",
    "    running_loss += loss.item()\n",
    "    _, predicted = torch.max(outputs.data, 1)\n",
    "    total += labels.size(0)\n",
    "    correct += (predicted == labels).sum().item()\n",
    "\n",
    "    loop.set_description(f'Epoch [{epoch+1}/{num_epochs}]')\n",
    "    loop.set_postfix(loss=loss.item())\n",
    "\n",
    "  train_loss = running_loss / len(train_loader)\n",
    "  train_accuracy = 100 * correct / total\n",
    "  train_losses.append(train_loss)\n",
    "  train_accuracies.append(train_accuracy)\n",
    "\n",
    "  # Validation phase\n",
    "  model.eval()\n",
    "  val_loss = 0.0\n",
    "  correct = 0\n",
    "  total = 0\n",
    "\n",
    "  with torch.no_grad():\n",
    "    for inputs, labels in val_loader:\n",
    "      inputs = inputs.to(device)\n",
    "      labels = labels.to(device)\n",
    "\n",
    "      outputs = model(inputs).logits\n",
    "      loss = criterion(outputs, labels)\n",
    "      val_loss += loss.item()\n",
    "\n",
    "      _, predicted = torch.max(outputs.data, 1)\n",
    "      total += labels.size(0)\n",
    "      correct += (predicted == labels).sum().item()\n",
    "\n",
    "  val_loss = val_loss / len(val_loader)\n",
    "  val_accuracy = 100 * correct / total\n",
    "  val_losses.append(val_loss)\n",
    "  val_accuracies.append(val_accuracy)\n",
    "\n",
    "  print(f'Epoch [{epoch+1}/{num_epochs}] - '\n",
    "    f'Train Loss: {train_loss:.4f}, Train Acc: {train_accuracy:.2f}% - '\n",
    "    f'Val Loss: {val_loss:.4f}, Val Acc: {val_accuracy:.2f}%')\n"
   ]
  },
  {
   "cell_type": "code",
   "execution_count": 44,
   "metadata": {},
   "outputs": [
    {
     "name": "stderr",
     "output_type": "stream",
     "text": [
      "Testing: 100%|██████████| 313/313 [04:36<00:00,  1.13it/s]\n"
     ]
    },
    {
     "name": "stdout",
     "output_type": "stream",
     "text": [
      "Test Loss: 0.2459, Test Accuracy: 92.29%\n"
     ]
    },
    {
     "data": {
      "image/png": "[encoded data removed]",
      "text/plain": [
       "<Figure size 1200x500 with 2 Axes>"
      ]
     },
     "metadata": {},
     "output_type": "display_data"
    }
   ],
   "source": [
    "# Evaluate the model on the test set\n",
    "model.eval()\n",
    "test_loss = 0.0\n",
    "correct = 0\n",
    "total = 0\n",
    "\n",
    "with torch.no_grad():\n",
    "  for inputs, labels in tqdm(test_loader, desc='Testing'):\n",
    "    inputs = inputs.to(device)\n",
    "    labels = labels.to(device)\n",
    "\n",
    "    outputs = model(inputs).logits\n",
    "    loss = criterion(outputs, labels)\n",
    "    test_loss += loss.item()\n",
    "\n",
    "    _, predicted = torch.max(outputs.data, 1)\n",
    "    total += labels.size(0)\n",
    "    correct += (predicted == labels).sum().item()\n",
    "\n",
    "test_loss = test_loss / len(test_loader)\n",
    "test_accuracy = 100 * correct / total\n",
    "\n",
    "print(f'Test Loss: {test_loss:.4f}, Test Accuracy: {test_accuracy:.2f}%')\n",
    "\n",
    "# Plotting the training and validation loss curves\n",
    "plt.figure(figsize=(12, 5))\n",
    "plt.subplot(1, 2, 1)\n",
    "plt.plot(train_losses, label='Training Loss')\n",
    "plt.plot(val_losses, label='Validation Loss')\n",
    "plt.title('Loss Curves')\n",
    "plt.xlabel('Epochs')\n",
    "plt.ylabel('Loss')\n",
    "plt.legend()\n",
    "\n",
    "# Plotting the training and validation accuracy curves\n",
    "plt.subplot(1, 2, 2)\n",
    "plt.plot(train_accuracies, label='Training Accuracy')\n",
    "plt.plot(val_accuracies, label='Validation Accuracy')\n",
    "plt.title('Accuracy Curves')\n",
    "plt.xlabel('Epochs')\n",
    "plt.ylabel('Accuracy (%)')\n",
    "plt.legend()\n",
    "\n",
    "plt.show()\n"
   ]
  },
  {
   "cell_type": "code",
   "execution_count": 45,
   "metadata": {},
   "outputs": [],
   "source": [
    "# # Optional: Print layer training status\n",
    "# for name, param in model.named_parameters():\n",
    "#   status = 'Trainable' if param.requires_grad else 'Frozen'\n",
    "#   print(f\"{name}: {status}\")"
   ]
  },
  {
   "cell_type": "code",
   "execution_count": 46,
   "metadata": {},
   "outputs": [],
   "source": [
    "# from transformers import AdamW\n",
    "\n",
    "# # Collect trainable parameters\n",
    "# trainable_parameters = [p for p in model.parameters() if p.requires_grad]\n",
    "\n",
    "# optimizer = AdamW(trainable_parameters, lr=2e-5, weight_decay=0.01)\n"
   ]
  },
  {
   "cell_type": "code",
   "execution_count": 47,
   "metadata": {},
   "outputs": [],
   "source": [
    "# from transformers import get_linear_schedule_with_warmup\n",
    "\n",
    "# num_epochs = 10\n",
    "# total_steps = len(train_loader) * num_epochs\n",
    "# warmup_steps = int(0.1 * total_steps)\n",
    "\n",
    "# scheduler = get_linear_schedule_with_warmup(\n",
    "#   optimizer,\n",
    "#   num_warmup_steps=warmup_steps,\n",
    "#   num_training_steps=total_steps\n",
    "# )"
   ]
  },
  {
   "cell_type": "code",
   "execution_count": 48,
   "metadata": {},
   "outputs": [],
   "source": [
    "# criterion = nn.CrossEntropyLoss()"
   ]
  },
  {
   "cell_type": "markdown",
   "metadata": {},
   "source": [
    "## Task 2d"
   ]
  },
  {
   "cell_type": "code",
   "execution_count": 49,
   "metadata": {},
   "outputs": [],
   "source": [
    "# import numpy as np\n",
    "\n",
    "# # Initialize lists to store loss and accuracy\n",
    "# train_losses = []\n",
    "# val_losses = []\n",
    "# train_accuracies = []\n",
    "# val_accuracies = []\n",
    "\n",
    "# for epoch in range(num_epochs):\n",
    "#   # Training phase\n",
    "#   model.train()\n",
    "#   running_loss = 0.0\n",
    "#   correct_train = 0\n",
    "#   total_train = 0\n",
    "\n",
    "#   for batch in train_loader:\n",
    "#     inputs, labels = batch\n",
    "#     inputs = inputs.to(device)\n",
    "#     labels = labels.to(device)\n",
    "\n",
    "#     optimizer.zero_grad()\n",
    "#     outputs = model(inputs).logits\n",
    "#     loss = criterion(outputs, labels)\n",
    "#     loss.backward()\n",
    "#     optimizer.step()\n",
    "#     scheduler.step()\n",
    "\n",
    "#     running_loss += loss.item()\n",
    "#     _, preds = torch.max(outputs, 1)\n",
    "#     correct_train += (preds == labels).sum().item()\n",
    "#     total_train += labels.size(0)\n",
    "\n",
    "#   avg_train_loss = running_loss / len(train_loader)\n",
    "#   train_accuracy = correct_train / total_train\n",
    "#   train_losses.append(avg_train_loss)\n",
    "#   train_accuracies.append(train_accuracy)\n",
    "\n",
    "#   # Validation phase\n",
    "#   model.eval()\n",
    "#   val_running_loss = 0.0\n",
    "#   correct_val = 0\n",
    "#   total_val = 0\n",
    "\n",
    "#   with torch.no_grad():\n",
    "#     for batch in val_loader:\n",
    "#       inputs, labels = batch\n",
    "#       inputs = inputs.to(device)\n",
    "#       labels = labels.to(device)\n",
    "\n",
    "#       outputs = model(inputs).logits\n",
    "#       loss = criterion(outputs, labels)\n",
    "\n",
    "#       val_running_loss += loss.item()\n",
    "#       _, preds = torch.max(outputs, 1)\n",
    "#       correct_val += (preds == labels).sum().item()\n",
    "#       total_val += labels.size(0)\n",
    "\n",
    "#   avg_val_loss = val_running_loss / len(val_loader)\n",
    "#   val_accuracy = correct_val / total_val\n",
    "#   val_losses.append(avg_val_loss)\n",
    "#   val_accuracies.append(val_accuracy)\n",
    "\n",
    "#   # Print statistics\n",
    "#   print(f'Epoch [{epoch+1}/{num_epochs}]')\n",
    "#   print(f'Train Loss: {avg_train_loss:.4f}, Train Accuracy: {train_accuracy * 100:.2f}%')\n",
    "#   print(f'Validation Loss: {avg_val_loss:.4f}, Validation Accuracy: {val_accuracy * 100:.2f}%\\n')\n"
   ]
  }
 ],
 "metadata": {
  "kernelspec": {
   "display_name": "AML-CV",
   "language": "python",
   "name": "python3"
  },
  "language_info": {
   "codemirror_mode": {
    "name": "ipython",
    "version": 3
   },
   "file_extension": ".py",
   "mimetype": "text/x-python",
   "name": "python",
   "nbconvert_exporter": "python",
   "pygments_lexer": "ipython3",
   "version": "3.12.7"
  }
 },
 "nbformat": 4,
 "nbformat_minor": 2
}
